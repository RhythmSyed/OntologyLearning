{
 "cells": [
  {
   "cell_type": "markdown",
   "id": "essential-tokyo",
   "metadata": {},
   "source": [
    "### Entity Linking with spaCy"
   ]
  },
  {
   "cell_type": "code",
   "execution_count": 3,
   "id": "fifty-cooperative",
   "metadata": {},
   "outputs": [],
   "source": [
    "import rdflib\n",
    "from rdflib import Graph, Literal, RDF, URIRef\n",
    "from rdflib.namespace import FOAF , XSD, Namespace\n",
    "import pandas as pd\n",
    "import spacy\n",
    "from spacy.kb import KnowledgeBase\n",
    "import os\n",
    "import csv\n",
    "import re\n",
    "import random"
   ]
  },
  {
   "cell_type": "code",
   "execution_count": 4,
   "id": "dedicated-prison",
   "metadata": {},
   "outputs": [],
   "source": [
    "nlp = spacy.load(\"en_core_web_lg\")"
   ]
  },
  {
   "cell_type": "code",
   "execution_count": 3,
   "id": "liquid-prefix",
   "metadata": {},
   "outputs": [
    {
     "name": "stdout",
     "output_type": "stream",
     "text": [
      "\u001b[2K\u001b[38;5;2m✔ Loaded compatibility table\u001b[0m\n",
      "\u001b[1m\n",
      "====================== Installed models (spaCy v2.2.4) ======================\u001b[0m\n",
      "\u001b[38;5;4mℹ spaCy installation:\n",
      "/Users/rhythmsyed/miniconda3/envs/entitylink/lib/python3.7/site-packages/spacy\u001b[0m\n",
      "\n",
      "TYPE      NAME                        MODEL                       VERSION                            \n",
      "package   en-vectors-web-lg           en_vectors_web_lg           \u001b[38;5;1m2.3.0\u001b[0m   --> 2.1.0     \n",
      "package   en-trf-bertbaseuncased-lg   en_trf_bertbaseuncased_lg   \u001b[38;5;1m2.3.0\u001b[0m   --> 2.2.0     \n",
      "package   en-core-web-sm              en_core_web_sm              \u001b[38;5;1m2.1.0\u001b[0m   --> 2.2.5     \n",
      "package   en-core-web-lg              en_core_web_lg              \u001b[38;5;2m2.2.5\u001b[0m   \u001b[38;5;2m✔\u001b[0m\n",
      "\n",
      "\u001b[1m\n",
      "============================== Install updates ==============================\u001b[0m\n",
      "Use the following commands to update the model packages:\n",
      "python -m spacy download en_core_web_sm\n",
      "python -m spacy download en_trf_bertbaseuncased_lg\n",
      "python -m spacy download en_vectors_web_lg\n",
      "\n"
     ]
    }
   ],
   "source": [
    "! python -m spacy validate"
   ]
  },
  {
   "cell_type": "markdown",
   "id": "ethical-porter",
   "metadata": {},
   "source": [
    "### Skywalker is ambiguous"
   ]
  },
  {
   "cell_type": "code",
   "execution_count": 8,
   "id": "excess-pipeline",
   "metadata": {},
   "outputs": [
    {
     "data": {
      "text/plain": [
       "'Skywalker, also known as Darth Vader, is a fictional character in the Star Wars franchise'"
      ]
     },
     "execution_count": 8,
     "metadata": {},
     "output_type": "execute_result"
    }
   ],
   "source": [
    "starwars_text = 'Skywalker, also known as Darth Vader, is a fictional character in the Star Wars franchise'\n",
    "starwars_text"
   ]
  },
  {
   "cell_type": "code",
   "execution_count": 9,
   "id": "beginning-thumb",
   "metadata": {},
   "outputs": [
    {
     "name": "stdout",
     "output_type": "stream",
     "text": [
      "Named Entity 'Skywalker' with label 'ORG'\n",
      "Named Entity 'Darth Vader' with label 'PERSON'\n"
     ]
    }
   ],
   "source": [
    "doc = nlp(starwars_text)\n",
    "for ent in doc.ents:\n",
    "    print(f\"Named Entity '{ent.text}' with label '{ent.label_}'\")"
   ]
  },
  {
   "cell_type": "markdown",
   "id": "novel-schema",
   "metadata": {},
   "source": [
    "### Get names related to 'Skywalker' "
   ]
  },
  {
   "cell_type": "code",
   "execution_count": 10,
   "id": "compressed-stress",
   "metadata": {},
   "outputs": [
    {
     "data": {
      "text/plain": [
       "<Graph identifier=Ncf4b9d9f386743bdbde28c54617911b0 (<class 'rdflib.graph.Graph'>)>"
      ]
     },
     "execution_count": 10,
     "metadata": {},
     "output_type": "execute_result"
    }
   ],
   "source": [
    "graph = rdflib.Graph()\n",
    "graph.parse('./data/starwars.ttl', format='turtle')"
   ]
  },
  {
   "cell_type": "code",
   "execution_count": 11,
   "id": "valid-hazard",
   "metadata": {},
   "outputs": [
    {
     "name": "stdout",
     "output_type": "stream",
     "text": [
      "Skywalker\n",
      "[(rdflib.term.URIRef('https://swapi.co/resource/human/11'), rdflib.term.Literal('Anakin Skywalker', datatype=rdflib.term.URIRef('http://www.w3.org/2001/XMLSchema#string'))), (rdflib.term.URIRef('https://swapi.co/resource/human/43'), rdflib.term.Literal('Shmi Skywalker', datatype=rdflib.term.URIRef('http://www.w3.org/2001/XMLSchema#string'))), (rdflib.term.URIRef('https://swapi.co/resource/human/1'), rdflib.term.Literal('Luke Skywalker', datatype=rdflib.term.URIRef('http://www.w3.org/2001/XMLSchema#string')))]\n",
      "\n",
      "Darth Vader\n",
      "[(rdflib.term.URIRef('https://swapi.co/resource/human/4'), rdflib.term.Literal('Darth Vader', datatype=rdflib.term.URIRef('http://www.w3.org/2001/XMLSchema#string')))]\n",
      "\n"
     ]
    }
   ],
   "source": [
    "for ent in doc.ents:\n",
    "    print(ent)\n",
    "    query_str = \"\"\"\n",
    "        PREFIX rdfs: <http://www.w3.org/2000/01/rdf-schema#>\n",
    "        SELECT ?s ?o\n",
    "        WHERE {   \n",
    "            ?s rdfs:label ?o.\n",
    "            FILTER regex(?o, \"%s\")\n",
    "        }\n",
    "    \"\"\" % ent\n",
    "    res = graph.query(query_str)\n",
    "    print(list(res))\n",
    "    print()"
   ]
  },
  {
   "cell_type": "code",
   "execution_count": 21,
   "id": "monetary-bacteria",
   "metadata": {},
   "outputs": [
    {
     "data": {
      "text/plain": [
       "[(rdflib.term.URIRef('https://swapi.co/resource/human/11'),\n",
       "  rdflib.term.Literal('Anakin Skywalker', datatype=rdflib.term.URIRef('http://www.w3.org/2001/XMLSchema#string'))),\n",
       " (rdflib.term.URIRef('https://swapi.co/resource/human/43'),\n",
       "  rdflib.term.Literal('Shmi Skywalker', datatype=rdflib.term.URIRef('http://www.w3.org/2001/XMLSchema#string'))),\n",
       " (rdflib.term.URIRef('https://swapi.co/resource/human/1'),\n",
       "  rdflib.term.Literal('Luke Skywalker', datatype=rdflib.term.URIRef('http://www.w3.org/2001/XMLSchema#string')))]"
      ]
     },
     "execution_count": 21,
     "metadata": {},
     "output_type": "execute_result"
    }
   ],
   "source": [
    "query_str = \"\"\"\n",
    "    PREFIX rdf: <http://www.w3.org/1999/02/22-rdf-syntax-ns#>\n",
    "    PREFIX rdfs: <http://www.w3.org/2000/01/rdf-schema#>\n",
    "    PREFIX voc: <https://swapi.co/vocabulary/>\n",
    "    PREFIX xml: <http://www.w3.org/XML/1998/namespace>\n",
    "    PREFIX xsd: <http://www.w3.org/2001/XMLSchema#>\n",
    "\n",
    "\n",
    "    SELECT ?s ?o\n",
    "    WHERE {\n",
    "        ?s rdfs:label ?o.\n",
    "        FILTER regex(?o, \"Skywalker\")\n",
    "    }\n",
    "\"\"\"\n",
    "res = graph.query(query_str)\n",
    "list(res)"
   ]
  },
  {
   "cell_type": "markdown",
   "id": "committed-processing",
   "metadata": {},
   "source": [
    "Throw out candidates that do not have a description"
   ]
  },
  {
   "cell_type": "code",
   "execution_count": 23,
   "id": "missing-engagement",
   "metadata": {},
   "outputs": [
    {
     "data": {
      "text/plain": [
       "[(rdflib.term.URIRef('https://swapi.co/resource/human/1'),\n",
       "  None,\n",
       "  rdflib.term.Literal('Luke Skywalker is a fictional character and the main protagonist of the original film trilogy of the Star Wars franchise created by George Lucas. The character, portrayed by Mark Hamill, is an important figure in the Rebel Alliance\\\\s struggle against the Galactic Empire. He is the twin brother of Rebellion leader Princess Leia Organa of Alderaan, a friend and brother-in-law of smuggler Han Solo, an apprentice to Jedi Masters Obi-Wan \"Ben\" Kenobi and Yoda, the son of fallen Jedi Anakin Skywalker (Darth Vader) and Queen of Naboo/Republic Senator Padmé Amidala and maternal uncle of Kylo Ren / Ben Solo. The now non-canon Star Wars expanded universe depicts him as a powerful Jedi Master, husband of Mara Jade, the father of Ben Skywalker and maternal uncle of Jaina, Jacen and Anakin Solo., In 2015, the character was selected by Empire magazine as the 50th greatest movie character of all time.2 On their list of the 100 Greatest Fictional Characters, Fandomania.com ranked the character at number 14.3', datatype=rdflib.term.URIRef('http://www.w3.org/2001/XMLSchema#string')))]"
      ]
     },
     "execution_count": 23,
     "metadata": {},
     "output_type": "execute_result"
    }
   ],
   "source": [
    "query_str = \"\"\"\n",
    "    PREFIX rdf: <http://www.w3.org/1999/02/22-rdf-syntax-ns#>\n",
    "    PREFIX rdfs: <http://www.w3.org/2000/01/rdf-schema#>\n",
    "    PREFIX voc: <https://swapi.co/vocabulary/>\n",
    "    PREFIX xml: <http://www.w3.org/XML/1998/namespace>\n",
    "    PREFIX xsd: <http://www.w3.org/2001/XMLSchema#>\n",
    "\n",
    "\n",
    "    SELECT ?s ?p ?o\n",
    "    WHERE {   \n",
    "        ?s <https://swapi.co/vocabulary/desc> ?o.\n",
    "        FILTER (?s=<https://swapi.co/resource/human/1>)\n",
    "    }\n",
    "\"\"\"\n",
    "res = graph.query(query_str)\n",
    "list(res)"
   ]
  },
  {
   "cell_type": "code",
   "execution_count": 10,
   "id": "narrow-rider",
   "metadata": {},
   "outputs": [
    {
     "data": {
      "text/html": [
       "<div>\n",
       "<style scoped>\n",
       "    .dataframe tbody tr th:only-of-type {\n",
       "        vertical-align: middle;\n",
       "    }\n",
       "\n",
       "    .dataframe tbody tr th {\n",
       "        vertical-align: top;\n",
       "    }\n",
       "\n",
       "    .dataframe thead th {\n",
       "        text-align: right;\n",
       "    }\n",
       "</style>\n",
       "<table border=\"1\" class=\"dataframe\">\n",
       "  <thead>\n",
       "    <tr style=\"text-align: right;\">\n",
       "      <th></th>\n",
       "      <th>0</th>\n",
       "      <th>1</th>\n",
       "      <th>2</th>\n",
       "    </tr>\n",
       "  </thead>\n",
       "  <tbody>\n",
       "    <tr>\n",
       "      <th>0</th>\n",
       "      <td>Human1</td>\n",
       "      <td>Luke Skywalker</td>\n",
       "      <td>Luke Skywalker is a fictional character and th...</td>\n",
       "    </tr>\n",
       "    <tr>\n",
       "      <th>1</th>\n",
       "      <td>Human11</td>\n",
       "      <td>Anakin Skywalker</td>\n",
       "      <td>Darth Vader, also known by his birth name Anak...</td>\n",
       "    </tr>\n",
       "    <tr>\n",
       "      <th>2</th>\n",
       "      <td>Human43</td>\n",
       "      <td>Shmi Skywalker</td>\n",
       "      <td>The mother of Anakin Skywalker was also a brav...</td>\n",
       "    </tr>\n",
       "  </tbody>\n",
       "</table>\n",
       "</div>"
      ],
      "text/plain": [
       "         0                 1  \\\n",
       "0   Human1    Luke Skywalker   \n",
       "1  Human11  Anakin Skywalker   \n",
       "2  Human43    Shmi Skywalker   \n",
       "\n",
       "                                                   2  \n",
       "0  Luke Skywalker is a fictional character and th...  \n",
       "1  Darth Vader, also known by his birth name Anak...  \n",
       "2  The mother of Anakin Skywalker was also a brav...  "
      ]
     },
     "execution_count": 10,
     "metadata": {},
     "output_type": "execute_result"
    }
   ],
   "source": [
    "entities = pd.read_csv('./entity_linking_data/entities.txt', header=None, delimiter='|')\n",
    "entities"
   ]
  },
  {
   "cell_type": "code",
   "execution_count": 11,
   "id": "classified-driver",
   "metadata": {},
   "outputs": [
    {
     "name": "stdout",
     "output_type": "stream",
     "text": [
      "qid=Human1, name=Luke Skywalker, desc=Luke Skywalker is a fictional character and the main protagonist of the original film trilogy of the Star Wars franchise created by George Lucas. The character, portrayed by Mark Hamill, is an important figure in the Rebel Alliance\\\\s struggle against the Galactic Empire. He is the twin brother of Rebellion leader Princess Leia Organa of Alderaan, a friend and brother-in-law of smuggler Han Solo, an apprentice to Jedi Masters Obi-Wan Ben\" Kenobi and Yoda, the son of fallen Jedi Anakin Skywalker (Darth Vader) and Queen of Naboo/Republic Senator Padmé Amidala and maternal uncle of Kylo Ren / Ben Solo. The now non-canon Star Wars expanded universe depicts him as a powerful Jedi Master, husband of Mara Jade, the father of Ben Skywalker and maternal uncle of Jaina, Jacen and Anakin Solo., In 2015, the character was selected by Empire magazine as the 50th greatest movie character of all time.2 On their list of the 100 Greatest Fictional Characters, Fandomania.com ranked the character at number 14.3\"\n",
      "qid=Human11, name=Anakin Skywalker, desc=Darth Vader, also known by his birth name Anakin Skywalker, is a fictional character in the Star Wars franchise.123 Vader appears in the original film trilogy as a pivotal antagonist whose actions drive the plot, while his past as Anakin Skywalker and the story of his corruption are central to the narrative of the prequel trilogy., The character was created by George Lucas and has been portrayed by numerous actors. His appearances span the first six Star Wars films, as well as Rogue One, and his character is heavily referenced in Star Wars: The Force Awakens. He is also an important character in the Star Wars expanded universe of television series, video games, novels, literature and comic books. Originally a Jedi prophesied to bring balance to the Force, he falls to the dark side of the Force and serves the evil Galactic Empire at the right hand of his Sith master, Emperor Palpatine (also known as Darth Sidious).4 He is also the father of Luke Skywalker and Princess Leia Organa, secret husband of Padmé Amidala and grandfather of Kylo Ren., Darth Vader has become one of the most iconic villains in popular culture, and has been listed among the greatest villains and fictional characters ever.56 The American Film Institute listed him as the third greatest movie villain in cinema history on 100 Years... 100 Heroes and Villains, behind Hannibal Lecter and Norman Bates.7 However, other critics consider him a tragic hero, citing his original motivations for the greater good before his fall to the dark side.89\n",
      "qid=Human43, name=Shmi Skywalker, desc=The mother of Anakin Skywalker was also a brave and resilient woman who survived life as a slave to become a Tatooine moisture farmer. Shmi surrendered her son to the Jedi Order, putting him on a path to become one of the greatest Jedi.\n"
     ]
    }
   ],
   "source": [
    "names = {}\n",
    "descriptions = {}\n",
    "\n",
    "for i, row in entities.iterrows():\n",
    "    qid = row[0]\n",
    "    name = row[1]\n",
    "    desc = row[2]\n",
    "    names[qid] = name\n",
    "    descriptions[qid] = desc\n",
    "\n",
    "for qid in names.keys():\n",
    "    print(f\"qid={qid}, name={names[qid]}, desc={descriptions[qid]}\")"
   ]
  },
  {
   "cell_type": "markdown",
   "id": "major-designation",
   "metadata": {},
   "source": [
    "### Create spaCy KB"
   ]
  },
  {
   "cell_type": "code",
   "execution_count": 12,
   "id": "neither-purpose",
   "metadata": {},
   "outputs": [],
   "source": [
    "kb = KnowledgeBase(vocab=nlp.vocab, entity_vector_length=300)"
   ]
  },
  {
   "cell_type": "code",
   "execution_count": 13,
   "id": "latter-integral",
   "metadata": {},
   "outputs": [
    {
     "name": "stdout",
     "output_type": "stream",
     "text": [
      "[ 1.64877053e-03  3.77046652e-02  5.96367754e-03 -5.53854965e-02\n",
      "  7.98609853e-02 -6.66870475e-02  6.82777986e-02 -1.11688018e-01\n",
      "  1.85674485e-02  1.62822092e+00 -1.16596244e-01 -9.74116102e-02\n",
      " -2.29512099e-02 -3.45174596e-02  6.73938021e-02 -8.70725587e-02\n",
      "  2.79771425e-02  6.24269247e-01 -1.38549373e-01 -2.87350845e-02\n",
      " -1.68803688e-02 -1.49233624e-01 -6.45916462e-02 -1.28831773e-03\n",
      "  5.45581132e-02  1.98846422e-02 -6.17490001e-02  3.04645821e-02\n",
      " -3.81340161e-02  1.52793646e-01 -1.62351709e-02  1.34893492e-01\n",
      " -9.27841216e-02  8.85419026e-02  7.03666955e-02 -1.05042279e-01\n",
      " -9.47420374e-02 -5.08919172e-02 -2.00832095e-02 -5.27302809e-02\n",
      "  1.32045671e-02  6.32223263e-02 -1.21270446e-02 -4.83484305e-02\n",
      "  5.68462349e-02  2.16762777e-02 -6.54969141e-02  8.30268040e-02\n",
      "  4.94984761e-02 -3.19121294e-02  1.34552777e-01  1.01578012e-02\n",
      "  1.95301063e-02  8.47533904e-03  2.00974885e-02  4.20924164e-02\n",
      "  5.50460853e-02  2.29815021e-03  7.81608224e-02 -8.20094496e-02\n",
      " -3.50226904e-03 -1.14277820e-03  9.63639691e-02  1.14961997e-01\n",
      "  2.93972120e-02 -2.07707137e-02  1.47857731e-02  1.37600396e-02\n",
      " -2.59314943e-03 -3.17493826e-02 -9.88904759e-03 -8.62981454e-02\n",
      " -2.41615158e-02 -1.20398263e-02  7.37659335e-02  5.48774935e-03\n",
      "  4.51081851e-03 -1.07483929e-02  9.50657576e-02  9.47440937e-02\n",
      " -6.22808896e-02  1.79196522e-01 -1.37867359e-02  9.31148231e-02\n",
      "  9.95027199e-02 -1.05397038e-01  7.35515133e-02 -2.26573825e-01\n",
      " -8.36575124e-03 -9.02193114e-02 -9.98392701e-02  5.32872900e-02\n",
      " -3.57796550e-02  6.82380330e-03  1.28006890e-01 -1.33345380e-01\n",
      "  4.08144258e-02 -1.33307567e-02 -7.11756870e-02 -8.62570927e-02\n",
      " -4.92164083e-02  6.13922626e-02 -1.97785780e-01 -2.32300088e-02\n",
      " -6.47222549e-02 -4.80282485e-01 -1.50263235e-02 -1.37059186e-02\n",
      "  1.20358415e-01 -7.31335655e-02 -1.65257454e-02 -9.33173150e-02\n",
      " -2.93185469e-02 -1.04457363e-01  1.38141448e-02  5.19360527e-02\n",
      " -5.70418732e-03  6.38555363e-02 -6.24812767e-02  3.76241538e-03\n",
      " -6.17659576e-02  5.04342839e-02  4.51599993e-02  1.44945502e-01\n",
      "  1.87448431e-02  7.39340484e-02 -3.56676467e-02 -4.93007004e-02\n",
      " -2.74571832e-02  2.82206740e-02 -1.06819004e-01 -1.94932465e-02\n",
      "  3.14159989e-02 -1.04283266e-01  1.34522850e-02 -4.86196652e-02\n",
      " -1.10982269e-01  4.57557812e-02  3.39050367e-02 -3.98780480e-02\n",
      " -1.10122573e+00 -1.66098122e-02  4.92199734e-02  3.78353894e-02\n",
      " -5.31604104e-02  1.14181459e-01  1.01694345e-01 -4.40828204e-02\n",
      "  2.74328776e-02 -1.55767664e-01  1.02417693e-01 -3.91755104e-02\n",
      "  1.47317991e-01  4.11989689e-02  2.12235446e-03 -5.29687814e-02\n",
      " -1.12354055e-01 -9.29925591e-02 -6.42334968e-02  3.32056805e-02\n",
      "  9.31921378e-02  8.38023238e-03 -2.70721670e-02  6.00848021e-03\n",
      " -9.76962876e-03 -2.53028691e-01  5.48187038e-03 -7.58512467e-02\n",
      "  1.23457193e-01  8.93433690e-02  5.52290492e-02  4.30190675e-02\n",
      "  5.06010987e-02  9.81735140e-02 -5.50972819e-02  7.07407221e-02\n",
      " -2.07002070e-02  3.72197069e-02 -3.05182561e-02 -1.54259637e-01\n",
      "  2.22744625e-02 -5.82584441e-02 -8.06659162e-02 -1.34463623e-01\n",
      " -1.97814475e-03  5.47559150e-02 -1.15803830e-01  4.72328924e-02\n",
      "  1.60581211e-03 -6.45385310e-02 -2.10224271e-01  1.12287179e-02\n",
      " -5.05101644e-02  8.79094899e-02 -1.28681781e-02  7.12831970e-03\n",
      " -1.26714902e-02 -3.12657282e-02 -5.08136004e-02  4.74722460e-02\n",
      " -7.24363402e-02 -4.67749275e-02 -5.31687699e-02  8.78374651e-02\n",
      "  5.09378798e-02  7.24828467e-02  1.10331878e-01  1.62925441e-02\n",
      " -1.51480436e-01 -7.61516914e-02 -1.53238932e-02  7.46747619e-03\n",
      " -1.20331280e-01 -4.82236333e-02  1.11989351e-02  1.42793119e-01\n",
      " -1.66090578e-02  9.31561887e-02  3.17835598e-03  2.36272812e-02\n",
      " -1.65069737e-02 -6.55755633e-03 -2.08894052e-02 -4.38022874e-02\n",
      " -1.17091276e-02  6.28413185e-02  3.36906463e-02  1.43194124e-01\n",
      "  4.61407453e-02  7.40444809e-02 -1.13361135e-01 -1.09426603e-02\n",
      "  6.68791402e-03  6.76207691e-02 -1.96628764e-01  1.17211342e-02\n",
      " -5.87793775e-02  1.13317020e-01 -5.86807914e-02  1.75945684e-02\n",
      " -4.54540849e-02  6.85314462e-02  1.00764567e-02  5.06039299e-02\n",
      "  6.54400960e-02 -5.94563503e-03 -3.13591845e-02 -7.70979151e-02\n",
      "  9.91812348e-02 -7.77134672e-02  1.29008785e-01  8.80135372e-02\n",
      "  1.16612658e-01  4.10103798e-02 -3.46226199e-03  6.58708289e-02\n",
      "  3.06628142e-02 -4.87493491e-03 -7.17551634e-02 -6.78993389e-02\n",
      "  6.40392676e-02  6.70823082e-02  1.96432937e-02  1.61374539e-01\n",
      " -4.11359966e-02 -1.92567289e-01 -3.81797627e-02  6.07158467e-02\n",
      "  1.02514736e-01 -5.18526360e-02 -4.72866371e-02  6.93980139e-03\n",
      " -4.10416536e-02 -7.47595504e-02 -1.12511255e-01  4.31074016e-02\n",
      " -3.93295884e-02  4.83980961e-02  1.59670282e-02  8.59623924e-02\n",
      "  2.09909305e-01  1.25105202e-01  1.11671753e-01 -1.20124869e-01\n",
      "  5.62132224e-02 -1.21821156e-02  4.57156301e-02 -3.75559032e-02\n",
      "  3.26818191e-02 -1.45747021e-01 -9.05007720e-02  9.98451561e-02\n",
      " -4.39692736e-02  1.05302334e-02  5.08336574e-02  9.19012800e-02\n",
      " -2.46710088e-02  3.07928845e-02 -2.11464912e-02  4.54161055e-02]\n",
      "[ 4.41664224e-03  5.85689396e-02 -1.03846621e-02 -7.36670047e-02\n",
      "  5.16823940e-02 -3.52236466e-03 -1.47946598e-02 -8.02534074e-02\n",
      "  2.55642217e-02  2.02742386e+00 -9.29046571e-02 -7.63515830e-02\n",
      "  4.91463840e-02 -2.06948780e-02  3.80132943e-02 -9.85361636e-02\n",
      "  3.35193351e-02  7.00093091e-01 -1.57874197e-01 -8.08460638e-02\n",
      " -5.38543910e-02 -1.31459147e-01 -6.57206550e-02 -2.04137526e-02\n",
      "  5.84772304e-02  2.27169320e-02 -6.42282963e-02  2.11154591e-04\n",
      " -7.31615052e-02  9.46752876e-02 -1.37169696e-02  9.83403623e-02\n",
      " -1.28776520e-01  1.04523793e-01  1.09955795e-01 -1.02161430e-01\n",
      " -7.99146220e-02 -1.71253681e-02 -4.46803533e-02 -3.37299109e-02\n",
      "  1.01328418e-02  5.64261824e-02 -3.46001796e-03 -6.84499890e-02\n",
      "  4.96987663e-02  9.19639505e-03 -6.07315563e-02  3.13594379e-02\n",
      "  1.05803609e-02 -6.70441836e-02  1.25466526e-01  3.14634433e-03\n",
      " -1.53848408e-02  4.56371717e-03  3.89360543e-03  3.97278219e-02\n",
      "  3.54574509e-02 -1.55279748e-02  5.05107269e-02 -8.97985250e-02\n",
      "  2.88476329e-02  7.95251224e-03  8.58794525e-02  1.93368971e-01\n",
      "  2.79054679e-02 -2.77549308e-02 -9.44765098e-03  2.25579180e-03\n",
      "  3.60080376e-02 -2.09241617e-03  6.39458001e-02 -8.57521594e-02\n",
      "  2.43413094e-02 -4.26427573e-02  2.76857857e-02 -1.82437580e-02\n",
      "  1.46907689e-02 -7.16724172e-02  9.25674587e-02  1.61676079e-01\n",
      " -7.48438537e-02  1.05901755e-01 -7.60148093e-02  3.75548340e-02\n",
      "  1.21327490e-01 -1.65515244e-01 -1.11989580e-01 -1.54273182e-01\n",
      "  3.46781313e-02 -4.70440648e-02 -9.34972987e-02  3.27368379e-02\n",
      " -7.80760571e-02  6.42969161e-02  1.55529216e-01 -1.53041258e-01\n",
      "  4.94596511e-02 -1.47967110e-03 -7.41215274e-02 -1.12338267e-01\n",
      " -5.07439189e-02  3.28268819e-02 -1.65245965e-01 -6.48812577e-02\n",
      " -1.01265498e-02 -6.57699883e-01  6.46053720e-03  3.58874872e-02\n",
      "  4.97849844e-02 -7.87062794e-02 -1.21943187e-02 -2.36292742e-02\n",
      "  1.66561529e-02 -1.15025505e-01 -6.50393951e-04  4.67270762e-02\n",
      " -3.45454365e-02  8.07019100e-02 -3.34794894e-02  2.30535418e-02\n",
      " -4.11760062e-02  2.60558408e-02  2.81011648e-02  1.30538091e-01\n",
      "  6.13098172e-03  8.55520219e-02 -2.32819375e-02 -5.62398881e-02\n",
      " -3.48223038e-02  1.67532626e-03 -4.84229401e-02 -2.32195407e-02\n",
      "  4.07883450e-02 -6.74834922e-02  2.34591123e-02  4.24834061e-03\n",
      " -8.79662707e-02  1.89178879e-03  2.15306208e-02 -4.22612280e-02\n",
      " -1.16729033e+00 -4.91269818e-03  8.56789872e-02  5.01046404e-02\n",
      "  2.82954401e-03  8.67961645e-02  8.37666988e-02 -8.43883008e-02\n",
      "  8.88936445e-02 -1.11535236e-01  3.86878848e-02 -5.71062323e-03\n",
      "  1.59304947e-01  5.63074946e-02 -6.63663670e-02 -5.82981110e-02\n",
      " -1.48240209e-01 -6.37002215e-02 -3.60071622e-02  1.02206934e-02\n",
      "  6.18645288e-02 -2.05749981e-02 -1.84468180e-02  1.40368873e-02\n",
      " -2.60799006e-02 -2.44881198e-01  1.01940380e-02 -4.61995527e-02\n",
      "  1.55695930e-01 -1.69469160e-04  3.52343135e-02  9.56753734e-03\n",
      "  5.06503768e-02  5.28793894e-02 -8.33201036e-02  7.21095428e-02\n",
      "  2.69068573e-02  2.23553665e-02  1.14429826e-02 -1.57892257e-01\n",
      "  4.88460362e-02 -4.60253656e-02 -7.84406438e-02 -1.30393937e-01\n",
      " -6.73657143e-03  1.21287676e-02 -9.26416442e-02  2.13957112e-02\n",
      "  3.09328805e-03 -2.35668141e-02 -1.90346763e-01  2.52434555e-02\n",
      " -7.81314373e-02  1.27847478e-01 -4.73536961e-02 -4.87535680e-03\n",
      " -2.20685229e-02 -2.02599186e-02 -1.03141218e-01  9.48769823e-02\n",
      " -4.35670763e-02 -5.50700016e-02 -6.79282844e-02  7.26903528e-02\n",
      "  1.02735303e-01  5.02752513e-02  1.36126786e-01  2.74372641e-02\n",
      " -1.12054497e-01 -3.62977162e-02 -3.45375389e-02  2.71588331e-03\n",
      " -6.51455298e-02 -1.47957966e-01  2.69330712e-03  1.52174294e-01\n",
      "  2.60138363e-02  8.24535266e-02 -2.27960404e-02 -3.18827443e-02\n",
      "  1.81432664e-02 -7.73979118e-04 -4.05734777e-02 -1.72597080e-04\n",
      " -4.49610548e-03  2.76816469e-02  2.56265309e-02  1.44735098e-01\n",
      "  7.50283375e-02  1.02630660e-01 -1.38536856e-01  5.69451749e-02\n",
      "  2.88391090e-03  7.37214610e-02 -2.00521424e-01 -2.27347407e-02\n",
      " -3.01837642e-02  5.40643409e-02 -4.16603684e-02  3.34538408e-02\n",
      " -1.47434808e-02  6.67671636e-02 -2.79305931e-02  4.60821353e-02\n",
      "  1.13675155e-01 -2.42490862e-02 -5.46399467e-02 -3.76364924e-02\n",
      "  2.92214938e-02 -7.38239586e-02  9.31058079e-02  2.83480454e-02\n",
      "  1.08254291e-01  2.73005385e-02  1.28075415e-02  7.67007545e-02\n",
      "  1.20833710e-01  4.05057669e-02 -4.90625575e-02 -1.91585254e-02\n",
      "  1.25607416e-01  1.08667172e-01  6.10584568e-04  1.66859597e-01\n",
      "  3.76889594e-02 -1.14286005e-01 -3.44529562e-02  2.19125375e-02\n",
      "  2.07556114e-01 -5.88911474e-02 -1.35607988e-05 -2.98848264e-02\n",
      " -4.07317653e-02 -1.22021444e-01 -9.56286564e-02  2.78790016e-02\n",
      " -6.50528818e-02  5.54939620e-02  2.41340674e-03  1.13089263e-01\n",
      "  2.02274039e-01  1.53682470e-01  8.02749097e-02 -1.15361616e-01\n",
      "  3.33703049e-02  3.01898606e-02  6.56014010e-02 -5.08990251e-02\n",
      "  9.96699780e-02 -1.73659012e-01 -1.79047331e-01  9.62166116e-02\n",
      " -5.55635169e-02  1.51061248e-02 -1.25171775e-02  6.30761459e-02\n",
      "  1.99057870e-02 -2.87776925e-02 -2.46949606e-02  2.55701412e-02]\n",
      "[ 4.24260572e-02  6.20194189e-02 -6.22750893e-02  2.95140482e-02\n",
      "  4.80374917e-02 -1.01539254e-01 -3.27891558e-02 -1.55068055e-01\n",
      "  1.50336856e-02  2.10405612e+00 -1.48440912e-01  1.30977239e-02\n",
      " -5.85001670e-02  1.26699731e-02 -1.05970025e-01 -4.94832397e-02\n",
      " -1.98574290e-02  7.56074846e-01 -1.42718419e-01  1.13405222e-02\n",
      " -5.67041375e-02 -1.91399679e-01 -1.39507696e-01  2.25107726e-02\n",
      " -2.27015167e-02  4.95949760e-02 -1.05475327e-02 -3.02550700e-02\n",
      "  7.17811461e-04  4.62944657e-02 -9.72560942e-02  9.53326151e-02\n",
      " -8.32089111e-02 -1.54260767e-03  1.40285179e-01 -8.10556784e-02\n",
      "  5.09935282e-02 -8.96894485e-02  1.80381667e-02 -1.86698392e-01\n",
      "  5.20563871e-02  8.79372433e-02  5.39799817e-02 -1.31589845e-01\n",
      "  2.92303842e-02 -3.48611288e-02 -1.54843584e-01  2.20235363e-02\n",
      "  9.46630491e-04  5.06370440e-02  3.30083817e-02  3.49322371e-02\n",
      " -2.97773574e-02  1.50115695e-02  1.01204395e-01  1.22834496e-01\n",
      "  6.27411669e-03  8.24618787e-02  4.56429124e-02 -8.17921832e-02\n",
      "  1.21046966e-02  2.96614710e-02  8.17137584e-02  1.48437977e-01\n",
      "  7.31128454e-02 -6.79768575e-03  4.73507540e-03  4.39579189e-02\n",
      "  9.33328718e-02  2.45087557e-02 -7.86881987e-03 -2.08268091e-02\n",
      " -7.56803155e-02 -5.35050556e-02  8.66484568e-02 -6.00158796e-03\n",
      "  1.11087769e-01 -4.85305116e-02  2.48182788e-02 -1.43526793e-02\n",
      " -5.09057455e-02  1.41648784e-01 -1.21116757e-01  1.58503912e-02\n",
      "  1.00528792e-01 -1.26684144e-01  6.89563230e-02 -1.99881345e-01\n",
      "  3.52051109e-02 -2.38841288e-02 -1.09664939e-01  1.13912389e-01\n",
      " -5.47313131e-02  5.46313450e-02  2.24157143e-03 -4.80496474e-02\n",
      "  2.39292867e-02 -6.80944547e-02 -7.25198388e-02 -7.32002631e-02\n",
      " -4.86816838e-02  9.49964151e-02 -1.54519603e-01 -1.28886744e-01\n",
      " -5.35211191e-02 -7.83197522e-01  6.24016561e-02  4.35560457e-02\n",
      "  9.97453555e-02 -6.94012493e-02  7.65952766e-02 -5.77833205e-02\n",
      "  5.48595563e-02 -1.31333590e-01  5.36927469e-02  5.29598072e-02\n",
      " -5.18955663e-02  5.47680669e-02 -4.72146496e-02  2.09579468e-02\n",
      "  2.78850012e-02 -1.74225518e-03  1.52063165e-02  6.48080707e-02\n",
      "  1.87276751e-02  8.72685015e-02 -1.36934251e-01 -9.91705731e-02\n",
      " -4.75688931e-03 -1.24303834e-03 -9.82473046e-02  1.45458402e-02\n",
      " -1.00060970e-01 -4.75273021e-02  4.05843146e-02 -7.29322210e-02\n",
      " -7.56787062e-02  8.72906297e-02 -4.12461609e-02  2.90413089e-02\n",
      " -1.23731196e+00 -8.92672106e-04  5.25047518e-02  4.82952558e-02\n",
      " -1.42185101e-02  5.46927825e-02  1.71793683e-03  1.74856298e-02\n",
      "  4.93240915e-02 -1.86510354e-01 -5.40811494e-02  1.58256479e-02\n",
      "  9.61088315e-02  1.30404613e-03 -1.28176957e-01 -2.63614152e-02\n",
      " -9.97304097e-02 -2.38448251e-02 -4.05456126e-02 -9.49609056e-02\n",
      "  1.87304039e-02 -3.13342288e-02  3.48083414e-02  6.79561347e-02\n",
      "  7.40223974e-02 -2.92211413e-01  6.51738346e-02 -6.29840940e-02\n",
      "  1.55353650e-01  5.26759587e-02  8.96749720e-02 -1.31260790e-02\n",
      "  2.07948580e-01  6.15677834e-02 -7.96080008e-02  1.15284070e-01\n",
      " -4.48304601e-02  5.16953878e-02 -1.69701889e-01 -1.06984355e-01\n",
      "  9.00379345e-02 -3.82956006e-02 -8.34445208e-02 -1.82963490e-01\n",
      "  2.94692023e-03  4.64339601e-03 -8.12160596e-02 -2.55386252e-02\n",
      "  2.06479672e-02 -1.21907435e-01 -1.41843215e-01  5.53844906e-02\n",
      " -1.43918693e-01  7.50580356e-02  2.51562931e-02  1.55332223e-01\n",
      "  3.23043764e-03 -3.70589457e-02 -5.97853102e-02  3.79694216e-02\n",
      " -1.59664713e-02 -1.52408928e-02 -1.34587467e-01  6.42793206e-03\n",
      "  1.17806546e-01  1.42317340e-01  1.03080750e-01 -3.12635079e-02\n",
      " -8.59165266e-02 -6.56748265e-02 -4.37349863e-02 -6.79686591e-02\n",
      " -2.60553390e-01 -3.55071239e-02  2.08823476e-02  8.47650468e-02\n",
      " -1.06590331e-01  1.13469683e-01 -5.30910119e-02 -4.74979430e-02\n",
      " -2.32052598e-02 -7.20164105e-02  5.55177145e-02 -1.04494048e-02\n",
      " -1.78447776e-02 -2.50118598e-02  2.92250421e-02  1.30696595e-01\n",
      " -1.43569067e-01  1.03566587e-01 -8.66323709e-02 -5.53544648e-02\n",
      "  1.29244234e-02  7.82614276e-02 -1.26776665e-01 -1.02252461e-01\n",
      " -6.66878149e-02  7.94731304e-02 -4.91355583e-02 -1.70988031e-02\n",
      "  1.12878187e-02  4.73309681e-02  3.06763034e-02  7.58939981e-02\n",
      "  1.47756472e-01 -4.93444465e-02 -9.00345147e-02 -1.59860164e-01\n",
      "  3.41219641e-02  5.18007688e-02  8.65133330e-02  4.29048352e-02\n",
      "  9.80532393e-02  4.42127660e-02  4.74563651e-02  1.06286891e-01\n",
      "  1.00741059e-01 -2.45936699e-02 -4.48000692e-02  4.00271602e-02\n",
      "  3.96626741e-02  1.60385758e-01  1.00091875e-01  3.70466895e-02\n",
      "  1.84790473e-02 -8.39446783e-02 -9.38929524e-03  5.35587743e-02\n",
      "  6.46421462e-02 -5.19663468e-02  1.28809825e-01  2.13363320e-02\n",
      " -1.24386385e-01 -9.26242247e-02 -1.29847452e-01  3.99507470e-02\n",
      " -9.70798433e-02  8.93483162e-02  7.34675899e-02  1.37662321e-01\n",
      "  1.95412427e-01  1.61223367e-01  4.48163263e-02 -9.54282805e-02\n",
      "  1.42686605e-03 -8.96595791e-02  8.94134939e-02 -9.63233411e-02\n",
      "  9.20428410e-02 -1.08638823e-01 -4.54208106e-02  1.17012583e-01\n",
      " -4.63564955e-02 -1.31745994e-01 -1.24199465e-02  6.78567514e-02\n",
      "  5.24740927e-02  6.50530122e-03 -3.50129977e-02  1.35177206e-02]\n"
     ]
    },
    {
     "data": {
      "text/plain": [
       "3"
      ]
     },
     "execution_count": 13,
     "metadata": {},
     "output_type": "execute_result"
    }
   ],
   "source": [
    "for qid, desc in descriptions.items():\n",
    "    desc_doc = nlp(desc)\n",
    "    desc_enc = desc_doc.vector\n",
    "    print(desc_enc)\n",
    "    kb.add_entity(entity=qid, entity_vector=desc_enc, freq=342)\n",
    "len(kb)"
   ]
  },
  {
   "cell_type": "code",
   "execution_count": 14,
   "id": "earned-buyer",
   "metadata": {},
   "outputs": [
    {
     "name": "stdout",
     "output_type": "stream",
     "text": [
      "Human1 Luke Skywalker\n",
      "Human11 Anakin Skywalker\n",
      "Human43 Shmi Skywalker\n"
     ]
    }
   ],
   "source": [
    "for qid, name in names.items():\n",
    "    print(qid, name)\n",
    "    kb.add_alias(alias=name, entities=[qid], probabilities=[1])"
   ]
  },
  {
   "cell_type": "code",
   "execution_count": 15,
   "id": "revised-assessment",
   "metadata": {},
   "outputs": [
    {
     "data": {
      "text/plain": [
       "7791551801117974099"
      ]
     },
     "execution_count": 15,
     "metadata": {},
     "output_type": "execute_result"
    }
   ],
   "source": [
    "qids = names.keys()\n",
    "probs = [1/len(qids) for qid in qids]\n",
    "kb.add_alias(alias=\"Skywalker\", entities=qids, probabilities=probs)"
   ]
  },
  {
   "cell_type": "code",
   "execution_count": 16,
   "id": "colonial-importance",
   "metadata": {},
   "outputs": [
    {
     "name": "stdout",
     "output_type": "stream",
     "text": [
      "Entities in the KB: ['Human1', 'Human11', 'Human43']\n",
      "Aliases in the KB: ['Skywalker', 'Shmi Skywalker', 'Anakin Skywalker', 'Luke Skywalker']\n"
     ]
    }
   ],
   "source": [
    "print(f\"Entities in the KB: {kb.get_entity_strings()}\")\n",
    "print(f\"Aliases in the KB: {kb.get_alias_strings()}\")"
   ]
  },
  {
   "cell_type": "code",
   "execution_count": 17,
   "id": "connected-assault",
   "metadata": {},
   "outputs": [
    {
     "name": "stdout",
     "output_type": "stream",
     "text": [
      "Candidates for 'Shmi Skywalker': ['Human43']\n",
      "Candidates for 'Anakin Skywalker': ['Human11']\n",
      "Candidates for 'Luke Skywalker': ['Human1']\n",
      "Candidates for 'Skywalker': ['Human1', 'Human11', 'Human43']\n",
      "Candidates for 'R2-D2': []\n"
     ]
    }
   ],
   "source": [
    "print(f\"Candidates for 'Shmi Skywalker': {[c.entity_ for c in kb.get_candidates('Shmi Skywalker')]}\")\n",
    "print(f\"Candidates for 'Anakin Skywalker': {[c.entity_ for c in kb.get_candidates('Anakin Skywalker')]}\")\n",
    "print(f\"Candidates for 'Luke Skywalker': {[c.entity_ for c in kb.get_candidates('Luke Skywalker')]}\")\n",
    "print(f\"Candidates for 'Skywalker': {[c.entity_ for c in kb.get_candidates('Skywalker')]}\")\n",
    "print(f\"Candidates for 'R2-D2': {[c.entity_ for c in kb.get_candidates('R2-D2')]}\")"
   ]
  },
  {
   "cell_type": "code",
   "execution_count": 18,
   "id": "appropriate-encoding",
   "metadata": {},
   "outputs": [],
   "source": [
    "label_to_name = {\n",
    "    'Human11': 'Anakin Skywalker',\n",
    "    'Human1': 'Luke Skywalker',\n",
    "    'Human43': 'Shmi Skywalker'\n",
    "}"
   ]
  },
  {
   "cell_type": "markdown",
   "id": "thrown-platinum",
   "metadata": {},
   "source": [
    "### Save KB"
   ]
  },
  {
   "cell_type": "code",
   "execution_count": 19,
   "id": "polar-design",
   "metadata": {},
   "outputs": [],
   "source": [
    "output_dir = './entity_linking_data'\n",
    "if not os.path.exists(output_dir):\n",
    "    os.mkdir(output_dir) \n",
    "kb.dump(output_dir + \"/my_kb\")"
   ]
  },
  {
   "cell_type": "code",
   "execution_count": 20,
   "id": "motivated-warning",
   "metadata": {},
   "outputs": [],
   "source": [
    "nlp.to_disk(output_dir + \"/my_nlp\")"
   ]
  },
  {
   "cell_type": "markdown",
   "id": "rural-azerbaijan",
   "metadata": {},
   "source": [
    "### Train EntityLinker: Create Training/Testing Datasets"
   ]
  },
  {
   "cell_type": "markdown",
   "id": "exciting-nebraska",
   "metadata": {},
   "source": [
    "Creating training data by scraping sentences with 'Skywalker' from internet"
   ]
  },
  {
   "cell_type": "markdown",
   "id": "liberal-nowhere",
   "metadata": {},
   "source": [
    "> https://starwars.fandom.com/wiki/Shmi_Skywalker_Lars"
   ]
  },
  {
   "cell_type": "code",
   "execution_count": 32,
   "id": "alpine-sucking",
   "metadata": {},
   "outputs": [
    {
     "name": "stdout",
     "output_type": "stream",
     "text": [
      "His alter ego, Darth Vader, the Dark Lord of the Sith, was created when Skywalker turned to the dark side of the Force, pledging his allegiance to the Sith Lord Darth Sidious at the end of the Republic Era. Human11\n",
      "Shortly after Skywalker's death, her son went on to become a Jedi Knight, as well as a general in the Grand Army of the Republic. Human43\n"
     ]
    }
   ],
   "source": [
    "corpus = []\n",
    "labels = []\n",
    "\n",
    "with open ('./entity_linking_data/skywalker_input_data.txt', 'r') as f:\n",
    "    for row in csv.reader(f,delimiter=','):\n",
    "        text, label = row[0].strip(), row[1].strip()\n",
    "        corpus.append(text)\n",
    "        labels.append(label)\n",
    "\n",
    "print(corpus[0], labels[0])\n",
    "print(corpus[-1], labels[-1])"
   ]
  },
  {
   "cell_type": "markdown",
   "id": "medical-elevation",
   "metadata": {},
   "source": [
    "> Training data must be representative of ambiguous entities after running NER"
   ]
  },
  {
   "cell_type": "code",
   "execution_count": 58,
   "id": "peaceful-provider",
   "metadata": {},
   "outputs": [
    {
     "name": "stdout",
     "output_type": "stream",
     "text": [
      "0 16\n"
     ]
    }
   ],
   "source": [
    "doc = nlp(corpus[2])\n",
    "print(doc.ents[0].start_char, doc.ents[0].end_char)"
   ]
  },
  {
   "cell_type": "code",
   "execution_count": 42,
   "id": "smart-hammer",
   "metadata": {},
   "outputs": [
    {
     "name": "stdout",
     "output_type": "stream",
     "text": [
      "1 (Darth Vader, Skywalker, Darth Sidious, the Republic Era)\n",
      "2 (Skywalker, Tatooine, the Outer Rim Territories, 41)\n",
      "3 (Anakin Skywalker, Shmi)\n",
      "4 (the early days, Skywalker, 501st Legion, the Confederacy of Independent Systems)\n",
      "5 (Skywalker, Padmé Amidala, Naboo)\n",
      "6 (19, Skywalker, Supreme, Sheev Palpatine, Darth Sidious)\n",
      "7 (Skywalker, Amidala, the Jedi Order, Sidious)\n",
      "8 (the Chosen One, Skywalker, one, Force)\n",
      "9 (Skywalker, one, Jedi and Sith)\n",
      "10 (Skywalker, Tatooine, Shmi, Skywalker)\n",
      "11 (Skywalker, Jedi Master, the Galactic Civil War, the Galactic Empire)\n",
      "12 (Leia Organa, Han Solo, Skywalker, the Alliance to Restore the Republic, the Galactic Empire)\n",
      "13 (Skywalker, Rebellion, Obi-Wan Kenobi)\n",
      "14 (Skywalker, the Battle of Endor, 4, ABY)\n",
      "15 (Vader, Skywalker)\n",
      "16 (Skywalker, Jakku, Rey)\n",
      "17 (Skywalker, Rey, Darth Sidious)\n",
      "18 (Skywalker, Rey, Jedi)\n",
      "19 (Skywalker, Lars)\n",
      "20 (Tikaroo, Skywalker, Kivas, Devaron)\n",
      "21 (Skywalker,)\n",
      "22 (Hutts, Skywalker, Zygerrian, Anakin)\n",
      "23 (Skywalker,)\n",
      "24 (Skywalker, Anakin, Anakin)\n",
      "25 (Skywalker, Shmi Skywalker, Tatooine, the last years, the Galactic Republic)\n",
      "26 (Skywalker, Anakin)\n",
      "27 (Skywalker, Anakin Skywalker, the Chosen One)\n",
      "28 (Skywalker, Tusken Raiders, 22)\n",
      "29 (Skywalker,)\n",
      "30 (Skywalker, a Jedi Knight)\n"
     ]
    }
   ],
   "source": [
    "for idx, i in enumerate(corpus):\n",
    "    doc = nlp(corpus[idx])\n",
    "    doc.ents.index\n",
    "    print(idx+1, doc.ents)"
   ]
  },
  {
   "cell_type": "code",
   "execution_count": 45,
   "id": "enabling-coaching",
   "metadata": {},
   "outputs": [
    {
     "name": "stdout",
     "output_type": "stream",
     "text": [
      "('Anakin Skywalker was the son of Shmi, a slave who conceived a child without a father.', {'links': {(7, 16): {'Human11': 1.0}}})\n"
     ]
    }
   ],
   "source": [
    "dataset = []\n",
    "for index, text in enumerate(corpus):\n",
    "    offset = re.search(r'Skywalker', text).span()\n",
    "    dataset.append((text, {\"links\": {offset: {labels[index]:1.0}}}))\n",
    "\n",
    "print(dataset[2])"
   ]
  },
  {
   "cell_type": "code",
   "execution_count": 35,
   "id": "attractive-harvard",
   "metadata": {},
   "outputs": [
    {
     "name": "stdout",
     "output_type": "stream",
     "text": [
      "Counter({'Human11': 10, 'Human1': 10, 'Human43': 10})\n"
     ]
    }
   ],
   "source": [
    "gold_ids = []\n",
    "for text, annot in dataset:\n",
    "    for span, links_dict in annot[\"links\"].items():\n",
    "        for link, value in links_dict.items():\n",
    "            if value:\n",
    "                gold_ids.append(link)\n",
    "\n",
    "from collections import Counter\n",
    "print(Counter(gold_ids))"
   ]
  },
  {
   "cell_type": "code",
   "execution_count": 36,
   "id": "yellow-sport",
   "metadata": {},
   "outputs": [],
   "source": [
    "train_dataset = []\n",
    "test_dataset = []\n",
    "for QID in qids:\n",
    "    indices = [i for i, j in enumerate(gold_ids) if j == QID]\n",
    "    train_dataset.extend(dataset[index] for index in indices[0:8])  # first 8 in training\n",
    "    test_dataset.extend(dataset[index] for index in indices[8:10])  # last 2 in test\n",
    "    \n",
    "random.shuffle(train_dataset)\n",
    "random.shuffle(test_dataset)"
   ]
  },
  {
   "cell_type": "code",
   "execution_count": 37,
   "id": "daily-newton",
   "metadata": {},
   "outputs": [],
   "source": [
    "TRAIN_DOCS = []\n",
    "for text, annotation in train_dataset:\n",
    "    doc = nlp(text)\n",
    "    TRAIN_DOCS.append((doc, annotation))"
   ]
  },
  {
   "cell_type": "code",
   "execution_count": 38,
   "id": "burning-partnership",
   "metadata": {},
   "outputs": [
    {
     "data": {
      "text/plain": [
       "[(A vergence in the Force, Skywalker was born on the desert planet of Tatooine in the Outer Rim Territories in 41 BBY.,\n",
       "  {'links': {(25, 34): {'Human11': 1.0}}}),\n",
       " (Skywalker was a peaceful, selfless and kind person.,\n",
       "  {'links': {(0, 9): {'Human43': 1.0}}}),\n",
       " (While Skywalker was caring and compassionate, his fear of losing Amidala in childbirth caused him to turn against the Jedi Order, believing Sidious had the knowledge to cheat death.,\n",
       "  {'links': {(6, 15): {'Human11': 1.0}}}),\n",
       " (Having fulfilled his destiny as the Chosen One, Skywalker made peace with his son and became one with the Force.,\n",
       "  {'links': {(48, 57): {'Human11': 1.0}}}),\n",
       " (After his master's death, Skywalker participated in the Battle of Endor in 4 ABY.,\n",
       "  {'links': {(26, 35): {'Human1': 1.0}}})]"
      ]
     },
     "execution_count": 38,
     "metadata": {},
     "output_type": "execute_result"
    }
   ],
   "source": [
    "TRAIN_DOCS[:5]"
   ]
  },
  {
   "cell_type": "markdown",
   "id": "meaningful-survivor",
   "metadata": {},
   "source": [
    "### Create Entity_Linker pipeline"
   ]
  },
  {
   "cell_type": "code",
   "execution_count": 39,
   "id": "daily-looking",
   "metadata": {},
   "outputs": [
    {
     "ename": "ValueError",
     "evalue": "[E007] 'entity_linker' already exists in pipeline. Existing names: ['tagger', 'parser', 'ner', 'entity_linker']",
     "output_type": "error",
     "traceback": [
      "\u001b[0;31m---------------------------------------------------------------------------\u001b[0m",
      "\u001b[0;31mValueError\u001b[0m                                Traceback (most recent call last)",
      "\u001b[0;32m<ipython-input-39-acde09fcc936>\u001b[0m in \u001b[0;36m<module>\u001b[0;34m\u001b[0m\n\u001b[1;32m      1\u001b[0m \u001b[0mentity_linker\u001b[0m \u001b[0;34m=\u001b[0m \u001b[0mnlp\u001b[0m\u001b[0;34m.\u001b[0m\u001b[0mcreate_pipe\u001b[0m\u001b[0;34m(\u001b[0m\u001b[0;34m\"entity_linker\"\u001b[0m\u001b[0;34m,\u001b[0m \u001b[0mconfig\u001b[0m\u001b[0;34m=\u001b[0m\u001b[0;34m{\u001b[0m\u001b[0;34m\"incl_prior\"\u001b[0m\u001b[0;34m:\u001b[0m \u001b[0;32mFalse\u001b[0m\u001b[0;34m}\u001b[0m\u001b[0;34m)\u001b[0m\u001b[0;34m\u001b[0m\u001b[0;34m\u001b[0m\u001b[0m\n\u001b[1;32m      2\u001b[0m \u001b[0mentity_linker\u001b[0m\u001b[0;34m.\u001b[0m\u001b[0mset_kb\u001b[0m\u001b[0;34m(\u001b[0m\u001b[0mkb\u001b[0m\u001b[0;34m)\u001b[0m\u001b[0;34m\u001b[0m\u001b[0;34m\u001b[0m\u001b[0m\n\u001b[0;32m----> 3\u001b[0;31m \u001b[0mnlp\u001b[0m\u001b[0;34m.\u001b[0m\u001b[0madd_pipe\u001b[0m\u001b[0;34m(\u001b[0m\u001b[0mentity_linker\u001b[0m\u001b[0;34m,\u001b[0m \u001b[0mlast\u001b[0m\u001b[0;34m=\u001b[0m\u001b[0;32mTrue\u001b[0m\u001b[0;34m)\u001b[0m\u001b[0;34m\u001b[0m\u001b[0;34m\u001b[0m\u001b[0m\n\u001b[0m",
      "\u001b[0;32m~/miniconda3/envs/entitylink/lib/python3.7/site-packages/spacy/language.py\u001b[0m in \u001b[0;36madd_pipe\u001b[0;34m(self, component, name, before, after, first, last)\u001b[0m\n\u001b[1;32m    329\u001b[0m             \u001b[0mname\u001b[0m \u001b[0;34m=\u001b[0m \u001b[0mutil\u001b[0m\u001b[0;34m.\u001b[0m\u001b[0mget_component_name\u001b[0m\u001b[0;34m(\u001b[0m\u001b[0mcomponent\u001b[0m\u001b[0;34m)\u001b[0m\u001b[0;34m\u001b[0m\u001b[0;34m\u001b[0m\u001b[0m\n\u001b[1;32m    330\u001b[0m         \u001b[0;32mif\u001b[0m \u001b[0mname\u001b[0m \u001b[0;32min\u001b[0m \u001b[0mself\u001b[0m\u001b[0;34m.\u001b[0m\u001b[0mpipe_names\u001b[0m\u001b[0;34m:\u001b[0m\u001b[0;34m\u001b[0m\u001b[0;34m\u001b[0m\u001b[0m\n\u001b[0;32m--> 331\u001b[0;31m             \u001b[0;32mraise\u001b[0m \u001b[0mValueError\u001b[0m\u001b[0;34m(\u001b[0m\u001b[0mErrors\u001b[0m\u001b[0;34m.\u001b[0m\u001b[0mE007\u001b[0m\u001b[0;34m.\u001b[0m\u001b[0mformat\u001b[0m\u001b[0;34m(\u001b[0m\u001b[0mname\u001b[0m\u001b[0;34m=\u001b[0m\u001b[0mname\u001b[0m\u001b[0;34m,\u001b[0m \u001b[0mopts\u001b[0m\u001b[0;34m=\u001b[0m\u001b[0mself\u001b[0m\u001b[0;34m.\u001b[0m\u001b[0mpipe_names\u001b[0m\u001b[0;34m)\u001b[0m\u001b[0;34m)\u001b[0m\u001b[0;34m\u001b[0m\u001b[0;34m\u001b[0m\u001b[0m\n\u001b[0m\u001b[1;32m    332\u001b[0m         \u001b[0;32mif\u001b[0m \u001b[0msum\u001b[0m\u001b[0;34m(\u001b[0m\u001b[0;34m[\u001b[0m\u001b[0mbool\u001b[0m\u001b[0;34m(\u001b[0m\u001b[0mbefore\u001b[0m\u001b[0;34m)\u001b[0m\u001b[0;34m,\u001b[0m \u001b[0mbool\u001b[0m\u001b[0;34m(\u001b[0m\u001b[0mafter\u001b[0m\u001b[0;34m)\u001b[0m\u001b[0;34m,\u001b[0m \u001b[0mbool\u001b[0m\u001b[0;34m(\u001b[0m\u001b[0mfirst\u001b[0m\u001b[0;34m)\u001b[0m\u001b[0;34m,\u001b[0m \u001b[0mbool\u001b[0m\u001b[0;34m(\u001b[0m\u001b[0mlast\u001b[0m\u001b[0;34m)\u001b[0m\u001b[0;34m]\u001b[0m\u001b[0;34m)\u001b[0m \u001b[0;34m>=\u001b[0m \u001b[0;36m2\u001b[0m\u001b[0;34m:\u001b[0m\u001b[0;34m\u001b[0m\u001b[0;34m\u001b[0m\u001b[0m\n\u001b[1;32m    333\u001b[0m             \u001b[0;32mraise\u001b[0m \u001b[0mValueError\u001b[0m\u001b[0;34m(\u001b[0m\u001b[0mErrors\u001b[0m\u001b[0;34m.\u001b[0m\u001b[0mE006\u001b[0m\u001b[0;34m)\u001b[0m\u001b[0;34m\u001b[0m\u001b[0;34m\u001b[0m\u001b[0m\n",
      "\u001b[0;31mValueError\u001b[0m: [E007] 'entity_linker' already exists in pipeline. Existing names: ['tagger', 'parser', 'ner', 'entity_linker']"
     ]
    }
   ],
   "source": [
    "entity_linker = nlp.create_pipe(\"entity_linker\", config={\"incl_prior\": False})\n",
    "entity_linker.set_kb(kb)\n",
    "nlp.add_pipe(entity_linker, last=True)"
   ]
  },
  {
   "cell_type": "code",
   "execution_count": 40,
   "id": "extended-broadcast",
   "metadata": {},
   "outputs": [
    {
     "ename": "RuntimeError",
     "evalue": "[E188] Could not match the gold entity links to entities in the doc - make sure the gold EL data refers to valid results of the named entity recognizer in the `nlp` pipeline.",
     "output_type": "error",
     "traceback": [
      "\u001b[0;31m---------------------------------------------------------------------------\u001b[0m",
      "\u001b[0;31mRuntimeError\u001b[0m                              Traceback (most recent call last)",
      "\u001b[0;32m<ipython-input-40-aeb7fd435c12>\u001b[0m in \u001b[0;36m<module>\u001b[0;34m\u001b[0m\n\u001b[1;32m     15\u001b[0m                 \u001b[0mdrop\u001b[0m\u001b[0;34m=\u001b[0m\u001b[0;36m0.5\u001b[0m\u001b[0;34m,\u001b[0m      \u001b[0;31m# prevent overfitting\u001b[0m\u001b[0;34m\u001b[0m\u001b[0;34m\u001b[0m\u001b[0m\n\u001b[1;32m     16\u001b[0m                 \u001b[0mlosses\u001b[0m\u001b[0;34m=\u001b[0m\u001b[0mlosses\u001b[0m\u001b[0;34m,\u001b[0m\u001b[0;34m\u001b[0m\u001b[0;34m\u001b[0m\u001b[0m\n\u001b[0;32m---> 17\u001b[0;31m                 \u001b[0msgd\u001b[0m\u001b[0;34m=\u001b[0m\u001b[0moptimizer\u001b[0m\u001b[0;34m,\u001b[0m\u001b[0;34m\u001b[0m\u001b[0;34m\u001b[0m\u001b[0m\n\u001b[0m\u001b[1;32m     18\u001b[0m             )\n\u001b[1;32m     19\u001b[0m         \u001b[0;32mif\u001b[0m \u001b[0mitn\u001b[0m \u001b[0;34m%\u001b[0m \u001b[0;36m50\u001b[0m \u001b[0;34m==\u001b[0m \u001b[0;36m0\u001b[0m\u001b[0;34m:\u001b[0m\u001b[0;34m\u001b[0m\u001b[0;34m\u001b[0m\u001b[0m\n",
      "\u001b[0;32m~/miniconda3/envs/entitylink/lib/python3.7/site-packages/spacy/language.py\u001b[0m in \u001b[0;36mupdate\u001b[0;34m(self, docs, golds, drop, sgd, losses, component_cfg)\u001b[0m\n\u001b[1;32m    517\u001b[0m             \u001b[0mkwargs\u001b[0m \u001b[0;34m=\u001b[0m \u001b[0mcomponent_cfg\u001b[0m\u001b[0;34m.\u001b[0m\u001b[0mget\u001b[0m\u001b[0;34m(\u001b[0m\u001b[0mname\u001b[0m\u001b[0;34m,\u001b[0m \u001b[0;34m{\u001b[0m\u001b[0;34m}\u001b[0m\u001b[0;34m)\u001b[0m\u001b[0;34m\u001b[0m\u001b[0;34m\u001b[0m\u001b[0m\n\u001b[1;32m    518\u001b[0m             \u001b[0mkwargs\u001b[0m\u001b[0;34m.\u001b[0m\u001b[0msetdefault\u001b[0m\u001b[0;34m(\u001b[0m\u001b[0;34m\"drop\"\u001b[0m\u001b[0;34m,\u001b[0m \u001b[0mdrop\u001b[0m\u001b[0;34m)\u001b[0m\u001b[0;34m\u001b[0m\u001b[0;34m\u001b[0m\u001b[0m\n\u001b[0;32m--> 519\u001b[0;31m             \u001b[0mproc\u001b[0m\u001b[0;34m.\u001b[0m\u001b[0mupdate\u001b[0m\u001b[0;34m(\u001b[0m\u001b[0mdocs\u001b[0m\u001b[0;34m,\u001b[0m \u001b[0mgolds\u001b[0m\u001b[0;34m,\u001b[0m \u001b[0msgd\u001b[0m\u001b[0;34m=\u001b[0m\u001b[0mget_grads\u001b[0m\u001b[0;34m,\u001b[0m \u001b[0mlosses\u001b[0m\u001b[0;34m=\u001b[0m\u001b[0mlosses\u001b[0m\u001b[0;34m,\u001b[0m \u001b[0;34m**\u001b[0m\u001b[0mkwargs\u001b[0m\u001b[0;34m)\u001b[0m\u001b[0;34m\u001b[0m\u001b[0;34m\u001b[0m\u001b[0m\n\u001b[0m\u001b[1;32m    520\u001b[0m             \u001b[0;32mfor\u001b[0m \u001b[0mkey\u001b[0m\u001b[0;34m,\u001b[0m \u001b[0;34m(\u001b[0m\u001b[0mW\u001b[0m\u001b[0;34m,\u001b[0m \u001b[0mdW\u001b[0m\u001b[0;34m)\u001b[0m \u001b[0;32min\u001b[0m \u001b[0mgrads\u001b[0m\u001b[0;34m.\u001b[0m\u001b[0mitems\u001b[0m\u001b[0;34m(\u001b[0m\u001b[0;34m)\u001b[0m\u001b[0;34m:\u001b[0m\u001b[0;34m\u001b[0m\u001b[0;34m\u001b[0m\u001b[0m\n\u001b[1;32m    521\u001b[0m                 \u001b[0msgd\u001b[0m\u001b[0;34m(\u001b[0m\u001b[0mW\u001b[0m\u001b[0;34m,\u001b[0m \u001b[0mdW\u001b[0m\u001b[0;34m,\u001b[0m \u001b[0mkey\u001b[0m\u001b[0;34m=\u001b[0m\u001b[0mkey\u001b[0m\u001b[0;34m)\u001b[0m\u001b[0;34m\u001b[0m\u001b[0;34m\u001b[0m\u001b[0m\n",
      "\u001b[0;32mpipes.pyx\u001b[0m in \u001b[0;36mspacy.pipeline.pipes.EntityLinker.update\u001b[0;34m()\u001b[0m\n",
      "\u001b[0;31mRuntimeError\u001b[0m: [E188] Could not match the gold entity links to entities in the doc - make sure the gold EL data refers to valid results of the named entity recognizer in the `nlp` pipeline."
     ]
    }
   ],
   "source": [
    "from spacy.util import minibatch, compounding\n",
    "\n",
    "other_pipes = [pipe for pipe in nlp.pipe_names if pipe != \"entity_linker\"]\n",
    "with nlp.disable_pipes(*other_pipes):   # train only the entity_linker\n",
    "    optimizer = nlp.begin_training()\n",
    "    for itn in range(500):   # 500 iterations takes about a minute to train\n",
    "        random.shuffle(TRAIN_DOCS)\n",
    "        batches = minibatch(TRAIN_DOCS, size=compounding(4.0, 32.0, 1.001))  # increasing batch sizes\n",
    "        losses = {}\n",
    "        for batch in batches:\n",
    "            texts, annotations = zip(*batch)\n",
    "            nlp.update(\n",
    "                texts,  \n",
    "                annotations,   \n",
    "                drop=0.5,      # prevent overfitting\n",
    "                losses=losses,\n",
    "                sgd=optimizer,\n",
    "            )\n",
    "        if itn % 50 == 0:\n",
    "            print(itn, \"Losses\", losses)   # print the training loss\n",
    "print(itn, \"Losses\", losses)"
   ]
  },
  {
   "cell_type": "code",
   "execution_count": 31,
   "id": "abroad-suspect",
   "metadata": {},
   "outputs": [
    {
     "data": {
      "text/plain": [
       "['tagger', 'parser', 'ner']"
      ]
     },
     "execution_count": 31,
     "metadata": {},
     "output_type": "execute_result"
    }
   ],
   "source": [
    "other_pipes"
   ]
  },
  {
   "cell_type": "markdown",
   "id": "boolean-sight",
   "metadata": {},
   "source": [
    "### Test the EL Model"
   ]
  },
  {
   "cell_type": "code",
   "execution_count": 59,
   "id": "equipped-channel",
   "metadata": {},
   "outputs": [
    {
     "name": "stdout",
     "output_type": "stream",
     "text": [
      "Skywalker ORG Human11 Anakin Skywalker\n",
      "Darth Vader PERSON NIL None\n"
     ]
    }
   ],
   "source": [
    "text = 'Skywalker, also known as Darth Vader, is a fictional character in the Star Wars franchise'\n",
    "doc = nlp(text)\n",
    "for ent in doc.ents:\n",
    "    print(ent.text, ent.label_, ent.kb_id_, str(label_to_name.get(ent.kb_id_)))"
   ]
  },
  {
   "cell_type": "markdown",
   "id": "exotic-protection",
   "metadata": {},
   "source": [
    "> Explain why Darth Vader is None (not trained)"
   ]
  },
  {
   "cell_type": "markdown",
   "id": "subject-bundle",
   "metadata": {},
   "source": [
    "### Test on Training Data"
   ]
  },
  {
   "cell_type": "code",
   "execution_count": 60,
   "id": "productive-regulation",
   "metadata": {},
   "outputs": [
    {
     "name": "stdout",
     "output_type": "stream",
     "text": [
      "A vergence in the Force, Skywalker was born on the desert planet of Tatooine in the Outer Rim Territories in 41 BBY.\n",
      "Gold annotation: {'links': {(25, 34): {'Human11': 1.0}}}\n",
      "Prediction: Skywalker, PERSON, Human11, Anakin Skywalker\n",
      "\n",
      "Skywalker was a peaceful, selfless and kind person.\n",
      "Gold annotation: {'links': {(0, 9): {'Human43': 1.0}}}\n",
      "Prediction: Skywalker, ORG, Human43, Shmi Skywalker\n",
      "\n",
      "While Skywalker was caring and compassionate, his fear of losing Amidala in childbirth caused him to turn against the Jedi Order, believing Sidious had the knowledge to cheat death.\n",
      "Gold annotation: {'links': {(6, 15): {'Human11': 1.0}}}\n",
      "Prediction: Skywalker, PERSON, Human11, Anakin Skywalker\n",
      "\n",
      "Having fulfilled his destiny as the Chosen One, Skywalker made peace with his son and became one with the Force.\n",
      "Gold annotation: {'links': {(48, 57): {'Human11': 1.0}}}\n",
      "Prediction: Skywalker, PERSON, Human11, Anakin Skywalker\n",
      "\n",
      "After his master's death, Skywalker participated in the Battle of Endor in 4 ABY.\n",
      "Gold annotation: {'links': {(26, 35): {'Human1': 1.0}}}\n",
      "Prediction: Skywalker, PERSON, Human1, Luke Skywalker\n",
      "\n",
      "However, Skywalker urged Rey to confront her grandfather, the resurrected Darth Sidious.\n",
      "Gold annotation: {'links': {(9, 18): {'Human1': 1.0}}}\n",
      "Prediction: Skywalker, PERSON, Human1, Luke Skywalker\n",
      "\n",
      "Skywalker was abducted and subjected to torture by a group of Tusken Raiders in 22 BBY.\n",
      "Gold annotation: {'links': {(0, 9): {'Human43': 1.0}}}\n",
      "Prediction: Skywalker, PERSON, Human43, Shmi Skywalker\n",
      "\n",
      "Before she was bought by the Hutts, Skywalker was once sold in a market like the Zygerrian slave market her future son Anakin visited during the Clone Wars.\n",
      "Gold annotation: {'links': {(36, 45): {'Human43': 1.0}}}\n",
      "Prediction: Skywalker, PERSON, Human43, Shmi Skywalker\n",
      "\n",
      "Longing for a life of adventure and purpose, Skywalker joined the Rebellion and began learning the ways of the Force under the guidance of Jedi Master Obi-Wan Kenobi.\n",
      "Gold annotation: {'links': {(45, 54): {'Human1': 1.0}}}\n",
      "Prediction: Skywalker, PERSON, Human1, Luke Skywalker\n",
      "\n",
      "During her time as a slave, Skywalker gave birth to a child called Anakin.\n",
      "Gold annotation: {'links': {(28, 37): {'Human43': 1.0}}}\n",
      "Prediction: Skywalker, PERSON, Human43, Shmi Skywalker\n",
      "\n",
      "Skywalker loved her son Anakin and was willing to sacrifice herself in order to let Anakin have the possibility of a better life.\n",
      "Gold annotation: {'links': {(0, 9): {'Human43': 1.0}}}\n",
      "Prediction: Skywalker, PERSON, Human43, Shmi Skywalker\n",
      "\n",
      "Skywalker, a Force-sensitive human male, was a legendary Jedi Master who fought in the Galactic Civil War during the reign of the Galactic Empire.\n",
      "Gold annotation: {'links': {(0, 9): {'Human1': 1.0}}}\n",
      "Prediction: Skywalker, ORG, Human1, Luke Skywalker\n",
      "\n",
      "Anakin Skywalker was the son of Shmi, a slave who conceived a child without a father.\n",
      "Gold annotation: {'links': {(7, 16): {'Human11': 1.0}}}\n",
      "\n",
      "In 19 BBY, Skywalker learned that Supreme Chancellor Sheev Palpatine was Darth Sidious, the elusive Dark Lord of the Sith who orchestrated the war in order to take over the galaxy.\n",
      "Gold annotation: {'links': {(11, 20): {'Human11': 1.0}}}\n",
      "Prediction: Skywalker, PERSON, Human11, Anakin Skywalker\n",
      "\n",
      "During the early days of the Clone Wars, Skywalker served as a Jedi General in the Grand Army of the Republic, commanding the clone troopers of the elite 501st Legion against the Confederacy of Independent Systems.\n",
      "Gold annotation: {'links': {(41, 50): {'Human11': 1.0}}}\n",
      "Prediction: Skywalker, PERSON, Human11, Anakin Skywalker\n",
      "\n",
      "Along with his companions, Princess Leia Organa and General Han Solo, Skywalker served on the side of the Alliance to Restore the Republic—an organization committed to the downfall of the Galactic Empire and the restoration of democracy.\n",
      "Gold annotation: {'links': {(70, 79): {'Human1': 1.0}}}\n",
      "Prediction: Skywalker, PERSON, Human1, Luke Skywalker\n",
      "\n",
      "His alter ego, Darth Vader, the Dark Lord of the Sith, was created when Skywalker turned to the dark side of the Force, pledging his allegiance to the Sith Lord Darth Sidious at the end of the Republic Era.\n",
      "Gold annotation: {'links': {(72, 81): {'Human11': 1.0}}}\n",
      "Prediction: Skywalker, PERSON, Human11, Anakin Skywalker\n",
      "\n",
      "Skywalker, formerly known as Shmi Skywalker, was a human female who lived in slavery on the planet Tatooine during the last years of the Galactic Republic.\n",
      "Gold annotation: {'links': {(0, 9): {'Human43': 1.0}}}\n",
      "Prediction: Skywalker, ORG, Human43, Shmi Skywalker\n",
      "\n",
      "Born on an unknown world, Skywalker and her parents were captured by pirates and forced into slavery when she was just a young girl.\n",
      "Gold annotation: {'links': {(26, 35): {'Human43': 1.0}}}\n",
      "Prediction: Skywalker, PERSON, Human43, Shmi Skywalker\n",
      "\n",
      "Although Jedi doctrine prohibited personal relationships, Skywalker had a secret wife, Senator Padmé Amidala of Naboo.\n",
      "Gold annotation: {'links': {(58, 67): {'Human11': 1.0}}}\n",
      "Prediction: Skywalker, PERSON, Human11, Anakin Skywalker\n",
      "\n",
      "The loss of his nephew, who fell to the dark side like Vader before him, haunted Skywalker for the rest of his life.\n",
      "Gold annotation: {'links': {(81, 90): {'Human1': 1.0}}}\n",
      "Prediction: Skywalker, PERSON, Human1, Luke Skywalker\n",
      "\n",
      "Before his death, Skywalker declared that the Jedi Order would not die with him, having trained a final apprentice: the Jakku scavenger known as Rey.\n",
      "Gold annotation: {'links': {(18, 27): {'Human1': 1.0}}}\n",
      "Prediction: Skywalker, PERSON, Human1, Luke Skywalker\n",
      "\n",
      "Skywalker was a slave who gave birth to Anakin Skywalker, the Chosen One destined to bring balance to the Force.\n",
      "Gold annotation: {'links': {(0, 9): {'Human43': 1.0}}}\n",
      "Prediction: Skywalker, ORG, Human43, Shmi Skywalker\n",
      "\n",
      "Believing he had been wrong, Skywalker told Rey that a Jedi's destiny was to confront fear.\n",
      "Gold annotation: {'links': {(29, 38): {'Human1': 1.0}}}\n",
      "Prediction: Skywalker, PERSON, Human1, Luke Skywalker\n",
      "\n",
      "Correct: 23 out of 24, Accuracy: 0.9583333333333334\n"
     ]
    }
   ],
   "source": [
    "correct = 0\n",
    "for text, true_annot in train_dataset:\n",
    "    print(text)\n",
    "    print(f\"Gold annotation: {true_annot}\")\n",
    "    doc = nlp(text)\n",
    "    for ent in doc.ents:\n",
    "        if ent.text == \"Skywalker\":\n",
    "            print(f\"Prediction: {ent.text}, {ent.label_}, {ent.kb_id_}, {str(label_to_name.get(ent.kb_id_))}\")\n",
    "            if ent.kb_id_ == list(true_annot['links'][list(true_annot['links'].keys())[0]].keys())[0]:\n",
    "                correct += 1\n",
    "    print()\n",
    "print('Correct: {} out of {}, Accuracy: {}'.format(correct, len(train_dataset), correct/len(train_dataset)))"
   ]
  },
  {
   "cell_type": "code",
   "execution_count": 61,
   "id": "brazilian-fifth",
   "metadata": {},
   "outputs": [
    {
     "name": "stdout",
     "output_type": "stream",
     "text": [
      "Shortly after Skywalker's death, her son went on to become a Jedi Knight, as well as a general in the Grand Army of the Republic.\n",
      "Gold annotation: {'links': {(14, 23): {'Human43': 1.0}}}\n",
      "Prediction: Skywalker, PERSON, Human11, Anakin Skywalker\n",
      "\n",
      "Although Skywalker was born on the desert planet of Tatooine, some sources stated that Shmi and he moved to the planet when Skywalker was at a very young age.\n",
      "Gold annotation: {'links': {(9, 18): {'Human11': 1.0}}}\n",
      "Prediction: Skywalker, PERSON, Human43, Shmi Skywalker\n",
      "Prediction: Skywalker, PERSON, Human43, Shmi Skywalker\n",
      "\n",
      "Having seen her son again, Skywalker told him she was complete but died in his arms.\n",
      "Gold annotation: {'links': {(27, 36): {'Human43': 1.0}}}\n",
      "Prediction: Skywalker, PERSON, Human1, Luke Skywalker\n",
      "\n",
      "Skywalker spent his youth on the Lars' moisture farm, where his uncle unsuccessfully tried to discourage his adventurous tendencies, telling him that his father had been a navigator on a spice freighter\" during the Clone Wars.\"\n",
      "Gold annotation: {'links': {(0, 9): {'Human1': 1.0}}}\n",
      "Prediction: Skywalker, PERSON, Human11, Anakin Skywalker\n",
      "\n",
      "Back in Tikaroo, Skywalker reclaimed his now-repaired starfighter from Kivas, and before departing Devaron, he dropped several bombs at the base of the spire to cut off the paths into the jungle.\n",
      "Gold annotation: {'links': {(17, 26): {'Human1': 1.0}}}\n",
      "Prediction: Skywalker, PERSON, Human1, Luke Skywalker\n",
      "\n",
      "Skywalker was one of the most powerful Jedi and Sith in galactic history.\n",
      "Gold annotation: {'links': {(0, 9): {'Human11': 1.0}}}\n",
      "Prediction: Skywalker, ORG, Human11, Anakin Skywalker\n",
      "\n",
      "Correct: 2 out of 6, Accuracy: 0.3333333333333333\n"
     ]
    }
   ],
   "source": [
    "correct = 0\n",
    "for text, true_annot in test_dataset:\n",
    "    print(text)\n",
    "    print(f\"Gold annotation: {true_annot}\")\n",
    "    doc = nlp(text)\n",
    "    for ent in doc.ents:\n",
    "        if ent.text == \"Skywalker\":\n",
    "            print(f\"Prediction: {ent.text}, {ent.label_}, {ent.kb_id_}, {str(label_to_name.get(ent.kb_id_))}\")\n",
    "            if ent.kb_id_ == list(true_annot['links'][list(true_annot['links'].keys())[0]].keys())[0]:\n",
    "                correct += 1\n",
    "    print()\n",
    "print('Correct: {} out of {}, Accuracy: {}'.format(correct, len(test_dataset), correct/len(test_dataset)))"
   ]
  },
  {
   "cell_type": "markdown",
   "id": "alpine-horror",
   "metadata": {},
   "source": [
    "### Save Model"
   ]
  },
  {
   "cell_type": "code",
   "execution_count": null,
   "id": "efficient-julian",
   "metadata": {},
   "outputs": [],
   "source": [
    "output_dir = './entity_linking_data'\n",
    "nlp.to_disk(output_dir + \"/trained_el\")"
   ]
  },
  {
   "cell_type": "markdown",
   "id": "advanced-morris",
   "metadata": {},
   "source": [
    "### Load and Predict"
   ]
  },
  {
   "cell_type": "code",
   "execution_count": 3,
   "id": "marked-burke",
   "metadata": {},
   "outputs": [],
   "source": [
    "output_dir = './entity_linking_data'\n",
    "nlp = spacy.load(output_dir + \"/trained_el\")"
   ]
  },
  {
   "cell_type": "code",
   "execution_count": 5,
   "id": "private-madagascar",
   "metadata": {},
   "outputs": [
    {
     "ename": "KeyboardInterrupt",
     "evalue": "",
     "output_type": "error",
     "traceback": [
      "\u001b[0;31m---------------------------------------------------------------------------\u001b[0m\n\u001b[0;31mKeyboardInterrupt\u001b[0m                         Traceback (most recent call last)",
      "File \u001b[0;34m/Users/rhythmsyed/miniconda3/envs/entitylink/lib/python3.7/site-packages/IPython/core/interactiveshell.py\u001b[0m, in \u001b[0;32mrun_code\u001b[0m:\nLine \u001b[0;34m3427\u001b[0m:  exec(code_obj, \u001b[36mself\u001b[39;49;00m.user_global_ns, \u001b[36mself\u001b[39;49;00m.user_ns)\n",
      "In  \u001b[0;34m[5]\u001b[0m:\nLine \u001b[0;34m1\u001b[0m:     text = \u001b[33m'\u001b[39;49;00m\u001b[33mSkywalker, also known as Darth Vader, is a fictional character in the Star Wars franchise\u001b[39;49;00m\u001b[33m'\u001b[39;49;00m\n",
      "In  \u001b[0;34m[5]\u001b[0m:\nLine \u001b[0;34m1\u001b[0m:     text = \u001b[33m'\u001b[39;49;00m\u001b[33mSkywalker, also known as Darth Vader, is a fictional character in the Star Wars franchise\u001b[39;49;00m\u001b[33m'\u001b[39;49;00m\n",
      "File \u001b[0;34m_pydevd_bundle/pydevd_cython.pyx\u001b[0m, in \u001b[0;32m_pydevd_bundle.pydevd_cython.SafeCallWrapper.__call__\u001b[0m:\nLine \u001b[0;34m1256\u001b[0m:  \n",
      "File \u001b[0;34m_pydevd_bundle/pydevd_cython.pyx\u001b[0m, in \u001b[0;32m_pydevd_bundle.pydevd_cython.PyDBFrame.trace_dispatch\u001b[0m:\nLine \u001b[0;34m637\u001b[0m:   \n",
      "File \u001b[0;34m_pydevd_bundle/pydevd_cython.pyx\u001b[0m, in \u001b[0;32m_pydevd_bundle.pydevd_cython.PyDBFrame.trace_dispatch\u001b[0m:\nLine \u001b[0;34m1181\u001b[0m:  \n",
      "File \u001b[0;34m_pydevd_bundle/pydevd_cython.pyx\u001b[0m, in \u001b[0;32m_pydevd_bundle.pydevd_cython.PyDBFrame.trace_dispatch\u001b[0m:\nLine \u001b[0;34m1143\u001b[0m:  \n",
      "File \u001b[0;34m_pydevd_bundle/pydevd_cython.pyx\u001b[0m, in \u001b[0;32m_pydevd_bundle.pydevd_cython.PyDBFrame.do_wait_suspend\u001b[0m:\nLine \u001b[0;34m274\u001b[0m:   \n",
      "File \u001b[0;34m/Users/rhythmsyed/miniconda3/envs/entitylink/lib/python3.7/site-packages/debugpy/_vendored/pydevd/pydevd.py\u001b[0m, in \u001b[0;32mdo_wait_suspend\u001b[0m:\nLine \u001b[0;34m1855\u001b[0m:  keep_suspended = \u001b[36mself\u001b[39;49;00m._do_wait_suspend(thread, frame, event, arg, suspend_type, from_this_thread, frames_tracker)\n",
      "File \u001b[0;34m/Users/rhythmsyed/miniconda3/envs/entitylink/lib/python3.7/site-packages/debugpy/_vendored/pydevd/pydevd.py\u001b[0m, in \u001b[0;32m_do_wait_suspend\u001b[0m:\nLine \u001b[0;34m1890\u001b[0m:  time.sleep(\u001b[34m0.01\u001b[39;49;00m)\n",
      "\u001b[0;31mKeyboardInterrupt\u001b[0m: \n\u001b[0;31m---------------------------------------------------------------------------\u001b[0m"
     ]
    }
   ],
   "source": [
    "text = 'Skywalker, also known as Darth Vader, is a fictional character in the Star Wars franchise'\n",
    "doc = nlp(text)\n",
    "for ent in doc.ents:\n",
    "    print(ent.text, ent.label_, ent.kb_id_, str(label_to_name.get(ent.kb_id_)))"
   ]
  },
  {
   "cell_type": "code",
   "execution_count": 13,
   "id": "explicit-license",
   "metadata": {},
   "outputs": [
    {
     "name": "stdout",
     "output_type": "stream",
     "text": [
      "1,2\n",
      "1,2,3\n"
     ]
    }
   ],
   "source": [
    "print(str(1) + ',' + str(2))\n",
    "print(*[1,2,3], sep=',')\n",
    "**kwargs"
   ]
  },
  {
   "cell_type": "markdown",
   "id": "generous-cabinet",
   "metadata": {},
   "source": [
    "### Entity Linking Use Case"
   ]
  },
  {
   "cell_type": "code",
   "execution_count": 64,
   "id": "acting-moses",
   "metadata": {},
   "outputs": [
    {
     "data": {
      "text/plain": [
       "'Darth Vader, also known by his birth name Anakin Skywalker, is a fictional character in the Star Wars franchise.123 Vader appears in the original film trilogy as a pivotal antagonist whose actions drive the plot, while his past as Anakin Skywalker and the story of his corruption are central to the narrative of the prequel trilogy., The character was created by George Lucas and has been portrayed by numerous actors. His appearances span the first six Star Wars films, as well as Rogue One, and his character is heavily referenced in Star Wars: The Force Awakens. He is also an important character in the Star Wars expanded universe of television series, video games, novels, literature and comic books. Originally a Jedi prophesied to bring balance to the Force, he falls to the dark side of the Force and serves the evil Galactic Empire at the right hand of his Sith master, Emperor Palpatine (also known as Darth Sidious).4 He is also the father of Luke Skywalker and Princess Leia Organa, secret husband of Padmé Amidala and grandfather of Kylo Ren., Darth Vader has become one of the most iconic villains in popular culture, and has been listed among the greatest villains and fictional characters ever.56 The American Film Institute listed him as the third greatest movie villain in cinema history on 100 Years... 100 Heroes and Villains, behind Hannibal Lecter and Norman Bates.7 However, other critics consider him a tragic hero, citing his original motivations for the greater good before his fall to the dark side.'"
      ]
     },
     "execution_count": 64,
     "metadata": {},
     "output_type": "execute_result"
    }
   ],
   "source": [
    "text = 'Darth Vader, also known by his birth name Anakin Skywalker, is a fictional character in the Star Wars franchise.123 Vader appears in the original film trilogy as a pivotal antagonist whose actions drive the plot, while his past as Anakin Skywalker and the story of his corruption are central to the narrative of the prequel trilogy., The character was created by George Lucas and has been portrayed by numerous actors. His appearances span the first six Star Wars films, as well as Rogue One, and his character is heavily referenced in Star Wars: The Force Awakens. He is also an important character in the Star Wars expanded universe of television series, video games, novels, literature and comic books. Originally a Jedi prophesied to bring balance to the Force, he falls to the dark side of the Force and serves the evil Galactic Empire at the right hand of his Sith master, Emperor Palpatine (also known as Darth Sidious).4 He is also the father of Luke Skywalker and Princess Leia Organa, secret husband of Padmé Amidala and grandfather of Kylo Ren., Darth Vader has become one of the most iconic villains in popular culture, and has been listed among the greatest villains and fictional characters ever.56 The American Film Institute listed him as the third greatest movie villain in cinema history on 100 Years... 100 Heroes and Villains, behind Hannibal Lecter and Norman Bates.7 However, other critics consider him a tragic hero, citing his original motivations for the greater good before his fall to the dark side.'\n",
    "text"
   ]
  },
  {
   "cell_type": "code",
   "execution_count": 65,
   "id": "legendary-transformation",
   "metadata": {},
   "outputs": [
    {
     "name": "stdout",
     "output_type": "stream",
     "text": [
      "Darth Vader PERSON NIL None\n",
      "Anakin Skywalker PERSON Human11 Anakin Skywalker\n",
      "Anakin Skywalker PERSON Human11 Anakin Skywalker\n",
      "George Lucas PERSON NIL None\n",
      "first ORDINAL NIL None\n",
      "six CARDINAL NIL None\n",
      "Star Wars: The Force Awakens WORK_OF_ART NIL None\n",
      "Star ORG NIL None\n",
      "Force ORG NIL None\n",
      "Emperor Palpatine PERSON NIL None\n",
      "Darth PERSON NIL None\n",
      "Luke Skywalker PERSON Human1 Luke Skywalker\n",
      "Leia Organa PERSON NIL None\n",
      "Padmé Amidala PERSON NIL None\n",
      "Kylo Ren PERSON NIL None\n",
      "Darth Vader PERSON NIL None\n",
      "The American Film Institute ORG NIL None\n",
      "third ORDINAL NIL None\n",
      "100 Years DATE NIL None\n",
      "100 CARDINAL NIL None\n",
      "Hannibal Lecter PERSON NIL None\n",
      "Norman Bates.7 PERSON NIL None\n"
     ]
    }
   ],
   "source": [
    "doc = nlp(text)\n",
    "for ent in doc.ents:\n",
    "    print(ent.text, ent.label_, ent.kb_id_, str(label_to_name.get(ent.kb_id_)))"
   ]
  },
  {
   "cell_type": "markdown",
   "id": "handed-portsmouth",
   "metadata": {},
   "source": [
    "> Regex is a bottleneck"
   ]
  },
  {
   "cell_type": "code",
   "execution_count": 66,
   "id": "psychological-oracle",
   "metadata": {},
   "outputs": [
    {
     "name": "stdout",
     "output_type": "stream",
     "text": [
      "Darth Vader\n",
      "[(rdflib.term.URIRef('https://swapi.co/resource/human/4'), rdflib.term.Literal('Darth Vader', datatype=rdflib.term.URIRef('http://www.w3.org/2001/XMLSchema#string')))]\n",
      "\n",
      "Anakin Skywalker\n",
      "[(rdflib.term.URIRef('https://swapi.co/resource/human/11'), rdflib.term.Literal('Anakin Skywalker', datatype=rdflib.term.URIRef('http://www.w3.org/2001/XMLSchema#string')))]\n",
      "\n",
      "Anakin Skywalker\n",
      "[(rdflib.term.URIRef('https://swapi.co/resource/human/11'), rdflib.term.Literal('Anakin Skywalker', datatype=rdflib.term.URIRef('http://www.w3.org/2001/XMLSchema#string')))]\n",
      "\n",
      "George Lucas\n",
      "[]\n",
      "\n",
      "first\n",
      "[]\n",
      "\n",
      "six\n",
      "[]\n",
      "\n",
      "Star Wars: The Force Awakens\n",
      "[]\n",
      "\n",
      "Star\n",
      "[(rdflib.term.URIRef('https://swapi.co/resource/starship/3'), rdflib.term.Literal('Star Destroyer', datatype=rdflib.term.URIRef('http://www.w3.org/2001/XMLSchema#string'))), (rdflib.term.URIRef('https://swapi.co/resource/starship/9'), rdflib.term.Literal('Death Star', datatype=rdflib.term.URIRef('http://www.w3.org/2001/XMLSchema#string'))), (rdflib.term.URIRef('https://swapi.co/resource/starship/40'), rdflib.term.Literal('Naboo Royal Starship', datatype=rdflib.term.URIRef('http://www.w3.org/2001/XMLSchema#string')))]\n",
      "\n",
      "Force\n",
      "[(rdflib.term.URIRef('https://swapi.co/resource/film/7'), rdflib.term.Literal('The Force Awakens', datatype=rdflib.term.URIRef('http://www.w3.org/2001/XMLSchema#string')))]\n",
      "\n",
      "Emperor Palpatine\n",
      "[]\n",
      "\n",
      "Darth\n",
      "[(rdflib.term.URIRef('https://swapi.co/resource/human/4'), rdflib.term.Literal('Darth Vader', datatype=rdflib.term.URIRef('http://www.w3.org/2001/XMLSchema#string'))), (rdflib.term.URIRef('https://swapi.co/resource/zabrak/44'), rdflib.term.Literal('Darth Maul', datatype=rdflib.term.URIRef('http://www.w3.org/2001/XMLSchema#string')))]\n",
      "\n",
      "Luke Skywalker\n",
      "[(rdflib.term.URIRef('https://swapi.co/resource/human/1'), rdflib.term.Literal('Luke Skywalker', datatype=rdflib.term.URIRef('http://www.w3.org/2001/XMLSchema#string')))]\n",
      "\n",
      "Leia Organa\n",
      "[(rdflib.term.URIRef('https://swapi.co/resource/human/5'), rdflib.term.Literal('Leia Organa', datatype=rdflib.term.URIRef('http://www.w3.org/2001/XMLSchema#string')))]\n",
      "\n",
      "Padmé Amidala\n",
      "[(rdflib.term.URIRef('https://swapi.co/resource/human/35'), rdflib.term.Literal('Padmé Amidala', datatype=rdflib.term.URIRef('http://www.w3.org/2001/XMLSchema#string')))]\n",
      "\n",
      "Kylo Ren\n",
      "[]\n",
      "\n",
      "Darth Vader\n",
      "[(rdflib.term.URIRef('https://swapi.co/resource/human/4'), rdflib.term.Literal('Darth Vader', datatype=rdflib.term.URIRef('http://www.w3.org/2001/XMLSchema#string')))]\n",
      "\n",
      "The American Film Institute\n",
      "[]\n",
      "\n",
      "third\n",
      "[]\n",
      "\n",
      "100 Years\n",
      "[]\n",
      "\n",
      "100\n",
      "[]\n",
      "\n",
      "Hannibal Lecter\n",
      "[]\n",
      "\n",
      "Norman Bates.7\n",
      "[]\n",
      "\n"
     ]
    }
   ],
   "source": [
    "for ent in doc.ents:\n",
    "    print(ent)\n",
    "    query_str = \"\"\"\n",
    "        PREFIX rdfs: <http://www.w3.org/2000/01/rdf-schema#>\n",
    "        SELECT ?s ?o\n",
    "        WHERE {   \n",
    "            ?s rdfs:label ?o.\n",
    "            FILTER regex(?o, \"%s\")\n",
    "        }\n",
    "    \"\"\" % ent\n",
    "    res = graph.query(query_str)\n",
    "    print(list(res))\n",
    "    print()"
   ]
  },
  {
   "cell_type": "code",
   "execution_count": null,
   "id": "varied-anger",
   "metadata": {},
   "outputs": [],
   "source": []
  }
 ],
 "metadata": {
  "kernelspec": {
   "display_name": "Python 3.7 (XPython)",
   "language": "python",
   "name": "xpython"
  },
  "language_info": {
   "file_extension": ".py",
   "mimetype": "text/x-python",
   "name": "python",
   "version": "3.7.9"
  }
 },
 "nbformat": 4,
 "nbformat_minor": 5
}
