{
 "cells": [
  {
   "cell_type": "markdown",
   "id": "respected-pantyhose",
   "metadata": {},
   "source": [
    "# Relation Extraction"
   ]
  },
  {
   "cell_type": "code",
   "execution_count": 1,
   "id": "complete-athens",
   "metadata": {},
   "outputs": [],
   "source": [
    "import pandas as pd\n",
    "import csv\n",
    "import numpy as np\n",
    "import os\n",
    "import opennre\n",
    "import re\n",
    "from openie import StanfordOpenIE"
   ]
  },
  {
   "cell_type": "code",
   "execution_count": 8,
   "id": "incredible-potential",
   "metadata": {},
   "outputs": [
    {
     "data": {
      "text/plain": [
       "14"
      ]
     },
     "execution_count": 8,
     "metadata": {},
     "output_type": "execute_result"
    }
   ],
   "source": [
    "concept_pairs = [('kylo_ren', 'r2-d2'), \n",
    "                 ('kylo_ren', 'kuiil'), \n",
    "                 ('kylo_ren', 'ben'), \n",
    "                 ('kylo_ren', 'anakin'), \n",
    "                 ('kylo_ren', 'princess_leia'), \n",
    "                 ('favreau', 'we'), \n",
    "                 ('favreau', 'november'), \n",
    "                 ('favreau', 'you'), \n",
    "                 ('favreau', 'disney'),\n",
    "                 ('favreau', 'lucas'),\n",
    "                 ('the_events', 'the_last_jedi'), \n",
    "                 ('the_events', 'the_galactic_republic'), \n",
    "                 ('the_events', 'the_clone_wars'),\n",
    "                 ('the_events', 'a_new_hope')]\n",
    "len(concept_pairs)"
   ]
  },
  {
   "cell_type": "code",
   "execution_count": 108,
   "id": "judicial-toronto",
   "metadata": {},
   "outputs": [
    {
     "data": {
      "text/plain": [
       "5"
      ]
     },
     "execution_count": 108,
     "metadata": {},
     "output_type": "execute_result"
    }
   ],
   "source": [
    "concept_pairs = [('an_agent', 'r2-d2'), \n",
    "                 ('an_agent', 'kuiil'), \n",
    "                 ('an_agent', 'ben'), \n",
    "                 ('an_agent', 'anakin'), \n",
    "                 ('an_agent', 'princess_leia')]\n",
    "len(concept_pairs)"
   ]
  },
  {
   "cell_type": "code",
   "execution_count": null,
   "id": "stuffed-clinton",
   "metadata": {},
   "outputs": [],
   "source": [
    "Closest Related Pair: (r2-d2, kueller), PMI: 1.6314168191528755\n",
    "Closest Related Pair: (princess_leia, their_real_mother.), PMI: 2.3107706775804853\n",
    "Closest Related Pair: (ben, son.), PMI: 2.3107706775804853\n",
    "Closest Related Pair: (anakin, replies), PMI: 0.8082165103447326\n",
    "Closest Related Pair: (kuiil, occasionally), PMI: 2.1353220000742925\n",
    "Closest Related Pair: (kylo_ren, an_agent), PMI: 5.502617830060767"
   ]
  },
  {
   "cell_type": "code",
   "execution_count": 2,
   "id": "supposed-excuse",
   "metadata": {},
   "outputs": [
    {
     "name": "stderr",
     "output_type": "stream",
     "text": [
      "b'Skipping line 2445: expected 1 fields, saw 2\\nSkipping line 3096: expected 1 fields, saw 2\\nSkipping line 10258: expected 1 fields, saw 2\\nSkipping line 11580: expected 1 fields, saw 2\\nSkipping line 16550: expected 1 fields, saw 2\\nSkipping line 17640: expected 1 fields, saw 2\\n'\n"
     ]
    },
    {
     "data": {
      "text/html": [
       "<div>\n",
       "<style scoped>\n",
       "    .dataframe tbody tr th:only-of-type {\n",
       "        vertical-align: middle;\n",
       "    }\n",
       "\n",
       "    .dataframe tbody tr th {\n",
       "        vertical-align: top;\n",
       "    }\n",
       "\n",
       "    .dataframe thead th {\n",
       "        text-align: right;\n",
       "    }\n",
       "</style>\n",
       "<table border=\"1\" class=\"dataframe\">\n",
       "  <thead>\n",
       "    <tr style=\"text-align: right;\">\n",
       "      <th></th>\n",
       "      <th>0</th>\n",
       "    </tr>\n",
       "  </thead>\n",
       "  <tbody>\n",
       "    <tr>\n",
       "      <th>0</th>\n",
       "      <td>luke_skywalker is a_fictional_character and th...</td>\n",
       "    </tr>\n",
       "    <tr>\n",
       "      <th>1</th>\n",
       "      <td>portrayed by mark_hamill, luke first appeared ...</td>\n",
       "    </tr>\n",
       "    <tr>\n",
       "      <th>2</th>\n",
       "      <td>: the_force awakens (2015),the</td>\n",
       "    </tr>\n",
       "    <tr>\n",
       "      <th>3</th>\n",
       "      <td>last_jedi (2017), and the_rise of luke_skywalk...</td>\n",
       "    </tr>\n",
       "    <tr>\n",
       "      <th>4</th>\n",
       "      <td>the_rescue\" (2020), voicing the_character that...</td>\n",
       "    </tr>\n",
       "    <tr>\n",
       "      <th>...</th>\n",
       "      <td>...</td>\n",
       "    </tr>\n",
       "    <tr>\n",
       "      <th>20509</th>\n",
       "      <td>in 2016, serkis was nominated for an_mtv_movie...</td>\n",
       "    </tr>\n",
       "    <tr>\n",
       "      <th>20510</th>\n",
       "      <td>some_viewers felt that snoke's_character_arc w...</td>\n",
       "    </tr>\n",
       "    <tr>\n",
       "      <th>20511</th>\n",
       "      <td>various_fan_theories about his_origins were he...</td>\n",
       "    </tr>\n",
       "    <tr>\n",
       "      <th>20512</th>\n",
       "      <td>serkis addressed the_criticisms by saying prod...</td>\n",
       "    </tr>\n",
       "    <tr>\n",
       "      <th>20513</th>\n",
       "      <td>forbes criticized the force awakens for not de...</td>\n",
       "    </tr>\n",
       "  </tbody>\n",
       "</table>\n",
       "<p>20514 rows × 1 columns</p>\n",
       "</div>"
      ],
      "text/plain": [
       "                                                       0\n",
       "0      luke_skywalker is a_fictional_character and th...\n",
       "1      portrayed by mark_hamill, luke first appeared ...\n",
       "2                         : the_force awakens (2015),the\n",
       "3      last_jedi (2017), and the_rise of luke_skywalk...\n",
       "4      the_rescue\" (2020), voicing the_character that...\n",
       "...                                                  ...\n",
       "20509  in 2016, serkis was nominated for an_mtv_movie...\n",
       "20510  some_viewers felt that snoke's_character_arc w...\n",
       "20511  various_fan_theories about his_origins were he...\n",
       "20512  serkis addressed the_criticisms by saying prod...\n",
       "20513  forbes criticized the force awakens for not de...\n",
       "\n",
       "[20514 rows x 1 columns]"
      ]
     },
     "execution_count": 2,
     "metadata": {},
     "output_type": "execute_result"
    }
   ],
   "source": [
    "dataset = pd.read_csv('./dataset/starwars_text_dataset_cleaned.txt', delimiter='\\n', header=None, error_bad_lines=False)\n",
    "dataset"
   ]
  },
  {
   "cell_type": "markdown",
   "id": "altered-straight",
   "metadata": {},
   "source": [
    "### OpenNRE"
   ]
  },
  {
   "cell_type": "code",
   "execution_count": 4,
   "id": "thirty-assault",
   "metadata": {},
   "outputs": [
    {
     "name": "stderr",
     "output_type": "stream",
     "text": [
      "2021-03-29 12:45:03,237 - root - INFO - Loading BERT pre-trained checkpoint.\n"
     ]
    },
    {
     "data": {
      "text/plain": [
       "('father', 0.9927453398704529)"
      ]
     },
     "execution_count": 4,
     "metadata": {},
     "output_type": "execute_result"
    }
   ],
   "source": [
    "re_model = opennre.get_model('wiki80_bertentity_softmax')\n",
    "re_model.infer({'text': 'He was the son of Máel Dúin mac Máele Fithrich, and grandson of the high king Áed Uaridnach (died 612).', 'h': {'pos': (18, 46)}, 't': {'pos': (78, 91)}})"
   ]
  },
  {
   "cell_type": "code",
   "execution_count": null,
   "id": "civilian-resident",
   "metadata": {},
   "outputs": [],
   "source": [
    "for index, row in dataset.iterrows():\n",
    "    text = dataset.iloc[index][0]\n",
    "    for concept1, concept2 in concept_pairs:\n",
    "        found1 = re.search('(^|\\W)'+concept1+'($|\\W)', text)\n",
    "        found2 = re.search('(^|\\W)'+concept2+'($|\\W)', text)\n",
    "        if found1 is not None and found2 is not None:\n",
    "            relation_pred = re_model.infer({'text': text, 'h': {'pos': found2.span()}, 't': {'pos': found1.span()}})\n",
    "            print('Concepts: ({}, {}), Sentence: {}, Relation: {}'.format(concept1, concept2, text, relation_pred))            \n",
    "            print()"
   ]
  },
  {
   "cell_type": "code",
   "execution_count": null,
   "id": "narrative-married",
   "metadata": {},
   "outputs": [],
   "source": [
    "opennre.download('wiki_distant', root_path='./Wiki_Distant')"
   ]
  },
  {
   "cell_type": "markdown",
   "id": "otherwise-repair",
   "metadata": {},
   "source": [
    "### Stanford OpenIE"
   ]
  },
  {
   "cell_type": "code",
   "execution_count": null,
   "id": "decent-overview",
   "metadata": {},
   "outputs": [],
   "source": [
    "final_triples = []\n",
    "for index, row in dataset.iterrows():\n",
    "    text = dataset.iloc[index][0]\n",
    "    \n",
    "    for concept1, concept2 in concept_pairs:\n",
    "        found1 = re.search('(^|\\W)'+concept1+'($|\\W)', text)\n",
    "        found2 = re.search('(^|\\W)'+concept2+'($|\\W)', text)\n",
    "        \n",
    "#         if found1 is not None and found2 is not None:\n",
    "        if concept1 in text and concept2 in text:\n",
    "            doc = nlp(text)\n",
    "            sentences = [sent.string.strip() for sent in doc.sents]\n",
    "            triples = []\n",
    "            for sentence in sentences:\n",
    "                triples += [p.triple for p in minie.get_propositions(sentence)]\n",
    "            \n",
    "            for t in triples:\n",
    "#                 print(t)\n",
    "                if concept1 in t and concept2 in t:\n",
    "                    final_triples.append((concept1, t[1], concept2))\n",
    "                    print()\n",
    "                    print('({}, {})'.format(concept1, concept2))\n",
    "                    print(text)\n",
    "                    print(\"\\t{}\".format(t))\n",
    "                    print()"
   ]
  },
  {
   "cell_type": "code",
   "execution_count": null,
   "id": "protective-curtis",
   "metadata": {},
   "outputs": [],
   "source": [
    "final_triples = []\n",
    "with StanfordOpenIE() as client:\n",
    "    for index, row in dataset.iterrows():\n",
    "        text = dataset.iloc[index][0]\n",
    "        for concept1, concept2 in concept_pairs:\n",
    "            found1 = re.search('(^|\\W)'+concept1+'($|\\W)', text)\n",
    "            found2 = re.search('(^|\\W)'+concept2+'($|\\W)', text)\n",
    "            \n",
    "            if found1 is not None and found2 is not None:\n",
    "                doc = nlp(text)\n",
    "                sentences = [sent.string.strip() for sent in doc.sents]\n",
    "\n",
    "                triples = []\n",
    "                for sentence in sentences:\n",
    "                    for triple in client.annotate(sentence):\n",
    "                        triples.append(triple)\n",
    "\n",
    "                print(concept1, concept2)\n",
    "                for t in triples:\n",
    "                    print(t)\n",
    "                    print()\n",
    "                    \n",
    "                    if concept1 in t and concept2 in t:\n",
    "                        final_triples.append((concept1, t[1], concept2)) \n",
    "                        print()\n",
    "                        print('({}, {})'.format(concept1, concept2))\n",
    "                        print(\"\\t{}\".format(t))\n",
    "                        print()"
   ]
  },
  {
   "cell_type": "code",
   "execution_count": 43,
   "id": "paperback-ecology",
   "metadata": {},
   "outputs": [
    {
     "data": {
      "text/plain": [
       "[]"
      ]
     },
     "execution_count": 43,
     "metadata": {},
     "output_type": "execute_result"
    }
   ],
   "source": [
    "final_triples"
   ]
  },
  {
   "cell_type": "markdown",
   "id": "delayed-mechanics",
   "metadata": {},
   "source": [
    "### MinIE"
   ]
  },
  {
   "cell_type": "code",
   "execution_count": 24,
   "id": "sharp-dating",
   "metadata": {},
   "outputs": [],
   "source": [
    "import spacy\n",
    "nlp = spacy.load('en_core_web_lg')"
   ]
  },
  {
   "cell_type": "code",
   "execution_count": 25,
   "id": "shaped-liverpool",
   "metadata": {},
   "outputs": [],
   "source": [
    "import os\n",
    "os.environ['CLASSPATH'] = '../../../miniepy/minie-0.0.1-SNAPSHOT.jar'\n",
    "from miniepy import *\n",
    "\n",
    "minie = MinIE()"
   ]
  },
  {
   "cell_type": "code",
   "execution_count": 111,
   "id": "brown-scout",
   "metadata": {},
   "outputs": [
    {
     "name": "stdout",
     "output_type": "stream",
     "text": [
      "an_agent ben\n"
     ]
    }
   ],
   "source": [
    "final_triples1 = []\n",
    "final_triples2 = []\n",
    "final_triples_both = []\n",
    "\n",
    "triple_collection = {}\n",
    "tokenizer = spacy.tokenizer.Tokenizer(spacy.lang.en.English().vocab)\n",
    "\n",
    "for index, row in dataset.iterrows():\n",
    "    text = dataset.iloc[index][0]\n",
    "    \n",
    "    for concept1, concept2 in concept_pairs:\n",
    "        found1 = re.search('(^|\\W)'+concept1+'($|\\W)', text)\n",
    "        found2 = re.search('(^|\\W)'+concept2+'($|\\W)', text)\n",
    "        \n",
    "        if found1 is not None and found2 is not None:\n",
    "#         if concept1 in text and concept2 in text:\n",
    "            doc = nlp(text)\n",
    "            sentences = [sent.string.strip() for sent in doc.sents]\n",
    "            triples = []\n",
    "            for sentence in sentences:\n",
    "                triples += [p.triple for p in minie.get_propositions(sentence)]\n",
    "            \n",
    "            print(concept1, concept2)\n",
    "            for t in triples:\n",
    "#                 print(t)\n",
    "                if len(t) != 3: continue\n",
    "                \n",
    "                if concept2 in t[0] or concept2 in t[2]:\n",
    "                    final_triples2.append(t)\n",
    "                if concept1 in t[0] or concept1 in t[2]:\n",
    "                    final_triples1.append(t)\n",
    "                    if concept2 in t[0] or concept2 in t[2]:\n",
    "                        final_triples_both.append(t)\n",
    "        "
   ]
  },
  {
   "cell_type": "code",
   "execution_count": 115,
   "id": "burning-update",
   "metadata": {},
   "outputs": [
    {
     "data": {
      "text/plain": [
       "[('in 1977 leia is princess of the_planet_alderaan',\n",
       "  'is a_member of',\n",
       "  'an_agent')]"
      ]
     },
     "execution_count": 115,
     "metadata": {},
     "output_type": "execute_result"
    }
   ],
   "source": [
    "final_triples1"
   ]
  },
  {
   "cell_type": "code",
   "execution_count": 116,
   "id": "happy-pharmaceutical",
   "metadata": {},
   "outputs": [
    {
     "data": {
      "text/plain": [
       "[('leia', 'have a_son named', 'ben solo'),\n",
       " ('han', 'have a_son named', 'ben solo'),\n",
       " ('ben solo',\n",
       "  'adopted',\n",
       "  'the_name kylo_ren after turning to the_dark_side of the_force'),\n",
       " ('ben solo', 'became the_lead_enforcer for', 'the_first_order')]"
      ]
     },
     "execution_count": 116,
     "metadata": {},
     "output_type": "execute_result"
    }
   ],
   "source": [
    "final_triples2"
   ]
  },
  {
   "cell_type": "code",
   "execution_count": 117,
   "id": "sitting-onion",
   "metadata": {},
   "outputs": [
    {
     "data": {
      "text/plain": [
       "[]"
      ]
     },
     "execution_count": 117,
     "metadata": {},
     "output_type": "execute_result"
    }
   ],
   "source": [
    "final_triples_both"
   ]
  },
  {
   "cell_type": "code",
   "execution_count": 118,
   "id": "equipped-bride",
   "metadata": {},
   "outputs": [
    {
     "data": {
      "text/plain": [
       "5"
      ]
     },
     "execution_count": 118,
     "metadata": {},
     "output_type": "execute_result"
    }
   ],
   "source": [
    "concept_pairs = [('an_agent', 'r2-d2'), \n",
    "                 ('an_agent', 'kuiil'), \n",
    "                 ('an_agent', 'ben'), \n",
    "                 ('an_agent', 'anakin'), \n",
    "                 ('an_agent', 'princess_leia')]\n",
    "len(concept_pairs)"
   ]
  },
  {
   "cell_type": "code",
   "execution_count": 120,
   "id": "champion-ethics",
   "metadata": {},
   "outputs": [
    {
     "name": "stdout",
     "output_type": "stream",
     "text": [
      "('in 1977 leia is princess of the_planet_alderaan', 'is a_member of', 'an_agent')\n",
      "('in 1977 leia is princess of the_planet_alderaan', 'is a_member of', 'an_agent')\n",
      "('in 1977 leia is princess of the_planet_alderaan', 'is a_member of', 'an_agent')\n",
      "('in 1977 leia is princess of the_planet_alderaan', 'is a_member of', 'an_agent')\n",
      "('in 1977 leia is princess of the_planet_alderaan', 'is a_member of', 'an_agent')\n"
     ]
    }
   ],
   "source": [
    "ontology = []\n",
    "for concept1, concept2 in concept_pairs:\n",
    "    for f1 in final_triples1:\n",
    "        if concept1 in f1[0] or concept1 in f1[2]:\n",
    "            ontology.append([concept1, f1[1], ])\n",
    "#     print(concept1, concept2)"
   ]
  },
  {
   "cell_type": "code",
   "execution_count": 102,
   "id": "noticed-couple",
   "metadata": {},
   "outputs": [],
   "source": [
    "#         concept1_words = [token.orth_ for token in tokenizer(concept1)]\n",
    "#         concept2_words = [token.orth_ for token in tokenizer(concept2)]\n",
    "            \n",
    "        \n",
    "    \n",
    "#         for word1 in concept1_words:\n",
    "#             for word2 in concept2_words:\n",
    "#                 if word1 in text and word2 in text:\n",
    "#                     doc = nlp(text)\n",
    "#                     sentences = [sent.string.strip() for sent in doc.sents]\n",
    "#                     triples = []\n",
    "#                     for sentence in sentences:\n",
    "#                         triples += [p.triple for p in minie.get_propositions(sentence)]\n",
    "        \n",
    "#         for t in triples:\n",
    "#             if len(t) != 3: continue\n",
    "            \n",
    "#             for word1 in concept1_words:\n",
    "#                 for word2 in concept2_words:\n",
    "#                     if word1 in t[0] or word1 in t[2]:\n",
    "#                         if word2 in t[0] or word2 in t[2]:\n",
    "#                             print(word1, word2)\n",
    "#                             print(t)\n",
    "#                             final_triples1.append(t)\n",
    "#                             print()\n",
    "        \n",
    "#         if concept1 in text and concept2 in text:\n",
    "#             print(concept1, concept2)\n",
    "#             doc = nlp(text)\n",
    "#             sentences = [sent.string.strip() for sent in doc.sents]\n",
    "#             triples = []\n",
    "#             for sentence in sentences:\n",
    "#                 triples += [p.triple for p in minie.get_propositions(sentence)]\n",
    "            \n",
    "#             print(concept1, concept2)\n",
    "#             print(text)\n",
    "#             print()\n",
    "#             for t in triples:\n",
    "#                 if len(t) != 3: continue\n",
    "            \n",
    "#                 concept1_words = [token.orth_ for token in tokenizer(sent)]\n",
    "#                 print(concept1_words)\n",
    "                \n",
    "#                 concept1_words = concept1.split('_')\n",
    "#                 for word in concept1_words:\n",
    "#                     if word in t[0] or word in t[2]:\n",
    "#                         if word not in triple_collection:\n",
    "#                             triple_collection[word] = [t]\n",
    "#                         else:\n",
    "#                             if t not in triple_collection[word]:\n",
    "#                                 triple_collection[word].append(t)\n",
    "                \n",
    "#                 concept2_words = concept2.split('_')\n",
    "#                 for word in concept2_words:\n",
    "#                     if word in t[0] or word in t[2]:\n",
    "#                         if word not in triple_collection:\n",
    "#                             triple_collection[word] = [t]\n",
    "#                         else:\n",
    "#                             if t not in triple_collection[word]:\n",
    "#                                 triple_collection[word].append(t)"
   ]
  },
  {
   "cell_type": "code",
   "execution_count": 66,
   "id": "thousand-collection",
   "metadata": {},
   "outputs": [
    {
     "data": {
      "text/plain": [
       "[('leia', 'have a_son named', 'ben solo'),\n",
       " ('han', 'have a_son named', 'ben solo'),\n",
       " ('ben solo',\n",
       "  'adopted',\n",
       "  'the_name kylo_ren after turning to the_dark_side of the_force'),\n",
       " ('ben solo', 'became the_lead_enforcer for', 'the_first_order'),\n",
       " ('none other than former_jedi_knight_anakin_skywalker',\n",
       "  'become',\n",
       "  'darth_vader_father'),\n",
       " ('none other than former_jedi_knight_anakin_skywalker',\n",
       "  'become',\n",
       "  'darth_vader')]"
      ]
     },
     "execution_count": 66,
     "metadata": {},
     "output_type": "execute_result"
    }
   ],
   "source": [
    "final_triples2"
   ]
  },
  {
   "cell_type": "code",
   "execution_count": 52,
   "id": "southern-paintball",
   "metadata": {},
   "outputs": [
    {
     "data": {
      "text/plain": [
       "[]"
      ]
     },
     "execution_count": 52,
     "metadata": {},
     "output_type": "execute_result"
    }
   ],
   "source": [
    "final_triples_both"
   ]
  },
  {
   "cell_type": "code",
   "execution_count": 83,
   "id": "indirect-taxation",
   "metadata": {},
   "outputs": [
    {
     "data": {
      "text/plain": [
       "dict_keys(['leia', 'an', 'agent', 'ben', 'anakin'])"
      ]
     },
     "execution_count": 83,
     "metadata": {},
     "output_type": "execute_result"
    }
   ],
   "source": [
    "triple_collection.keys()"
   ]
  },
  {
   "cell_type": "code",
   "execution_count": 84,
   "id": "friendly-pillow",
   "metadata": {},
   "outputs": [
    {
     "data": {
      "text/plain": [
       "[('in 1977 leia is princess of the_planet_alderaan',\n",
       "  'is a_member of',\n",
       "  'an_agent')]"
      ]
     },
     "execution_count": 84,
     "metadata": {},
     "output_type": "execute_result"
    }
   ],
   "source": [
    "triple_collection['agent']"
   ]
  },
  {
   "cell_type": "code",
   "execution_count": null,
   "id": "joined-conservation",
   "metadata": {},
   "outputs": [],
   "source": []
  }
 ],
 "metadata": {
  "kernelspec": {
   "display_name": "Python 3",
   "language": "python",
   "name": "python3"
  },
  "language_info": {
   "codemirror_mode": {
    "name": "ipython",
    "version": 3
   },
   "file_extension": ".py",
   "mimetype": "text/x-python",
   "name": "python",
   "nbconvert_exporter": "python",
   "pygments_lexer": "ipython3",
   "version": "3.7.5"
  }
 },
 "nbformat": 4,
 "nbformat_minor": 5
}
