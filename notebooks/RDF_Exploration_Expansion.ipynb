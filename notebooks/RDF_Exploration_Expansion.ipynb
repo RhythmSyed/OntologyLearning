{
 "cells": [
  {
   "cell_type": "code",
   "execution_count": 1,
   "metadata": {},
   "outputs": [],
   "source": [
    "import rdflib\n",
    "from rdflib import Graph, Literal, RDF, URIRef\n",
    "from rdflib.namespace import FOAF , XSD, Namespace\n",
    "import pandas as pd\n",
    "import spacy"
   ]
  },
  {
   "cell_type": "markdown",
   "metadata": {},
   "source": [
    "### Load Existing RDF Graph"
   ]
  },
  {
   "cell_type": "code",
   "execution_count": 2,
   "metadata": {},
   "outputs": [
    {
     "data": {
      "text/plain": [
       "<Graph identifier=Na487a696bc7545e0ad478a7e994e40c7 (<class 'rdflib.graph.Graph'>)>"
      ]
     },
     "execution_count": 2,
     "metadata": {},
     "output_type": "execute_result"
    }
   ],
   "source": [
    "graph = rdflib.Graph()\n",
    "graph.parse('./data/starwars.ttl', format='turtle')"
   ]
  },
  {
   "cell_type": "markdown",
   "metadata": {},
   "source": [
    "### Load New Triples from Text2Graph"
   ]
  },
  {
   "cell_type": "code",
   "execution_count": 3,
   "metadata": {},
   "outputs": [
    {
     "data": {
      "text/html": [
       "<div>\n",
       "<style scoped>\n",
       "    .dataframe tbody tr th:only-of-type {\n",
       "        vertical-align: middle;\n",
       "    }\n",
       "\n",
       "    .dataframe tbody tr th {\n",
       "        vertical-align: top;\n",
       "    }\n",
       "\n",
       "    .dataframe thead th {\n",
       "        text-align: right;\n",
       "    }\n",
       "</style>\n",
       "<table border=\"1\" class=\"dataframe\">\n",
       "  <thead>\n",
       "    <tr style=\"text-align: right;\">\n",
       "      <th></th>\n",
       "      <th>Type1</th>\n",
       "      <th>Entity1</th>\n",
       "      <th>Relationship</th>\n",
       "      <th>Type2</th>\n",
       "      <th>Entity2</th>\n",
       "    </tr>\n",
       "  </thead>\n",
       "  <tbody>\n",
       "    <tr>\n",
       "      <th>0</th>\n",
       "      <td>Node</td>\n",
       "      <td>Anakin Skywalker</td>\n",
       "      <td>is fictional character in</td>\n",
       "      <td>Node</td>\n",
       "      <td>Star Wars</td>\n",
       "    </tr>\n",
       "    <tr>\n",
       "      <th>1</th>\n",
       "      <td>Node</td>\n",
       "      <td>Anakin Skywalker</td>\n",
       "      <td>is</td>\n",
       "      <td>Node</td>\n",
       "      <td>fictional character</td>\n",
       "    </tr>\n",
       "    <tr>\n",
       "      <th>2</th>\n",
       "      <td>Node</td>\n",
       "      <td>fictional character</td>\n",
       "      <td>is in</td>\n",
       "      <td>Node</td>\n",
       "      <td>Star Wars</td>\n",
       "    </tr>\n",
       "    <tr>\n",
       "      <th>3</th>\n",
       "      <td>Node</td>\n",
       "      <td>Anakin Skywalker</td>\n",
       "      <td>appears as</td>\n",
       "      <td>Node</td>\n",
       "      <td>pivotal antagonist</td>\n",
       "    </tr>\n",
       "    <tr>\n",
       "      <th>4</th>\n",
       "      <td>Node</td>\n",
       "      <td>Anakin Skywalker</td>\n",
       "      <td>appears in</td>\n",
       "      <td>Node</td>\n",
       "      <td>film trilogy</td>\n",
       "    </tr>\n",
       "    <tr>\n",
       "      <th>5</th>\n",
       "      <td>Node</td>\n",
       "      <td>Anakin Skywalker</td>\n",
       "      <td>are</td>\n",
       "      <td>Node</td>\n",
       "      <td>central</td>\n",
       "    </tr>\n",
       "    <tr>\n",
       "      <th>6</th>\n",
       "      <td>Node</td>\n",
       "      <td>Anakin Skywalker</td>\n",
       "      <td>are central to</td>\n",
       "      <td>Node</td>\n",
       "      <td>narrative</td>\n",
       "    </tr>\n",
       "    <tr>\n",
       "      <th>7</th>\n",
       "      <td>Node</td>\n",
       "      <td>Anakin Skywalker</td>\n",
       "      <td>are central to</td>\n",
       "      <td>Node</td>\n",
       "      <td>narrative of film trilogy</td>\n",
       "    </tr>\n",
       "    <tr>\n",
       "      <th>8</th>\n",
       "      <td>Node</td>\n",
       "      <td>Anakin Skywalker</td>\n",
       "      <td>appears as</td>\n",
       "      <td>Node</td>\n",
       "      <td>antagonist</td>\n",
       "    </tr>\n",
       "    <tr>\n",
       "      <th>9</th>\n",
       "      <td>Node</td>\n",
       "      <td>actions</td>\n",
       "      <td>drive plot</td>\n",
       "      <td>Node</td>\n",
       "      <td>central to narrative of film trilogy</td>\n",
       "    </tr>\n",
       "    <tr>\n",
       "      <th>10</th>\n",
       "      <td>Node</td>\n",
       "      <td>actions</td>\n",
       "      <td>drive plot</td>\n",
       "      <td>Node</td>\n",
       "      <td>central</td>\n",
       "    </tr>\n",
       "    <tr>\n",
       "      <th>11</th>\n",
       "      <td>Node</td>\n",
       "      <td>actions</td>\n",
       "      <td>drive plot</td>\n",
       "      <td>Node</td>\n",
       "      <td>central to narrative</td>\n",
       "    </tr>\n",
       "    <tr>\n",
       "      <th>12</th>\n",
       "      <td>Node</td>\n",
       "      <td>actions</td>\n",
       "      <td>drive</td>\n",
       "      <td>Node</td>\n",
       "      <td>plot</td>\n",
       "    </tr>\n",
       "    <tr>\n",
       "      <th>13</th>\n",
       "      <td>Node</td>\n",
       "      <td>Anakin Skywalker</td>\n",
       "      <td>was created by</td>\n",
       "      <td>Node</td>\n",
       "      <td>George Lucas</td>\n",
       "    </tr>\n",
       "    <tr>\n",
       "      <th>14</th>\n",
       "      <td>Node</td>\n",
       "      <td>Anakin Skywalker</td>\n",
       "      <td>been portrayed by</td>\n",
       "      <td>Node</td>\n",
       "      <td>numerous actors</td>\n",
       "    </tr>\n",
       "    <tr>\n",
       "      <th>15</th>\n",
       "      <td>Node</td>\n",
       "      <td>Anakin Skywalker</td>\n",
       "      <td>was</td>\n",
       "      <td>Node</td>\n",
       "      <td>created</td>\n",
       "    </tr>\n",
       "    <tr>\n",
       "      <th>16</th>\n",
       "      <td>Node</td>\n",
       "      <td>Anakin Skywalker</td>\n",
       "      <td>been portrayed by</td>\n",
       "      <td>Node</td>\n",
       "      <td>actors</td>\n",
       "    </tr>\n",
       "    <tr>\n",
       "      <th>17</th>\n",
       "      <td>Node</td>\n",
       "      <td>Anakin Skywalker</td>\n",
       "      <td>been</td>\n",
       "      <td>Node</td>\n",
       "      <td>portrayed</td>\n",
       "    </tr>\n",
       "    <tr>\n",
       "      <th>18</th>\n",
       "      <td>Node</td>\n",
       "      <td>Anakin Skywalker appearances</td>\n",
       "      <td>span</td>\n",
       "      <td>Node</td>\n",
       "      <td>referenced</td>\n",
       "    </tr>\n",
       "    <tr>\n",
       "      <th>19</th>\n",
       "      <td>Node</td>\n",
       "      <td>Anakin Skywalker appearances</td>\n",
       "      <td>span</td>\n",
       "      <td>Node</td>\n",
       "      <td>heavily referenced</td>\n",
       "    </tr>\n",
       "    <tr>\n",
       "      <th>20</th>\n",
       "      <td>Node</td>\n",
       "      <td>Anakin Skywalker appearances</td>\n",
       "      <td>span</td>\n",
       "      <td>Node</td>\n",
       "      <td>referenced in Star Wars</td>\n",
       "    </tr>\n",
       "    <tr>\n",
       "      <th>21</th>\n",
       "      <td>Node</td>\n",
       "      <td>Anakin Skywalker appearances</td>\n",
       "      <td>span</td>\n",
       "      <td>Node</td>\n",
       "      <td>heavily referenced in Star Wars</td>\n",
       "    </tr>\n",
       "    <tr>\n",
       "      <th>22</th>\n",
       "      <td>Node</td>\n",
       "      <td>Anakin Skywalker appearances</td>\n",
       "      <td>span</td>\n",
       "      <td>Node</td>\n",
       "      <td>six Star Wars films</td>\n",
       "    </tr>\n",
       "    <tr>\n",
       "      <th>23</th>\n",
       "      <td>Node</td>\n",
       "      <td>Anakin Skywalker</td>\n",
       "      <td>is</td>\n",
       "      <td>Node</td>\n",
       "      <td>important character</td>\n",
       "    </tr>\n",
       "    <tr>\n",
       "      <th>24</th>\n",
       "      <td>Node</td>\n",
       "      <td>Anakin Skywalker</td>\n",
       "      <td>is character in</td>\n",
       "      <td>Node</td>\n",
       "      <td>Star Wars</td>\n",
       "    </tr>\n",
       "    <tr>\n",
       "      <th>25</th>\n",
       "      <td>Node</td>\n",
       "      <td>important character</td>\n",
       "      <td>is in</td>\n",
       "      <td>Node</td>\n",
       "      <td>Star Wars</td>\n",
       "    </tr>\n",
       "    <tr>\n",
       "      <th>26</th>\n",
       "      <td>Node</td>\n",
       "      <td>Anakin Skywalker</td>\n",
       "      <td>is</td>\n",
       "      <td>Node</td>\n",
       "      <td>character</td>\n",
       "    </tr>\n",
       "    <tr>\n",
       "      <th>27</th>\n",
       "      <td>Node</td>\n",
       "      <td>Anakin Skywalker</td>\n",
       "      <td>is</td>\n",
       "      <td>Node</td>\n",
       "      <td>also character</td>\n",
       "    </tr>\n",
       "    <tr>\n",
       "      <th>28</th>\n",
       "      <td>Node</td>\n",
       "      <td>Skywalker</td>\n",
       "      <td>is</td>\n",
       "      <td>Node</td>\n",
       "      <td>important</td>\n",
       "    </tr>\n",
       "    <tr>\n",
       "      <th>29</th>\n",
       "      <td>Node</td>\n",
       "      <td>Anakin Skywalker</td>\n",
       "      <td>is also character in</td>\n",
       "      <td>Node</td>\n",
       "      <td>Star Wars</td>\n",
       "    </tr>\n",
       "    <tr>\n",
       "      <th>30</th>\n",
       "      <td>Node</td>\n",
       "      <td>Jedi</td>\n",
       "      <td>falls to</td>\n",
       "      <td>Node</td>\n",
       "      <td>dark side</td>\n",
       "    </tr>\n",
       "    <tr>\n",
       "      <th>31</th>\n",
       "      <td>Node</td>\n",
       "      <td>Jedi</td>\n",
       "      <td>serves</td>\n",
       "      <td>Node</td>\n",
       "      <td>Galactic Empire</td>\n",
       "    </tr>\n",
       "    <tr>\n",
       "      <th>32</th>\n",
       "      <td>Node</td>\n",
       "      <td>Jedi</td>\n",
       "      <td>serves Galactic Empire at</td>\n",
       "      <td>Node</td>\n",
       "      <td>hand of Anakin Skywalker Sith master</td>\n",
       "    </tr>\n",
       "    <tr>\n",
       "      <th>33</th>\n",
       "      <td>Node</td>\n",
       "      <td>Jedi</td>\n",
       "      <td>falls to</td>\n",
       "      <td>Node</td>\n",
       "      <td>dark side of Force</td>\n",
       "    </tr>\n",
       "    <tr>\n",
       "      <th>34</th>\n",
       "      <td>Node</td>\n",
       "      <td>Jedi</td>\n",
       "      <td>serves</td>\n",
       "      <td>Node</td>\n",
       "      <td>evil Galactic Empire</td>\n",
       "    </tr>\n",
       "    <tr>\n",
       "      <th>35</th>\n",
       "      <td>Node</td>\n",
       "      <td>Jedi</td>\n",
       "      <td>falls to</td>\n",
       "      <td>Node</td>\n",
       "      <td>side</td>\n",
       "    </tr>\n",
       "    <tr>\n",
       "      <th>36</th>\n",
       "      <td>Node</td>\n",
       "      <td>Jedi</td>\n",
       "      <td>falls to</td>\n",
       "      <td>Node</td>\n",
       "      <td>side of Force</td>\n",
       "    </tr>\n",
       "    <tr>\n",
       "      <th>37</th>\n",
       "      <td>Node</td>\n",
       "      <td>Jedi</td>\n",
       "      <td>serves Galactic Empire at</td>\n",
       "      <td>Node</td>\n",
       "      <td>hand</td>\n",
       "    </tr>\n",
       "    <tr>\n",
       "      <th>38</th>\n",
       "      <td>Node</td>\n",
       "      <td>Jedi</td>\n",
       "      <td>serves Galactic Empire at</td>\n",
       "      <td>Node</td>\n",
       "      <td>right hand</td>\n",
       "    </tr>\n",
       "  </tbody>\n",
       "</table>\n",
       "</div>"
      ],
      "text/plain": [
       "   Type1                       Entity1               Relationship Type2  \\\n",
       "0   Node              Anakin Skywalker  is fictional character in  Node   \n",
       "1   Node              Anakin Skywalker                         is  Node   \n",
       "2   Node           fictional character                      is in  Node   \n",
       "3   Node              Anakin Skywalker                 appears as  Node   \n",
       "4   Node              Anakin Skywalker                 appears in  Node   \n",
       "5   Node              Anakin Skywalker                        are  Node   \n",
       "6   Node              Anakin Skywalker             are central to  Node   \n",
       "7   Node              Anakin Skywalker             are central to  Node   \n",
       "8   Node              Anakin Skywalker                 appears as  Node   \n",
       "9   Node                       actions                 drive plot  Node   \n",
       "10  Node                       actions                 drive plot  Node   \n",
       "11  Node                       actions                 drive plot  Node   \n",
       "12  Node                       actions                      drive  Node   \n",
       "13  Node              Anakin Skywalker             was created by  Node   \n",
       "14  Node              Anakin Skywalker          been portrayed by  Node   \n",
       "15  Node              Anakin Skywalker                        was  Node   \n",
       "16  Node              Anakin Skywalker          been portrayed by  Node   \n",
       "17  Node              Anakin Skywalker                       been  Node   \n",
       "18  Node  Anakin Skywalker appearances                       span  Node   \n",
       "19  Node  Anakin Skywalker appearances                       span  Node   \n",
       "20  Node  Anakin Skywalker appearances                       span  Node   \n",
       "21  Node  Anakin Skywalker appearances                       span  Node   \n",
       "22  Node  Anakin Skywalker appearances                       span  Node   \n",
       "23  Node              Anakin Skywalker                         is  Node   \n",
       "24  Node              Anakin Skywalker            is character in  Node   \n",
       "25  Node           important character                      is in  Node   \n",
       "26  Node              Anakin Skywalker                         is  Node   \n",
       "27  Node              Anakin Skywalker                         is  Node   \n",
       "28  Node                     Skywalker                         is  Node   \n",
       "29  Node              Anakin Skywalker       is also character in  Node   \n",
       "30  Node                          Jedi                   falls to  Node   \n",
       "31  Node                          Jedi                     serves  Node   \n",
       "32  Node                          Jedi  serves Galactic Empire at  Node   \n",
       "33  Node                          Jedi                   falls to  Node   \n",
       "34  Node                          Jedi                     serves  Node   \n",
       "35  Node                          Jedi                   falls to  Node   \n",
       "36  Node                          Jedi                   falls to  Node   \n",
       "37  Node                          Jedi  serves Galactic Empire at  Node   \n",
       "38  Node                          Jedi  serves Galactic Empire at  Node   \n",
       "\n",
       "                                 Entity2  \n",
       "0                              Star Wars  \n",
       "1                    fictional character  \n",
       "2                              Star Wars  \n",
       "3                     pivotal antagonist  \n",
       "4                           film trilogy  \n",
       "5                                central  \n",
       "6                              narrative  \n",
       "7              narrative of film trilogy  \n",
       "8                             antagonist  \n",
       "9   central to narrative of film trilogy  \n",
       "10                               central  \n",
       "11                  central to narrative  \n",
       "12                                  plot  \n",
       "13                          George Lucas  \n",
       "14                       numerous actors  \n",
       "15                               created  \n",
       "16                                actors  \n",
       "17                             portrayed  \n",
       "18                            referenced  \n",
       "19                    heavily referenced  \n",
       "20               referenced in Star Wars  \n",
       "21       heavily referenced in Star Wars  \n",
       "22                   six Star Wars films  \n",
       "23                   important character  \n",
       "24                             Star Wars  \n",
       "25                             Star Wars  \n",
       "26                             character  \n",
       "27                        also character  \n",
       "28                             important  \n",
       "29                             Star Wars  \n",
       "30                             dark side  \n",
       "31                       Galactic Empire  \n",
       "32  hand of Anakin Skywalker Sith master  \n",
       "33                    dark side of Force  \n",
       "34                  evil Galactic Empire  \n",
       "35                                  side  \n",
       "36                         side of Force  \n",
       "37                                  hand  \n",
       "38                            right hand  "
      ]
     },
     "execution_count": 3,
     "metadata": {},
     "output_type": "execute_result"
    }
   ],
   "source": [
    "triples = pd.read_csv('./data/text2rdf_processed.csv')\n",
    "triples"
   ]
  },
  {
   "cell_type": "markdown",
   "metadata": {},
   "source": [
    "### Find the 'Anakin Skywalker' URIRef"
   ]
  },
  {
   "cell_type": "code",
   "execution_count": 4,
   "metadata": {},
   "outputs": [
    {
     "data": {
      "text/plain": [
       "[(rdflib.term.URIRef('https://swapi.co/resource/human/11'),\n",
       "  rdflib.term.Literal('Anakin Skywalker', datatype=rdflib.term.URIRef('http://www.w3.org/2001/XMLSchema#string')))]"
      ]
     },
     "execution_count": 4,
     "metadata": {},
     "output_type": "execute_result"
    }
   ],
   "source": [
    "query_str = \"\"\"\n",
    "    PREFIX rdf: <http://www.w3.org/1999/02/22-rdf-syntax-ns#>\n",
    "    PREFIX rdfs: <http://www.w3.org/2000/01/rdf-schema#>\n",
    "    PREFIX voc: <https://swapi.co/vocabulary/>\n",
    "    PREFIX xml: <http://www.w3.org/XML/1998/namespace>\n",
    "    PREFIX xsd: <http://www.w3.org/2001/XMLSchema#>\n",
    "\n",
    "\n",
    "    SELECT ?s ?o\n",
    "    WHERE {   \n",
    "        ?s rdfs:label ?o.\n",
    "        FILTER(?o='Anakin Skywalker')\n",
    "    }\n",
    "\"\"\"\n",
    "res = graph.query(query_str)\n",
    "list(res)"
   ]
  },
  {
   "cell_type": "markdown",
   "metadata": {},
   "source": [
    "### Get all properties of Anakin Skywalker"
   ]
  },
  {
   "cell_type": "code",
   "execution_count": 5,
   "metadata": {},
   "outputs": [
    {
     "data": {
      "text/plain": [
       "[(rdflib.term.URIRef('https://swapi.co/vocabulary/desc')),\n",
       " (rdflib.term.URIRef('https://swapi.co/vocabulary/height')),\n",
       " (rdflib.term.URIRef('http://www.w3.org/1999/02/22-rdf-syntax-ns#type')),\n",
       " (rdflib.term.URIRef('https://swapi.co/vocabulary/gender')),\n",
       " (rdflib.term.URIRef('https://swapi.co/vocabulary/starship')),\n",
       " (rdflib.term.URIRef('https://swapi.co/vocabulary/homeworld')),\n",
       " (rdflib.term.URIRef('https://swapi.co/vocabulary/starship')),\n",
       " (rdflib.term.URIRef('https://swapi.co/vocabulary/film')),\n",
       " (rdflib.term.URIRef('https://swapi.co/vocabulary/starship')),\n",
       " (rdflib.term.URIRef('https://swapi.co/vocabulary/skinColor')),\n",
       " (rdflib.term.URIRef('https://swapi.co/vocabulary/mass')),\n",
       " (rdflib.term.URIRef('https://swapi.co/vocabulary/film')),\n",
       " (rdflib.term.URIRef('https://swapi.co/vocabulary/eyeColor')),\n",
       " (rdflib.term.URIRef('https://swapi.co/vocabulary/vehicle')),\n",
       " (rdflib.term.URIRef('https://swapi.co/vocabulary/film')),\n",
       " (rdflib.term.URIRef('https://swapi.co/vocabulary/vehicle')),\n",
       " (rdflib.term.URIRef('https://swapi.co/vocabulary/hairColor')),\n",
       " (rdflib.term.URIRef('https://swapi.co/vocabulary/birthYear')),\n",
       " (rdflib.term.URIRef('http://www.w3.org/2000/01/rdf-schema#label')),\n",
       " (rdflib.term.URIRef('http://www.w3.org/1999/02/22-rdf-syntax-ns#type'))]"
      ]
     },
     "execution_count": 5,
     "metadata": {},
     "output_type": "execute_result"
    }
   ],
   "source": [
    "query_str = \"\"\"\n",
    "    PREFIX rdf: <http://www.w3.org/1999/02/22-rdf-syntax-ns#>\n",
    "    PREFIX rdfs: <http://www.w3.org/2000/01/rdf-schema#>\n",
    "    PREFIX voc: <https://swapi.co/vocabulary/>\n",
    "    PREFIX xml: <http://www.w3.org/XML/1998/namespace>\n",
    "    PREFIX xsd: <http://www.w3.org/2001/XMLSchema#>\n",
    "    PREFIX human: <https://swapi.co/resource/human/>\n",
    "\n",
    "\n",
    "    SELECT ?p\n",
    "    WHERE {   \n",
    "        ?s ?p ?o.\n",
    "        FILTER(?s=human:11)\n",
    "    }\n",
    "    #LIMIT 10\n",
    "\"\"\"\n",
    "res = graph.query(query_str)\n",
    "list(res)"
   ]
  },
  {
   "cell_type": "markdown",
   "metadata": {},
   "source": [
    "### Node to Insert"
   ]
  },
  {
   "cell_type": "code",
   "execution_count": 6,
   "metadata": {},
   "outputs": [
    {
     "data": {
      "text/plain": [
       "Type1                       Node\n",
       "Entity1         Anakin Skywalker\n",
       "Relationship      was created by\n",
       "Type2                       Node\n",
       "Entity2             George Lucas\n",
       "Name: 13, dtype: object"
      ]
     },
     "execution_count": 6,
     "metadata": {},
     "output_type": "execute_result"
    }
   ],
   "source": [
    "new_node = triples.iloc[13]\n",
    "new_node"
   ]
  },
  {
   "cell_type": "markdown",
   "metadata": {},
   "source": [
    "### Look for George Lucas"
   ]
  },
  {
   "cell_type": "code",
   "execution_count": 7,
   "metadata": {},
   "outputs": [
    {
     "data": {
      "text/plain": [
       "[(rdflib.term.URIRef('https://swapi.co/resource/film/6'),\n",
       "  rdflib.term.URIRef('https://swapi.co/vocabulary/director'),\n",
       "  rdflib.term.Literal('George Lucas', datatype=rdflib.term.URIRef('http://www.w3.org/2001/XMLSchema#string'))),\n",
       " (rdflib.term.URIRef('https://swapi.co/resource/film/4'),\n",
       "  rdflib.term.URIRef('https://swapi.co/vocabulary/director'),\n",
       "  rdflib.term.Literal('George Lucas', datatype=rdflib.term.URIRef('http://www.w3.org/2001/XMLSchema#string'))),\n",
       " (rdflib.term.URIRef('https://swapi.co/resource/film/1'),\n",
       "  rdflib.term.URIRef('https://swapi.co/vocabulary/director'),\n",
       "  rdflib.term.Literal('George Lucas', datatype=rdflib.term.URIRef('http://www.w3.org/2001/XMLSchema#string'))),\n",
       " (rdflib.term.URIRef('https://swapi.co/resource/film/5'),\n",
       "  rdflib.term.URIRef('https://swapi.co/vocabulary/director'),\n",
       "  rdflib.term.Literal('George Lucas', datatype=rdflib.term.URIRef('http://www.w3.org/2001/XMLSchema#string')))]"
      ]
     },
     "execution_count": 7,
     "metadata": {},
     "output_type": "execute_result"
    }
   ],
   "source": [
    "query_str = \"\"\"\n",
    "    PREFIX rdf: <http://www.w3.org/1999/02/22-rdf-syntax-ns#>\n",
    "    PREFIX rdfs: <http://www.w3.org/2000/01/rdf-schema#>\n",
    "    PREFIX voc: <https://swapi.co/vocabulary/>\n",
    "    PREFIX xml: <http://www.w3.org/XML/1998/namespace>\n",
    "    PREFIX xsd: <http://www.w3.org/2001/XMLSchema#>\n",
    "\n",
    "\n",
    "    SELECT ?s ?p ?o\n",
    "    WHERE {   \n",
    "        ?s ?p ?o.\n",
    "        FILTER(?o='George Lucas')\n",
    "    }\n",
    "\"\"\"\n",
    "res = graph.query(query_str)\n",
    "list(res)"
   ]
  },
  {
   "cell_type": "markdown",
   "metadata": {},
   "source": [
    "### Insert to Graph"
   ]
  },
  {
   "cell_type": "code",
   "execution_count": 8,
   "metadata": {},
   "outputs": [],
   "source": [
    "def create_namespace(namespace, text):\n",
    "    components = text.lower().split(' ')\n",
    "    new_text = components[0] + ''.join(x.title() for x in components[1:])\n",
    "    return Namespace(namespace) + new_text"
   ]
  },
  {
   "cell_type": "code",
   "execution_count": 12,
   "metadata": {},
   "outputs": [
    {
     "data": {
      "text/plain": [
       "'https://www.example.com/createdby'"
      ]
     },
     "execution_count": 12,
     "metadata": {},
     "output_type": "execute_result"
    }
   ],
   "source": [
    "new_entitynode = create_namespace('https://www.example.com/', 'createdBy')\n",
    "new_entitynode"
   ]
  },
  {
   "cell_type": "code",
   "execution_count": 13,
   "metadata": {},
   "outputs": [
    {
     "data": {
      "text/plain": [
       "rdflib.term.URIRef('https://www.example.com/createdby')"
      ]
     },
     "execution_count": 13,
     "metadata": {},
     "output_type": "execute_result"
    }
   ],
   "source": [
    "URIRef(new_entitynode)"
   ]
  },
  {
   "cell_type": "code",
   "execution_count": 14,
   "metadata": {},
   "outputs": [],
   "source": [
    "EX = Namespace('https://www.example.com/')\n",
    "graph.add((URIRef(\"https://swapi.co/resource/human/11\"), URIRef(new_entitynode), Literal(new_node['Entity2'])))"
   ]
  },
  {
   "cell_type": "code",
   "execution_count": 16,
   "metadata": {},
   "outputs": [
    {
     "data": {
      "text/plain": [
       "[(rdflib.term.URIRef('https://swapi.co/resource/human/11'),\n",
       "  rdflib.term.URIRef('https://swapi.co/vocabulary/starship'),\n",
       "  rdflib.term.URIRef('https://swapi.co/resource/starship/65')),\n",
       " (rdflib.term.URIRef('https://swapi.co/resource/human/11'),\n",
       "  rdflib.term.URIRef('http://www.w3.org/1999/02/22-rdf-syntax-ns#type'),\n",
       "  rdflib.term.URIRef('https://swapi.co/vocabulary/Human')),\n",
       " (rdflib.term.URIRef('https://swapi.co/resource/human/11'),\n",
       "  rdflib.term.URIRef('https://swapi.co/vocabulary/vehicle'),\n",
       "  rdflib.term.URIRef('https://swapi.co/resource/vehicle/44')),\n",
       " (rdflib.term.URIRef('https://swapi.co/resource/human/11'),\n",
       "  rdflib.term.URIRef('https://swapi.co/vocabulary/eyeColor'),\n",
       "  rdflib.term.Literal('blue', datatype=rdflib.term.URIRef('http://www.w3.org/2001/XMLSchema#string'))),\n",
       " (rdflib.term.URIRef('https://swapi.co/resource/human/11'),\n",
       "  rdflib.term.URIRef('http://www.w3.org/1999/02/22-rdf-syntax-ns#type'),\n",
       "  rdflib.term.URIRef('https://swapi.co/vocabulary/Character')),\n",
       " (rdflib.term.URIRef('https://swapi.co/resource/human/11'),\n",
       "  rdflib.term.URIRef('https://swapi.co/vocabulary/film'),\n",
       "  rdflib.term.URIRef('https://swapi.co/resource/film/5')),\n",
       " (rdflib.term.URIRef('https://swapi.co/resource/human/11'),\n",
       "  rdflib.term.URIRef('https://www.example.com/wasCreatedBy'),\n",
       "  rdflib.term.Literal('George Lucas')),\n",
       " (rdflib.term.URIRef('https://swapi.co/resource/human/11'),\n",
       "  rdflib.term.URIRef('https://swapi.co/vocabulary/film'),\n",
       "  rdflib.term.URIRef('https://swapi.co/resource/film/6')),\n",
       " (rdflib.term.URIRef('https://swapi.co/resource/human/11'),\n",
       "  rdflib.term.URIRef('https://swapi.co/vocabulary/mass'),\n",
       "  rdflib.term.Literal('84.0', datatype=rdflib.term.URIRef('http://www.w3.org/2001/XMLSchema#decimal'))),\n",
       " (rdflib.term.URIRef('https://swapi.co/resource/human/11'),\n",
       "  rdflib.term.URIRef('https://swapi.co/vocabulary/skinColor'),\n",
       "  rdflib.term.Literal('fair', datatype=rdflib.term.URIRef('http://www.w3.org/2001/XMLSchema#string'))),\n",
       " (rdflib.term.URIRef('https://swapi.co/resource/human/11'),\n",
       "  rdflib.term.URIRef('https://swapi.co/vocabulary/height'),\n",
       "  rdflib.term.Literal('188.0', datatype=rdflib.term.URIRef('http://www.w3.org/2001/XMLSchema#float'))),\n",
       " (rdflib.term.URIRef('https://swapi.co/resource/human/11'),\n",
       "  rdflib.term.URIRef('https://swapi.co/vocabulary/starship'),\n",
       "  rdflib.term.URIRef('https://swapi.co/resource/starship/59')),\n",
       " (rdflib.term.URIRef('https://swapi.co/resource/human/11'),\n",
       "  rdflib.term.URIRef('https://swapi.co/vocabulary/starship'),\n",
       "  rdflib.term.URIRef('https://swapi.co/resource/starship/39')),\n",
       " (rdflib.term.URIRef('https://swapi.co/resource/human/11'),\n",
       "  rdflib.term.URIRef('https://swapi.co/vocabulary/gender'),\n",
       "  rdflib.term.Literal('male', datatype=rdflib.term.URIRef('http://www.w3.org/2001/XMLSchema#string'))),\n",
       " (rdflib.term.URIRef('https://swapi.co/resource/human/11'),\n",
       "  rdflib.term.URIRef('https://swapi.co/vocabulary/vehicle'),\n",
       "  rdflib.term.URIRef('https://swapi.co/resource/vehicle/46')),\n",
       " (rdflib.term.URIRef('https://swapi.co/resource/human/11'),\n",
       "  rdflib.term.URIRef('https://swapi.co/vocabulary/hairColor'),\n",
       "  rdflib.term.Literal('blond', datatype=rdflib.term.URIRef('http://www.w3.org/2001/XMLSchema#string'))),\n",
       " (rdflib.term.URIRef('https://swapi.co/resource/human/11'),\n",
       "  rdflib.term.URIRef('https://swapi.co/vocabulary/desc'),\n",
       "  rdflib.term.Literal('Darth Vader, also known by his birth name Anakin Skywalker, is a fictional character in the Star Wars franchise.123 Vader appears in the original film trilogy as a pivotal antagonist whose actions drive the plot, while his past as Anakin Skywalker and the story of his corruption are central to the narrative of the prequel trilogy., The character was created by George Lucas and has been portrayed by numerous actors. His appearances span the first six Star Wars films, as well as Rogue One, and his character is heavily referenced in Star Wars: The Force Awakens. He is also an important character in the Star Wars expanded universe of television series, video games, novels, literature and comic books. Originally a Jedi prophesied to bring balance to the Force, he falls to the dark side of the Force and serves the evil Galactic Empire at the right hand of his Sith master, Emperor Palpatine (also known as Darth Sidious).4 He is also the father of Luke Skywalker and Princess Leia Organa, secret husband of Padmé Amidala and grandfather of Kylo Ren., Darth Vader has become one of the most iconic villains in popular culture, and has been listed among the greatest villains and fictional characters ever.56 The American Film Institute listed him as the third greatest movie villain in cinema history on 100 Years... 100 Heroes and Villains, behind Hannibal Lecter and Norman Bates.7 However, other critics consider him a tragic hero, citing his original motivations for the greater good before his fall to the dark side.89', datatype=rdflib.term.URIRef('http://www.w3.org/2001/XMLSchema#string'))),\n",
       " (rdflib.term.URIRef('https://swapi.co/resource/human/11'),\n",
       "  rdflib.term.URIRef('http://www.w3.org/2000/01/rdf-schema#label'),\n",
       "  rdflib.term.Literal('Anakin Skywalker', datatype=rdflib.term.URIRef('http://www.w3.org/2001/XMLSchema#string'))),\n",
       " (rdflib.term.URIRef('https://swapi.co/resource/human/11'),\n",
       "  rdflib.term.URIRef('https://swapi.co/vocabulary/birthYear'),\n",
       "  rdflib.term.Literal('41.9BBY', datatype=rdflib.term.URIRef('http://www.w3.org/2001/XMLSchema#string'))),\n",
       " (rdflib.term.URIRef('https://swapi.co/resource/human/11'),\n",
       "  rdflib.term.URIRef('https://swapi.co/vocabulary/homeworld'),\n",
       "  rdflib.term.URIRef('https://swapi.co/resource/planet/1')),\n",
       " (rdflib.term.URIRef('https://swapi.co/resource/human/11'),\n",
       "  rdflib.term.URIRef('https://swapi.co/vocabulary/film'),\n",
       "  rdflib.term.URIRef('https://swapi.co/resource/film/4'))]"
      ]
     },
     "execution_count": 16,
     "metadata": {},
     "output_type": "execute_result"
    }
   ],
   "source": [
    "query_str = \"\"\"\n",
    "    PREFIX rdf: <http://www.w3.org/1999/02/22-rdf-syntax-ns#>\n",
    "    PREFIX rdfs: <http://www.w3.org/2000/01/rdf-schema#>\n",
    "    PREFIX voc: <https://swapi.co/vocabulary/>\n",
    "    PREFIX xml: <http://www.w3.org/XML/1998/namespace>\n",
    "    PREFIX xsd: <http://www.w3.org/2001/XMLSchema#>\n",
    "    PREFIX human: <https://swapi.co/resource/human/>\n",
    "\n",
    "\n",
    "    SELECT ?s ?p ?o\n",
    "    WHERE {   \n",
    "        ?s ?p ?o.\n",
    "        FILTER(?s=human:11)\n",
    "    }\n",
    "\"\"\"\n",
    "res = graph.query(query_str)\n",
    "list(res)"
   ]
  },
  {
   "cell_type": "markdown",
   "metadata": {},
   "source": [
    "### Entity Linking"
   ]
  },
  {
   "cell_type": "markdown",
   "metadata": {},
   "source": [
    "Entity linking resolves ambiguous textual references to concepts in a knowledge base"
   ]
  },
  {
   "cell_type": "code",
   "execution_count": null,
   "metadata": {},
   "outputs": [],
   "source": [
    "nlp = spacy.load(\"en_core_web_lg\")"
   ]
  },
  {
   "cell_type": "code",
   "execution_count": 19,
   "metadata": {},
   "outputs": [
    {
     "name": "stdout",
     "output_type": "stream",
     "text": [
      "Named Entity 'Emerson' with label 'PERSON'\n",
      "Named Entity 'Wimbledon' with label 'ORG'\n"
     ]
    }
   ],
   "source": [
    "text = \"Tennis champion Emerson was expected to win Wimbledon.\"\n",
    "\n",
    "doc = nlp(text)\n",
    "for ent in doc.ents:\n",
    "    print(f\"Named Entity '{ent.text}' with label '{ent.label_}'\")"
   ]
  },
  {
   "cell_type": "code",
   "execution_count": 25,
   "metadata": {},
   "outputs": [
    {
     "data": {
      "text/plain": [
       "[(rdflib.term.URIRef('https://swapi.co/resource/human/11'),\n",
       "  rdflib.term.URIRef('http://www.w3.org/2000/01/rdf-schema#label'),\n",
       "  rdflib.term.Literal('Anakin Skywalker', datatype=rdflib.term.URIRef('http://www.w3.org/2001/XMLSchema#string')))]"
      ]
     },
     "execution_count": 25,
     "metadata": {},
     "output_type": "execute_result"
    }
   ],
   "source": [
    "query_str = \"\"\"\n",
    "    PREFIX rdf: <http://www.w3.org/1999/02/22-rdf-syntax-ns#>\n",
    "    PREFIX rdfs: <http://www.w3.org/2000/01/rdf-schema#>\n",
    "    PREFIX voc: <https://swapi.co/vocabulary/>\n",
    "    PREFIX xml: <http://www.w3.org/XML/1998/namespace>\n",
    "    PREFIX xsd: <http://www.w3.org/2001/XMLSchema#>\n",
    "\n",
    "\n",
    "    SELECT ?s ?p ?o\n",
    "    WHERE {   \n",
    "        ?s ?p ?o.\n",
    "        FILTER(?o='Anakin Skywalker')\n",
    "    }\n",
    "\"\"\"\n",
    "res = graph.query(query_str)\n",
    "list(res)"
   ]
  },
  {
   "cell_type": "code",
   "execution_count": null,
   "metadata": {},
   "outputs": [],
   "source": []
  }
 ],
 "metadata": {
  "kernelspec": {
   "display_name": "Python 3",
   "language": "python",
   "name": "python3"
  },
  "language_info": {
   "codemirror_mode": {
    "name": "ipython",
    "version": 3
   },
   "file_extension": ".py",
   "mimetype": "text/x-python",
   "name": "python",
   "nbconvert_exporter": "python",
   "pygments_lexer": "ipython3",
   "version": "3.7.5"
  }
 },
 "nbformat": 4,
 "nbformat_minor": 4
}
