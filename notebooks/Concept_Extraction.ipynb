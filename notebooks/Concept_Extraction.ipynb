{
 "cells": [
  {
   "cell_type": "markdown",
   "metadata": {},
   "source": [
    "# Concept Extraction and Topic Modeling"
   ]
  },
  {
   "cell_type": "code",
   "execution_count": 1,
   "metadata": {},
   "outputs": [],
   "source": [
    "import pandas as pd\n",
    "import re\n",
    "import gensim\n",
    "from gensim.utils import simple_preprocess\n",
    "import nltk\n",
    "from nltk.corpus import stopwords\n",
    "import gensim.corpora as corpora\n",
    "from pprint import pprint"
   ]
  },
  {
   "cell_type": "markdown",
   "metadata": {},
   "source": [
    "## Text Preprocessing using NIPS papers dataset"
   ]
  },
  {
   "cell_type": "code",
   "execution_count": 2,
   "metadata": {},
   "outputs": [
    {
     "data": {
      "text/html": [
       "<div>\n",
       "<style scoped>\n",
       "    .dataframe tbody tr th:only-of-type {\n",
       "        vertical-align: middle;\n",
       "    }\n",
       "\n",
       "    .dataframe tbody tr th {\n",
       "        vertical-align: top;\n",
       "    }\n",
       "\n",
       "    .dataframe thead th {\n",
       "        text-align: right;\n",
       "    }\n",
       "</style>\n",
       "<table border=\"1\" class=\"dataframe\">\n",
       "  <thead>\n",
       "    <tr style=\"text-align: right;\">\n",
       "      <th></th>\n",
       "      <th>year</th>\n",
       "      <th>title</th>\n",
       "      <th>abstract</th>\n",
       "      <th>paper_text</th>\n",
       "      <th>text</th>\n",
       "    </tr>\n",
       "  </thead>\n",
       "  <tbody>\n",
       "    <tr>\n",
       "      <th>0</th>\n",
       "      <td>1987</td>\n",
       "      <td>Self-Organization of Associative Database and ...</td>\n",
       "      <td>Abstract Missing</td>\n",
       "      <td>767\\n\\nSELF-ORGANIZATION OF ASSOCIATIVE DATABA...</td>\n",
       "      <td>767\\n\\nself-organization of associative databa...</td>\n",
       "    </tr>\n",
       "    <tr>\n",
       "      <th>1</th>\n",
       "      <td>1987</td>\n",
       "      <td>A Mean Field Theory of Layer IV of Visual Cort...</td>\n",
       "      <td>Abstract Missing</td>\n",
       "      <td>683\\n\\nA MEAN FIELD THEORY OF LAYER IV OF VISU...</td>\n",
       "      <td>683\\n\\na mean field theory of layer iv of visu...</td>\n",
       "    </tr>\n",
       "    <tr>\n",
       "      <th>2</th>\n",
       "      <td>1988</td>\n",
       "      <td>Storing Covariance by the Associative Long-Ter...</td>\n",
       "      <td>Abstract Missing</td>\n",
       "      <td>394\\n\\nSTORING COVARIANCE BY THE ASSOCIATIVE\\n...</td>\n",
       "      <td>394\\n\\nstoring covariance by the associative\\n...</td>\n",
       "    </tr>\n",
       "    <tr>\n",
       "      <th>3</th>\n",
       "      <td>1994</td>\n",
       "      <td>Bayesian Query Construction for Neural Network...</td>\n",
       "      <td>Abstract Missing</td>\n",
       "      <td>Bayesian Query Construction for Neural\\nNetwor...</td>\n",
       "      <td>bayesian query construction for neural\\nnetwor...</td>\n",
       "    </tr>\n",
       "    <tr>\n",
       "      <th>4</th>\n",
       "      <td>1994</td>\n",
       "      <td>Neural Network Ensembles, Cross Validation, an...</td>\n",
       "      <td>Abstract Missing</td>\n",
       "      <td>Neural Network Ensembles, Cross\\nValidation, a...</td>\n",
       "      <td>neural network ensembles cross\\nvalidation and...</td>\n",
       "    </tr>\n",
       "  </tbody>\n",
       "</table>\n",
       "</div>"
      ],
      "text/plain": [
       "   year                                              title          abstract  \\\n",
       "0  1987  Self-Organization of Associative Database and ...  Abstract Missing   \n",
       "1  1987  A Mean Field Theory of Layer IV of Visual Cort...  Abstract Missing   \n",
       "2  1988  Storing Covariance by the Associative Long-Ter...  Abstract Missing   \n",
       "3  1994  Bayesian Query Construction for Neural Network...  Abstract Missing   \n",
       "4  1994  Neural Network Ensembles, Cross Validation, an...  Abstract Missing   \n",
       "\n",
       "                                          paper_text  \\\n",
       "0  767\\n\\nSELF-ORGANIZATION OF ASSOCIATIVE DATABA...   \n",
       "1  683\\n\\nA MEAN FIELD THEORY OF LAYER IV OF VISU...   \n",
       "2  394\\n\\nSTORING COVARIANCE BY THE ASSOCIATIVE\\n...   \n",
       "3  Bayesian Query Construction for Neural\\nNetwor...   \n",
       "4  Neural Network Ensembles, Cross\\nValidation, a...   \n",
       "\n",
       "                                                text  \n",
       "0  767\\n\\nself-organization of associative databa...  \n",
       "1  683\\n\\na mean field theory of layer iv of visu...  \n",
       "2  394\\n\\nstoring covariance by the associative\\n...  \n",
       "3  bayesian query construction for neural\\nnetwor...  \n",
       "4  neural network ensembles cross\\nvalidation and...  "
      ]
     },
     "execution_count": 2,
     "metadata": {},
     "output_type": "execute_result"
    }
   ],
   "source": [
    "papers = pd.read_csv('./data/NIPSPapers/papers.csv')\n",
    "papers = papers.drop(columns=['id', 'event_type', 'pdf_name'])\n",
    "papers['text'] = papers['paper_text'].map(lambda x: re.sub('[,\\.!?]', '', x))\n",
    "papers['text'] = papers['text'].map(lambda x: x.lower())\n",
    "papers.head()"
   ]
  },
  {
   "cell_type": "code",
   "execution_count": 3,
   "metadata": {},
   "outputs": [
    {
     "name": "stdout",
     "output_type": "stream",
     "text": [
      "['self', 'organization', 'associative', 'database', 'applications', 'hisashi', 'suzuki', 'suguru', 'arimoto', 'osaka', 'university', 'toyonaka', 'osaka', 'japan', 'abstract', 'efficient', 'method', 'self', 'organizing', 'associative', 'databases', 'proposed', 'together', 'applications', 'robot', 'eyesight', 'systems', 'proposed', 'databases', 'associate']\n"
     ]
    }
   ],
   "source": [
    "stop_words = stopwords.words('english')\n",
    "stop_words.extend(['from', 'subject', 're', 'edu', 'use'])\n",
    "\n",
    "def sent_to_words(sentences):\n",
    "    for sentence in sentences:\n",
    "        yield(gensim.utils.simple_preprocess(str(sentence), deacc=True))\n",
    "        \n",
    "def remove_stopwords(texts):\n",
    "    return [[word for word in simple_preprocess(str(doc)) \n",
    "             if word not in stop_words] for doc in texts]\n",
    "\n",
    "data = papers.text.values.tolist()\n",
    "data_words = list(sent_to_words(data))\n",
    "data_words = remove_stopwords(data_words)\n",
    "print(data_words[:1][0][:30])"
   ]
  },
  {
   "cell_type": "code",
   "execution_count": 4,
   "metadata": {},
   "outputs": [
    {
     "name": "stdout",
     "output_type": "stream",
     "text": [
      "[(0, 1), (1, 1), (2, 1), (3, 2), (4, 1), (5, 6), (6, 1), (7, 1), (8, 3), (9, 1), (10, 2), (11, 2), (12, 1), (13, 1), (14, 1), (15, 1), (16, 1), (17, 4), (18, 8), (19, 1), (20, 1), (21, 2), (22, 2), (23, 1), (24, 1), (25, 1), (26, 1), (27, 1), (28, 1), (29, 1)]\n"
     ]
    }
   ],
   "source": [
    "id2word = corpora.Dictionary(data_words)\n",
    "texts = data_words\n",
    "corpus = [id2word.doc2bow(text) for text in texts]\n",
    "print(corpus[:1][0][:30])"
   ]
  },
  {
   "cell_type": "markdown",
   "metadata": {},
   "source": [
    "## Latent Dirichlet Allocation (LDA)"
   ]
  },
  {
   "cell_type": "code",
   "execution_count": 12,
   "metadata": {},
   "outputs": [
    {
     "name": "stderr",
     "output_type": "stream",
     "text": [
      "/Users/rhythmsyed/miniconda3/envs/entitylink/lib/python3.7/site-packages/ipykernel/ipkernel.py:283: DeprecationWarning: `should_run_async` will not call `transform_cell` automatically in the future. Please pass the result to `transformed_cell` argument and any exception that happen during thetransform in `preprocessing_exc_tuple` in IPython 7.17 and above.\n",
      "  and should_run_async(code)\n"
     ]
    }
   ],
   "source": [
    "num_topics = 4\n",
    "lda_model = gensim.models.LdaMulticore(corpus=corpus, id2word=id2word, num_topics=num_topics)\n",
    "doc_lda = lda_model[corpus]"
   ]
  },
  {
   "cell_type": "code",
   "execution_count": 13,
   "metadata": {},
   "outputs": [
    {
     "name": "stdout",
     "output_type": "stream",
     "text": [
      "[(0,\n",
      "  '0.007*\"learning\" + 0.007*\"data\" + 0.006*\"model\" + 0.005*\"function\" + '\n",
      "  '0.005*\"algorithm\" + 0.004*\"set\" + 0.004*\"problem\" + 0.004*\"using\" + '\n",
      "  '0.003*\"distribution\" + 0.003*\"one\"'),\n",
      " (1,\n",
      "  '0.005*\"model\" + 0.005*\"algorithm\" + 0.005*\"data\" + 0.005*\"set\" + '\n",
      "  '0.005*\"using\" + 0.004*\"learning\" + 0.004*\"number\" + 0.004*\"one\" + '\n",
      "  '0.004*\"two\" + 0.003*\"also\"'),\n",
      " (2,\n",
      "  '0.006*\"model\" + 0.006*\"learning\" + 0.005*\"function\" + 0.005*\"algorithm\" + '\n",
      "  '0.005*\"data\" + 0.004*\"set\" + 0.004*\"time\" + 0.004*\"one\" + 0.004*\"figure\" + '\n",
      "  '0.004*\"using\"'),\n",
      " (3,\n",
      "  '0.007*\"model\" + 0.007*\"learning\" + 0.005*\"data\" + 0.005*\"time\" + '\n",
      "  '0.005*\"set\" + 0.004*\"using\" + 0.004*\"algorithm\" + 0.004*\"neural\" + '\n",
      "  '0.004*\"two\" + 0.003*\"figure\"')]\n"
     ]
    },
    {
     "name": "stderr",
     "output_type": "stream",
     "text": [
      "/Users/rhythmsyed/miniconda3/envs/entitylink/lib/python3.7/site-packages/ipykernel/ipkernel.py:283: DeprecationWarning: `should_run_async` will not call `transform_cell` automatically in the future. Please pass the result to `transformed_cell` argument and any exception that happen during thetransform in `preprocessing_exc_tuple` in IPython 7.17 and above.\n",
      "  and should_run_async(code)\n"
     ]
    }
   ],
   "source": [
    "pprint(lda_model.print_topics())"
   ]
  },
  {
   "cell_type": "code",
   "execution_count": 14,
   "metadata": {},
   "outputs": [
    {
     "name": "stderr",
     "output_type": "stream",
     "text": [
      "/Users/rhythmsyed/miniconda3/envs/entitylink/lib/python3.7/site-packages/ipykernel/ipkernel.py:283: DeprecationWarning: `should_run_async` will not call `transform_cell` automatically in the future. Please pass the result to `transformed_cell` argument and any exception that happen during thetransform in `preprocessing_exc_tuple` in IPython 7.17 and above.\n",
      "  and should_run_async(code)\n"
     ]
    }
   ],
   "source": [
    "import pyLDAvis.gensim\n",
    "import pickle \n",
    "import pyLDAvis\n",
    "import os"
   ]
  },
  {
   "cell_type": "code",
   "execution_count": 15,
   "metadata": {},
   "outputs": [
    {
     "name": "stderr",
     "output_type": "stream",
     "text": [
      "/Users/rhythmsyed/miniconda3/envs/entitylink/lib/python3.7/site-packages/ipykernel/ipkernel.py:283: DeprecationWarning: `should_run_async` will not call `transform_cell` automatically in the future. Please pass the result to `transformed_cell` argument and any exception that happen during thetransform in `preprocessing_exc_tuple` in IPython 7.17 and above.\n",
      "  and should_run_async(code)\n"
     ]
    }
   ],
   "source": [
    "# Visualize the topics\n",
    "pyLDAvis.enable_notebook()\n",
    "LDAvis_data_filepath = os.path.join('./data/LDA_results/lda_' + str(num_topics))"
   ]
  },
  {
   "cell_type": "code",
   "execution_count": 16,
   "metadata": {},
   "outputs": [
    {
     "name": "stderr",
     "output_type": "stream",
     "text": [
      "/Users/rhythmsyed/miniconda3/envs/entitylink/lib/python3.7/site-packages/ipykernel/ipkernel.py:283: DeprecationWarning: `should_run_async` will not call `transform_cell` automatically in the future. Please pass the result to `transformed_cell` argument and any exception that happen during thetransform in `preprocessing_exc_tuple` in IPython 7.17 and above.\n",
      "  and should_run_async(code)\n"
     ]
    }
   ],
   "source": [
    "# # this is a bit time consuming - make the if statement True\n",
    "# # if you want to execute visualization prep yourself\n",
    "LDAvis_prepared = pyLDAvis.gensim.prepare(lda_model, corpus, id2word)\n",
    "with open(LDAvis_data_filepath, 'wb') as f:\n",
    "    pickle.dump(LDAvis_prepared, f)"
   ]
  },
  {
   "cell_type": "code",
   "execution_count": 17,
   "metadata": {},
   "outputs": [
    {
     "name": "stderr",
     "output_type": "stream",
     "text": [
      "/Users/rhythmsyed/miniconda3/envs/entitylink/lib/python3.7/site-packages/ipykernel/ipkernel.py:283: DeprecationWarning: `should_run_async` will not call `transform_cell` automatically in the future. Please pass the result to `transformed_cell` argument and any exception that happen during thetransform in `preprocessing_exc_tuple` in IPython 7.17 and above.\n",
      "  and should_run_async(code)\n"
     ]
    }
   ],
   "source": [
    "# load the pre-prepared pyLDAvis data from disk\n",
    "with open(LDAvis_data_filepath, 'rb') as f:\n",
    "    LDAvis_prepared = pickle.load(f)\n",
    "    \n",
    "pyLDAvis.save_html(LDAvis_prepared, './data/LDA_results/lda_' + str(num_topics) +'.html')"
   ]
  },
  {
   "cell_type": "code",
   "execution_count": 18,
   "metadata": {},
   "outputs": [
    {
     "name": "stderr",
     "output_type": "stream",
     "text": [
      "/Users/rhythmsyed/miniconda3/envs/entitylink/lib/python3.7/site-packages/ipykernel/ipkernel.py:283: DeprecationWarning: `should_run_async` will not call `transform_cell` automatically in the future. Please pass the result to `transformed_cell` argument and any exception that happen during thetransform in `preprocessing_exc_tuple` in IPython 7.17 and above.\n",
      "  and should_run_async(code)\n"
     ]
    },
    {
     "data": {
      "text/html": [
       "\n",
       "<link rel=\"stylesheet\" type=\"text/css\" href=\"https://cdn.rawgit.com/bmabey/pyLDAvis/files/ldavis.v1.0.0.css\">\n",
       "\n",
       "\n",
       "<div id=\"ldavis_el100351405971705481767004292120\"></div>\n",
       "<script type=\"text/javascript\">\n",
       "\n",
       "var ldavis_el100351405971705481767004292120_data = {\"mdsDat\": {\"x\": [-0.005063797633413613, 0.006270873378334828, -0.0011224635431830365, -8.461220173818267e-05], \"y\": [0.004030955439451381, 0.0023817409513563637, -0.004753816014888841, -0.0016588803759189045], \"topics\": [1, 2, 3, 4], \"cluster\": [1, 1, 1, 1], \"Freq\": [27.846862051404, 27.56620228711944, 24.546525069554274, 20.04041059192228]}, \"tinfo\": {\"Term\": [\"method\", \"function\", \"time\", \"probability\", \"xi\", \"kernel\", \"figure\", \"different\", \"parameters\", \"policy\", \"algorithms\", \"networks\", \"distribution\", \"network\", \"algorithm\", \"model\", \"neural\", \"loss\", \"number\", \"one\", \"methods\", \"learning\", \"result\", \"test\", \"set\", \"non\", \"gaussian\", \"log\", \"two\", \"max\", \"lftc\", \"bxpca\", \"weri\", \"epca\", \"salp\", \"lakota\", \"lbxy\", \"dgd\", \"zxy\", \"zxyi\", \"pgds\", \"latvian\", \"aggregative\", \"bnbp\", \"gdelt\", \"srsc\", \"xca\", \"paiute\", \"maranungku\", \"warao\", \"selc\", \"mub\", \"tvi\", \"grift\", \"laundry\", \"psyreview\", \"zlow\", \"riskemp\", \"gctm\", \"sensetimecom\", \"noto\", \"iob\", \"scsk\", \"frag\", \"alphamax\", \"mdn\", \"sca\", \"poem\", \"distributions\", \"topic\", \"distribution\", \"emb\", \"function\", \"loss\", \"prior\", \"log\", \"data\", \"information\", \"problem\", \"study\", \"estimation\", \"spike\", \"posterior\", \"corresponding\", \"learning\", \"matrices\", \"inverse\", \"scale\", \"approach\", \"db\", \"components\", \"algorithm\", \"image\", \"sparse\", \"words\", \"inference\", \"given\", \"pattern\", \"classification\", \"high\", \"show\", \"bound\", \"point\", \"linear\", \"model\", \"matrix\", \"using\", \"number\", \"models\", \"one\", \"set\", \"results\", \"error\", \"based\", \"first\", \"algorithms\", \"section\", \"probability\", \"used\", \"performance\", \"two\", \"figure\", \"also\", \"time\", \"training\", \"twinn\", \"okm\", \"nnfa\", \"prong\", \"gae\", \"flax\", \"tug\", \"citn\", \"tjy\", \"sle\", \"pavcom\", \"commnet\", \"tky\", \"transamps\", \"ypre\", \"gxyy\", \"epsnon\", \"lefto\", \"oftwinn\", \"recirculation\", \"moopenn\", \"matriosome\", \"handelman\", \"farotimi\", \"xclass\", \"gblm\", \"rittweger\", \"kneller\", \"iagents\", \"misadjustment\", \"dualsgd\", \"mntn\", \"mucb\", \"orf\", \"lnm\", \"volterra\", \"analog\", \"chip\", \"tpost\", \"neural\", \"plasticity\", \"networks\", \"boundary\", \"time\", \"node\", \"order\", \"fig\", \"defined\", \"input\", \"vector\", \"neurons\", \"postsynaptic\", \"pp\", \"model\", \"synaptic\", \"ms\", \"kernel\", \"new\", \"rate\", \"feature\", \"processing\", \"training\", \"space\", \"product\", \"learning\", \"models\", \"net\", \"network\", \"case\", \"two\", \"set\", \"data\", \"figure\", \"based\", \"results\", \"non\", \"state\", \"using\", \"also\", \"one\", \"used\", \"error\", \"algorithm\", \"problem\", \"function\", \"given\", \"first\", \"number\", \"linear\", \"matrix\", \"kims\", \"aslds\", \"bisubmodular\", \"wsat\", \"pkkg\", \"preinforce\", \"ssptable\", \"predpd\", \"kkgi\", \"ypcr\", \"adfm\", \"knet\", \"bitam\", \"regretp\", \"nosde\", \"mesot\", \"epitope\", \"silk\", \"wpdl\", \"bouchet\", \"carlile\", \"kme\", \"tany\", \"rolr\", \"predp\", \"infoboost\", \"cvn\", \"proxht\", \"adfs\", \"kpl\", \"snds\", \"socp\", \"cma\", \"adahedge\", \"playlist\", \"kbr\", \"ybc\", \"summable\", \"st\", \"test\", \"ifgt\", \"xi\", \"target\", \"gaussian\", \"proof\", \"number\", \"xt\", \"svm\", \"updates\", \"pf\", \"ln\", \"covariance\", \"analysis\", \"density\", \"method\", \"prediction\", \"using\", \"variable\", \"also\", \"see\", \"probability\", \"network\", \"methods\", \"algorithm\", \"features\", \"optimization\", \"better\", \"kernel\", \"set\", \"two\", \"step\", \"one\", \"used\", \"non\", \"data\", \"training\", \"first\", \"model\", \"figure\", \"results\", \"learning\", \"given\", \"distribution\", \"matrix\", \"time\", \"problem\", \"models\", \"function\", \"neural\", \"error\", \"based\", \"leftloc\", \"architecure\", \"consummatory\", \"elicitable\", \"satiation\", \"kupfermann\", \"variantile\", \"favg\", \"microstimuli\", \"microstimulus\", \"fissler\", \"ziegel\", \"avalanche\", \"rightrsc\", \"trailblazer\", \"ludvig\", \"stel\", \"sboss\", \"infarct\", \"argi\", \"yllvt\", \"leftrsc\", \"rightloc\", \"viji\", \"adaptivestream\", \"chiel\", \"rollin\", \"expectile\", \"mcechron\", \"bdu\", \"aaaaa\", \"nsdbn\", \"elici\", \"elicitation\", \"cbmpi\", \"policy\", \"sondik\", \"rpr\", \"spammer\", \"kgr\", \"lrta\", \"parameters\", \"different\", \"method\", \"bopp\", \"vectors\", \"algorithms\", \"interest\", \"sampling\", \"figure\", \"anomaly\", \"probability\", \"local\", \"function\", \"active\", \"result\", \"transition\", \"probabilistic\", \"exploration\", \"time\", \"class\", \"action\", \"tree\", \"classifier\", \"one\", \"model\", \"simply\", \"computational\", \"xi\", \"since\", \"set\", \"methods\", \"algorithm\", \"learning\", \"optimal\", \"shown\", \"matrix\", \"theorem\", \"large\", \"two\", \"using\", \"network\", \"case\", \"data\", \"used\", \"problem\", \"distribution\", \"based\", \"log\", \"also\", \"training\", \"performance\", \"number\", \"models\", \"given\", \"results\"], \"Freq\": [31786.0, 60703.0, 53261.0, 29622.0, 26947.0, 21803.0, 47668.0, 31239.0, 26664.0, 12621.0, 28486.0, 26532.0, 38697.0, 38613.0, 70285.0, 91487.0, 37383.0, 18125.0, 46875.0, 55594.0, 29544.0, 89930.0, 15404.0, 20031.0, 66281.0, 23692.0, 22560.0, 35202.0, 49706.0, 13577.0, 9.060464582567379, 20.382773336499675, 5.452603851409183, 26.291646625474563, 43.62067755720897, 7.135687879567532, 10.967762180592837, 11.664572971840537, 14.107002154425087, 5.11898507841416, 23.16245724475935, 15.418748710802952, 4.920124998922675, 46.80345413725001, 5.563353858953024, 19.537881763273422, 25.64161376389967, 4.2833902798752215, 4.848663586487446, 4.2288687096749475, 19.3123281781799, 10.679728829081284, 12.004313286874156, 24.68536587173693, 5.993606503395218, 4.780920021873031, 4.7759047826124945, 4.75954922149842, 29.30748930009068, 2.9674991588907225, 19.686888774504254, 29.90536022513954, 13.36415001085205, 39.28061440320316, 22.25428132127648, 46.99631671471134, 47.891067582144615, 36.30843955858854, 5513.028323736945, 2380.382343573309, 14740.675251893184, 51.366314218864275, 22337.623900652896, 7016.891087293956, 5860.512421058039, 12821.101643154778, 28125.627287478943, 12645.874133497913, 15984.355770285478, 2704.513709150197, 5347.882724665195, 3159.6846560637787, 4513.8902893229715, 5048.062848259983, 28316.16451036891, 3142.0658331901423, 1779.9207811674462, 4085.248479195906, 9286.662738930752, 795.2689952472441, 3512.51180308936, 21835.9549349526, 8752.46173603937, 5078.672956879073, 3278.8025424219286, 5882.957643533943, 12859.616719023674, 3594.3901778082036, 6665.341956562995, 5866.368442767198, 7610.686588307375, 7085.429737826314, 6779.949514501487, 10052.642736896463, 23873.811256699293, 11023.415283021537, 15591.868433021109, 12920.580940672526, 11987.35343348973, 14650.917901813875, 16336.920546352649, 11242.725036995702, 9540.054235196156, 10515.135549995266, 9832.947518299286, 8557.254800502667, 7801.788276567688, 8621.34785713221, 10307.375022321303, 8319.750723991883, 11452.173566237618, 10435.689623788057, 9600.710477477001, 10645.158750376242, 9323.014112615509, 26.186390594895737, 9.042120210555005, 8.536087601015314, 24.843959052143227, 8.135220940782663, 4.697512909901557, 41.42654884700611, 4.618921717937918, 3.316135888166871, 5.908657452122332, 4.568802125721983, 16.960691501691407, 2.6151348078946164, 3.282681106586712, 5.898264879679249, 5.099297886489405, 8.264842455844184, 3.7998252492058593, 3.157351073015761, 20.177628126399625, 9.409178416517268, 2.5158540005985377, 6.826684611150825, 3.7006629649292946, 4.329534491215786, 17.789288775667725, 3.0713668891869035, 4.906439599596272, 3.6542476911652564, 13.375719093155972, 29.547202787084334, 16.82563215049457, 22.972215082450123, 50.975138779996776, 48.08274852461146, 59.8579593114039, 1308.8658843098724, 1101.0069258296744, 45.574968312102236, 14870.331644245718, 621.6406985647565, 10437.38593228588, 1393.113184401561, 19444.009367033068, 4364.014271246914, 8963.4204628837, 5062.524456570111, 6240.777836836805, 11320.247633807121, 9181.168451129037, 5013.063772695206, 470.7771655632847, 3146.8499619323266, 29789.54043708025, 2028.4897792930149, 1657.5348929663676, 7835.762796025093, 7881.2193209651505, 6599.802048102423, 7589.09388631689, 5519.606383943314, 13475.35704539266, 9576.680123765202, 2774.129662903621, 27506.402801161756, 13877.551702012473, 1703.1039256456525, 12169.502169176103, 9629.633280891478, 14810.301301261996, 18889.386749408928, 22854.9119587438, 14094.955006353379, 11410.827651069714, 12093.879491484638, 7611.224049392189, 9315.812664545903, 15592.681333528017, 11312.487876724845, 14087.437984415068, 11033.334693640367, 9471.90010058065, 15402.270177196031, 11568.85017167215, 13297.226345464156, 10526.365839479458, 9613.860351236624, 10874.40531454008, 9235.420726745813, 9237.46649853915, 7.880111194971716, 4.587320767885196, 31.991759677707368, 28.45399855786335, 4.20494289503123, 5.288460569536692, 17.350999245580663, 6.772261557471664, 2.79979029045892, 21.855900697205076, 2.7424290502164896, 3.8003822693012688, 40.01438659562472, 10.135540672816294, 7.616598024107944, 2.6860465850005695, 11.624407565568225, 17.318173871001708, 7.820257529559342, 2.655646723432099, 7.929256381918508, 11.987714839738747, 13.735083034855538, 28.11549817526401, 2.626406954066712, 17.222951746792262, 8.45838591846256, 2.6389362031552563, 2.609656539789436, 19.23388968204328, 14.984362180876726, 87.10776726437203, 64.11822514176757, 29.35675630532501, 35.06870245451162, 33.958114273299266, 19.713912870244137, 49.00178469050307, 3554.7242818599857, 7179.7303604253575, 34.51292879158277, 9395.555722419087, 3881.1049397389165, 7711.678573164105, 3692.321929845763, 15122.356698600403, 4599.020221764723, 2502.8291064755826, 1531.6490600851898, 354.3114092600604, 1907.0328772034645, 2943.574173177832, 7427.4760714098375, 3403.0981572732435, 9670.736320512133, 4097.689851412815, 16829.36312114192, 3953.4483300504535, 11695.589553295966, 6962.48534109019, 8777.080234317133, 11123.387309645592, 8746.724792290732, 18892.964284580758, 6909.655978242534, 6173.0644478278555, 3828.4943159067175, 6606.789332234637, 17546.610946567205, 13554.227936346573, 5876.073927189724, 14783.248974804364, 10933.452677742209, 6788.570099889916, 18527.063192844016, 10405.619870985964, 9087.831427563986, 19136.637818637173, 11458.040711672333, 9820.118641028268, 16705.823129368855, 9674.601862559983, 9190.428671623993, 8892.878767021433, 10997.720448394173, 9799.823464550691, 9273.405977036748, 10836.505471097254, 8571.328955975954, 8152.11433598185, 8119.986502723489, 3.8591495570842076, 2.2096609319578127, 8.259774930444104, 35.02036109769812, 9.024758698910228, 6.314576143465857, 3.1040951326511927, 3.6353720798483398, 23.239516488291095, 11.893270330148729, 4.054653788121876, 4.959220855277173, 19.296485015692372, 3.490415857970852, 21.57113164145318, 5.488716593478412, 34.86482239884495, 4.955927273008425, 3.9132372365980985, 10.189495672997385, 1.4692296198842927, 3.404055828547555, 3.384018261327144, 5.283269921282666, 3.8571201920362386, 11.99293669388027, 6.687968972456666, 1.9031778678264353, 2.4089628122449795, 2.35753988067069, 6.7007441838812625, 7.600589737484907, 20.706103760598488, 76.98328480149824, 27.00168631556851, 4394.384251407841, 20.224942962098698, 42.89802258188856, 48.971187003330115, 18.332296733723396, 26.416909336175202, 7594.127533306069, 8762.71569079638, 8723.969994501398, 70.76001629874366, 3505.519183999915, 7668.672640779433, 1276.7202270734542, 3799.4735935308668, 11679.859831172937, 181.38646779852522, 7556.852861971077, 4547.314730891428, 14231.693557601431, 1993.8280425147311, 4100.791951188057, 1601.2392565249197, 2226.6232128952493, 921.1209425127644, 12174.335271694135, 4958.8304341177545, 2853.827950879922, 3194.4591682463692, 2381.864874468685, 12072.679258912112, 18687.147226698016, 1445.382167942372, 2996.2046733149145, 6253.092757365642, 5216.791319291822, 13508.155390189244, 6719.841777335806, 14154.045462736462, 17402.427154372206, 5452.444717992511, 4787.8594287573, 7949.610879359237, 4956.525428356314, 5715.019849886083, 9889.623160732768, 11116.810204549078, 7957.848336788732, 6472.9785190431885, 13788.401174121376, 8039.586219858201, 8669.148197695984, 7632.621941268155, 7424.673787135392, 7085.933585060599, 7634.116965675667, 7583.046847211107, 6069.993913545472, 7958.453969905656, 7528.527161098051, 7327.695549022201, 7235.3004995199535], \"Total\": [31786.0, 60703.0, 53261.0, 29622.0, 26947.0, 21803.0, 47668.0, 31239.0, 26664.0, 12621.0, 28486.0, 26532.0, 38697.0, 38613.0, 70285.0, 91487.0, 37383.0, 18125.0, 46875.0, 55594.0, 29544.0, 89930.0, 15404.0, 20031.0, 66281.0, 23692.0, 22560.0, 35202.0, 49706.0, 13577.0, 12.944368885778745, 29.464534441563046, 7.946524395277604, 39.26475596454107, 65.51480157595826, 10.825091320565392, 16.64339990139528, 17.82559337626415, 21.665524562787912, 7.888843623832967, 36.67383242474297, 24.65047610254521, 7.888569722922522, 75.32376457607543, 8.95529970124939, 31.472491156202366, 41.440265309591425, 6.937011731340645, 7.89329637510665, 6.910699065355683, 31.66305639707564, 17.753998224522384, 20.014748785045118, 41.165973095147315, 9.99591799434978, 7.990867203266652, 7.985328536120811, 7.972761999845712, 49.24730690178062, 5.009260730293364, 33.44075916990135, 51.40990267475294, 22.718045639261184, 68.32597799685293, 38.47020743661483, 83.45653316410915, 85.56199622634685, 64.6247682604977, 13217.638255211346, 5445.86907680515, 38697.063643085356, 94.11498522732914, 60703.049274815734, 18125.30227813083, 15160.202263505282, 35202.92766529608, 83296.00361318814, 35096.881240635914, 46022.1776042043, 6696.4247245765755, 14056.281631563215, 7973.578393630985, 11755.140657801981, 13384.898213118873, 89930.81759527174, 8189.2972272760835, 4386.04530986851, 10935.679721268962, 27015.595122307033, 1818.8799787527003, 9330.89352321898, 70285.23485946585, 25736.551141083706, 14086.825126044158, 8672.789917429314, 16648.521645384455, 40388.27997008532, 9702.70381092019, 19545.199885345704, 16985.652017633653, 22860.85756842946, 21245.971315973595, 20355.843989900408, 32461.124665893418, 91487.13673911472, 37103.37142794136, 59130.72309224012, 46875.79692371866, 42666.838273637, 55594.28411994542, 66281.07363251803, 40392.02366902856, 32656.7230523451, 37470.62349092386, 34838.60664801939, 28486.921042229198, 24978.10114063849, 29622.085470600847, 40313.74861356208, 27920.4784167625, 49706.32596457895, 47668.545172986705, 40242.90487317348, 53261.22383749762, 40787.03787620524, 33.18650910940299, 12.663944956537463, 12.606379068090236, 37.73937699475903, 12.61927070227729, 7.317569606159706, 65.04615767470221, 7.3248569950147076, 5.268073657543326, 9.418633575658067, 7.322804867735725, 27.191782531433773, 4.196369480325646, 5.2684624166049066, 9.471709381237972, 8.326950994391023, 13.585034830303684, 6.264932801285109, 5.212343938259986, 33.33339678789208, 15.579194246715101, 4.1881234588792315, 11.400188262299517, 6.231930949663752, 7.292959475161182, 30.115578461208344, 5.212670318781935, 8.368804760066395, 6.254609864405182, 22.952177098408384, 51.748733201306116, 29.2590322612296, 40.24923426431499, 91.83242462414468, 86.92229826577623, 109.51205524346082, 2732.5772628023224, 2403.689077313114, 84.22534769115515, 37383.748281578206, 1318.662376734589, 26532.93488764031, 3203.994198853927, 53261.22383749762, 10856.68884931628, 23773.314975027002, 12917.86195293338, 16406.09817013938, 31337.939330366127, 25022.669663316894, 13058.459722823656, 1030.2213926631002, 7948.141367394962, 91487.13673911472, 4990.309135047372, 4010.980535424392, 21803.445703781053, 22147.573739209154, 18343.47000568757, 21579.496186761724, 15230.84311445413, 40787.03787620524, 28049.40325759968, 7190.423003567575, 89930.81759527174, 42666.838273637, 4216.40792240305, 38613.967395442574, 30026.393390472025, 49706.32596457895, 66281.07363251803, 83296.00361318814, 47668.545172986705, 37470.62349092386, 40392.02366902856, 23692.80495766325, 30670.60840106669, 59130.72309224012, 40242.90487317348, 55594.28411994542, 40313.74861356208, 32656.7230523451, 70285.23485946585, 46022.1776042043, 60703.049274815734, 40388.27997008532, 34838.60664801939, 46875.79692371866, 32461.124665893418, 37103.37142794136, 11.380404171878178, 6.6756456966499265, 48.13384013452233, 45.83345895334518, 6.8125387876624455, 8.695266323311527, 28.88254616280362, 11.599657717856562, 4.881116076092842, 38.589538724564164, 4.876344686486052, 6.775650006041067, 71.49730746099524, 18.278442032470515, 13.754561232083132, 4.879197652486644, 21.295594722326882, 31.765998564007372, 14.344830813942359, 4.877558720227253, 14.569356864142081, 22.048527216313452, 25.268272250485495, 51.7887875669288, 4.8425459221179885, 31.79138107997818, 15.689934025121435, 4.895577050110775, 4.857566759481475, 35.81878970396693, 27.992573516480913, 167.02647838990148, 123.46131606732246, 56.407366211055134, 68.00640515439275, 66.06988357069079, 37.702360367937914, 98.02173551200285, 9417.560027512394, 20031.593000571695, 68.9059139658697, 26947.703550751376, 10625.317800150471, 22560.45418492164, 10274.072820349196, 46875.79692371866, 13084.130765976284, 6897.18249045582, 4052.5338122909966, 837.4013988596572, 5221.805520453715, 8453.10167834095, 23400.648284775896, 10009.761285817125, 31786.356471710962, 12451.46146477639, 59130.72309224012, 12065.03924298534, 40242.90487317348, 22800.74062377943, 29622.085470600847, 38613.967395442574, 29544.876854078986, 70285.23485946585, 22738.72617501636, 20167.363453311682, 11797.823245215262, 21803.445703781053, 66281.07363251803, 49706.32596457895, 19224.841902988977, 55594.28411994542, 40313.74861356208, 23692.80495766325, 83296.00361318814, 40787.03787620524, 34838.60664801939, 91487.13673911472, 47668.545172986705, 40392.02366902856, 89930.81759527174, 40388.27997008532, 38697.063643085356, 37103.37142794136, 53261.22383749762, 46022.1776042043, 42666.838273637, 60703.049274815734, 37383.748281578206, 32656.7230523451, 37470.62349092386, 6.732647401317315, 3.8557101974085533, 14.450662890162969, 61.61446566576238, 16.348941799540903, 11.509716522387412, 5.774353519086702, 6.805832755808124, 43.62530718122838, 22.355744270334156, 7.645502502864997, 9.53023254700372, 37.34690618929676, 6.755787040113055, 41.86182282899955, 10.694470794856013, 68.18733150863997, 9.75101093811855, 7.723104602930125, 20.219129538569177, 2.9237580572226634, 6.791031749623513, 6.8015233977885625, 10.644811346722943, 7.791577441079436, 24.236705014583954, 13.521270832092242, 3.861139240017575, 4.909782432470732, 4.824721856457748, 13.771384344915411, 15.72513148064552, 44.12451897624862, 175.37841831515397, 58.938756018493066, 12621.299685548363, 43.83617678614597, 96.73285906749246, 111.76554870414665, 40.006626162731614, 59.66752654790593, 26664.77239565421, 31239.71980911767, 31786.356471710962, 172.62228239109035, 12061.043723029561, 28486.921042229198, 4082.6601689674567, 13670.282398050862, 47668.545172986705, 491.2169221625951, 29622.085470600847, 17082.352019678314, 60703.049274815734, 6903.157677731663, 15404.625927400359, 5458.642177140955, 7885.119769798419, 2964.04626560488, 53261.22383749762, 19534.59862307265, 10529.543436481927, 11977.823468240958, 8709.076592197922, 55594.28411994542, 91487.13673911472, 5001.850690116997, 11560.33224580759, 26947.703550751376, 21918.01648795802, 66281.07363251803, 29544.876854078986, 70285.23485946585, 89930.81759527174, 23306.84164332836, 20082.71574827353, 37103.37142794136, 21047.61465284577, 25079.611011937945, 49706.32596457895, 59130.72309224012, 38613.967395442574, 30026.393390472025, 83296.00361318814, 40313.74861356208, 46022.1776042043, 38697.063643085356, 37470.62349092386, 35202.92766529608, 40242.90487317348, 40787.03787620524, 27920.4784167625, 46875.79692371866, 42666.838273637, 40388.27997008532, 40392.02366902856], \"Category\": [\"Default\", \"Default\", \"Default\", \"Default\", \"Default\", \"Default\", \"Default\", \"Default\", \"Default\", \"Default\", \"Default\", \"Default\", \"Default\", \"Default\", \"Default\", \"Default\", \"Default\", \"Default\", \"Default\", \"Default\", \"Default\", \"Default\", \"Default\", \"Default\", \"Default\", \"Default\", \"Default\", \"Default\", \"Default\", \"Default\", \"Topic1\", \"Topic1\", \"Topic1\", \"Topic1\", \"Topic1\", \"Topic1\", \"Topic1\", \"Topic1\", \"Topic1\", \"Topic1\", \"Topic1\", \"Topic1\", \"Topic1\", \"Topic1\", \"Topic1\", \"Topic1\", \"Topic1\", \"Topic1\", \"Topic1\", \"Topic1\", \"Topic1\", \"Topic1\", \"Topic1\", \"Topic1\", \"Topic1\", \"Topic1\", \"Topic1\", \"Topic1\", \"Topic1\", \"Topic1\", \"Topic1\", \"Topic1\", \"Topic1\", \"Topic1\", \"Topic1\", \"Topic1\", \"Topic1\", \"Topic1\", \"Topic1\", \"Topic1\", \"Topic1\", \"Topic1\", \"Topic1\", \"Topic1\", \"Topic1\", \"Topic1\", \"Topic1\", \"Topic1\", \"Topic1\", \"Topic1\", \"Topic1\", \"Topic1\", \"Topic1\", \"Topic1\", \"Topic1\", \"Topic1\", \"Topic1\", \"Topic1\", \"Topic1\", \"Topic1\", \"Topic1\", \"Topic1\", \"Topic1\", \"Topic1\", \"Topic1\", \"Topic1\", \"Topic1\", \"Topic1\", \"Topic1\", \"Topic1\", \"Topic1\", \"Topic1\", \"Topic1\", \"Topic1\", \"Topic1\", \"Topic1\", \"Topic1\", \"Topic1\", \"Topic1\", \"Topic1\", \"Topic1\", \"Topic1\", \"Topic1\", \"Topic1\", \"Topic1\", \"Topic1\", \"Topic1\", \"Topic1\", \"Topic1\", \"Topic1\", \"Topic1\", \"Topic1\", \"Topic1\", \"Topic1\", \"Topic1\", \"Topic2\", \"Topic2\", \"Topic2\", \"Topic2\", \"Topic2\", \"Topic2\", \"Topic2\", \"Topic2\", \"Topic2\", \"Topic2\", \"Topic2\", \"Topic2\", \"Topic2\", \"Topic2\", \"Topic2\", \"Topic2\", \"Topic2\", \"Topic2\", \"Topic2\", \"Topic2\", \"Topic2\", \"Topic2\", \"Topic2\", \"Topic2\", \"Topic2\", \"Topic2\", \"Topic2\", \"Topic2\", \"Topic2\", \"Topic2\", \"Topic2\", \"Topic2\", \"Topic2\", \"Topic2\", \"Topic2\", \"Topic2\", \"Topic2\", \"Topic2\", \"Topic2\", \"Topic2\", \"Topic2\", \"Topic2\", \"Topic2\", \"Topic2\", \"Topic2\", \"Topic2\", \"Topic2\", \"Topic2\", \"Topic2\", \"Topic2\", \"Topic2\", \"Topic2\", \"Topic2\", \"Topic2\", \"Topic2\", \"Topic2\", \"Topic2\", \"Topic2\", \"Topic2\", \"Topic2\", \"Topic2\", \"Topic2\", \"Topic2\", \"Topic2\", \"Topic2\", \"Topic2\", \"Topic2\", \"Topic2\", \"Topic2\", \"Topic2\", \"Topic2\", \"Topic2\", \"Topic2\", \"Topic2\", \"Topic2\", \"Topic2\", \"Topic2\", \"Topic2\", \"Topic2\", \"Topic2\", \"Topic2\", \"Topic2\", \"Topic2\", \"Topic2\", \"Topic2\", \"Topic2\", \"Topic2\", \"Topic2\", \"Topic2\", \"Topic2\", \"Topic3\", \"Topic3\", \"Topic3\", \"Topic3\", \"Topic3\", \"Topic3\", \"Topic3\", \"Topic3\", \"Topic3\", \"Topic3\", \"Topic3\", \"Topic3\", \"Topic3\", \"Topic3\", \"Topic3\", \"Topic3\", \"Topic3\", \"Topic3\", \"Topic3\", \"Topic3\", \"Topic3\", \"Topic3\", \"Topic3\", \"Topic3\", \"Topic3\", \"Topic3\", \"Topic3\", \"Topic3\", \"Topic3\", \"Topic3\", \"Topic3\", \"Topic3\", \"Topic3\", \"Topic3\", \"Topic3\", \"Topic3\", \"Topic3\", \"Topic3\", \"Topic3\", \"Topic3\", \"Topic3\", \"Topic3\", \"Topic3\", \"Topic3\", \"Topic3\", \"Topic3\", \"Topic3\", \"Topic3\", \"Topic3\", \"Topic3\", \"Topic3\", \"Topic3\", \"Topic3\", \"Topic3\", \"Topic3\", \"Topic3\", \"Topic3\", \"Topic3\", \"Topic3\", \"Topic3\", \"Topic3\", \"Topic3\", \"Topic3\", \"Topic3\", \"Topic3\", \"Topic3\", \"Topic3\", \"Topic3\", \"Topic3\", \"Topic3\", \"Topic3\", \"Topic3\", \"Topic3\", \"Topic3\", \"Topic3\", \"Topic3\", \"Topic3\", \"Topic3\", \"Topic3\", \"Topic3\", \"Topic3\", \"Topic3\", \"Topic3\", \"Topic3\", \"Topic3\", \"Topic3\", \"Topic3\", \"Topic3\", \"Topic3\", \"Topic3\", \"Topic3\", \"Topic4\", \"Topic4\", \"Topic4\", \"Topic4\", \"Topic4\", \"Topic4\", \"Topic4\", \"Topic4\", \"Topic4\", \"Topic4\", \"Topic4\", \"Topic4\", \"Topic4\", \"Topic4\", \"Topic4\", \"Topic4\", \"Topic4\", \"Topic4\", \"Topic4\", \"Topic4\", \"Topic4\", \"Topic4\", \"Topic4\", \"Topic4\", \"Topic4\", \"Topic4\", \"Topic4\", \"Topic4\", \"Topic4\", \"Topic4\", \"Topic4\", \"Topic4\", \"Topic4\", \"Topic4\", \"Topic4\", \"Topic4\", \"Topic4\", \"Topic4\", \"Topic4\", \"Topic4\", \"Topic4\", \"Topic4\", \"Topic4\", \"Topic4\", \"Topic4\", \"Topic4\", \"Topic4\", \"Topic4\", \"Topic4\", \"Topic4\", \"Topic4\", \"Topic4\", \"Topic4\", \"Topic4\", \"Topic4\", \"Topic4\", \"Topic4\", \"Topic4\", \"Topic4\", \"Topic4\", \"Topic4\", \"Topic4\", \"Topic4\", \"Topic4\", \"Topic4\", \"Topic4\", \"Topic4\", \"Topic4\", \"Topic4\", \"Topic4\", \"Topic4\", \"Topic4\", \"Topic4\", \"Topic4\", \"Topic4\", \"Topic4\", \"Topic4\", \"Topic4\", \"Topic4\", \"Topic4\", \"Topic4\", \"Topic4\", \"Topic4\", \"Topic4\", \"Topic4\", \"Topic4\", \"Topic4\", \"Topic4\", \"Topic4\", \"Topic4\", \"Topic4\", \"Topic4\", \"Topic4\", \"Topic4\", \"Topic4\", \"Topic4\"], \"logprob\": [30.0, 29.0, 28.0, 27.0, 26.0, 25.0, 24.0, 23.0, 22.0, 21.0, 20.0, 19.0, 18.0, 17.0, 16.0, 15.0, 14.0, 13.0, 12.0, 11.0, 10.0, 9.0, 8.0, 7.0, 6.0, 5.0, 4.0, 3.0, 2.0, 1.0, -13.0497, -12.2389, -13.5575, -11.9843, -11.4781, -13.2885, -12.8586, -12.797, -12.6069, -13.6206, -12.1111, -12.518, -13.6603, -11.4076, -13.5374, -12.2812, -12.0094, -13.7988, -13.6749, -13.8117, -12.2929, -12.8852, -12.7683, -12.0474, -13.4629, -13.689, -13.69, -13.6934, -11.8758, -14.1659, -12.2736, -11.8556, -12.661, -11.5829, -12.1511, -11.4035, -11.3847, -11.6615, -6.6387, -7.4786, -5.6552, -11.3146, -5.2396, -6.3975, -6.5776, -5.7947, -5.0092, -5.8085, -5.5742, -7.3509, -6.6691, -7.1954, -6.8387, -6.7268, -5.0024, -7.201, -7.7693, -6.9385, -6.1173, -8.5749, -7.0895, -5.2623, -6.1765, -6.7208, -7.1584, -6.5738, -5.7917, -7.0665, -6.4489, -6.5766, -6.3163, -6.3878, -6.4319, -6.038, -5.1731, -5.9458, -5.5991, -5.787, -5.862, -5.6613, -5.5524, -5.9261, -6.0903, -5.993, -6.0601, -6.1991, -6.2915, -6.1916, -6.013, -6.2272, -5.9077, -6.0006, -6.084, -5.9807, -6.1134, -11.9782, -13.0416, -13.0992, -12.0308, -13.1473, -13.6964, -11.5195, -13.7133, -14.0447, -13.467, -13.7242, -12.4126, -14.2821, -14.0548, -13.4688, -13.6144, -13.1315, -13.9085, -14.0937, -12.2389, -13.0018, -14.3209, -13.3226, -13.935, -13.778, -12.3649, -14.1213, -13.6529, -13.9476, -12.65, -11.8575, -12.4206, -12.1092, -11.3121, -11.3705, -11.1515, -8.0665, -8.2395, -11.4241, -5.6363, -8.8111, -5.9903, -8.0042, -5.3682, -6.8623, -6.1426, -6.7138, -6.5046, -5.9091, -6.1186, -6.7237, -9.0891, -7.1893, -4.9416, -7.6284, -7.8304, -6.277, -6.2712, -6.4487, -6.309, -6.6274, -5.7348, -6.0764, -7.3154, -5.0213, -5.7054, -7.8033, -5.8368, -6.0709, -5.6404, -5.3971, -5.2065, -5.6899, -5.9011, -5.843, -6.3061, -6.104, -5.5889, -5.9098, -5.6904, -5.9348, -6.0874, -5.6012, -5.8874, -5.7482, -5.9818, -6.0725, -5.9493, -6.1127, -6.1124, -13.0631, -13.6041, -11.662, -11.7792, -13.6912, -13.4619, -12.2738, -13.2146, -14.0979, -12.043, -14.1186, -13.7923, -11.4382, -12.8114, -13.0971, -14.1394, -12.6743, -12.2757, -13.0707, -14.1508, -13.0569, -12.6436, -12.5075, -11.7911, -14.1618, -12.2812, -12.9923, -14.1571, -14.1682, -12.1708, -12.4204, -10.6603, -10.9667, -11.7479, -11.5701, -11.6023, -12.1461, -11.2356, -6.9514, -6.2484, -11.5861, -5.9795, -6.8636, -6.177, -6.9134, -5.5035, -6.6938, -7.3023, -7.7933, -9.2573, -7.5741, -7.1401, -6.2145, -6.995, -5.9506, -6.8093, -5.3966, -6.8451, -5.7605, -6.2792, -6.0475, -5.8106, -6.051, -5.2809, -6.2868, -6.3995, -6.8772, -6.3316, -5.3548, -5.613, -6.4488, -5.5262, -5.8279, -6.3044, -5.3005, -5.8773, -6.0128, -5.2681, -5.781, -5.9353, -5.4039, -5.9502, -6.0015, -6.0344, -5.822, -5.9373, -5.9925, -5.8368, -6.0713, -6.1214, -6.1254, -13.5742, -14.1318, -12.8132, -11.3687, -12.7247, -13.0818, -13.7919, -13.6339, -11.7788, -12.4487, -13.5248, -13.3234, -11.9647, -13.6746, -11.8533, -13.2219, -11.3731, -13.324, -13.5603, -12.6033, -14.5399, -13.6997, -13.7056, -13.2601, -13.5747, -12.4403, -13.0243, -14.2811, -14.0454, -14.067, -13.0224, -12.8964, -11.8942, -10.581, -11.6287, -6.5365, -11.9177, -11.1658, -11.0334, -12.016, -11.6506, -5.9895, -5.8464, -5.8508, -10.6653, -6.7625, -5.9797, -7.7726, -6.682, -5.559, -9.724, -5.9944, -6.5023, -5.3614, -7.3268, -6.6057, -7.5461, -7.2164, -8.099, -5.5175, -6.4157, -6.9682, -6.8555, -7.149, -5.5259, -5.089, -7.6485, -6.9195, -6.1838, -6.365, -5.4136, -6.1118, -5.3669, -5.1603, -6.3208, -6.4508, -5.9437, -6.4162, -6.2738, -5.7254, -5.6084, -5.9427, -6.1492, -5.393, -5.9325, -5.8571, -5.9844, -6.0121, -6.0588, -5.9842, -5.991, -6.2135, -5.9426, -5.9982, -6.0252, -6.0379], \"loglift\": [30.0, 29.0, 28.0, 27.0, 26.0, 25.0, 24.0, 23.0, 22.0, 21.0, 20.0, 19.0, 18.0, 17.0, 16.0, 15.0, 14.0, 13.0, 12.0, 11.0, 10.0, 9.0, 8.0, 7.0, 6.0, 5.0, 4.0, 3.0, 2.0, 1.0, 0.9217, 0.91, 0.9018, 0.8774, 0.8717, 0.8617, 0.8614, 0.8544, 0.8494, 0.846, 0.8189, 0.8092, 0.8064, 0.8026, 0.8024, 0.8017, 0.7984, 0.7963, 0.7911, 0.7873, 0.784, 0.7702, 0.7672, 0.767, 0.767, 0.7648, 0.7644, 0.7626, 0.7594, 0.7549, 0.7486, 0.7367, 0.7479, 0.7249, 0.7311, 0.7042, 0.6981, 0.7019, 0.404, 0.4509, 0.3133, 0.6729, 0.2787, 0.3295, 0.328, 0.2684, 0.1927, 0.2577, 0.2209, 0.3718, 0.3121, 0.3528, 0.3213, 0.3033, 0.1228, 0.3205, 0.3766, 0.2938, 0.2106, 0.4512, 0.3015, 0.1094, 0.1999, 0.2583, 0.3057, 0.2382, 0.134, 0.2854, 0.2026, 0.2153, 0.1786, 0.1803, 0.1791, 0.1062, -0.065, 0.0648, -0.0546, -0.0102, 0.0089, -0.0551, -0.122, -0.0005, 0.0479, 0.0077, 0.0135, 0.0758, 0.1148, 0.0442, -0.0854, 0.0677, -0.1895, -0.2406, -0.1546, -0.3317, -0.1974, 1.0517, 0.9517, 0.8987, 0.8705, 0.8496, 0.8453, 0.8374, 0.8275, 0.8257, 0.8223, 0.8168, 0.8166, 0.8157, 0.8155, 0.8149, 0.7982, 0.7916, 0.7886, 0.7873, 0.7866, 0.7843, 0.7789, 0.7758, 0.7674, 0.7671, 0.7621, 0.7596, 0.7546, 0.7512, 0.7486, 0.7282, 0.7353, 0.7278, 0.7, 0.6965, 0.6845, 0.5525, 0.5078, 0.6744, 0.3667, 0.5366, 0.3556, 0.4557, 0.2809, 0.3772, 0.3132, 0.3518, 0.322, 0.2703, 0.286, 0.3312, 0.5054, 0.362, 0.1665, 0.3884, 0.4049, 0.2652, 0.2553, 0.2663, 0.2435, 0.2736, 0.1811, 0.2139, 0.3362, 0.104, 0.1654, 0.382, 0.1339, 0.1513, 0.0778, 0.0333, -0.0047, 0.0701, 0.0996, 0.0826, 0.153, 0.097, -0.0444, 0.0196, -0.0842, -0.0072, 0.0509, -0.2295, -0.0922, -0.2299, -0.0561, 0.0011, -0.1725, 0.0316, -0.1019, 1.037, 1.0294, 0.9961, 0.9279, 0.9221, 0.9073, 0.895, 0.8665, 0.8488, 0.8361, 0.829, 0.8264, 0.8242, 0.8149, 0.8136, 0.8077, 0.7992, 0.798, 0.7979, 0.7966, 0.7962, 0.7952, 0.795, 0.7937, 0.7928, 0.7916, 0.7867, 0.7866, 0.7833, 0.7828, 0.7797, 0.7536, 0.7494, 0.7515, 0.7423, 0.739, 0.7562, 0.7113, 0.4303, 0.3786, 0.7132, 0.3509, 0.3975, 0.3311, 0.3812, 0.2733, 0.359, 0.3909, 0.4316, 0.5445, 0.3973, 0.3497, 0.257, 0.3257, 0.2147, 0.2932, 0.148, 0.2889, 0.1689, 0.2183, 0.1882, 0.16, 0.1874, 0.0908, 0.2135, 0.2207, 0.2792, 0.2106, 0.0756, 0.1052, 0.2193, 0.08, 0.0997, 0.1547, -0.0986, 0.0386, 0.0608, -0.16, -0.021, -0.0096, -0.2787, -0.0244, -0.033, -0.0239, -0.1729, -0.1422, -0.1217, -0.3185, -0.0682, 0.0168, -0.1246, 1.0509, 1.0507, 1.0481, 1.0425, 1.0132, 1.0071, 0.9867, 0.9804, 0.9776, 0.9763, 0.9732, 0.9542, 0.9471, 0.947, 0.9444, 0.9404, 0.9366, 0.9306, 0.9276, 0.9221, 0.9193, 0.9168, 0.9093, 0.9069, 0.9043, 0.9039, 0.9035, 0.9, 0.8954, 0.8913, 0.887, 0.8804, 0.8508, 0.7841, 0.8268, 0.5524, 0.8339, 0.7943, 0.7822, 0.827, 0.7926, 0.3515, 0.3362, 0.3145, 0.7156, 0.3718, 0.2951, 0.445, 0.3271, 0.201, 0.6112, 0.2414, 0.2839, 0.1569, 0.3655, 0.2839, 0.381, 0.3429, 0.4387, 0.1315, 0.2364, 0.3019, 0.2858, 0.3109, 0.0803, 0.0191, 0.366, 0.2572, 0.1466, 0.172, 0.0168, 0.1266, 0.0049, -0.035, 0.1547, 0.1736, 0.0668, 0.1613, 0.1285, -0.0072, -0.0639, 0.028, 0.073, -0.1912, -0.0049, -0.0619, -0.0159, -0.0113, 0.0044, -0.0549, -0.075, 0.0814, -0.1658, -0.1273, -0.0995, -0.1122]}, \"token.table\": {\"Topic\": [1, 2, 3, 4, 1, 2, 3, 4, 1, 2, 3, 4, 1, 2, 3, 4, 1, 2, 3, 4, 1, 2, 3, 4, 1, 2, 3, 4, 1, 2, 4, 1, 2, 3, 4, 1, 2, 3, 4, 1, 2, 3, 4, 1, 2, 3, 4, 1, 2, 3, 4, 1, 2, 3, 4, 1, 2, 3, 4, 1, 2, 3, 4, 2, 3, 4, 1, 2, 3, 4, 1, 2, 3, 4, 1, 2, 3, 4, 1, 2, 3, 4, 1, 2, 3, 4, 1, 2, 3, 4, 1, 2, 3, 4, 1, 2, 3, 4, 1, 2, 3, 4, 1, 2, 3, 4, 1, 2, 3, 4, 1, 2, 3, 4, 1, 2, 3, 4, 1, 2, 3, 4, 1, 2, 3, 4, 1, 2, 3, 4, 1, 2, 3, 4, 1, 2, 3, 4, 1, 2, 3, 4, 1, 2, 3, 4, 1, 2, 3, 4, 1, 2, 3, 4, 1, 2, 3, 4, 1, 2, 3, 4, 1, 2, 3, 4, 1, 2, 3, 4, 1, 2, 3, 4, 1, 2, 3, 4, 1, 2, 3, 4, 1, 2, 3, 4, 1, 2, 3, 4, 1, 2, 3, 4, 1, 2, 3, 4, 1, 2, 3, 4, 1, 2, 3, 4, 1, 2, 3, 4, 1, 2, 3, 4, 1, 2, 3, 4, 1, 2, 3, 4, 1, 2, 3, 4, 1, 2, 3, 4, 1, 2, 3, 4, 1, 2, 3, 4, 1, 2, 3, 4, 1, 2, 3, 4, 1, 2, 3, 4, 1, 2, 3, 4, 1, 2, 3, 4, 1, 2, 3, 4, 1, 3, 4, 1, 2, 3, 4, 1, 2, 3, 4, 1, 2, 3, 4, 1, 2, 3, 4, 1, 2, 3, 4, 1, 2, 3, 4, 1, 2, 3, 4, 1, 2, 3, 4, 1, 2, 3, 4, 1, 2, 3, 4, 1, 2, 3, 4, 1, 2, 3, 4, 1, 2, 3, 4, 1, 2, 3, 4, 1, 2, 3, 4, 1, 2, 3, 4, 1, 2, 3, 4, 1, 2, 3, 4, 1, 2, 3, 4, 1, 2, 3, 4, 1, 2, 3, 4, 1, 2, 3, 4, 1, 2, 3, 4, 1, 2, 3, 4, 1, 2, 3, 4, 1, 2, 3, 4, 1, 2, 3, 4, 1, 2, 3, 4, 1, 2, 3, 4, 1, 2, 3, 4, 1, 2, 3, 4, 1, 2, 3, 4, 1, 2, 3, 4, 1, 2, 3, 4, 1, 2, 3, 4, 1, 2, 3, 4, 1, 2, 3, 4, 1, 2, 3, 4, 1, 2, 3, 4, 1, 2, 3, 4, 1, 2, 3, 4, 1, 2, 3, 4, 1, 2, 3, 4, 1, 2, 4, 1, 2, 3, 4, 1, 2, 3, 4, 1, 2, 3, 4, 1, 2, 3, 4, 1, 2, 3, 4, 1, 2, 3, 4, 1, 2, 3, 4, 1, 2, 3, 4, 1, 2, 3, 4, 1, 2, 3, 4, 1, 2, 3, 4, 1, 2, 3, 4, 1, 2, 3, 4, 1, 2, 3, 4, 1, 2, 3, 4, 1, 2, 3, 4, 1, 2, 3, 4, 1, 2, 3, 4, 1, 2, 3, 4, 1, 2, 3, 4, 1, 2, 3, 4, 1, 2, 3, 4, 1, 2, 3, 4, 1, 2, 3, 4, 1, 2, 3, 4, 1, 2, 3, 4, 1, 2, 3, 4, 1, 2, 3, 4, 1, 2, 3, 4, 1, 2, 3, 4, 1, 2, 3, 4, 1, 2, 3, 4, 1, 2, 3, 4, 1, 2, 3, 4, 1, 2, 3, 4, 1, 2, 3, 4, 1, 2, 3, 4, 1, 2, 3, 4, 1, 2, 3, 4, 1, 2, 3, 4, 1, 2, 3, 4, 1, 2, 3, 4, 1, 2, 3, 4, 1, 2, 3, 4, 1, 2, 3, 4, 1, 2, 3, 4, 1, 2, 3, 4, 1, 2, 3, 4, 1, 2, 3, 4, 1, 2, 3, 4, 1, 2, 3, 4, 1, 2, 3, 4, 1, 2, 3, 4, 1, 2, 3, 4, 1, 2, 3, 4, 1, 2, 3, 4, 1, 2, 3, 4, 1, 2, 4, 1, 2, 3, 4, 1, 2, 3, 4, 1, 2, 3, 4, 1, 2, 3, 4, 1, 2, 3, 4, 1, 2, 3, 4, 1, 2, 3, 4, 1, 2, 3, 4, 1, 2, 3, 4, 1, 2, 3, 4, 1, 2, 3, 4, 1, 2, 3, 4, 1, 2, 3, 4, 1, 2, 3, 4, 1, 2, 3, 4, 1, 2, 3, 4, 1, 2, 3, 4, 1, 2, 3, 4, 1, 2, 3, 4, 1, 2, 3, 4, 1, 2, 3, 4, 1, 2, 3, 4, 1, 2, 3, 4, 1, 2, 3, 4, 1, 2, 3, 4, 1, 2, 3, 4, 1, 2, 3, 4, 1, 2, 3, 1, 2, 3, 4, 1, 2, 3, 4, 1, 2, 3, 4, 1, 2, 3, 4, 1, 2, 3, 4, 1, 2, 3, 4, 1, 2, 3, 4, 1, 2, 3, 4, 1, 2, 3, 4, 1, 2, 3, 4, 1, 2, 3, 4, 1, 2, 3, 4, 1, 2, 3, 4, 1, 2, 3, 4, 1, 2, 3, 4, 1, 2, 3, 4, 1, 2, 3, 4, 1, 2, 3, 4, 1, 2, 3, 4, 1, 2, 3, 4, 1, 2, 3, 4, 1, 2, 3, 4, 1, 2, 3, 4, 1, 2, 3, 1, 2, 3, 4, 1, 2, 3, 4, 1, 2, 3, 4, 1, 2, 3, 4, 1, 2, 3, 4, 1, 2, 3, 4, 1, 2, 3, 4, 1, 2, 3, 4, 1, 2, 3, 4, 1, 2, 3, 4, 1, 2, 3, 4, 1, 2, 3, 4, 1, 2, 3, 4, 1, 2, 3, 4, 1, 2, 3, 4, 1, 2, 3, 4, 1, 2, 3, 4, 1, 2, 3, 4, 1, 2, 3, 4, 1, 2, 3, 4, 1, 2, 3, 4, 1, 2, 3, 4, 1, 2, 3, 4, 1, 2, 3, 4, 1, 2, 3, 4, 1, 2, 3, 4, 1, 2, 3, 4, 1, 2, 3, 4, 1, 2, 3, 4, 1, 2, 3, 4, 1, 2, 1, 2, 3, 4, 1, 2, 3, 4, 1, 2, 3, 4, 1, 2, 3, 4, 1, 2, 3, 1, 2, 3, 4, 1, 2, 3, 4, 1, 2, 3, 4, 1, 2, 3, 4, 1, 2, 3, 4, 1, 2, 3, 4, 1, 2, 3, 4, 1, 2, 3, 4, 1, 2, 3, 4, 1, 2, 3, 4, 1, 2, 3, 4, 1, 2, 3, 4, 1, 2, 3, 4, 1, 2, 3, 4, 1, 2, 3, 4, 1, 2, 4, 1, 2, 4, 1, 2, 3, 4, 1, 2, 3, 4, 1, 2, 3, 4, 1, 2, 3, 4, 1, 2, 3, 4, 1, 2, 3, 4, 1, 2, 3, 4, 1, 2, 3, 4, 3, 4, 1, 2, 3, 4, 1, 2, 3, 4, 1, 2, 3, 4, 1, 2, 3, 4, 1, 2, 3, 4, 1, 2, 3, 4], \"Freq\": [0.1452286821650162, 0.2904573643300324, 0.1452286821650162, 0.5083003875775567, 0.2189078770513277, 0.24834884966994442, 0.2617397436674443, 0.2710468898501038, 0.24075938542752848, 0.3321668295940571, 0.13819762557031418, 0.2888533180159397, 0.12409726725776621, 0.19500999140506117, 0.5141172500678886, 0.1595536293314137, 0.12834371570610498, 0.25668743141220995, 0.12834371570610498, 0.5133748628244199, 0.20507163957694122, 0.20507163957694122, 0.6152149187308237, 0.20507163957694122, 0.2058643863304816, 0.2058643863304816, 0.6175931589914447, 0.2058643863304816, 0.6338284601162937, 0.12676569202325874, 0.12676569202325874, 0.3106769159078819, 0.21913564108871572, 0.2688046790734389, 0.20137942241070525, 0.30038346325020693, 0.2037075186678685, 0.2267005265478364, 0.2692112632541588, 0.5718711040549533, 0.15596484656044182, 0.12997070546703485, 0.12997070546703485, 0.2385762168575502, 0.2810930283400279, 0.2906350830502976, 0.18969803556822604, 0.18553912707304734, 0.47903494544106306, 0.18444126241581038, 0.15113936781295573, 0.31499127333132304, 0.241873640897475, 0.3173843694250083, 0.12572301263610805, 0.23818397681599507, 0.18525420419021837, 0.20764756953189312, 0.36847264789483, 0.34376440563145827, 0.26499508774799285, 0.17619452684459366, 0.21506096658972462, 0.2593555917849081, 0.2593555917849081, 0.5187111835698162, 0.14837433996737218, 0.14837433996737218, 0.19783245328982957, 0.4945811332245739, 0.14979824356194266, 0.14979824356194266, 0.7489912178097132, 0.14979824356194266, 0.16065587788151348, 0.16065587788151348, 0.16065587788151348, 0.5087436132914593, 0.2806198301596701, 0.3045318955731808, 0.2167030928099402, 0.19815522957066578, 0.2072658341250345, 0.2072658341250345, 0.2072658341250345, 0.414531668250069, 0.3169228697773882, 0.17935511967075513, 0.3244666342625948, 0.17918559687333474, 0.08310161808866645, 0.12465242713299968, 0.6648129447093316, 0.12465242713299968, 0.15385194758559206, 0.20979811034398915, 0.5594616275839711, 0.08391924413759566, 0.6239730616826908, 0.14603624847892765, 0.1725882936569145, 0.05310409035597369, 0.2954427394515338, 0.05792994891206545, 0.23751279053946836, 0.41130263727566474, 0.2050205968516579, 0.2050205968516579, 0.6150617905549737, 0.2050205968516579, 0.3334749866047878, 0.22126547805633132, 0.23995137356544927, 0.2053095118659258, 0.2500004526495456, 0.4347698258936542, 0.17946349597189604, 0.13576803608308657, 0.6787821487444834, 0.06787821487444834, 0.13575642974889668, 0.1018173223116725, 0.20591162863088092, 0.13727441908725393, 0.5490976763490157, 0.06863720954362697, 0.22826584301579528, 0.3207178389614982, 0.23542621013695023, 0.21557700639644628, 0.10180058768321128, 0.10180058768321128, 0.3563020568912395, 0.45810264457445077, 0.12377920176009115, 0.2062986696001519, 0.1650389356801215, 0.4951168070403646, 0.15351403119594598, 0.4580459304789608, 0.26708945264985723, 0.12147993796535562, 0.13652143662061925, 0.6826071831030963, 0.13652143662061925, 0.13652143662061925, 0.23471175878600228, 0.24346545796864272, 0.2679348627014037, 0.2538572762965726, 0.3410044429884383, 0.3212553484657771, 0.13077379689099, 0.2069561848294423, 0.2553657642639615, 0.2894681167758305, 0.1816495679251741, 0.2735077565093329, 0.15389435821046532, 0.20249257659271752, 0.5183809960773569, 0.12149554595563052, 0.11032744898323572, 0.6251888775716691, 0.14710326531098097, 0.11032744898323572, 0.3764912750593774, 0.2321321098145777, 0.20341031598710455, 0.18797771034846228, 0.28104728574546506, 0.23693090663491193, 0.22291746856450093, 0.2591621015984652, 0.1384019553429251, 0.20760293301438765, 0.1384019553429251, 0.5536078213717004, 0.37714145596208787, 0.219276975683187, 0.19903027707666443, 0.20455889588434956, 0.2472465231732779, 0.2591948001304554, 0.3482745283359474, 0.14539041960763566, 0.25494052387954774, 0.19120539290966082, 0.5098810477590955, 0.06373513096988694, 0.33766325849931716, 0.27438291164765316, 0.2224236361450917, 0.16553015033024904, 0.43708216555617513, 0.22981175497167447, 0.1830796995348507, 0.15009236628532804, 0.19919422437371875, 0.3804073299621722, 0.27867686469909486, 0.14177655015093935, 0.2712352395303268, 0.25904713668587015, 0.33996814737447595, 0.12967342206643248, 0.673189371411261, 0.1121982285685435, 0.1121982285685435, 0.05609911428427175, 0.27234559246964957, 0.24657711551407038, 0.200577983358583, 0.280508277716448, 0.3809332960237157, 0.18432923143186786, 0.23748571945308644, 0.19725010844237312, 0.4170941807872808, 0.19738775941846828, 0.22636419171332198, 0.15918123641872642, 0.17391730083496698, 0.5797243361165566, 0.13526901176052988, 0.13526901176052988, 0.29462077551480276, 0.090652546312247, 0.1359788194683705, 0.47592586813929677, 0.22721936884018862, 0.08114977458578165, 0.12983963933725062, 0.5680484221004716, 0.256588013692399, 0.14825085235560828, 0.15395280821543939, 0.4390506012069938, 0.5418903257203147, 0.18063010857343825, 0.15937950756479846, 0.11687830554751887, 0.6621714400435824, 0.07640439692810566, 0.15280879385621132, 0.07640439692810566, 0.14087420610304527, 0.14087420610304527, 0.5634968244121811, 0.14087420610304527, 0.14722082239632295, 0.5888832895852918, 0.14722082239632295, 0.07361041119816147, 0.292129739554959, 0.2900474730675652, 0.24962700595933185, 0.16820426198903457, 0.38047046439302473, 0.18418811374598748, 0.30712247471665816, 0.12819891115112764, 0.2589909189587911, 0.2589909189587911, 0.5179818379175822, 0.21355941954935112, 0.2621416571719523, 0.21355941954935112, 0.31072389479455353, 0.16046390887144787, 0.6418556354857915, 0.16046390887144787, 0.16046390887144787, 0.146932790722281, 0.293865581444562, 0.146932790722281, 0.587731162889124, 0.2543154832023696, 0.35167642165138174, 0.1884195981597731, 0.2056118438354435, 0.30045658439330253, 0.22850884258015222, 0.30388685570224244, 0.1671597595548804, 0.26474969406399246, 0.3919379242824543, 0.17100353046414016, 0.17224212552408866, 0.21892843513743268, 0.29568764787870006, 0.24036814965549097, 0.2450253087778089, 0.2822443532069046, 0.2759582235056627, 0.2608600307072459, 0.18094868327227973, 0.2615917003820927, 0.13079585019104634, 0.13079585019104634, 0.5231834007641853, 0.13665739498510962, 0.6832869749255481, 0.13665739498510962, 0.13665739498510962, 0.5707931469608284, 0.1609929388863875, 0.11708577373555454, 0.14635721716944317, 0.36798810384089736, 0.21904995150740494, 0.17852480442849872, 0.2344528021247941, 0.07924388212224805, 0.6339510569779844, 0.1584877642444961, 0.07924388212224805, 0.2138254824330681, 0.26027844793676946, 0.3418370896608253, 0.18408317341304556, 0.23243783973854756, 0.5976973021848366, 0.0996162170308061, 0.0996162170308061, 0.58886468772471, 0.16244543109647172, 0.16244543109647172, 0.08122271554823586, 0.6699943273995527, 0.11166572123325878, 0.11166572123325878, 0.11166572123325878, 0.3184092021132148, 0.2606201602988879, 0.23954969132545512, 0.1814387739568925, 0.607297681077944, 0.14575144345870658, 0.04858381448623553, 0.1943352579449421, 0.24018395224700928, 0.6004598806175232, 0.12009197612350464, 0.12009197612350464, 0.0877178496522733, 0.6140249475659132, 0.1754356993045466, 0.1754356993045466, 0.34535029882339596, 0.21741879535540423, 0.2633987788843971, 0.17379374056029062, 0.1598820744505542, 0.6395282978022168, 0.1598820744505542, 0.1598820744505542, 0.17415050914125904, 0.1596379667128208, 0.5079389849953388, 0.1596379667128208, 0.34006110422577285, 0.2287408273054302, 0.2528699344494207, 0.1783067192975402, 0.12948160764527294, 0.12948160764527294, 0.12948160764527294, 0.5179264305810918, 0.3533647086094861, 0.18482121509287586, 0.30369062837490424, 0.15815218048083918, 0.22018546417942547, 0.09436519893403948, 0.5347361272928904, 0.12582026524538598, 0.3603169157195139, 0.24489355453180628, 0.2129533945981059, 0.1818395189088991, 0.2488038513893219, 0.36122349592498704, 0.2320190847058817, 0.15795550396013125, 0.2868227948289306, 0.16386374871097745, 0.23685537369733212, 0.3127862587502514, 0.4058325608253607, 0.23141575799873093, 0.21226410906090493, 0.1504772416543472, 0.5835451622967728, 0.23341806491870912, 0.11670903245935456, 0.05835451622967728, 0.10594842342215455, 0.22703233590461688, 0.514606628050465, 0.1513548906030779, 0.12805315443860435, 0.35939273573814606, 0.30302549834378906, 0.2095540338932605, 0.199966874673687, 0.0999834373368435, 0.24995859334210874, 0.44992546801579575, 0.08787034141292399, 0.08787034141292399, 0.7029627313033919, 0.08787034141292399, 0.20487117790496473, 0.20487117790496473, 0.6146135337148942, 0.20487117790496473, 0.13606350984660484, 0.13606350984660484, 0.5442540393864194, 0.18141801312880643, 0.2389827528948271, 0.5974568822370677, 0.11949137644741355, 0.11949137644741355, 0.1475873162144466, 0.1475873162144466, 0.5903492648577864, 0.1475873162144466, 0.19542815538585187, 0.13959153956132275, 0.5304478503330265, 0.13959153956132275, 0.17376622578929932, 0.17376622578929932, 0.17376622578929932, 0.5212986773678979, 0.6466458150520611, 0.09237797357886587, 0.18475594715773175, 0.2829788706300833, 0.25088108412068255, 0.23828120767724079, 0.22787434770338538, 0.6085075167554764, 0.12170150335109528, 0.08113433556739685, 0.1622686711347937, 0.6002450203564612, 0.20008167345215372, 0.10004083672607686, 0.10004083672607686, 0.660922651932303, 0.12016775489678237, 0.12016775489678237, 0.18025163234517355, 0.31486425629348175, 0.30585733273091215, 0.18576501856331779, 0.1935043010318961, 0.14852998239657392, 0.14852998239657392, 0.14852998239657392, 0.5941199295862957, 0.1596186314711744, 0.6384745258846976, 0.1596186314711744, 0.1596186314711744, 0.2945060594232795, 0.14725302971163975, 0.14725302971163975, 0.44175908913491924, 0.6952830284285082, 0.1545073396507796, 0.0772536698253898, 0.0772536698253898, 0.3096935212033053, 0.28449414784765986, 0.21967815574463048, 0.18613033473693133, 0.29549166355508605, 0.1604808905114466, 0.3651993534669793, 0.17886533620249537, 0.16106338970919956, 0.5522173361458271, 0.18407244538194237, 0.10354075052734259, 0.27601585510990956, 0.2208712240359891, 0.23691116980483645, 0.2661811438355798, 0.36420266296883197, 0.21279480136491072, 0.2217145140372618, 0.20129007642127317, 0.3871383711192721, 0.14824580350541314, 0.255499187210111, 0.20909996102922063, 0.3351907001531625, 0.10055721004594875, 0.11731674505360688, 0.43574791019911124, 0.09350626311317761, 0.28051878933953284, 0.18701252622635522, 0.467531315565888, 0.6334489118853646, 0.12668978237707293, 0.12668978237707293, 0.12668978237707293, 0.3836715059669521, 0.25154783650283935, 0.19122519998225557, 0.17339705234661743, 0.2387704206474387, 0.7163112619423161, 0.2387704206474387, 0.2387704206474387, 0.2970889052874298, 0.24895311785720667, 0.23968172318979525, 0.21426624304046693, 0.3194296166610844, 0.1582785903169634, 0.2772269027236158, 0.24504088877828628, 0.20367501284507503, 0.20367501284507503, 0.20367501284507503, 0.40735002569015005, 0.5631674144381132, 0.19171656661723005, 0.15576971037649942, 0.08387599789503815, 0.20495173002273398, 0.20495173002273398, 0.6148551900682019, 0.20495173002273398, 0.25394543118472457, 0.1673674050920137, 0.3042500328279821, 0.27445737632006156, 0.25341110870009736, 0.2230843618862484, 0.2960580964070725, 0.22745060110386725, 0.04584494939351588, 0.25214722166433734, 0.16045732287730557, 0.5272169180254326, 0.08946246547711585, 0.26838739643134757, 0.13419369821567378, 0.5367747928626951, 0.17427540676641867, 0.5663950719908607, 0.08713770338320934, 0.130706555074814, 0.20506488206551, 0.5810171658522784, 0.17088740172125833, 0.034177480344251665, 0.26095471834558825, 0.32561954676698807, 0.20917694751526858, 0.20425822324386392, 0.2809441825317188, 0.32526431677443846, 0.2173350633700366, 0.17646022777019363, 0.1283763440090429, 0.5776935480406931, 0.1283763440090429, 0.1283763440090429, 0.26477316222818126, 0.4133652570379704, 0.1687866580305826, 0.153079775525521, 0.6195787484537681, 0.11265068153704876, 0.11265068153704876, 0.16897602230557313, 0.17391635214800114, 0.5714394427720038, 0.09938077265600065, 0.14907115898400097, 0.24380942710450884, 0.40389830190562115, 0.18712610698974463, 0.16530658627611153, 0.19068229701952408, 0.31517092961124654, 0.2880563886660555, 0.20609122907529168, 0.17619611323803194, 0.3933601783669175, 0.21004084258300576, 0.2203676308241225, 0.2042866312515625, 0.3977664274860199, 0.2292707498307113, 0.16865617520506762, 0.28747647729377573, 0.38388907316827325, 0.16671185164319388, 0.16196397162395731, 0.2400262919359321, 0.3558403323451996, 0.20187312852625142, 0.20223434190764483, 0.0793249191221958, 0.7139242720997622, 0.1586498382443916, 0.0793249191221958, 0.14912465692539023, 0.4019641771602242, 0.22631209516101533, 0.2226277305674294, 0.18313576664955344, 0.3212367642244183, 0.28654268720530496, 0.20909301405436453, 0.14540631040522836, 0.21810946560784253, 0.5816252416209134, 0.07270315520261418, 0.598072546690303, 0.11961450933806059, 0.14951813667257574, 0.14951813667257574, 0.06359247305695341, 0.317962365284767, 0.12718494611390682, 0.5087397844556273, 0.27564331377718104, 0.2319747228552795, 0.32259718217928424, 0.16976778043795424, 0.19185226681987252, 0.5755568004596175, 0.19185226681987252, 0.19185226681987252, 0.15792867126823282, 0.7106790207070477, 0.07896433563411641, 0.07896433563411641, 0.26353428651748206, 0.2533893586903126, 0.2659086313280962, 0.21716261286776065, 0.2569631738032753, 0.2261138630728437, 0.2830070286202044, 0.23392272893228536, 0.30251847318188513, 0.2751971031239899, 0.3060885977629531, 0.11617780407558709, 0.2298795942316325, 0.37701936012774423, 0.2631101302687761, 0.13001973024153268, 0.18511979912953688, 0.5553593973886106, 0.13067279938555545, 0.13067279938555545, 0.5766171595080987, 0.14415428987702467, 0.14415428987702467, 0.2436548080589982, 0.22160324162238268, 0.24991775294830906, 0.2847952304756091, 0.37041221395988905, 0.2405515045582585, 0.23694426263043541, 0.15191641718889162, 0.13655969509798077, 0.6827984754899039, 0.13655969509798077, 0.13655969509798077, 0.2979891632159482, 0.264465382354154, 0.22016098392889827, 0.217403151528943, 0.1982322936480077, 0.21495067985928548, 0.42273633705659475, 0.16479552122545219, 0.6271501634632121, 0.13633699205722002, 0.13633699205722002, 0.10906959364577601, 0.1467881550723802, 0.1467881550723802, 0.5871526202895208, 0.1467881550723802, 0.17366082785123055, 0.47169010883609347, 0.15394387796419126, 0.2009612200025157, 0.11763597828524913, 0.22056745928484212, 0.514657404997965, 0.1470449728565614, 0.5570619588899204, 0.07736971651248893, 0.18568731962997345, 0.17021337632747566, 0.33307388302660945, 0.21133980011511416, 0.23344647376732275, 0.22209838129252232, 0.2025940326040919, 0.215667171196065, 0.23349417836693737, 0.34814164226139216, 0.38400221072676166, 0.22636904801593105, 0.23989504524799907, 0.14972173036754552, 0.22228231876261073, 0.4571832844418762, 0.1358931206408974, 0.18539704316008143, 0.20382123632646987, 0.3959416239008646, 0.1899815227487466, 0.2103636463813936, 0.20415274200470335, 0.2394096474885998, 0.3291179924214297, 0.22736286884945522, 0.2065029461945978, 0.2065029461945978, 0.6195088385837935, 0.2065029461945978, 0.2586283210220753, 0.08620944034069175, 0.6034660823848423, 0.08620944034069175, 0.23001020620128804, 0.11500510310064402, 0.5750255155032201, 0.11500510310064402, 0.38660434063660326, 0.28799088060389183, 0.1684674093134081, 0.1569899898848517, 0.22016152584634494, 0.21229861420897547, 0.2850939574323637, 0.28243071316809343, 0.29103285143634194, 0.15755136499865538, 0.29629919232766194, 0.2551137058699033, 0.3473108147437987, 0.2513788047904784, 0.21294081484542213, 0.18836570651989432, 0.27037242581088644, 0.3624224843312514, 0.202877803728907, 0.16433758664513085, 0.20791544520513552, 0.38579093310972973, 0.24129317553907031, 0.16494161740019447, 0.10599009094812273, 0.662438068425767, 0.1324876136851534, 0.10599009094812273, 0.2066366510265637, 0.29433312892337665, 0.3593511613707363, 0.1396719709011394, 0.20426601190504648, 0.20426601190504648, 0.6127980357151395, 0.6257143152067411, 0.12514286304134822, 0.12514286304134822, 0.12514286304134822, 0.23414326725904608, 0.3598010626099427, 0.23354359882136283, 0.17254096411522254, 0.14999971445502921, 0.5999988578201169, 0.14999971445502921, 0.08999982867301753, 0.27354628972851247, 0.05470925794570249, 0.5470925794570249, 0.10941851589140499, 0.26991892043312293, 0.18578834783059112, 0.2780982816583691, 0.26621873321217826, 0.2783470343581921, 0.29941555043386775, 0.2431173065371739, 0.17911952268802986, 0.2940517709091874, 0.1470258854545937, 0.1470258854545937, 0.44107765636378105, 0.29604248744444306, 0.14802124372222153, 0.14802124372222153, 0.44406373116666453, 0.6271352387161137, 0.12542704774322272, 0.12542704774322272, 0.12542704774322272, 0.19184025438878588, 0.5755207631663576, 0.19184025438878588, 0.19184025438878588, 0.1479150905884581, 0.22187263588268713, 0.1479150905884581, 0.5177028170596033, 0.2703287846217141, 0.07723679560620403, 0.5406575692434282, 0.11585519340930604, 0.19641722764281494, 0.17574172999620283, 0.17574172999620283, 0.4445231994021601, 0.671603957297896, 0.13737353672002417, 0.12210981041779927, 0.07631863151112454, 0.2769511184743203, 0.2188689240557756, 0.22625721327022524, 0.27790208639301184, 0.12233207656633546, 0.1834981148495032, 0.12233207656633546, 0.5504943445485095, 0.10255346920910635, 0.2051069384182127, 0.10255346920910635, 0.5127673460455318, 0.560996728886738, 0.16362404592529858, 0.15193661407349154, 0.12856175036987744, 0.37354788217279483, 0.1956897106119415, 0.24369770036487104, 0.18700255056141138, 0.5722323216717851, 0.13205361269348886, 0.13205361269348886, 0.13205361269348886, 0.3123536075088759, 0.2518205833415572, 0.2526613197883255, 0.18316044018881147, 0.26165816709383194, 0.25617588903705535, 0.3053409586502276, 0.1768363609993849, 0.6000684129076944, 0.15791274023886695, 0.09474764414332017, 0.12633019219109357, 0.5988907668266465, 0.19963025560888217, 0.19963025560888217, 0.24648061814111796, 0.2849833137092231, 0.26473620655702984, 0.20379875067945286, 0.3329271431405395, 0.26460074745199363, 0.18568857214972936, 0.21683351051736358, 0.2547962170126268, 0.2697842297780754, 0.23701973675593188, 0.23841397050155502, 0.18888120226758212, 0.12592080151172141, 0.5351634064248161, 0.15740100188965178, 0.23991119974273586, 0.26890046971164977, 0.20212518578325497, 0.2888930696902111, 0.2802260872179961, 0.2340996505235327, 0.2476501467631525, 0.23802336323938222, 0.10617251345083051, 0.637035080704983, 0.10617251345083051, 0.10617251345083051, 0.1428950431315277, 0.1428950431315277, 0.5358564117432288, 0.1428950431315277, 0.20356053918966935, 0.14368979236917837, 0.5208754973382715, 0.12572856832303106, 0.18249766714437396, 0.18249766714437396, 0.15968545875132723, 0.4562441678609349, 0.2033911362607792, 0.34143328868877865, 0.2585438247437635, 0.19665302499815215, 0.33105013511759596, 0.10736761138949058, 0.1163149123386148, 0.43841774650708654, 0.36054965931321087, 0.2268786594142591, 0.23695900035193895, 0.17562509492830947, 0.39630888968547634, 0.35040729043709523, 0.1309324306429232, 0.12240426466234966, 0.6354755936140297, 0.12709511872280596, 0.06354755936140298, 0.15886889840350743, 0.173114931482019, 0.06924597259280761, 0.5885907670388646, 0.13849194518561522, 0.1844426788813175, 0.21534240228630505, 0.3774863117001057, 0.22277532544214398, 0.2634770035966731, 0.3037435670717246, 0.2311659393021176, 0.20162625791880046, 0.13198932706230945, 0.1759857694164126, 0.1759857694164126, 0.5132918274645367, 0.22871449462044094, 0.27391642680719624, 0.30564620659306596, 0.19173109555855022, 0.4039468987193074, 0.2398294711065463, 0.15874142452444504, 0.1975681134956169, 0.2142381981946089, 0.15302728442472063, 0.4998891291207541, 0.13262364650142455, 0.22458445925469922, 0.1854380396299292, 0.3629018085955534, 0.22704923382366624, 0.20339421317039605, 0.4063876495660721, 0.1398710943772773, 0.25028509581263514, 0.079150643153355, 0.1978766078833875, 0.5540545020734851, 0.15830128630671, 0.21081722374160686, 0.2834738740668392, 0.3652596630987394, 0.14051344421706208, 0.1955411134745105, 0.27676281161671845, 0.358433800037525, 0.16928259274752747, 0.25128738278591084, 0.23546611251408092, 0.2777511892165692, 0.23551362383621854, 0.1998639766986649, 0.36506859210228654, 0.20649168771553936, 0.22857154084824297, 0.18982270655386632, 0.5694681196615989, 0.18982270655386632, 0.18982270655386632, 0.2383012279277177, 0.7149036837831532, 0.4370285011325025, 0.17389327334978147, 0.2517504517027987, 0.13735181464164364, 0.21371238580105326, 0.5461538748249138, 0.10685619290052663, 0.14247492386736885, 0.14332868457518608, 0.11944057047932173, 0.2149930268627791, 0.5255385101090156, 0.2285775208363181, 0.330374567550079, 0.2551300742060202, 0.1859169087741929, 0.18980869956445817, 0.5694260986933746, 0.18980869956445817, 0.2119574726559556, 0.28138865859943635, 0.21342303858616102, 0.2932963817823552, 0.23460021826592103, 0.2238303150074499, 0.27484125214641, 0.2666594651748583, 0.16911068068019222, 0.6303216279898073, 0.07686849121826919, 0.12298958594923069, 0.5995578624981952, 0.19985262083273173, 0.09992631041636586, 0.09992631041636586, 0.06026545285033684, 0.7834508870543789, 0.09039817927550527, 0.09039817927550527, 0.23039321007472507, 0.29795000359820806, 0.27268159005875164, 0.19896863845957308, 0.20209578449809387, 0.24478512603432126, 0.37803509383526224, 0.17519903173827428, 0.25566960043335163, 0.2736783449676112, 0.271197801643333, 0.19943568327196537, 0.2636869496027891, 0.2637038612850366, 0.2846067005429283, 0.1880071715452929, 0.18698654472356127, 0.2594272539826005, 0.32764087379975076, 0.2259420748743032, 0.1731795597021508, 0.1731795597021508, 0.1731795597021508, 0.5195386791064524, 0.2039750381823742, 0.3669072934075975, 0.235666300972073, 0.19342460517294105, 0.22270046122719098, 0.2543726787211549, 0.2323182026651486, 0.2906879438058569, 0.18788496431322005, 0.18788496431322005, 0.18788496431322005, 0.46971241078305015, 0.16436546606657548, 0.5478848868885849, 0.16436546606657548, 0.12783980694066982, 0.5788126443028851, 0.1447031610757213, 0.1447031610757213, 0.6292058957210727, 0.12584117914421453, 0.12584117914421453, 0.378079030072012, 0.25966269463927144, 0.21515567859541762, 0.14712681987553744, 0.2091345683271615, 0.0697115227757205, 0.557692182205764, 0.2091345683271615, 0.1309087321144041, 0.1745449761525388, 0.6109074165338858, 0.0872724880762694, 0.6274091105778286, 0.14478671782565275, 0.16891783746326156, 0.04826223927521758, 0.13711854609995608, 0.5484741843998243, 0.13711854609995608, 0.13711854609995608, 0.1875113398989098, 0.23178227370049292, 0.3486753512151507, 0.23204203609496993, 0.29784171907954954, 0.18021831500887295, 0.35149449988371784, 0.1704354717853209, 0.21218830656563348, 0.10609415328281674, 0.5304707664140837, 0.1591412299242251, 0.34202556450581284, 0.34202556450581284, 0.18139631183370822, 0.10365503533354756, 0.5701026943345116, 0.15548255300032132, 0.21115512728480654, 0.6334653818544196, 0.10557756364240327, 0.10557756364240327, 0.20985846779035783, 0.10492923389517891, 0.20985846779035783, 0.5246461694758946, 0.6261483140465687, 0.12522966280931375, 0.12522966280931375, 0.12522966280931375, 0.6461879083253771, 0.09231255833219672, 0.13846883749829508, 0.13846883749829508, 0.6338064535712828, 0.12676129071425657, 0.12676129071425657, 0.12676129071425657], \"Term\": [\"aaaaa\", \"aaaaa\", \"aaaaa\", \"aaaaa\", \"action\", \"action\", \"action\", \"action\", \"active\", \"active\", \"active\", \"active\", \"adahedge\", \"adahedge\", \"adahedge\", \"adahedge\", \"adaptivestream\", \"adaptivestream\", \"adaptivestream\", \"adaptivestream\", \"adfm\", \"adfm\", \"adfm\", \"adfm\", \"adfs\", \"adfs\", \"adfs\", \"adfs\", \"aggregative\", \"aggregative\", \"aggregative\", \"algorithm\", \"algorithm\", \"algorithm\", \"algorithm\", \"algorithms\", \"algorithms\", \"algorithms\", \"algorithms\", \"alphamax\", \"alphamax\", \"alphamax\", \"alphamax\", \"also\", \"also\", \"also\", \"also\", \"analog\", \"analog\", \"analog\", \"analog\", \"analysis\", \"analysis\", \"analysis\", \"analysis\", \"anomaly\", \"anomaly\", \"anomaly\", \"anomaly\", \"approach\", \"approach\", \"approach\", \"approach\", \"architecure\", \"architecure\", \"architecure\", \"argi\", \"argi\", \"argi\", \"argi\", \"aslds\", \"aslds\", \"aslds\", \"aslds\", \"avalanche\", \"avalanche\", \"avalanche\", \"avalanche\", \"based\", \"based\", \"based\", \"based\", \"bdu\", \"bdu\", \"bdu\", \"bdu\", \"better\", \"better\", \"better\", \"better\", \"bisubmodular\", \"bisubmodular\", \"bisubmodular\", \"bisubmodular\", \"bitam\", \"bitam\", \"bitam\", \"bitam\", \"bnbp\", \"bnbp\", \"bnbp\", \"bnbp\", \"bopp\", \"bopp\", \"bopp\", \"bopp\", \"bouchet\", \"bouchet\", \"bouchet\", \"bouchet\", \"bound\", \"bound\", \"bound\", \"bound\", \"boundary\", \"boundary\", \"boundary\", \"boundary\", \"bxpca\", \"bxpca\", \"bxpca\", \"bxpca\", \"carlile\", \"carlile\", \"carlile\", \"carlile\", \"case\", \"case\", \"case\", \"case\", \"cbmpi\", \"cbmpi\", \"cbmpi\", \"cbmpi\", \"chiel\", \"chiel\", \"chiel\", \"chiel\", \"chip\", \"chip\", \"chip\", \"chip\", \"citn\", \"citn\", \"citn\", \"citn\", \"class\", \"class\", \"class\", \"class\", \"classification\", \"classification\", \"classification\", \"classification\", \"classifier\", \"classifier\", \"classifier\", \"classifier\", \"cma\", \"cma\", \"cma\", \"cma\", \"commnet\", \"commnet\", \"commnet\", \"commnet\", \"components\", \"components\", \"components\", \"components\", \"computational\", \"computational\", \"computational\", \"computational\", \"consummatory\", \"consummatory\", \"consummatory\", \"consummatory\", \"corresponding\", \"corresponding\", \"corresponding\", \"corresponding\", \"covariance\", \"covariance\", \"covariance\", \"covariance\", \"cvn\", \"cvn\", \"cvn\", \"cvn\", \"data\", \"data\", \"data\", \"data\", \"db\", \"db\", \"db\", \"db\", \"defined\", \"defined\", \"defined\", \"defined\", \"density\", \"density\", \"density\", \"density\", \"dgd\", \"dgd\", \"dgd\", \"dgd\", \"different\", \"different\", \"different\", \"different\", \"distribution\", \"distribution\", \"distribution\", \"distribution\", \"distributions\", \"distributions\", \"distributions\", \"distributions\", \"dualsgd\", \"dualsgd\", \"dualsgd\", \"dualsgd\", \"elici\", \"elici\", \"elici\", \"elici\", \"elicitable\", \"elicitable\", \"elicitable\", \"elicitable\", \"elicitation\", \"elicitation\", \"elicitation\", \"elicitation\", \"emb\", \"emb\", \"emb\", \"emb\", \"epca\", \"epca\", \"epca\", \"epca\", \"epitope\", \"epitope\", \"epitope\", \"epitope\", \"epsnon\", \"epsnon\", \"epsnon\", \"epsnon\", \"error\", \"error\", \"error\", \"error\", \"estimation\", \"estimation\", \"estimation\", \"estimation\", \"expectile\", \"expectile\", \"expectile\", \"exploration\", \"exploration\", \"exploration\", \"exploration\", \"farotimi\", \"farotimi\", \"farotimi\", \"farotimi\", \"favg\", \"favg\", \"favg\", \"favg\", \"feature\", \"feature\", \"feature\", \"feature\", \"features\", \"features\", \"features\", \"features\", \"fig\", \"fig\", \"fig\", \"fig\", \"figure\", \"figure\", \"figure\", \"figure\", \"first\", \"first\", \"first\", \"first\", \"fissler\", \"fissler\", \"fissler\", \"fissler\", \"flax\", \"flax\", \"flax\", \"flax\", \"frag\", \"frag\", \"frag\", \"frag\", \"function\", \"function\", \"function\", \"function\", \"gae\", \"gae\", \"gae\", \"gae\", \"gaussian\", \"gaussian\", \"gaussian\", \"gaussian\", \"gblm\", \"gblm\", \"gblm\", \"gblm\", \"gctm\", \"gctm\", \"gctm\", \"gctm\", \"gdelt\", \"gdelt\", \"gdelt\", \"gdelt\", \"given\", \"given\", \"given\", \"given\", \"grift\", \"grift\", \"grift\", \"grift\", \"gxyy\", \"gxyy\", \"gxyy\", \"gxyy\", \"handelman\", \"handelman\", \"handelman\", \"handelman\", \"high\", \"high\", \"high\", \"high\", \"iagents\", \"iagents\", \"iagents\", \"iagents\", \"ifgt\", \"ifgt\", \"ifgt\", \"ifgt\", \"image\", \"image\", \"image\", \"image\", \"infarct\", \"infarct\", \"infarct\", \"infarct\", \"inference\", \"inference\", \"inference\", \"inference\", \"infoboost\", \"infoboost\", \"infoboost\", \"infoboost\", \"information\", \"information\", \"information\", \"information\", \"input\", \"input\", \"input\", \"input\", \"interest\", \"interest\", \"interest\", \"interest\", \"inverse\", \"inverse\", \"inverse\", \"inverse\", \"iob\", \"iob\", \"iob\", \"iob\", \"kbr\", \"kbr\", \"kbr\", \"kbr\", \"kernel\", \"kernel\", \"kernel\", \"kernel\", \"kgr\", \"kgr\", \"kgr\", \"kgr\", \"kims\", \"kims\", \"kims\", \"kims\", \"kkgi\", \"kkgi\", \"kkgi\", \"kkgi\", \"kme\", \"kme\", \"kme\", \"kme\", \"kneller\", \"kneller\", \"kneller\", \"kneller\", \"knet\", \"knet\", \"knet\", \"knet\", \"kpl\", \"kpl\", \"kpl\", \"kpl\", \"kupfermann\", \"kupfermann\", \"kupfermann\", \"kupfermann\", \"lakota\", \"lakota\", \"lakota\", \"large\", \"large\", \"large\", \"large\", \"latvian\", \"latvian\", \"latvian\", \"latvian\", \"laundry\", \"laundry\", \"laundry\", \"laundry\", \"lbxy\", \"lbxy\", \"lbxy\", \"lbxy\", \"learning\", \"learning\", \"learning\", \"learning\", \"leftloc\", \"leftloc\", \"leftloc\", \"leftloc\", \"lefto\", \"lefto\", \"lefto\", \"lefto\", \"leftrsc\", \"leftrsc\", \"leftrsc\", \"leftrsc\", \"lftc\", \"lftc\", \"lftc\", \"lftc\", \"linear\", \"linear\", \"linear\", \"linear\", \"ln\", \"ln\", \"ln\", \"ln\", \"lnm\", \"lnm\", \"lnm\", \"lnm\", \"local\", \"local\", \"local\", \"local\", \"log\", \"log\", \"log\", \"log\", \"loss\", \"loss\", \"loss\", \"loss\", \"lrta\", \"lrta\", \"lrta\", \"lrta\", \"ludvig\", \"ludvig\", \"ludvig\", \"ludvig\", \"maranungku\", \"maranungku\", \"maranungku\", \"maranungku\", \"matrices\", \"matrices\", \"matrices\", \"matrices\", \"matriosome\", \"matriosome\", \"matriosome\", \"matriosome\", \"matrix\", \"matrix\", \"matrix\", \"matrix\", \"max\", \"max\", \"max\", \"max\", \"mcechron\", \"mcechron\", \"mcechron\", \"mcechron\", \"mdn\", \"mdn\", \"mdn\", \"mdn\", \"mesot\", \"mesot\", \"mesot\", \"mesot\", \"method\", \"method\", \"method\", \"method\", \"methods\", \"methods\", \"methods\", \"methods\", \"microstimuli\", \"microstimuli\", \"microstimuli\", \"microstimuli\", \"microstimulus\", \"microstimulus\", \"microstimulus\", \"microstimulus\", \"misadjustment\", \"misadjustment\", \"misadjustment\", \"misadjustment\", \"mntn\", \"mntn\", \"mntn\", \"mntn\", \"model\", \"model\", \"model\", \"model\", \"models\", \"models\", \"models\", \"models\", \"moopenn\", \"moopenn\", \"moopenn\", \"moopenn\", \"ms\", \"ms\", \"ms\", \"ms\", \"mub\", \"mub\", \"mub\", \"mub\", \"mucb\", \"mucb\", \"mucb\", \"mucb\", \"net\", \"net\", \"net\", \"net\", \"network\", \"network\", \"network\", \"network\", \"networks\", \"networks\", \"networks\", \"networks\", \"neural\", \"neural\", \"neural\", \"neural\", \"neurons\", \"neurons\", \"neurons\", \"neurons\", \"new\", \"new\", \"new\", \"new\", \"nnfa\", \"nnfa\", \"nnfa\", \"nnfa\", \"node\", \"node\", \"node\", \"node\", \"non\", \"non\", \"non\", \"non\", \"nosde\", \"nosde\", \"nosde\", \"nosde\", \"noto\", \"noto\", \"noto\", \"noto\", \"nsdbn\", \"nsdbn\", \"nsdbn\", \"nsdbn\", \"number\", \"number\", \"number\", \"number\", \"oftwinn\", \"oftwinn\", \"oftwinn\", \"oftwinn\", \"okm\", \"okm\", \"okm\", \"okm\", \"one\", \"one\", \"one\", \"one\", \"optimal\", \"optimal\", \"optimal\", \"optimal\", \"optimization\", \"optimization\", \"optimization\", \"optimization\", \"order\", \"order\", \"order\", \"order\", \"orf\", \"orf\", \"orf\", \"orf\", \"paiute\", \"paiute\", \"paiute\", \"parameters\", \"parameters\", \"parameters\", \"parameters\", \"pattern\", \"pattern\", \"pattern\", \"pattern\", \"pavcom\", \"pavcom\", \"pavcom\", \"pavcom\", \"performance\", \"performance\", \"performance\", \"performance\", \"pf\", \"pf\", \"pf\", \"pf\", \"pgds\", \"pgds\", \"pgds\", \"pgds\", \"pkkg\", \"pkkg\", \"pkkg\", \"pkkg\", \"plasticity\", \"plasticity\", \"plasticity\", \"plasticity\", \"playlist\", \"playlist\", \"playlist\", \"playlist\", \"poem\", \"poem\", \"poem\", \"poem\", \"point\", \"point\", \"point\", \"point\", \"policy\", \"policy\", \"policy\", \"policy\", \"posterior\", \"posterior\", \"posterior\", \"posterior\", \"postsynaptic\", \"postsynaptic\", \"postsynaptic\", \"postsynaptic\", \"pp\", \"pp\", \"pp\", \"pp\", \"prediction\", \"prediction\", \"prediction\", \"prediction\", \"predp\", \"predp\", \"predp\", \"predp\", \"predpd\", \"predpd\", \"predpd\", \"predpd\", \"preinforce\", \"preinforce\", \"preinforce\", \"preinforce\", \"prior\", \"prior\", \"prior\", \"prior\", \"probabilistic\", \"probabilistic\", \"probabilistic\", \"probabilistic\", \"probability\", \"probability\", \"probability\", \"probability\", \"problem\", \"problem\", \"problem\", \"problem\", \"processing\", \"processing\", \"processing\", \"processing\", \"product\", \"product\", \"product\", \"product\", \"prong\", \"prong\", \"prong\", \"prong\", \"proof\", \"proof\", \"proof\", \"proof\", \"proxht\", \"proxht\", \"proxht\", \"psyreview\", \"psyreview\", \"psyreview\", \"psyreview\", \"rate\", \"rate\", \"rate\", \"rate\", \"recirculation\", \"recirculation\", \"recirculation\", \"recirculation\", \"regretp\", \"regretp\", \"regretp\", \"regretp\", \"result\", \"result\", \"result\", \"result\", \"results\", \"results\", \"results\", \"results\", \"rightloc\", \"rightloc\", \"rightloc\", \"rightloc\", \"rightrsc\", \"rightrsc\", \"rightrsc\", \"rightrsc\", \"riskemp\", \"riskemp\", \"riskemp\", \"riskemp\", \"rittweger\", \"rittweger\", \"rittweger\", \"rittweger\", \"rollin\", \"rollin\", \"rollin\", \"rollin\", \"rolr\", \"rolr\", \"rolr\", \"rolr\", \"rpr\", \"rpr\", \"rpr\", \"rpr\", \"salp\", \"salp\", \"salp\", \"salp\", \"sampling\", \"sampling\", \"sampling\", \"sampling\", \"satiation\", \"satiation\", \"satiation\", \"satiation\", \"sboss\", \"sboss\", \"sboss\", \"sboss\", \"sca\", \"sca\", \"sca\", \"sca\", \"scale\", \"scale\", \"scale\", \"scale\", \"scsk\", \"scsk\", \"scsk\", \"scsk\", \"section\", \"section\", \"section\", \"section\", \"see\", \"see\", \"see\", \"see\", \"selc\", \"selc\", \"selc\", \"selc\", \"sensetimecom\", \"sensetimecom\", \"sensetimecom\", \"set\", \"set\", \"set\", \"set\", \"show\", \"show\", \"show\", \"show\", \"shown\", \"shown\", \"shown\", \"shown\", \"silk\", \"silk\", \"silk\", \"silk\", \"simply\", \"simply\", \"simply\", \"simply\", \"since\", \"since\", \"since\", \"since\", \"sle\", \"sle\", \"sle\", \"sle\", \"snds\", \"snds\", \"snds\", \"snds\", \"socp\", \"socp\", \"socp\", \"socp\", \"sondik\", \"sondik\", \"sondik\", \"sondik\", \"space\", \"space\", \"space\", \"space\", \"spammer\", \"spammer\", \"spammer\", \"spammer\", \"sparse\", \"sparse\", \"sparse\", \"sparse\", \"spike\", \"spike\", \"spike\", \"spike\", \"srsc\", \"srsc\", \"srsc\", \"srsc\", \"ssptable\", \"ssptable\", \"ssptable\", \"ssptable\", \"st\", \"st\", \"st\", \"st\", \"state\", \"state\", \"state\", \"state\", \"stel\", \"stel\", \"stel\", \"stel\", \"step\", \"step\", \"step\", \"step\", \"study\", \"study\", \"study\", \"study\", \"summable\", \"summable\", \"summable\", \"summable\", \"svm\", \"svm\", \"svm\", \"svm\", \"synaptic\", \"synaptic\", \"synaptic\", \"synaptic\", \"tany\", \"tany\", \"tany\", \"tany\", \"target\", \"target\", \"target\", \"target\", \"test\", \"test\", \"test\", \"test\", \"theorem\", \"theorem\", \"theorem\", \"theorem\", \"time\", \"time\", \"time\", \"time\", \"tjy\", \"tjy\", \"tjy\", \"tjy\", \"tky\", \"tky\", \"topic\", \"topic\", \"topic\", \"topic\", \"tpost\", \"tpost\", \"tpost\", \"tpost\", \"trailblazer\", \"trailblazer\", \"trailblazer\", \"trailblazer\", \"training\", \"training\", \"training\", \"training\", \"transamps\", \"transamps\", \"transamps\", \"transition\", \"transition\", \"transition\", \"transition\", \"tree\", \"tree\", \"tree\", \"tree\", \"tug\", \"tug\", \"tug\", \"tug\", \"tvi\", \"tvi\", \"tvi\", \"tvi\", \"twinn\", \"twinn\", \"twinn\", \"twinn\", \"two\", \"two\", \"two\", \"two\", \"updates\", \"updates\", \"updates\", \"updates\", \"used\", \"used\", \"used\", \"used\", \"using\", \"using\", \"using\", \"using\", \"variable\", \"variable\", \"variable\", \"variable\", \"variantile\", \"variantile\", \"variantile\", \"variantile\", \"vector\", \"vector\", \"vector\", \"vector\", \"vectors\", \"vectors\", \"vectors\", \"vectors\", \"viji\", \"viji\", \"viji\", \"viji\", \"volterra\", \"volterra\", \"volterra\", \"volterra\", \"warao\", \"warao\", \"warao\", \"weri\", \"weri\", \"weri\", \"words\", \"words\", \"words\", \"words\", \"wpdl\", \"wpdl\", \"wpdl\", \"wpdl\", \"wsat\", \"wsat\", \"wsat\", \"wsat\", \"xca\", \"xca\", \"xca\", \"xca\", \"xclass\", \"xclass\", \"xclass\", \"xclass\", \"xi\", \"xi\", \"xi\", \"xi\", \"xt\", \"xt\", \"xt\", \"xt\", \"ybc\", \"ybc\", \"ybc\", \"ybc\", \"yllvt\", \"yllvt\", \"ypcr\", \"ypcr\", \"ypcr\", \"ypcr\", \"ypre\", \"ypre\", \"ypre\", \"ypre\", \"ziegel\", \"ziegel\", \"ziegel\", \"ziegel\", \"zlow\", \"zlow\", \"zlow\", \"zlow\", \"zxy\", \"zxy\", \"zxy\", \"zxy\", \"zxyi\", \"zxyi\", \"zxyi\", \"zxyi\"]}, \"R\": 30, \"lambda.step\": 0.01, \"plot.opts\": {\"xlab\": \"PC1\", \"ylab\": \"PC2\"}, \"topic.order\": [1, 4, 2, 3]};\n",
       "\n",
       "function LDAvis_load_lib(url, callback){\n",
       "  var s = document.createElement('script');\n",
       "  s.src = url;\n",
       "  s.async = true;\n",
       "  s.onreadystatechange = s.onload = callback;\n",
       "  s.onerror = function(){console.warn(\"failed to load library \" + url);};\n",
       "  document.getElementsByTagName(\"head\")[0].appendChild(s);\n",
       "}\n",
       "\n",
       "if(typeof(LDAvis) !== \"undefined\"){\n",
       "   // already loaded: just create the visualization\n",
       "   !function(LDAvis){\n",
       "       new LDAvis(\"#\" + \"ldavis_el100351405971705481767004292120\", ldavis_el100351405971705481767004292120_data);\n",
       "   }(LDAvis);\n",
       "}else if(typeof define === \"function\" && define.amd){\n",
       "   // require.js is available: use it to load d3/LDAvis\n",
       "   require.config({paths: {d3: \"https://cdnjs.cloudflare.com/ajax/libs/d3/3.5.5/d3.min\"}});\n",
       "   require([\"d3\"], function(d3){\n",
       "      window.d3 = d3;\n",
       "      LDAvis_load_lib(\"https://cdn.rawgit.com/bmabey/pyLDAvis/files/ldavis.v1.0.0.js\", function(){\n",
       "        new LDAvis(\"#\" + \"ldavis_el100351405971705481767004292120\", ldavis_el100351405971705481767004292120_data);\n",
       "      });\n",
       "    });\n",
       "}else{\n",
       "    // require.js not available: dynamically load d3 & LDAvis\n",
       "    LDAvis_load_lib(\"https://cdnjs.cloudflare.com/ajax/libs/d3/3.5.5/d3.min.js\", function(){\n",
       "         LDAvis_load_lib(\"https://cdn.rawgit.com/bmabey/pyLDAvis/files/ldavis.v1.0.0.js\", function(){\n",
       "                 new LDAvis(\"#\" + \"ldavis_el100351405971705481767004292120\", ldavis_el100351405971705481767004292120_data);\n",
       "            })\n",
       "         });\n",
       "}\n",
       "</script>"
      ],
      "text/plain": [
       "PreparedData(topic_coordinates=              x         y  topics  cluster       Freq\n",
       "topic                                                \n",
       "0     -0.005064  0.004031       1        1  27.846862\n",
       "3      0.006271  0.002382       2        1  27.566202\n",
       "1     -0.001122 -0.004754       3        1  24.546525\n",
       "2     -0.000085 -0.001659       4        1  20.040411, topic_info=             Term          Freq         Total Category  logprob  loglift\n",
       "471        method  31786.000000  31786.000000  Default  30.0000  30.0000\n",
       "317      function  60703.000000  60703.000000  Default  29.0000  29.0000\n",
       "794          time  53261.000000  53261.000000  Default  28.0000  28.0000\n",
       "2733  probability  29622.000000  29622.000000  Default  27.0000  27.0000\n",
       "870            xi  26947.000000  26947.000000  Default  26.0000  26.0000\n",
       "...           ...           ...           ...      ...      ...      ...\n",
       "559   performance   6069.993914  27920.478417   Topic4  -6.2135   0.0814\n",
       "515        number   7958.453970  46875.796924   Topic4  -5.9426  -0.1658\n",
       "1115       models   7528.527161  42666.838274   Topic4  -5.9982  -0.1273\n",
       "325         given   7327.695549  40388.279970   Topic4  -6.0252  -0.0995\n",
       "1212      results   7235.300500  40392.023669   Topic4  -6.0379  -0.1122\n",
       "\n",
       "[402 rows x 6 columns], token_table=        Topic      Freq    Term\n",
       "term                           \n",
       "48439       1  0.145229   aaaaa\n",
       "48439       2  0.290457   aaaaa\n",
       "48439       3  0.145229   aaaaa\n",
       "48439       4  0.508300   aaaaa\n",
       "1303        1  0.218908  action\n",
       "...       ...       ...     ...\n",
       "60822       4  0.138469     zxy\n",
       "168742      1  0.633806    zxyi\n",
       "168742      2  0.126761    zxyi\n",
       "168742      3  0.126761    zxyi\n",
       "168742      4  0.126761    zxyi\n",
       "\n",
       "[1142 rows x 3 columns], R=30, lambda_step=0.01, plot_opts={'xlab': 'PC1', 'ylab': 'PC2'}, topic_order=[1, 4, 2, 3])"
      ]
     },
     "execution_count": 18,
     "metadata": {},
     "output_type": "execute_result"
    }
   ],
   "source": [
    "LDAvis_prepared"
   ]
  },
  {
   "cell_type": "markdown",
   "metadata": {},
   "source": [
    "## Hierarchical Dirichlet Process"
   ]
  },
  {
   "cell_type": "code",
   "execution_count": 12,
   "metadata": {},
   "outputs": [
    {
     "name": "stderr",
     "output_type": "stream",
     "text": [
      "/Users/rhythmsyed/miniconda3/envs/entitylink/lib/python3.7/site-packages/ipykernel/ipkernel.py:283: DeprecationWarning: `should_run_async` will not call `transform_cell` automatically in the future. Please pass the result to `transformed_cell` argument and any exception that happen during thetransform in `preprocessing_exc_tuple` in IPython 7.17 and above.\n",
      "  and should_run_async(code)\n"
     ]
    }
   ],
   "source": [
    "from gensim.test.utils import common_corpus, common_dictionary\n",
    "from gensim.models import HdpModel"
   ]
  },
  {
   "cell_type": "code",
   "execution_count": 21,
   "metadata": {},
   "outputs": [
    {
     "name": "stderr",
     "output_type": "stream",
     "text": [
      "/Users/rhythmsyed/miniconda3/envs/entitylink/lib/python3.7/site-packages/ipykernel/ipkernel.py:283: DeprecationWarning: `should_run_async` will not call `transform_cell` automatically in the future. Please pass the result to `transformed_cell` argument and any exception that happen during thetransform in `preprocessing_exc_tuple` in IPython 7.17 and above.\n",
      "  and should_run_async(code)\n"
     ]
    }
   ],
   "source": [
    "hdp = gensim.models.HdpModel(corpus=corpus, id2word=id2word)"
   ]
  },
  {
   "cell_type": "code",
   "execution_count": 22,
   "metadata": {},
   "outputs": [
    {
     "name": "stderr",
     "output_type": "stream",
     "text": [
      "/Users/rhythmsyed/miniconda3/envs/entitylink/lib/python3.7/site-packages/ipykernel/ipkernel.py:283: DeprecationWarning: `should_run_async` will not call `transform_cell` automatically in the future. Please pass the result to `transformed_cell` argument and any exception that happen during thetransform in `preprocessing_exc_tuple` in IPython 7.17 and above.\n",
      "  and should_run_async(code)\n"
     ]
    },
    {
     "data": {
      "text/plain": [
       "[(0,\n",
       "  '0.006*model + 0.006*learning + 0.006*data + 0.005*algorithm + 0.004*set + 0.004*function + 0.004*using + 0.004*one + 0.003*time + 0.003*two'),\n",
       " (1,\n",
       "  '0.006*learning + 0.006*model + 0.005*data + 0.005*algorithm + 0.004*one + 0.004*function + 0.004*set + 0.004*using + 0.004*time + 0.003*training'),\n",
       " (2,\n",
       "  '0.006*learning + 0.005*network + 0.005*data + 0.005*figure + 0.004*model + 0.004*time + 0.004*set + 0.004*one + 0.004*neural + 0.004*algorithm'),\n",
       " (3,\n",
       "  '0.005*learning + 0.005*model + 0.004*data + 0.004*figure + 0.004*using + 0.004*function + 0.004*one + 0.004*set + 0.004*network + 0.004*time'),\n",
       " (4,\n",
       "  '0.005*model + 0.004*figure + 0.004*input + 0.004*neural + 0.004*learning + 0.003*networks + 0.003*data + 0.003*time + 0.003*wavelet + 0.003*set')]"
      ]
     },
     "execution_count": 22,
     "metadata": {},
     "output_type": "execute_result"
    }
   ],
   "source": [
    "hdp.print_topics(num_topics=5, num_words=10)"
   ]
  },
  {
   "cell_type": "code",
   "execution_count": 23,
   "metadata": {},
   "outputs": [
    {
     "name": "stderr",
     "output_type": "stream",
     "text": [
      "/Users/rhythmsyed/miniconda3/envs/entitylink/lib/python3.7/site-packages/ipykernel/ipkernel.py:283: DeprecationWarning: `should_run_async` will not call `transform_cell` automatically in the future. Please pass the result to `transformed_cell` argument and any exception that happen during thetransform in `preprocessing_exc_tuple` in IPython 7.17 and above.\n",
      "  and should_run_async(code)\n"
     ]
    }
   ],
   "source": [
    "# Visualize the topics\n",
    "LDAvis_data_filepath = os.path.join('./data/LDA_results/hlda_' + str(num_topics))"
   ]
  },
  {
   "cell_type": "code",
   "execution_count": 25,
   "metadata": {},
   "outputs": [
    {
     "name": "stderr",
     "output_type": "stream",
     "text": [
      "/Users/rhythmsyed/miniconda3/envs/entitylink/lib/python3.7/site-packages/ipykernel/ipkernel.py:283: DeprecationWarning: `should_run_async` will not call `transform_cell` automatically in the future. Please pass the result to `transformed_cell` argument and any exception that happen during thetransform in `preprocessing_exc_tuple` in IPython 7.17 and above.\n",
      "  and should_run_async(code)\n",
      "/Users/rhythmsyed/Desktop/GTRI/entitylink/KnowledgeGraph_Builder/src/pyldavis/pyLDAvis/gensim.py:51: RuntimeWarning: invalid value encountered in true_divide\n",
      "  doc_topic_dists = gamma / gamma.sum(axis=1)[:, None]\n"
     ]
    },
    {
     "ename": "ValidationError",
     "evalue": "\n * Not all rows (distributions) in doc_topic_dists sum to 1.",
     "output_type": "error",
     "traceback": [
      "\u001b[0;31m---------------------------------------------------------------------------\u001b[0m",
      "\u001b[0;31mValidationError\u001b[0m                           Traceback (most recent call last)",
      "\u001b[0;32m<ipython-input-25-33a16f456e48>\u001b[0m in \u001b[0;36m<module>\u001b[0;34m\u001b[0m\n\u001b[1;32m      1\u001b[0m \u001b[0;31m# # this is a bit time consuming - make the if statement True\u001b[0m\u001b[0;34m\u001b[0m\u001b[0;34m\u001b[0m\u001b[0;34m\u001b[0m\u001b[0m\n\u001b[1;32m      2\u001b[0m \u001b[0;31m# # if you want to execute visualization prep yourself\u001b[0m\u001b[0;34m\u001b[0m\u001b[0;34m\u001b[0m\u001b[0;34m\u001b[0m\u001b[0m\n\u001b[0;32m----> 3\u001b[0;31m \u001b[0mLDAvis_prepared\u001b[0m \u001b[0;34m=\u001b[0m \u001b[0mpyLDAvis\u001b[0m\u001b[0;34m.\u001b[0m\u001b[0mgensim\u001b[0m\u001b[0;34m.\u001b[0m\u001b[0mprepare\u001b[0m\u001b[0;34m(\u001b[0m\u001b[0mhdp\u001b[0m\u001b[0;34m,\u001b[0m \u001b[0mcorpus\u001b[0m\u001b[0;34m,\u001b[0m \u001b[0mid2word\u001b[0m\u001b[0;34m)\u001b[0m\u001b[0;34m\u001b[0m\u001b[0;34m\u001b[0m\u001b[0m\n\u001b[0m\u001b[1;32m      4\u001b[0m \u001b[0;32mwith\u001b[0m \u001b[0mopen\u001b[0m\u001b[0;34m(\u001b[0m\u001b[0mLDAvis_data_filepath\u001b[0m\u001b[0;34m,\u001b[0m \u001b[0;34m'wb'\u001b[0m\u001b[0;34m)\u001b[0m \u001b[0;32mas\u001b[0m \u001b[0mf\u001b[0m\u001b[0;34m:\u001b[0m\u001b[0;34m\u001b[0m\u001b[0;34m\u001b[0m\u001b[0m\n\u001b[1;32m      5\u001b[0m     \u001b[0mpickle\u001b[0m\u001b[0;34m.\u001b[0m\u001b[0mdump\u001b[0m\u001b[0;34m(\u001b[0m\u001b[0mLDAvis_prepared\u001b[0m\u001b[0;34m,\u001b[0m \u001b[0mf\u001b[0m\u001b[0;34m)\u001b[0m\u001b[0;34m\u001b[0m\u001b[0;34m\u001b[0m\u001b[0m\n",
      "\u001b[0;32m~/Desktop/GTRI/entitylink/KnowledgeGraph_Builder/src/pyldavis/pyLDAvis/gensim.py\u001b[0m in \u001b[0;36mprepare\u001b[0;34m(topic_model, corpus, dictionary, doc_topic_dist, **kwargs)\u001b[0m\n\u001b[1;32m    122\u001b[0m     \"\"\"\n\u001b[1;32m    123\u001b[0m     \u001b[0mopts\u001b[0m \u001b[0;34m=\u001b[0m \u001b[0mfp\u001b[0m\u001b[0;34m.\u001b[0m\u001b[0mmerge\u001b[0m\u001b[0;34m(\u001b[0m\u001b[0m_extract_data\u001b[0m\u001b[0;34m(\u001b[0m\u001b[0mtopic_model\u001b[0m\u001b[0;34m,\u001b[0m \u001b[0mcorpus\u001b[0m\u001b[0;34m,\u001b[0m \u001b[0mdictionary\u001b[0m\u001b[0;34m,\u001b[0m \u001b[0mdoc_topic_dist\u001b[0m\u001b[0;34m)\u001b[0m\u001b[0;34m,\u001b[0m \u001b[0mkwargs\u001b[0m\u001b[0;34m)\u001b[0m\u001b[0;34m\u001b[0m\u001b[0;34m\u001b[0m\u001b[0m\n\u001b[0;32m--> 124\u001b[0;31m     \u001b[0;32mreturn\u001b[0m \u001b[0mvis_prepare\u001b[0m\u001b[0;34m(\u001b[0m\u001b[0;34m**\u001b[0m\u001b[0mopts\u001b[0m\u001b[0;34m)\u001b[0m\u001b[0;34m\u001b[0m\u001b[0;34m\u001b[0m\u001b[0m\n\u001b[0m",
      "\u001b[0;32m~/Desktop/GTRI/entitylink/KnowledgeGraph_Builder/src/pyldavis/pyLDAvis/_prepare.py\u001b[0m in \u001b[0;36mprepare\u001b[0;34m(topic_term_dists, doc_topic_dists, doc_lengths, vocab, term_frequency, R, lambda_step, mds, n_jobs, plot_opts, sort_topics, start_index)\u001b[0m\n\u001b[1;32m    414\u001b[0m     \u001b[0mdoc_lengths\u001b[0m \u001b[0;34m=\u001b[0m \u001b[0m_series_with_name\u001b[0m\u001b[0;34m(\u001b[0m\u001b[0mdoc_lengths\u001b[0m\u001b[0;34m,\u001b[0m \u001b[0;34m'doc_length'\u001b[0m\u001b[0;34m)\u001b[0m\u001b[0;34m\u001b[0m\u001b[0;34m\u001b[0m\u001b[0m\n\u001b[1;32m    415\u001b[0m     \u001b[0mvocab\u001b[0m \u001b[0;34m=\u001b[0m \u001b[0m_series_with_name\u001b[0m\u001b[0;34m(\u001b[0m\u001b[0mvocab\u001b[0m\u001b[0;34m,\u001b[0m \u001b[0;34m'vocab'\u001b[0m\u001b[0;34m)\u001b[0m\u001b[0;34m\u001b[0m\u001b[0;34m\u001b[0m\u001b[0m\n\u001b[0;32m--> 416\u001b[0;31m     \u001b[0m_input_validate\u001b[0m\u001b[0;34m(\u001b[0m\u001b[0mtopic_term_dists\u001b[0m\u001b[0;34m,\u001b[0m \u001b[0mdoc_topic_dists\u001b[0m\u001b[0;34m,\u001b[0m \u001b[0mdoc_lengths\u001b[0m\u001b[0;34m,\u001b[0m \u001b[0mvocab\u001b[0m\u001b[0;34m,\u001b[0m \u001b[0mterm_frequency\u001b[0m\u001b[0;34m)\u001b[0m\u001b[0;34m\u001b[0m\u001b[0;34m\u001b[0m\u001b[0m\n\u001b[0m\u001b[1;32m    417\u001b[0m     \u001b[0mR\u001b[0m \u001b[0;34m=\u001b[0m \u001b[0mmin\u001b[0m\u001b[0;34m(\u001b[0m\u001b[0mR\u001b[0m\u001b[0;34m,\u001b[0m \u001b[0mlen\u001b[0m\u001b[0;34m(\u001b[0m\u001b[0mvocab\u001b[0m\u001b[0;34m)\u001b[0m\u001b[0;34m)\u001b[0m\u001b[0;34m\u001b[0m\u001b[0;34m\u001b[0m\u001b[0m\n\u001b[1;32m    418\u001b[0m \u001b[0;34m\u001b[0m\u001b[0m\n",
      "\u001b[0;32m~/Desktop/GTRI/entitylink/KnowledgeGraph_Builder/src/pyldavis/pyLDAvis/_prepare.py\u001b[0m in \u001b[0;36m_input_validate\u001b[0;34m(*args)\u001b[0m\n\u001b[1;32m     73\u001b[0m     \u001b[0mres\u001b[0m \u001b[0;34m=\u001b[0m \u001b[0m_input_check\u001b[0m\u001b[0;34m(\u001b[0m\u001b[0;34m*\u001b[0m\u001b[0margs\u001b[0m\u001b[0;34m)\u001b[0m\u001b[0;34m\u001b[0m\u001b[0;34m\u001b[0m\u001b[0m\n\u001b[1;32m     74\u001b[0m     \u001b[0;32mif\u001b[0m \u001b[0mres\u001b[0m\u001b[0;34m:\u001b[0m\u001b[0;34m\u001b[0m\u001b[0;34m\u001b[0m\u001b[0m\n\u001b[0;32m---> 75\u001b[0;31m         \u001b[0;32mraise\u001b[0m \u001b[0mValidationError\u001b[0m\u001b[0;34m(\u001b[0m\u001b[0;34m'\\n'\u001b[0m \u001b[0;34m+\u001b[0m \u001b[0;34m'\\n'\u001b[0m\u001b[0;34m.\u001b[0m\u001b[0mjoin\u001b[0m\u001b[0;34m(\u001b[0m\u001b[0;34m[\u001b[0m\u001b[0;34m' * '\u001b[0m \u001b[0;34m+\u001b[0m \u001b[0ms\u001b[0m \u001b[0;32mfor\u001b[0m \u001b[0ms\u001b[0m \u001b[0;32min\u001b[0m \u001b[0mres\u001b[0m\u001b[0;34m]\u001b[0m\u001b[0;34m)\u001b[0m\u001b[0;34m)\u001b[0m\u001b[0;34m\u001b[0m\u001b[0;34m\u001b[0m\u001b[0m\n\u001b[0m\u001b[1;32m     76\u001b[0m \u001b[0;34m\u001b[0m\u001b[0m\n\u001b[1;32m     77\u001b[0m \u001b[0;34m\u001b[0m\u001b[0m\n",
      "\u001b[0;31mValidationError\u001b[0m: \n * Not all rows (distributions) in doc_topic_dists sum to 1."
     ]
    }
   ],
   "source": [
    "# # this is a bit time consuming - make the if statement True\n",
    "# # if you want to execute visualization prep yourself\n",
    "LDAvis_prepared = pyLDAvis.gensim.prepare(hdp, corpus, id2word)\n",
    "with open(LDAvis_data_filepath, 'wb') as f:\n",
    "    pickle.dump(LDAvis_prepared, f)"
   ]
  },
  {
   "cell_type": "markdown",
   "metadata": {},
   "source": [
    "## Hierarchical Clustering: Taxogen"
   ]
  },
  {
   "cell_type": "code",
   "execution_count": null,
   "metadata": {},
   "outputs": [],
   "source": []
  }
 ],
 "metadata": {
  "kernelspec": {
   "display_name": "Python 3",
   "language": "python",
   "name": "python3"
  },
  "language_info": {
   "codemirror_mode": {
    "name": "ipython",
    "version": 3
   },
   "file_extension": ".py",
   "mimetype": "text/x-python",
   "name": "python",
   "nbconvert_exporter": "python",
   "pygments_lexer": "ipython3",
   "version": "3.7.5"
  }
 },
 "nbformat": 4,
 "nbformat_minor": 4
}
