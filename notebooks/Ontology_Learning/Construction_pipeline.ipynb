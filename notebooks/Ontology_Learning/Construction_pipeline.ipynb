{
 "cells": [
  {
   "cell_type": "markdown",
   "id": "promising-accreditation",
   "metadata": {},
   "source": [
    "### Load entities scraped from Wikipedia and NER"
   ]
  },
  {
   "cell_type": "code",
   "execution_count": 1,
   "id": "promising-oklahoma",
   "metadata": {},
   "outputs": [],
   "source": [
    "import pandas as pd\n",
    "from sklearn.feature_extraction.text import TfidfVectorizer\n",
    "from sklearn.cluster import KMeans\n",
    "import matplotlib.pyplot as plt\n",
    "import rdflib\n",
    "import numpy as np\n",
    "from random import shuffle"
   ]
  },
  {
   "cell_type": "code",
   "execution_count": 2,
   "id": "liked-thought",
   "metadata": {},
   "outputs": [
    {
     "data": {
      "text/html": [
       "<div>\n",
       "<style scoped>\n",
       "    .dataframe tbody tr th:only-of-type {\n",
       "        vertical-align: middle;\n",
       "    }\n",
       "\n",
       "    .dataframe tbody tr th {\n",
       "        vertical-align: top;\n",
       "    }\n",
       "\n",
       "    .dataframe thead th {\n",
       "        text-align: right;\n",
       "    }\n",
       "</style>\n",
       "<table border=\"1\" class=\"dataframe\">\n",
       "  <thead>\n",
       "    <tr style=\"text-align: right;\">\n",
       "      <th></th>\n",
       "      <th>Text</th>\n",
       "      <th>Start</th>\n",
       "      <th>End</th>\n",
       "      <th>Label</th>\n",
       "    </tr>\n",
       "  </thead>\n",
       "  <tbody>\n",
       "    <tr>\n",
       "      <th>0</th>\n",
       "      <td>Darth Vader</td>\n",
       "      <td>0</td>\n",
       "      <td>11</td>\n",
       "      <td>PERSON</td>\n",
       "    </tr>\n",
       "    <tr>\n",
       "      <th>1</th>\n",
       "      <td>George Lucas</td>\n",
       "      <td>195</td>\n",
       "      <td>207</td>\n",
       "      <td>PERSON</td>\n",
       "    </tr>\n",
       "    <tr>\n",
       "      <th>2</th>\n",
       "      <td>first</td>\n",
       "      <td>241</td>\n",
       "      <td>246</td>\n",
       "      <td>ORDINAL</td>\n",
       "    </tr>\n",
       "    <tr>\n",
       "      <th>3</th>\n",
       "      <td>six</td>\n",
       "      <td>247</td>\n",
       "      <td>250</td>\n",
       "      <td>CARDINAL</td>\n",
       "    </tr>\n",
       "    <tr>\n",
       "      <th>4</th>\n",
       "      <td>Darth Vader</td>\n",
       "      <td>302</td>\n",
       "      <td>307</td>\n",
       "      <td>PERSON</td>\n",
       "    </tr>\n",
       "    <tr>\n",
       "      <th>...</th>\n",
       "      <td>...</td>\n",
       "      <td>...</td>\n",
       "      <td>...</td>\n",
       "      <td>...</td>\n",
       "    </tr>\n",
       "    <tr>\n",
       "      <th>871</th>\n",
       "      <td>October 2005</td>\n",
       "      <td>42070</td>\n",
       "      <td>42082</td>\n",
       "      <td>DATE</td>\n",
       "    </tr>\n",
       "    <tr>\n",
       "      <th>872</th>\n",
       "      <td>ISBN 978-0-7922</td>\n",
       "      <td>42084</td>\n",
       "      <td>42099</td>\n",
       "      <td>ORG</td>\n",
       "    </tr>\n",
       "    <tr>\n",
       "      <th>873</th>\n",
       "      <td>Star Wars on Wookieepedia</td>\n",
       "      <td>42148</td>\n",
       "      <td>42173</td>\n",
       "      <td>WORK_OF_ART</td>\n",
       "    </tr>\n",
       "    <tr>\n",
       "      <th>874</th>\n",
       "      <td>Star Wars wiki</td>\n",
       "      <td>42177</td>\n",
       "      <td>42191</td>\n",
       "      <td>WORK_OF_ART</td>\n",
       "    </tr>\n",
       "    <tr>\n",
       "      <th>875</th>\n",
       "      <td>HiRez</td>\n",
       "      <td>42223</td>\n",
       "      <td>42228</td>\n",
       "      <td>ORG</td>\n",
       "    </tr>\n",
       "  </tbody>\n",
       "</table>\n",
       "<p>4419 rows × 4 columns</p>\n",
       "</div>"
      ],
      "text/plain": [
       "                          Text  Start    End        Label\n",
       "0                  Darth Vader      0     11       PERSON\n",
       "1                 George Lucas    195    207       PERSON\n",
       "2                        first    241    246      ORDINAL\n",
       "3                          six    247    250     CARDINAL\n",
       "4                  Darth Vader    302    307       PERSON\n",
       "..                         ...    ...    ...          ...\n",
       "871               October 2005  42070  42082         DATE\n",
       "872            ISBN 978-0-7922  42084  42099          ORG\n",
       "873  Star Wars on Wookieepedia  42148  42173  WORK_OF_ART\n",
       "874             Star Wars wiki  42177  42191  WORK_OF_ART\n",
       "875                      HiRez  42223  42228          ORG\n",
       "\n",
       "[4419 rows x 4 columns]"
      ]
     },
     "execution_count": 2,
     "metadata": {},
     "output_type": "execute_result"
    }
   ],
   "source": [
    "AS_entities = pd.read_csv('../entities/AnakinSkywalker_entities.csv').drop('Unnamed: 0', axis=1)\n",
    "GL_entities = pd.read_csv('../entities/GeorgeLucas_entities.csv').drop('Unnamed: 0', axis=1)\n",
    "J_entities = pd.read_csv('../entities/Jedi_entities.csv').drop('Unnamed: 0', axis=1)\n",
    "MF_entities = pd.read_csv('../entities/MillenniumFalcon_entities.csv').drop('Unnamed: 0', axis=1)\n",
    "SW_entities = pd.read_csv('../entities/StarWars_entities.csv').drop('Unnamed: 0', axis=1)\n",
    "dataset = pd.concat([AS_entities, GL_entities, J_entities, MF_entities, SW_entities])\n",
    "dataset"
   ]
  },
  {
   "cell_type": "code",
   "execution_count": 3,
   "id": "australian-rocket",
   "metadata": {},
   "outputs": [
    {
     "name": "stdout",
     "output_type": "stream",
     "text": [
      "4419\n"
     ]
    }
   ],
   "source": [
    "entities = dataset['Text'].to_list()\n",
    "print(len(entities))"
   ]
  },
  {
   "cell_type": "markdown",
   "id": "negative-teacher",
   "metadata": {},
   "source": [
    "### Load entities from existing KB"
   ]
  },
  {
   "cell_type": "code",
   "execution_count": 4,
   "id": "scientific-poultry",
   "metadata": {},
   "outputs": [
    {
     "data": {
      "text/plain": [
       "<Graph identifier=N024248a7ad9841609dafdca9a80e0df2 (<class 'rdflib.graph.Graph'>)>"
      ]
     },
     "execution_count": 4,
     "metadata": {},
     "output_type": "execute_result"
    }
   ],
   "source": [
    "graph = rdflib.Graph()\n",
    "graph.parse('../data/starwars-data.ttl', format='turtle')"
   ]
  },
  {
   "cell_type": "code",
   "execution_count": 5,
   "id": "golden-transparency",
   "metadata": {},
   "outputs": [
    {
     "data": {
      "text/plain": [
       "1082"
      ]
     },
     "execution_count": 5,
     "metadata": {},
     "output_type": "execute_result"
    }
   ],
   "source": [
    "query_str = \"\"\"\n",
    "    PREFIX rdf: <http://www.w3.org/1999/02/22-rdf-syntax-ns#>\n",
    "    PREFIX rdfs: <http://www.w3.org/2000/01/rdf-schema#>\n",
    "    PREFIX voc: <https://swapi.co/vocabulary/>\n",
    "    PREFIX xml: <http://www.w3.org/XML/1998/namespace>\n",
    "    PREFIX xsd: <http://www.w3.org/2001/XMLSchema#>\n",
    "\n",
    "\n",
    "    SELECT ?o\n",
    "    WHERE {   \n",
    "        ?s rdfs:label ?o.\n",
    "        FILTER (langMatches(lang(?o),\"en\"))\n",
    "    }\n",
    "\"\"\"\n",
    "res = graph.query(query_str)\n",
    "len(list(res))"
   ]
  },
  {
   "cell_type": "code",
   "execution_count": 6,
   "id": "stopped-spray",
   "metadata": {},
   "outputs": [
    {
     "data": {
      "text/plain": [
       "[(rdflib.term.Literal('Chengdu', lang='en-GB')),\n",
       " (rdflib.term.Literal('Pittsburgh', lang='en')),\n",
       " (rdflib.term.Literal('Julian Glover', lang='en')),\n",
       " (rdflib.term.Literal('Barnes', lang='en')),\n",
       " (rdflib.term.Literal('France', lang='en-GB'))]"
      ]
     },
     "execution_count": 6,
     "metadata": {},
     "output_type": "execute_result"
    }
   ],
   "source": [
    "list(res)[:5]"
   ]
  },
  {
   "cell_type": "code",
   "execution_count": 7,
   "id": "changing-video",
   "metadata": {},
   "outputs": [
    {
     "data": {
      "text/plain": [
       "['Chengdu', 'Pittsburgh', 'Julian Glover', 'Barnes', 'France']"
      ]
     },
     "execution_count": 7,
     "metadata": {},
     "output_type": "execute_result"
    }
   ],
   "source": [
    "kb_entities = []\n",
    "for o in list(res):\n",
    "    kb_entities.append(str(o[0]))\n",
    "kb_entities[:5]"
   ]
  },
  {
   "cell_type": "code",
   "execution_count": 8,
   "id": "living-management",
   "metadata": {},
   "outputs": [
    {
     "data": {
      "text/plain": [
       "['Darth Vader', 'George Lucas', 'first', 'six', 'Darth Vader']"
      ]
     },
     "execution_count": 8,
     "metadata": {},
     "output_type": "execute_result"
    }
   ],
   "source": [
    "entities[:5]"
   ]
  },
  {
   "cell_type": "code",
   "execution_count": 9,
   "id": "global-profession",
   "metadata": {},
   "outputs": [
    {
     "data": {
      "text/plain": [
       "2214"
      ]
     },
     "execution_count": 9,
     "metadata": {},
     "output_type": "execute_result"
    }
   ],
   "source": [
    "entities = list(set(kb_entities + entities))\n",
    "len(entities)"
   ]
  },
  {
   "cell_type": "code",
   "execution_count": 10,
   "id": "looking-watershed",
   "metadata": {},
   "outputs": [
    {
     "data": {
      "text/plain": [
       "2214"
      ]
     },
     "execution_count": 10,
     "metadata": {},
     "output_type": "execute_result"
    }
   ],
   "source": [
    "for index, entity in enumerate(entities):\n",
    "    entities[index] = entity.replace(\" \", \"_\")\n",
    "len(entities)"
   ]
  },
  {
   "cell_type": "code",
   "execution_count": 11,
   "id": "included-cincinnati",
   "metadata": {},
   "outputs": [
    {
     "data": {
      "text/plain": [
       "611"
      ]
     },
     "execution_count": 11,
     "metadata": {},
     "output_type": "execute_result"
    }
   ],
   "source": [
    "kb_entities = list(set(kb_entities))\n",
    "len(kb_entities)"
   ]
  },
  {
   "cell_type": "code",
   "execution_count": 12,
   "id": "hundred-catalyst",
   "metadata": {},
   "outputs": [
    {
     "data": {
      "text/html": [
       "<div>\n",
       "<style scoped>\n",
       "    .dataframe tbody tr th:only-of-type {\n",
       "        vertical-align: middle;\n",
       "    }\n",
       "\n",
       "    .dataframe tbody tr th {\n",
       "        vertical-align: top;\n",
       "    }\n",
       "\n",
       "    .dataframe thead th {\n",
       "        text-align: right;\n",
       "    }\n",
       "</style>\n",
       "<table border=\"1\" class=\"dataframe\">\n",
       "  <thead>\n",
       "    <tr style=\"text-align: right;\">\n",
       "      <th></th>\n",
       "      <th>name</th>\n",
       "      <th>height</th>\n",
       "      <th>mass</th>\n",
       "      <th>hair_color</th>\n",
       "      <th>skin_color</th>\n",
       "      <th>eye_color</th>\n",
       "      <th>birth_year</th>\n",
       "      <th>gender</th>\n",
       "      <th>homeworld</th>\n",
       "      <th>species</th>\n",
       "    </tr>\n",
       "  </thead>\n",
       "  <tbody>\n",
       "    <tr>\n",
       "      <th>0</th>\n",
       "      <td>Luke Skywalker</td>\n",
       "      <td>172.0</td>\n",
       "      <td>77</td>\n",
       "      <td>blond</td>\n",
       "      <td>fair</td>\n",
       "      <td>blue</td>\n",
       "      <td>19BBY</td>\n",
       "      <td>male</td>\n",
       "      <td>Tatooine</td>\n",
       "      <td>Human</td>\n",
       "    </tr>\n",
       "    <tr>\n",
       "      <th>1</th>\n",
       "      <td>C-3PO</td>\n",
       "      <td>167.0</td>\n",
       "      <td>75</td>\n",
       "      <td>NaN</td>\n",
       "      <td>gold</td>\n",
       "      <td>yellow</td>\n",
       "      <td>112BBY</td>\n",
       "      <td>NaN</td>\n",
       "      <td>Tatooine</td>\n",
       "      <td>Droid</td>\n",
       "    </tr>\n",
       "    <tr>\n",
       "      <th>2</th>\n",
       "      <td>R2-D2</td>\n",
       "      <td>96.0</td>\n",
       "      <td>32</td>\n",
       "      <td>NaN</td>\n",
       "      <td>white, blue</td>\n",
       "      <td>red</td>\n",
       "      <td>33BBY</td>\n",
       "      <td>NaN</td>\n",
       "      <td>Naboo</td>\n",
       "      <td>Droid</td>\n",
       "    </tr>\n",
       "    <tr>\n",
       "      <th>3</th>\n",
       "      <td>Darth Vader</td>\n",
       "      <td>202.0</td>\n",
       "      <td>136</td>\n",
       "      <td>none</td>\n",
       "      <td>white</td>\n",
       "      <td>yellow</td>\n",
       "      <td>41.9BBY</td>\n",
       "      <td>male</td>\n",
       "      <td>Tatooine</td>\n",
       "      <td>Human</td>\n",
       "    </tr>\n",
       "    <tr>\n",
       "      <th>4</th>\n",
       "      <td>Leia Organa</td>\n",
       "      <td>150.0</td>\n",
       "      <td>49</td>\n",
       "      <td>brown</td>\n",
       "      <td>light</td>\n",
       "      <td>brown</td>\n",
       "      <td>19BBY</td>\n",
       "      <td>female</td>\n",
       "      <td>Alderaan</td>\n",
       "      <td>Human</td>\n",
       "    </tr>\n",
       "  </tbody>\n",
       "</table>\n",
       "</div>"
      ],
      "text/plain": [
       "             name  height mass hair_color   skin_color eye_color birth_year  \\\n",
       "0  Luke Skywalker   172.0   77      blond         fair      blue      19BBY   \n",
       "1           C-3PO   167.0   75        NaN         gold    yellow     112BBY   \n",
       "2           R2-D2    96.0   32        NaN  white, blue       red      33BBY   \n",
       "3     Darth Vader   202.0  136       none        white    yellow    41.9BBY   \n",
       "4     Leia Organa   150.0   49      brown        light     brown      19BBY   \n",
       "\n",
       "   gender homeworld species  \n",
       "0    male  Tatooine   Human  \n",
       "1     NaN  Tatooine   Droid  \n",
       "2     NaN     Naboo   Droid  \n",
       "3    male  Tatooine   Human  \n",
       "4  female  Alderaan   Human  "
      ]
     },
     "execution_count": 12,
     "metadata": {},
     "output_type": "execute_result"
    }
   ],
   "source": [
    "characters = pd.read_csv('../data/kaggle/characters.csv')\n",
    "planets = pd.read_csv('../data/kaggle/planets.csv')\n",
    "species = pd.read_csv('../data/kaggle/species.csv')\n",
    "starships = pd.read_csv('../data/kaggle/starships.csv')\n",
    "vehicles = pd.read_csv('../data/kaggle/vehicles.csv')\n",
    "characters.head()"
   ]
  },
  {
   "cell_type": "code",
   "execution_count": 13,
   "id": "wired-export",
   "metadata": {},
   "outputs": [
    {
     "name": "stdout",
     "output_type": "stream",
     "text": [
      "['bike', 'jet', 'offee', 'barge', 'gregar']\n"
     ]
    },
    {
     "data": {
      "text/plain": [
       "439"
      ]
     },
     "execution_count": 13,
     "metadata": {},
     "output_type": "execute_result"
    }
   ],
   "source": [
    "entities = pd.concat([characters['name'], planets['name'], species['name'], starships['name'], vehicles['name']]).tolist()\n",
    "\n",
    "vocabulary = []\n",
    "for index, entity in enumerate(entities):\n",
    "    words = str(entity).split(' ')\n",
    "    for word in words:\n",
    "        vocabulary.append(word.lower())\n",
    "    \n",
    "shuffle(vocabulary)\n",
    "print(vocabulary[:5])\n",
    "len(vocabulary)"
   ]
  },
  {
   "cell_type": "markdown",
   "id": "chicken-category",
   "metadata": {},
   "source": [
    "### Load Pre-trained Word Vectors"
   ]
  },
  {
   "cell_type": "code",
   "execution_count": 14,
   "id": "initial-wichita",
   "metadata": {},
   "outputs": [
    {
     "name": "stdout",
     "output_type": "stream",
     "text": [
      "CPU times: user 5.49 s, sys: 351 ms, total: 5.84 s\n",
      "Wall time: 5.91 s\n"
     ]
    },
    {
     "data": {
      "text/plain": [
       "400000"
      ]
     },
     "execution_count": 14,
     "metadata": {},
     "output_type": "execute_result"
    }
   ],
   "source": [
    "%%time\n",
    "embeddings = {}\n",
    "file = open('../../../glove.6B/glove.6B.50d.txt', encoding='utf-8')\n",
    "\n",
    "for line in file:\n",
    "    fields = line.strip().split(\" \")\n",
    "    word = fields[0]\n",
    "    embeddings[word] = [float(x) for x in fields[1:]]\n",
    "\n",
    "len(embeddings)"
   ]
  },
  {
   "cell_type": "code",
   "execution_count": 15,
   "id": "acquired-reproduction",
   "metadata": {},
   "outputs": [
    {
     "data": {
      "text/plain": [
       "400000"
      ]
     },
     "execution_count": 15,
     "metadata": {},
     "output_type": "execute_result"
    }
   ],
   "source": [
    "len(embeddings.keys())"
   ]
  },
  {
   "cell_type": "code",
   "execution_count": 16,
   "id": "stainless-marble",
   "metadata": {},
   "outputs": [
    {
     "data": {
      "text/plain": [
       "50"
      ]
     },
     "execution_count": 16,
     "metadata": {},
     "output_type": "execute_result"
    }
   ],
   "source": [
    "len(embeddings['organa'])"
   ]
  },
  {
   "cell_type": "code",
   "execution_count": 17,
   "id": "blessed-cutting",
   "metadata": {},
   "outputs": [
    {
     "name": "stdout",
     "output_type": "stream",
     "text": [
      "words not in embed: 168\n"
     ]
    },
    {
     "data": {
      "text/plain": [
       "array([[-0.066264,  0.63021 ,  0.29176 , ..., -1.4157  ,  0.71565 ,\n",
       "        -0.087735],\n",
       "       [ 1.295   , -0.11407 ,  0.96883 , ...,  0.10743 , -0.27815 ,\n",
       "         0.10925 ],\n",
       "       [ 0.      ,  0.      ,  0.      , ...,  0.      ,  0.      ,\n",
       "         0.      ],\n",
       "       ...,\n",
       "       [ 0.23272 ,  0.59108 , -1.1557  , ..., -1.088   , -0.27955 ,\n",
       "        -0.78883 ],\n",
       "       [ 0.      ,  0.      ,  0.      , ...,  0.      ,  0.      ,\n",
       "         0.      ],\n",
       "       [-0.18548 , -0.45376 , -0.82937 , ..., -0.81792 , -0.024871,\n",
       "        -0.7107  ]])"
      ]
     },
     "execution_count": 17,
     "metadata": {},
     "output_type": "execute_result"
    }
   ],
   "source": [
    "word_vector_matrix = np.zeros((len(vocabulary), 50))\n",
    "\n",
    "count = 0\n",
    "for index, word in enumerate(vocabulary):\n",
    "    vector = embeddings.get(word)\n",
    "    if vector is not None:\n",
    "        word_vector_matrix[index] = vector\n",
    "    else:\n",
    "        count += 1\n",
    "print('words not in embed: ' + str(count))\n",
    "word_vector_matrix.shape\n",
    "word_vector_matrix"
   ]
  },
  {
   "cell_type": "markdown",
   "id": "optimum-jordan",
   "metadata": {},
   "source": [
    "### Unsupervised Concept Extraction: Kmeans Clustering"
   ]
  },
  {
   "cell_type": "code",
   "execution_count": 18,
   "id": "vocational-apache",
   "metadata": {},
   "outputs": [
    {
     "ename": "ValueError",
     "evalue": "np.nan is an invalid document, expected byte or unicode string.",
     "output_type": "error",
     "traceback": [
      "\u001b[0;31m---------------------------------------------------------------------------\u001b[0m",
      "\u001b[0;31mValueError\u001b[0m                                Traceback (most recent call last)",
      "\u001b[0;32m<ipython-input-18-c40a3a7e728b>\u001b[0m in \u001b[0;36m<module>\u001b[0;34m\u001b[0m\n\u001b[0;32m----> 1\u001b[0;31m \u001b[0mtfidf_vec\u001b[0m \u001b[0;34m=\u001b[0m \u001b[0mTfidfVectorizer\u001b[0m\u001b[0;34m(\u001b[0m\u001b[0mngram_range\u001b[0m\u001b[0;34m=\u001b[0m\u001b[0;34m(\u001b[0m\u001b[0;36m1\u001b[0m\u001b[0;34m,\u001b[0m\u001b[0;36m3\u001b[0m\u001b[0;34m)\u001b[0m\u001b[0;34m)\u001b[0m\u001b[0;34m.\u001b[0m\u001b[0mfit\u001b[0m\u001b[0;34m(\u001b[0m\u001b[0mentities\u001b[0m\u001b[0;34m)\u001b[0m\u001b[0;34m\u001b[0m\u001b[0;34m\u001b[0m\u001b[0m\n\u001b[0m\u001b[1;32m      2\u001b[0m \u001b[0mx_vec\u001b[0m \u001b[0;34m=\u001b[0m \u001b[0mtfidf_vec\u001b[0m\u001b[0;34m.\u001b[0m\u001b[0mtransform\u001b[0m\u001b[0;34m(\u001b[0m\u001b[0mentities\u001b[0m\u001b[0;34m)\u001b[0m\u001b[0;34m\u001b[0m\u001b[0;34m\u001b[0m\u001b[0m\n\u001b[1;32m      3\u001b[0m \u001b[0mx_vec\u001b[0m\u001b[0;34m.\u001b[0m\u001b[0mshape\u001b[0m\u001b[0;34m\u001b[0m\u001b[0;34m\u001b[0m\u001b[0m\n",
      "\u001b[0;32m~/miniconda3/envs/entitylink/lib/python3.7/site-packages/sklearn/feature_extraction/text.py\u001b[0m in \u001b[0;36mfit\u001b[0;34m(self, raw_documents, y)\u001b[0m\n\u001b[1;32m   1560\u001b[0m         \"\"\"\n\u001b[1;32m   1561\u001b[0m         \u001b[0mself\u001b[0m\u001b[0;34m.\u001b[0m\u001b[0m_check_params\u001b[0m\u001b[0;34m(\u001b[0m\u001b[0;34m)\u001b[0m\u001b[0;34m\u001b[0m\u001b[0;34m\u001b[0m\u001b[0m\n\u001b[0;32m-> 1562\u001b[0;31m         \u001b[0mX\u001b[0m \u001b[0;34m=\u001b[0m \u001b[0msuper\u001b[0m\u001b[0;34m(\u001b[0m\u001b[0mTfidfVectorizer\u001b[0m\u001b[0;34m,\u001b[0m \u001b[0mself\u001b[0m\u001b[0;34m)\u001b[0m\u001b[0;34m.\u001b[0m\u001b[0mfit_transform\u001b[0m\u001b[0;34m(\u001b[0m\u001b[0mraw_documents\u001b[0m\u001b[0;34m)\u001b[0m\u001b[0;34m\u001b[0m\u001b[0;34m\u001b[0m\u001b[0m\n\u001b[0m\u001b[1;32m   1563\u001b[0m         \u001b[0mself\u001b[0m\u001b[0;34m.\u001b[0m\u001b[0m_tfidf\u001b[0m\u001b[0;34m.\u001b[0m\u001b[0mfit\u001b[0m\u001b[0;34m(\u001b[0m\u001b[0mX\u001b[0m\u001b[0;34m)\u001b[0m\u001b[0;34m\u001b[0m\u001b[0;34m\u001b[0m\u001b[0m\n\u001b[1;32m   1564\u001b[0m         \u001b[0;32mreturn\u001b[0m \u001b[0mself\u001b[0m\u001b[0;34m\u001b[0m\u001b[0;34m\u001b[0m\u001b[0m\n",
      "\u001b[0;32m~/miniconda3/envs/entitylink/lib/python3.7/site-packages/sklearn/feature_extraction/text.py\u001b[0m in \u001b[0;36mfit_transform\u001b[0;34m(self, raw_documents, y)\u001b[0m\n\u001b[1;32m   1010\u001b[0m \u001b[0;34m\u001b[0m\u001b[0m\n\u001b[1;32m   1011\u001b[0m         vocabulary, X = self._count_vocab(raw_documents,\n\u001b[0;32m-> 1012\u001b[0;31m                                           self.fixed_vocabulary_)\n\u001b[0m\u001b[1;32m   1013\u001b[0m \u001b[0;34m\u001b[0m\u001b[0m\n\u001b[1;32m   1014\u001b[0m         \u001b[0;32mif\u001b[0m \u001b[0mself\u001b[0m\u001b[0;34m.\u001b[0m\u001b[0mbinary\u001b[0m\u001b[0;34m:\u001b[0m\u001b[0;34m\u001b[0m\u001b[0;34m\u001b[0m\u001b[0m\n",
      "\u001b[0;32m~/miniconda3/envs/entitylink/lib/python3.7/site-packages/sklearn/feature_extraction/text.py\u001b[0m in \u001b[0;36m_count_vocab\u001b[0;34m(self, raw_documents, fixed_vocab)\u001b[0m\n\u001b[1;32m    920\u001b[0m         \u001b[0;32mfor\u001b[0m \u001b[0mdoc\u001b[0m \u001b[0;32min\u001b[0m \u001b[0mraw_documents\u001b[0m\u001b[0;34m:\u001b[0m\u001b[0;34m\u001b[0m\u001b[0;34m\u001b[0m\u001b[0m\n\u001b[1;32m    921\u001b[0m             \u001b[0mfeature_counter\u001b[0m \u001b[0;34m=\u001b[0m \u001b[0;34m{\u001b[0m\u001b[0;34m}\u001b[0m\u001b[0;34m\u001b[0m\u001b[0;34m\u001b[0m\u001b[0m\n\u001b[0;32m--> 922\u001b[0;31m             \u001b[0;32mfor\u001b[0m \u001b[0mfeature\u001b[0m \u001b[0;32min\u001b[0m \u001b[0manalyze\u001b[0m\u001b[0;34m(\u001b[0m\u001b[0mdoc\u001b[0m\u001b[0;34m)\u001b[0m\u001b[0;34m:\u001b[0m\u001b[0;34m\u001b[0m\u001b[0;34m\u001b[0m\u001b[0m\n\u001b[0m\u001b[1;32m    923\u001b[0m                 \u001b[0;32mtry\u001b[0m\u001b[0;34m:\u001b[0m\u001b[0;34m\u001b[0m\u001b[0;34m\u001b[0m\u001b[0m\n\u001b[1;32m    924\u001b[0m                     \u001b[0mfeature_idx\u001b[0m \u001b[0;34m=\u001b[0m \u001b[0mvocabulary\u001b[0m\u001b[0;34m[\u001b[0m\u001b[0mfeature\u001b[0m\u001b[0;34m]\u001b[0m\u001b[0;34m\u001b[0m\u001b[0;34m\u001b[0m\u001b[0m\n",
      "\u001b[0;32m~/miniconda3/envs/entitylink/lib/python3.7/site-packages/sklearn/feature_extraction/text.py\u001b[0m in \u001b[0;36m<lambda>\u001b[0;34m(doc)\u001b[0m\n\u001b[1;32m    306\u001b[0m                                                tokenize)\n\u001b[1;32m    307\u001b[0m             return lambda doc: self._word_ngrams(\n\u001b[0;32m--> 308\u001b[0;31m                 tokenize(preprocess(self.decode(doc))), stop_words)\n\u001b[0m\u001b[1;32m    309\u001b[0m \u001b[0;34m\u001b[0m\u001b[0m\n\u001b[1;32m    310\u001b[0m         \u001b[0;32melse\u001b[0m\u001b[0;34m:\u001b[0m\u001b[0;34m\u001b[0m\u001b[0;34m\u001b[0m\u001b[0m\n",
      "\u001b[0;32m~/miniconda3/envs/entitylink/lib/python3.7/site-packages/sklearn/feature_extraction/text.py\u001b[0m in \u001b[0;36mdecode\u001b[0;34m(self, doc)\u001b[0m\n\u001b[1;32m    141\u001b[0m \u001b[0;34m\u001b[0m\u001b[0m\n\u001b[1;32m    142\u001b[0m         \u001b[0;32mif\u001b[0m \u001b[0mdoc\u001b[0m \u001b[0;32mis\u001b[0m \u001b[0mnp\u001b[0m\u001b[0;34m.\u001b[0m\u001b[0mnan\u001b[0m\u001b[0;34m:\u001b[0m\u001b[0;34m\u001b[0m\u001b[0;34m\u001b[0m\u001b[0m\n\u001b[0;32m--> 143\u001b[0;31m             raise ValueError(\"np.nan is an invalid document, expected byte or \"\n\u001b[0m\u001b[1;32m    144\u001b[0m                              \"unicode string.\")\n\u001b[1;32m    145\u001b[0m \u001b[0;34m\u001b[0m\u001b[0m\n",
      "\u001b[0;31mValueError\u001b[0m: np.nan is an invalid document, expected byte or unicode string."
     ]
    }
   ],
   "source": [
    "tfidf_vec = TfidfVectorizer(ngram_range=(1,3)).fit(entities)\n",
    "x_vec = tfidf_vec.transform(entities)\n",
    "x_vec.shape"
   ]
  },
  {
   "cell_type": "code",
   "execution_count": 19,
   "id": "correct-silly",
   "metadata": {},
   "outputs": [],
   "source": [
    "num_of_clusters = 10\n",
    "sum_of_squared_dist = []\n",
    "for k in range(1, num_of_clusters):\n",
    "    model = KMeans(n_clusters=k, init='k-means++', n_init=100)\n",
    "    model.fit(word_vector_matrix)\n",
    "    sum_of_squared_dist.append(model.inertia_)"
   ]
  },
  {
   "cell_type": "code",
   "execution_count": 20,
   "id": "comparative-perry",
   "metadata": {},
   "outputs": [
    {
     "data": {
      "text/plain": [
       "Text(0, 0.5, 'SSD')"
      ]
     },
     "execution_count": 20,
     "metadata": {},
     "output_type": "execute_result"
    },
    {
     "data": {
      "image/png": "[encoded data removed]",
      "text/plain": [
       "<Figure size 432x288 with 1 Axes>"
      ]
     },
     "metadata": {
      "needs_background": "light"
     },
     "output_type": "display_data"
    }
   ],
   "source": [
    "plt.plot(range(1,num_of_clusters), sum_of_squared_dist)\n",
    "plt.xlabel('num of clusters')\n",
    "plt.ylabel('SSD')"
   ]
  },
  {
   "cell_type": "code",
   "execution_count": 23,
   "id": "common-removal",
   "metadata": {},
   "outputs": [
    {
     "data": {
      "text/plain": [
       "KMeans(algorithm='auto', copy_x=True, init='k-means++', max_iter=300,\n",
       "    n_clusters=4, n_init=100, n_jobs=None, precompute_distances='auto',\n",
       "    random_state=None, tol=0.0001, verbose=0)"
      ]
     },
     "execution_count": 23,
     "metadata": {},
     "output_type": "execute_result"
    }
   ],
   "source": [
    "model = KMeans(n_clusters=4, init='k-means++', n_init=100)\n",
    "model.fit(word_vector_matrix)"
   ]
  },
  {
   "cell_type": "code",
   "execution_count": 28,
   "id": "unlike-prize",
   "metadata": {},
   "outputs": [
    {
     "name": "stdout",
     "output_type": "stream",
     "text": [
      "439 4\n"
     ]
    }
   ],
   "source": [
    "labels = model.labels_\n",
    "centroids = model.cluster_centers_\n",
    "print(len(labels), len(centroids))"
   ]
  },
  {
   "cell_type": "code",
   "execution_count": 31,
   "id": "green-memorial",
   "metadata": {},
   "outputs": [
    {
     "data": {
      "image/png": "[encoded data removed]",
      "text/plain": [
       "<Figure size 432x288 with 1 Axes>"
      ]
     },
     "metadata": {
      "needs_background": "light"
     },
     "output_type": "display_data"
    }
   ],
   "source": [
    "import matplotlib.pyplot as plt\n",
    " \n",
    "from sklearn.manifold import TSNE\n",
    " \n",
    "model = TSNE(n_components=2, random_state=0)\n",
    "np.set_printoptions(suppress=True)\n",
    " \n",
    "Y=model.fit_transform(word_vector_matrix)\n",
    "plt.scatter(Y[:, 0], Y[:, 1], c=labels, s=290,alpha=.5)\n",
    "plt.show()"
   ]
  },
  {
   "cell_type": "code",
   "execution_count": null,
   "id": "expected-knife",
   "metadata": {},
   "outputs": [],
   "source": []
  },
  {
   "cell_type": "code",
   "execution_count": null,
   "id": "level-saint",
   "metadata": {},
   "outputs": [],
   "source": []
  },
  {
   "cell_type": "code",
   "execution_count": null,
   "id": "tamil-frederick",
   "metadata": {},
   "outputs": [],
   "source": []
  },
  {
   "cell_type": "code",
   "execution_count": 21,
   "id": "otherwise-knowing",
   "metadata": {},
   "outputs": [],
   "source": [
    "from sklearn.cluster import AffinityPropagation\n",
    "import distance"
   ]
  },
  {
   "cell_type": "code",
   "execution_count": 22,
   "id": "little-version",
   "metadata": {},
   "outputs": [
    {
     "name": "stdout",
     "output_type": "stream",
     "text": [
      "['Luke Skywalker' 'C-3PO' 'R2-D2' 'Darth Vader' 'Leia Organa' 'Owen Lars'\n",
      " 'Beru Whitesun lars' 'R5-D4' 'Biggs Darklighter' 'Obi-Wan Kenobi']\n"
     ]
    }
   ],
   "source": [
    "words = np.array(entities[0:100])\n",
    "len(words)\n",
    "print(words[:10])"
   ]
  },
  {
   "cell_type": "code",
   "execution_count": 217,
   "id": "disabled-french",
   "metadata": {},
   "outputs": [],
   "source": [
    "lev_similarity = -1*np.array([[distance.levenshtein(w1,w2) for w1 in words] for w2 in words])"
   ]
  },
  {
   "cell_type": "code",
   "execution_count": 218,
   "id": "starting-needle",
   "metadata": {},
   "outputs": [
    {
     "name": "stdout",
     "output_type": "stream",
     "text": [
      "*Tsmeu-6_personal_wheel_bike*: Tsmeu-6_personal_wheel_bike\n",
      "*Muun*: AT-ST, AT-TE, Finn, Human, Hutt, Mustafar, Muun, Muunilinst, Nautolan, Pau'an, R4-P17, Yoda, arc-170\n",
      "*Bantha-II_cargo_skiff*: Bantha-II_cargo_skiff, Naboo_star_skiff\n",
      "*Jedi_Interceptor*: Jedi_Interceptor, TIE/IN_interceptor\n",
      "*Sentinel-class_landing_craft*: Sentinel-class_landing_craft\n",
      "*Trade_Federation_cruiser*: Trade_Federation_cruiser\n",
      "*Geonosian_starfighter*: Geonosian_starfighter\n",
      "*Kamino*: A-wing, Aleen_Minor, Ben_Quadinaros, Clawdite, Dagobah, Dantooine, Eeth_Koth, Gasgano, Kaleesh, Kamino, Kaminoan, Kit_Fisto, Mace_Windu, Naboo, Plo_Koon, Ryloth, Saesee_Tiin, Shili, Tatooine\n",
      "*Neimoidian_shuttle*: Neimoidian_shuttle\n",
      "*J-type_diplomatic_barge*: J-type_diplomatic_barge\n",
      "*C-9979_landing_craft*: C-9979_landing_craft\n",
      "*Multi-Troop_Transport*: Multi-Troop_Transport\n",
      "*Oevvaor_jet_catamaran*: Oevvaor_jet_catamaran\n",
      "*Wilhuff_Tarkin*: Vulture_Droid, Wilhuff_Tarkin\n",
      "*Sith_speeder*: Flitknot_speeder, Ratts_Tyerell, Sith_speeder, Snowspeeder, T-16_skyhopper, X-34_landspeeder\n",
      "*Anakin_Skywalker*: Anakin_Skywalker\n",
      "*Jabba_Desilijic_Tiure*: Jabba_Desilijic_Tiure\n",
      "*Imperial_Speeder_Bike*: Imperial_Speeder_Bike\n",
      "*Wedge_Antilles*: Dexter_Jettster, Glee_Anselm, Raymus_Antilles, Wedge_Antilles\n",
      "*Republic_attack_cruiser*: Republic_attack_cruiser\n",
      "*Cerea*: Aleena, CR90_corvette, Cerea, Chandrila, Chewbacca, Coruscant, Death_Star, Dormé, IG-88, Quermia, Quermian, Sebulba, Slave_1, Socorro, Togruta, Xexto\n",
      "*Theta-class_T-2c_shuttle*: Theta-class_T-2c_shuttle\n",
      "*EF76_Nebulon-B_escort_frigate*: EF76_Nebulon-B_escort_frigate\n",
      "*Emergency_Firespeeder*: Emergency_Firespeeder\n",
      "*Mon_Cala*: Champala, Finis_Valorum, Jocasta_Nu, Mirialan, Mon_Cala, Mon_Calamari, Nal_Hutta, Ord_Mantell, Padmé_Amidala, Polis_Massa, Ric_Olié, Rugor_Nass, Sail_barge, Tion_Medon\n",
      "*Iridonia*: Droid_gunship, Grievous, Iridonia, TIE_bomber, Tholothian, Trandoshan\n"
     ]
    }
   ],
   "source": [
    "affprop = AffinityPropagation(affinity=\"precomputed\", damping=0.5)\n",
    "affprop.fit(lev_similarity)\n",
    "for cluster_id in np.unique(affprop.labels_):\n",
    "    exemplar = words[affprop.cluster_centers_indices_[cluster_id]]\n",
    "    cluster = np.unique(words[np.nonzero(affprop.labels_==cluster_id)])\n",
    "    cluster_str = \", \".join(cluster)\n",
    "    print(\"*%s*: %s\" % (exemplar, cluster_str))"
   ]
  },
  {
   "cell_type": "code",
   "execution_count": null,
   "id": "friendly-blues",
   "metadata": {},
   "outputs": [],
   "source": []
  }
 ],
 "metadata": {
  "kernelspec": {
   "display_name": "Python 3",
   "language": "python",
   "name": "python3"
  },
  "language_info": {
   "codemirror_mode": {
    "name": "ipython",
    "version": 3
   },
   "file_extension": ".py",
   "mimetype": "text/x-python",
   "name": "python",
   "nbconvert_exporter": "python",
   "pygments_lexer": "ipython3",
   "version": "3.7.5"
  }
 },
 "nbformat": 4,
 "nbformat_minor": 5
}
