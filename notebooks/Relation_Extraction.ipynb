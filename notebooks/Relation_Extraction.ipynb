{
 "cells": [
  {
   "cell_type": "markdown",
   "metadata": {},
   "source": [
    "# Relation Extraction"
   ]
  },
  {
   "cell_type": "markdown",
   "metadata": {},
   "source": [
    "## MinIE: Open Information Extraction system"
   ]
  },
  {
   "cell_type": "markdown",
   "metadata": {},
   "source": [
    "##### upgraded corenlp version, added dependencies to pom.xml\n",
    "> https://github.com/uma-pi1/minie, https://www.aclweb.org/anthology/D17-1278/"
   ]
  },
  {
   "cell_type": "code",
   "execution_count": 21,
   "metadata": {},
   "outputs": [],
   "source": [
    "import os\n",
    "os.environ['CLASSPATH'] = '../../miniepy/minie-0.0.1-SNAPSHOT.jar'\n",
    "from miniepy import *\n",
    "\n",
    "minie = MinIE()"
   ]
  },
  {
   "cell_type": "code",
   "execution_count": 31,
   "metadata": {},
   "outputs": [
    {
     "data": {
      "text/plain": [
       "'Batman'"
      ]
     },
     "execution_count": 31,
     "metadata": {},
     "output_type": "execute_result"
    }
   ],
   "source": [
    "minie.get_propositions(text)[0].subject"
   ]
  },
  {
   "cell_type": "code",
   "execution_count": 22,
   "metadata": {},
   "outputs": [],
   "source": [
    "text = \"The Joker believes that the hero Batman was not actually born in foggy Gotham City.\"\n",
    "triples = [p.triple for p in minie.get_propositions(text)]"
   ]
  },
  {
   "cell_type": "code",
   "execution_count": 3,
   "metadata": {},
   "outputs": [
    {
     "name": "stdout",
     "output_type": "stream",
     "text": [
      "Original text:\n",
      "\tThe Joker believes that the hero Batman was not actually born in foggy Gotham City.\n",
      "\n",
      "Extracted triples:\n",
      "\t('Batman', 'is', 'hero')\n",
      "\t('Batman', 'was born in', 'foggy Gotham City')\n"
     ]
    }
   ],
   "source": [
    "print(\"Original text:\")\n",
    "print('\\t{}\\n'.format(text))\n",
    "\n",
    "print(\"Extracted triples:\")\n",
    "for t in triples:\n",
    "    print(\"\\t{}\".format(t))"
   ]
  },
  {
   "cell_type": "markdown",
   "metadata": {},
   "source": [
    "### Larger Text"
   ]
  },
  {
   "cell_type": "code",
   "execution_count": 4,
   "metadata": {},
   "outputs": [
    {
     "name": "stdout",
     "output_type": "stream",
     "text": [
      "Original text:\n",
      "\tAnakin Skywalker , is a fictional character in the Star Wars franchise. Anakin Skywalker appears in the original film trilogy as a pivotal antagonist whose actions drive the plot, while Anakin Skywalker past as Anakin Skywalker and the story of Anakin Skywalker corruption are central to the narrative of the original film trilogy. Anakin Skywalker was created by George Lucas and has been portrayed by numerous actors. Anakin Skywalker appearances span the first six Star Wars films, as well as Rogue One, and Anakin Skywalker character is heavily referenced in Star Wars: The Force Awakens. Anakin Skywalker is also an important character in the Star Wars expanded universe of television series, video games, novels, literature and comic books. Originally a Jedi who was prophesied to bring balance to the Force, Anakin Skywalker falls to the dark side of the Force and serves the evil Galactic Empire at the right hand of Anakin Skywalker Sith master, Emperor Palpatine( also known as Darth Sidious) . \n",
      "\n",
      "Extracted triples:\n",
      "\t('Palpatine', 'is', 'Emperor')\n",
      "\t('Jedi', 'is', 'Palpatine')\n",
      "\t('Palpatine', 'is', 'Jedi')\n",
      "\t('Jedi', 'was prophesied to bring', 'balance to Force')\n",
      "\t('Anakin Skywalker', 'falls to dark side of Force', 'Jedi')\n",
      "\t('Anakin Skywalker', 'falls', 'Jedi')\n",
      "\t('Anakin Skywalker', 'serves evil Galactic Empire at right hand of', 'Anakin Skywalker Sith master Jedi')\n",
      "\t('Anakin Skywalker', 'serves evil Galactic Empire', 'Jedi')\n"
     ]
    }
   ],
   "source": [
    "starwars_text = 'Anakin Skywalker , is a fictional character in the Star Wars franchise. Anakin Skywalker appears in the original film trilogy as a pivotal antagonist whose actions drive the plot, while Anakin Skywalker past as Anakin Skywalker and the story of Anakin Skywalker corruption are central to the narrative of the original film trilogy. Anakin Skywalker was created by George Lucas and has been portrayed by numerous actors. Anakin Skywalker appearances span the first six Star Wars films, as well as Rogue One, and Anakin Skywalker character is heavily referenced in Star Wars: The Force Awakens. Anakin Skywalker is also an important character in the Star Wars expanded universe of television series, video games, novels, literature and comic books. Originally a Jedi who was prophesied to bring balance to the Force, Anakin Skywalker falls to the dark side of the Force and serves the evil Galactic Empire at the right hand of Anakin Skywalker Sith master, Emperor Palpatine( also known as Darth Sidious) . '\n",
    "    \n",
    "triples = [p.triple for p in minie.get_propositions(starwars_text)]\n",
    "\n",
    "print(\"Original text:\")\n",
    "print('\\t{}\\n'.format(starwars_text))\n",
    "\n",
    "print(\"Extracted triples:\")\n",
    "for t in triples:\n",
    "    print(\"\\t{}\".format(t))"
   ]
  },
  {
   "cell_type": "markdown",
   "metadata": {},
   "source": [
    "# Stanford OpenIE"
   ]
  },
  {
   "cell_type": "markdown",
   "metadata": {},
   "source": [
    "> https://nlp.stanford.edu/software/openie.html"
   ]
  },
  {
   "cell_type": "code",
   "execution_count": 3,
   "metadata": {},
   "outputs": [
    {
     "name": "stdout",
     "output_type": "stream",
     "text": [
      "Original text:\n",
      "\tDarth Vader, also known by his birth name Anakin Skywalker, is a fictional character in the Star Wars franchise. Darth Vader appears in the original film trilogy as a pivotal antagonist whose actions drive the plot, while his past as Anakin Skywalker and the story of his corruption are central to the narrative of the prequel trilogy. The character was created by George Lucas and has been portrayed by numerous actors. His appearances span the first six Star Wars films, as well as Rogue One, and his character is heavily referenced in Star Wars: The Force Awakens. He is also an important character in the Star Wars expanded universe of television series, video games, novels, literature and comic books. Originally a Jedi who was prophesied to bring balance to the Force, he falls to the dark side of the Force and serves the evil Galactic Empire at the right hand of his Sith master, Emperor Palpatine (also known as Darth Sidious).\n",
      "\n",
      "Starting server with command: java -Xmx8G -cp /Users/rhythmsyed/stanfordnlp_resources/stanford-corenlp-full-2018-10-05/* edu.stanford.nlp.pipeline.StanfordCoreNLPServer -port 9000 -timeout 60000 -threads 5 -maxCharLength 100000 -quiet True -serverProperties corenlp_server-93afa032d2804bc2.props -preload openie\n",
      "Extracted triples:\n",
      "\t{'subject': 'Darth Vader', 'relation': 'also known by', 'object': 'his birth name Anakin Skywalker'}\n",
      "\t{'subject': 'Darth Vader', 'relation': 'is', 'object': 'fictional character'}\n",
      "\t{'subject': 'fictional character', 'relation': 'is in', 'object': 'Star Wars franchise'}\n",
      "\t{'subject': 'Darth Vader', 'relation': 'is fictional character in', 'object': 'Star Wars franchise'}\n",
      "\t{'subject': 'Darth Vader', 'relation': 'known by', 'object': 'his birth name Anakin Skywalker'}\n",
      "\t{'subject': 'Darth Vader', 'relation': 'appears as', 'object': 'pivotal antagonist'}\n",
      "\t{'subject': 'Darth Vader', 'relation': 'appears as', 'object': 'antagonist'}\n",
      "\t{'subject': 'Darth Vader', 'relation': 'appears in', 'object': 'film trilogy'}\n",
      "\t{'subject': 'Darth Vader', 'relation': 'appears', 'object': 'central to narrative of prequel trilogy'}\n",
      "\t{'subject': 'his past', 'relation': 'are central to', 'object': 'narrative of prequel trilogy'}\n",
      "\t{'subject': 'Darth Vader', 'relation': 'appears', 'object': 'central to narrative'}\n",
      "\t{'subject': 'Darth Vader', 'relation': 'appears', 'object': 'central'}\n",
      "\t{'subject': 'his past', 'relation': 'are central to', 'object': 'narrative'}\n",
      "\t{'subject': 'actions', 'relation': 'drive', 'object': 'plot'}\n",
      "\t{'subject': 'his past', 'relation': 'are', 'object': 'central'}\n",
      "\t{'subject': 'Darth Vader', 'relation': 'appears in', 'object': 'original film trilogy'}\n",
      "\t{'subject': 'character', 'relation': 'been portrayed by', 'object': 'actors'}\n",
      "\t{'subject': 'character', 'relation': 'was', 'object': 'created'}\n",
      "\t{'subject': 'character', 'relation': 'been', 'object': 'portrayed'}\n",
      "\t{'subject': 'character', 'relation': 'was created by', 'object': 'George Lucas'}\n",
      "\t{'subject': 'character', 'relation': 'been portrayed by', 'object': 'numerous actors'}\n",
      "\t{'subject': 'his character', 'relation': 'is heavily referenced in', 'object': 'Star Wars'}\n",
      "\t{'subject': 'His appearances', 'relation': 'span', 'object': 'six Star Wars films'}\n",
      "\t{'subject': 'His appearances', 'relation': 'span', 'object': 'Rogue One'}\n",
      "\t{'subject': 'his character', 'relation': 'is', 'object': 'heavily referenced'}\n",
      "\t{'subject': 'his character', 'relation': 'is referenced in', 'object': 'Star Wars'}\n",
      "\t{'subject': 'His appearances', 'relation': 'span', 'object': 'first six Star Wars films'}\n",
      "\t{'subject': 'his character', 'relation': 'is', 'object': 'referenced'}\n",
      "\t{'subject': 'He', 'relation': 'is also character in', 'object': 'Star Wars'}\n",
      "\t{'subject': 'important character', 'relation': 'is in', 'object': 'Star Wars'}\n",
      "\t{'subject': 'He', 'relation': 'is', 'object': 'important'}\n",
      "\t{'subject': 'He', 'relation': 'is', 'object': 'also character'}\n",
      "\t{'subject': 'He', 'relation': 'is', 'object': 'character'}\n",
      "\t{'subject': 'He', 'relation': 'is', 'object': 'also important character'}\n",
      "\t{'subject': 'He', 'relation': 'is character in', 'object': 'Star Wars'}\n",
      "\t{'subject': 'He', 'relation': 'is', 'object': 'important character'}\n",
      "\t{'subject': 'he', 'relation': 'falls to', 'object': 'side of Force'}\n",
      "\t{'subject': 'he', 'relation': 'serves', 'object': 'evil Galactic Empire'}\n",
      "\t{'subject': 'he', 'relation': 'serves Galactic Empire at', 'object': 'hand'}\n",
      "\t{'subject': 'he', 'relation': 'falls to', 'object': 'dark side of Force'}\n",
      "\t{'subject': 'he', 'relation': 'serves Galactic Empire at', 'object': 'right hand'}\n",
      "\t{'subject': 'he', 'relation': 'serves', 'object': 'Galactic Empire'}\n",
      "\t{'subject': 'he', 'relation': 'falls to', 'object': 'dark side'}\n",
      "\t{'subject': 'he', 'relation': 'serves Galactic Empire at', 'object': 'hand of his Sith master'}\n",
      "\t{'subject': 'he', 'relation': 'falls to', 'object': 'side'}\n",
      "\t{'subject': 'he', 'relation': 'serves Galactic Empire at', 'object': 'right hand of his Sith master'}\n",
      "\t{'subject': 'his', 'relation': 'master', 'object': 'Emperor Palpatine'}\n"
     ]
    }
   ],
   "source": [
    "from openie import StanfordOpenIE\n",
    "\n",
    "text = 'Darth Vader, also known by his birth name Anakin Skywalker, is a fictional character in the Star Wars franchise. Darth Vader appears in the original film trilogy as a pivotal antagonist whose actions drive the plot, while his past as Anakin Skywalker and the story of his corruption are central to the narrative of the prequel trilogy. The character was created by George Lucas and has been portrayed by numerous actors. His appearances span the first six Star Wars films, as well as Rogue One, and his character is heavily referenced in Star Wars: The Force Awakens. He is also an important character in the Star Wars expanded universe of television series, video games, novels, literature and comic books. Originally a Jedi who was prophesied to bring balance to the Force, he falls to the dark side of the Force and serves the evil Galactic Empire at the right hand of his Sith master, Emperor Palpatine (also known as Darth Sidious).'\n",
    "print(\"Original text:\")\n",
    "print('\\t{}\\n'.format(text))\n",
    "\n",
    "triples = []\n",
    "with StanfordOpenIE() as client:\n",
    "    for triple in client.annotate(text):\n",
    "        triples.append(triple)\n",
    "\n",
    "print(\"Extracted triples:\")\n",
    "for t in triples:\n",
    "    print(\"\\t{}\".format(t))"
   ]
  },
  {
   "cell_type": "code",
   "execution_count": 12,
   "metadata": {},
   "outputs": [
    {
     "name": "stdout",
     "output_type": "stream",
     "text": [
      "['Darth Vader', 'also known by', 'his birth name Anakin Skywalker']\n",
      "['Darth Vader', 'is', 'fictional character']\n",
      "['fictional character', 'is in', 'Star Wars franchise']\n",
      "['Darth Vader', 'is fictional character in', 'Star Wars franchise']\n",
      "['Darth Vader', 'known by', 'his birth name Anakin Skywalker']\n",
      "['Darth Vader', 'appears as', 'pivotal antagonist']\n",
      "['Darth Vader', 'appears as', 'antagonist']\n",
      "['Darth Vader', 'appears in', 'film trilogy']\n",
      "['Darth Vader', 'appears', 'central to narrative of prequel trilogy']\n",
      "['his past', 'are central to', 'narrative of prequel trilogy']\n",
      "['Darth Vader', 'appears', 'central to narrative']\n",
      "['Darth Vader', 'appears', 'central']\n",
      "['his past', 'are central to', 'narrative']\n",
      "['actions', 'drive', 'plot']\n",
      "['his past', 'are', 'central']\n",
      "['Darth Vader', 'appears in', 'original film trilogy']\n",
      "['character', 'been portrayed by', 'actors']\n",
      "['character', 'was', 'created']\n",
      "['character', 'been', 'portrayed']\n",
      "['character', 'was created by', 'George Lucas']\n",
      "['character', 'been portrayed by', 'numerous actors']\n",
      "['his character', 'is heavily referenced in', 'Star Wars']\n",
      "['His appearances', 'span', 'six Star Wars films']\n",
      "['His appearances', 'span', 'Rogue One']\n",
      "['his character', 'is', 'heavily referenced']\n",
      "['his character', 'is referenced in', 'Star Wars']\n",
      "['His appearances', 'span', 'first six Star Wars films']\n",
      "['his character', 'is', 'referenced']\n",
      "['He', 'is also character in', 'Star Wars']\n",
      "['important character', 'is in', 'Star Wars']\n",
      "['He', 'is', 'important']\n",
      "['He', 'is', 'also character']\n",
      "['He', 'is', 'character']\n",
      "['He', 'is', 'also important character']\n",
      "['He', 'is character in', 'Star Wars']\n",
      "['He', 'is', 'important character']\n",
      "['he', 'falls to', 'side of Force']\n",
      "['he', 'serves', 'evil Galactic Empire']\n",
      "['he', 'serves Galactic Empire at', 'hand']\n",
      "['he', 'falls to', 'dark side of Force']\n",
      "['he', 'serves Galactic Empire at', 'right hand']\n",
      "['he', 'serves', 'Galactic Empire']\n",
      "['he', 'falls to', 'dark side']\n",
      "['he', 'serves Galactic Empire at', 'hand of his Sith master']\n",
      "['he', 'falls to', 'side']\n",
      "['he', 'serves Galactic Empire at', 'right hand of his Sith master']\n",
      "['his', 'master', 'Emperor Palpatine']\n"
     ]
    }
   ],
   "source": [
    "for t in triples:\n",
    "    curr_triple = []\n",
    "    for i in t:\n",
    "        curr_triple.append(t[i])\n",
    "    print(curr_triple)\n",
    "#     print(\"\\t{}\".format(t))"
   ]
  },
  {
   "cell_type": "markdown",
   "metadata": {},
   "source": [
    "# Hearst Patterns"
   ]
  },
  {
   "cell_type": "code",
   "execution_count": 1,
   "metadata": {},
   "outputs": [],
   "source": [
    "from hearstPatterns.hearstPatterns import HearstPatterns\n",
    "hp = HearstPatterns(extended=True)"
   ]
  },
  {
   "cell_type": "code",
   "execution_count": 2,
   "metadata": {},
   "outputs": [
    {
     "data": {
      "text/plain": [
       "[('France', 'country'), ('England', 'country'), ('Spain', 'country')]"
      ]
     },
     "execution_count": 2,
     "metadata": {},
     "output_type": "execute_result"
    }
   ],
   "source": [
    "hp.find_hyponyms('Many countries, especially France, England and Spain also enjoy toast.')"
   ]
  },
  {
   "cell_type": "code",
   "execution_count": 4,
   "metadata": {},
   "outputs": [
    {
     "data": {
      "text/plain": [
       "[]"
      ]
     },
     "execution_count": 4,
     "metadata": {},
     "output_type": "execute_result"
    }
   ],
   "source": [
    "hp.find_hyponyms('Anakin Skywalker is a fictional character in the Star Wars franchise.')"
   ]
  },
  {
   "cell_type": "code",
   "execution_count": 23,
   "metadata": {},
   "outputs": [
    {
     "data": {
      "text/plain": [
       "'Anakin Skywalker , is a fictional character in the Star Wars franchise. Anakin Skywalker appears in the original film trilogy as a pivotal antagonist whose actions drive the plot, while Anakin Skywalker past as Anakin Skywalker and the story of Anakin Skywalker corruption are central to the narrative of the original film trilogy. Anakin Skywalker was created by George Lucas and has been portrayed by numerous actors. Anakin Skywalker appearances span the first six Star Wars films, as well as Rogue One, and Anakin Skywalker character is heavily referenced in Star Wars: The Force Awakens. Anakin Skywalker is also an important character in the Star Wars expanded universe of television series, video games, novels, literature and comic books. Originally a Jedi who was prophesied to bring balance to the Force, Anakin Skywalker falls to the dark side of the Force and serves the evil Galactic Empire at the right hand of Anakin Skywalker Sith master, Emperor Palpatine( also known as Darth Sidious) . '"
      ]
     },
     "execution_count": 23,
     "metadata": {},
     "output_type": "execute_result"
    }
   ],
   "source": [
    "starwars_text"
   ]
  },
  {
   "cell_type": "code",
   "execution_count": 24,
   "metadata": {},
   "outputs": [
    {
     "name": "stdout",
     "output_type": "stream",
     "text": [
      "NP_a_pivotal_antagonist\n",
      "['NP_the_original_film_trilogy', 'NP_a_pivotal_antagonist']\n"
     ]
    },
    {
     "data": {
      "text/plain": [
       "[('the original film trilogy', 'a pivotal antagonist')]"
      ]
     },
     "execution_count": 24,
     "metadata": {},
     "output_type": "execute_result"
    }
   ],
   "source": [
    "hp.find_hyponyms(starwars_text)"
   ]
  },
  {
   "cell_type": "markdown",
   "metadata": {},
   "source": [
    "# OpenNRE: Neural Relation Extraction"
   ]
  },
  {
   "cell_type": "code",
   "execution_count": 7,
   "metadata": {},
   "outputs": [],
   "source": [
    "import pandas as pd\n",
    "import spacy\n",
    "import opennre"
   ]
  },
  {
   "cell_type": "code",
   "execution_count": 8,
   "metadata": {},
   "outputs": [
    {
     "name": "stderr",
     "output_type": "stream",
     "text": [
      "2021-03-18 12:30:26,514 - root - INFO - Loading BERT pre-trained checkpoint.\n"
     ]
    }
   ],
   "source": [
    "nlp = spacy.load(\"en_core_web_lg\")\n",
    "model = opennre.get_model('wiki80_bertentity_softmax')"
   ]
  },
  {
   "cell_type": "code",
   "execution_count": 9,
   "metadata": {},
   "outputs": [
    {
     "data": {
      "text/plain": [
       "('father', 0.9927453398704529)"
      ]
     },
     "execution_count": 9,
     "metadata": {},
     "output_type": "execute_result"
    }
   ],
   "source": [
    "model.infer({'text': 'He was the son of Máel Dúin mac Máele Fithrich, and grandson of the high king Áed Uaridnach (died 612).', 'h': {'pos': (18, 46)}, 't': {'pos': (78, 91)}})"
   ]
  },
  {
   "cell_type": "code",
   "execution_count": 18,
   "metadata": {},
   "outputs": [
    {
     "name": "stderr",
     "output_type": "stream",
     "text": [
      "b'Skipping line 341: expected 1 fields, saw 2\\nSkipping line 1209: expected 1 fields, saw 2\\nSkipping line 3309: expected 1 fields, saw 2\\nSkipping line 3615: expected 1 fields, saw 2\\nSkipping line 7258: expected 1 fields, saw 2\\nSkipping line 8720: expected 1 fields, saw 2\\nSkipping line 9514: expected 1 fields, saw 2\\nSkipping line 11246: expected 1 fields, saw 2\\nSkipping line 12019: expected 1 fields, saw 2\\nSkipping line 13450: expected 1 fields, saw 2\\nSkipping line 15793: expected 1 fields, saw 2\\nSkipping line 16472: expected 1 fields, saw 2\\nSkipping line 18440: expected 1 fields, saw 2\\nSkipping line 20491: expected 1 fields, saw 2\\nSkipping line 21737: expected 1 fields, saw 2\\nSkipping line 23946: expected 1 fields, saw 2\\nSkipping line 24387: expected 1 fields, saw 2\\nSkipping line 24930: expected 1 fields, saw 2\\nSkipping line 25723: expected 1 fields, saw 2\\nSkipping line 26509: expected 1 fields, saw 2\\nSkipping line 27150: expected 1 fields, saw 2\\nSkipping line 27152: expected 1 fields, saw 2\\nSkipping line 27154: expected 1 fields, saw 2\\n'\n"
     ]
    },
    {
     "data": {
      "text/html": [
       "<div>\n",
       "<style scoped>\n",
       "    .dataframe tbody tr th:only-of-type {\n",
       "        vertical-align: middle;\n",
       "    }\n",
       "\n",
       "    .dataframe tbody tr th {\n",
       "        vertical-align: top;\n",
       "    }\n",
       "\n",
       "    .dataframe thead th {\n",
       "        text-align: right;\n",
       "    }\n",
       "</style>\n",
       "<table border=\"1\" class=\"dataframe\">\n",
       "  <thead>\n",
       "    <tr style=\"text-align: right;\">\n",
       "      <th></th>\n",
       "      <th>0</th>\n",
       "    </tr>\n",
       "  </thead>\n",
       "  <tbody>\n",
       "    <tr>\n",
       "      <th>0</th>\n",
       "      <td>Luke Skywalker is a fictional character and th...</td>\n",
       "    </tr>\n",
       "    <tr>\n",
       "      <th>1</th>\n",
       "      <td>Portrayed by Mark Hamill, Luke first appeared ...</td>\n",
       "    </tr>\n",
       "    <tr>\n",
       "      <th>2</th>\n",
       "      <td>Three decades later, Hamill returned as Luke i...</td>\n",
       "    </tr>\n",
       "    <tr>\n",
       "      <th>3</th>\n",
       "      <td>The Last Jedi (2017), and The Rise of Skywalke...</td>\n",
       "    </tr>\n",
       "    <tr>\n",
       "      <th>4</th>\n",
       "      <td>He reprised the role in The Mandalorian episod...</td>\n",
       "    </tr>\n",
       "    <tr>\n",
       "      <th>...</th>\n",
       "      <td>...</td>\n",
       "    </tr>\n",
       "    <tr>\n",
       "      <th>25145</th>\n",
       "      <td>References ==</td>\n",
       "    </tr>\n",
       "    <tr>\n",
       "      <th>25146</th>\n",
       "      <td>==</td>\n",
       "    </tr>\n",
       "    <tr>\n",
       "      <th>25147</th>\n",
       "      <td>External links ==</td>\n",
       "    </tr>\n",
       "    <tr>\n",
       "      <th>25148</th>\n",
       "      <td>Supreme Leader Snoke in the StarWars.com Databank</td>\n",
       "    </tr>\n",
       "    <tr>\n",
       "      <th>25149</th>\n",
       "      <td>Snoke on Wookieepedia, a Star Wars wiki</td>\n",
       "    </tr>\n",
       "  </tbody>\n",
       "</table>\n",
       "<p>25150 rows × 1 columns</p>\n",
       "</div>"
      ],
      "text/plain": [
       "                                                       0\n",
       "0      Luke Skywalker is a fictional character and th...\n",
       "1      Portrayed by Mark Hamill, Luke first appeared ...\n",
       "2      Three decades later, Hamill returned as Luke i...\n",
       "3      The Last Jedi (2017), and The Rise of Skywalke...\n",
       "4      He reprised the role in The Mandalorian episod...\n",
       "...                                                  ...\n",
       "25145                                      References ==\n",
       "25146                                                 ==\n",
       "25147                                  External links ==\n",
       "25148  Supreme Leader Snoke in the StarWars.com Databank\n",
       "25149            Snoke on Wookieepedia, a Star Wars wiki\n",
       "\n",
       "[25150 rows x 1 columns]"
      ]
     },
     "execution_count": 18,
     "metadata": {},
     "output_type": "execute_result"
    }
   ],
   "source": [
    "dataset = pd.read_csv('./data/starwars_text_dataset.txt', delimiter='\\n', header=None, error_bad_lines=False)\n",
    "dataset"
   ]
  },
  {
   "cell_type": "code",
   "execution_count": 19,
   "metadata": {},
   "outputs": [
    {
     "name": "stdout",
     "output_type": "stream",
     "text": [
      "Luke Skywalker is a fictional character and the main protagonist of the original film trilogy of the Star Wars franchise created by George Lucas.\n",
      "(Luke Skywalker, ('after a work by', 0.645527720451355), George Lucas)\n",
      "(George Lucas, ('notable work', 0.8947811126708984), Luke Skywalker)\n",
      "\n",
      "Portrayed by Mark Hamill, Luke first appeared in Star Wars (1977), and he returned in The Empire Strikes Back (1980) and Return of the Jedi (1983).\n",
      "(Mark Hamill, ('characters', 0.2163618952035904), Luke)\n",
      "(Mark Hamill, ('notable work', 0.34239792823791504), first)\n",
      "(Mark Hamill, ('notable work', 0.8281146287918091), Star Wars ()\n",
      "(Mark Hamill, ('participant of', 0.40250512957572937), 1977)\n",
      "(Mark Hamill, ('notable work', 0.930324137210846), The Empire Strikes Back)\n",
      "(Mark Hamill, ('participant of', 0.5931357741355896), 1980)\n",
      "(Mark Hamill, ('notable work', 0.9134975671768188), Return of the Jedi)\n",
      "(Luke, ('performer', 0.7715634107589722), Mark Hamill)\n",
      "(Luke, ('said to be the same as', 0.6832870244979858), first)\n",
      "(Luke, ('part of', 0.45144200325012207), Star Wars ()\n",
      "(Luke, ('follows', 0.24882380664348602), 1977)\n",
      "(Luke, ('followed by', 0.24359330534934998), The Empire Strikes Back)\n",
      "(Luke, ('participant of', 0.32120853662490845), 1980)\n",
      "(Luke, ('followed by', 0.30901986360549927), Return of the Jedi)\n",
      "(first, ('performer', 0.6730722188949585), Mark Hamill)\n",
      "(first, ('characters', 0.44821542501449585), Luke)\n",
      "(first, ('part of', 0.6455042958259583), Star Wars ()\n",
      "(first, ('follows', 0.41674888134002686), 1977)\n",
      "(first, ('followed by', 0.6316877603530884), The Empire Strikes Back)\n",
      "(first, ('followed by', 0.49144497513771057), 1980)\n",
      "(first, ('followed by', 0.6881319880485535), Return of the Jedi)\n",
      "(Star Wars (, ('screenwriter', 0.31311899423599243), Mark Hamill)\n",
      "(Star Wars (, ('characters', 0.9843718409538269), Luke)\n",
      "(Star Wars (, ('characters', 0.8070840239524841), first)\n",
      "(Star Wars (, ('has part', 0.40084272623062134), 1977)\n",
      "(Star Wars (, ('followed by', 0.9593715667724609), The Empire Strikes Back)\n",
      "(Star Wars (, ('followed by', 0.9583213925361633), 1980)\n",
      "(Star Wars (, ('followed by', 0.968230664730072), Return of the Jedi)\n",
      "(1977, ('participant', 0.3305303752422333), Mark Hamill)\n",
      "(1977, ('characters', 0.8835192322731018), Luke)\n",
      "(1977, ('characters', 0.33075255155563354), first)\n",
      "(1977, ('part of', 0.5487977862358093), Star Wars ()\n",
      "(1977, ('followed by', 0.9733642935752869), The Empire Strikes Back)\n",
      "(1977, ('followed by', 0.9884051084518433), 1980)\n",
      "(1977, ('followed by', 0.9869084358215332), Return of the Jedi)\n",
      "(The Empire Strikes Back, ('screenwriter', 0.39806362986564636), Mark Hamill)\n",
      "(The Empire Strikes Back, ('characters', 0.9772118330001831), Luke)\n",
      "(The Empire Strikes Back, ('characters', 0.40903139114379883), first)\n",
      "(The Empire Strikes Back, ('follows', 0.9614824056625366), Star Wars ()\n",
      "(The Empire Strikes Back, ('follows', 0.9746747016906738), 1977)\n",
      "(The Empire Strikes Back, ('followed by', 0.510015606880188), 1980)\n",
      "(The Empire Strikes Back, ('followed by', 0.9868647456169128), Return of the Jedi)\n",
      "(1980, ('winner', 0.32874545454978943), Mark Hamill)\n",
      "(1980, ('characters', 0.5766884088516235), Luke)\n",
      "(1980, ('follows', 0.42711713910102844), first)\n",
      "(1980, ('follows', 0.9542096853256226), Star Wars ()\n",
      "(1980, ('follows', 0.9847115278244019), 1977)\n",
      "(1980, ('follows', 0.641645073890686), The Empire Strikes Back)\n",
      "(1980, ('followed by', 0.9874054789543152), Return of the Jedi)\n",
      "(Return of the Jedi, ('screenwriter', 0.37284132838249207), Mark Hamill)\n",
      "(Return of the Jedi, ('characters', 0.9703897833824158), Luke)\n",
      "(Return of the Jedi, ('follows', 0.4305429756641388), first)\n",
      "(Return of the Jedi, ('follows', 0.9690677523612976), Star Wars ()\n",
      "(Return of the Jedi, ('follows', 0.9864891171455383), 1977)\n",
      "(Return of the Jedi, ('follows', 0.9852033853530884), The Empire Strikes Back)\n",
      "(Return of the Jedi, ('follows', 0.9851544499397278), 1980)\n",
      "\n",
      "Three decades later, Hamill returned as Luke in the Star Wars sequel trilogy, appearing in all three films: The Force Awakens (2015),\n",
      "(Three decades later, ('characters', 0.6230310201644897), Hamill)\n",
      "(Three decades later, ('characters', 0.9741705656051636), Luke)\n",
      "(Three decades later, ('has part', 0.5933831930160522), three)\n",
      "(Three decades later, ('follows', 0.31953710317611694), The Force Awakens)\n",
      "(Three decades later, ('follows', 0.3046841621398926), 2015)\n",
      "(Hamill, ('notable work', 0.3090952932834625), Three decades later)\n",
      "(Hamill, ('characters', 0.5313856601715088), Luke)\n",
      "(Hamill, ('member of', 0.2548181414604187), three)\n",
      "(Hamill, ('notable work', 0.9147888422012329), The Force Awakens)\n",
      "(Hamill, ('participant of', 0.41943487524986267), 2015)\n",
      "(Luke, ('part of', 0.2770994305610657), Three decades later)\n",
      "(Luke, ('performer', 0.6655646562576294), Hamill)\n",
      "(Luke, ('part of', 0.5789633989334106), three)\n",
      "(Luke, ('part of', 0.29300493001937866), The Force Awakens)\n",
      "(Luke, ('part of', 0.33246707916259766), 2015)\n",
      "(three, ('part of', 0.38298478722572327), Three decades later)\n",
      "(three, ('characters', 0.6047171950340271), Hamill)\n",
      "(three, ('characters', 0.9300550222396851), Luke)\n",
      "(three, ('has part', 0.5891072750091553), The Force Awakens)\n",
      "(three, ('has part', 0.5609568953514099), 2015)\n",
      "(The Force Awakens, ('main subject', 0.6044313907623291), Three decades later)\n",
      "(The Force Awakens, ('characters', 0.5353482961654663), Hamill)\n",
      "(The Force Awakens, ('characters', 0.9895037412643433), Luke)\n",
      "(The Force Awakens, ('part of', 0.4501529932022095), three)\n",
      "(The Force Awakens, ('followed by', 0.44681763648986816), 2015)\n",
      "(2015, ('follows', 0.3831084370613098), Three decades later)\n",
      "(2015, ('performer', 0.2667219042778015), Hamill)\n",
      "(2015, ('characters', 0.9458841681480408), Luke)\n"
     ]
    },
    {
     "ename": "KeyboardInterrupt",
     "evalue": "",
     "output_type": "error",
     "traceback": [
      "\u001b[0;31m---------------------------------------------------------------------------\u001b[0m",
      "\u001b[0;31mKeyboardInterrupt\u001b[0m                         Traceback (most recent call last)",
      "\u001b[0;32m<ipython-input-19-8b9bf8b40dd0>\u001b[0m in \u001b[0;36m<module>\u001b[0;34m\u001b[0m\n\u001b[1;32m     11\u001b[0m             \u001b[0mspan1\u001b[0m \u001b[0;34m=\u001b[0m \u001b[0;34m(\u001b[0m\u001b[0mentity1\u001b[0m\u001b[0;34m.\u001b[0m\u001b[0mstart_char\u001b[0m\u001b[0;34m,\u001b[0m \u001b[0mentity1\u001b[0m\u001b[0;34m.\u001b[0m\u001b[0mend_char\u001b[0m\u001b[0;34m)\u001b[0m\u001b[0;34m\u001b[0m\u001b[0;34m\u001b[0m\u001b[0m\n\u001b[1;32m     12\u001b[0m             \u001b[0mspan2\u001b[0m \u001b[0;34m=\u001b[0m \u001b[0;34m(\u001b[0m\u001b[0mentity2\u001b[0m\u001b[0;34m.\u001b[0m\u001b[0mstart_char\u001b[0m\u001b[0;34m,\u001b[0m \u001b[0mentity2\u001b[0m\u001b[0;34m.\u001b[0m\u001b[0mend_char\u001b[0m\u001b[0;34m)\u001b[0m\u001b[0;34m\u001b[0m\u001b[0;34m\u001b[0m\u001b[0m\n\u001b[0;32m---> 13\u001b[0;31m             \u001b[0mrelation_pred\u001b[0m \u001b[0;34m=\u001b[0m \u001b[0mmodel\u001b[0m\u001b[0;34m.\u001b[0m\u001b[0minfer\u001b[0m\u001b[0;34m(\u001b[0m\u001b[0;34m{\u001b[0m\u001b[0;34m'text'\u001b[0m\u001b[0;34m:\u001b[0m \u001b[0mtext\u001b[0m\u001b[0;34m,\u001b[0m \u001b[0;34m'h'\u001b[0m\u001b[0;34m:\u001b[0m \u001b[0;34m{\u001b[0m\u001b[0;34m'pos'\u001b[0m\u001b[0;34m:\u001b[0m \u001b[0mspan1\u001b[0m\u001b[0;34m}\u001b[0m\u001b[0;34m,\u001b[0m \u001b[0;34m't'\u001b[0m\u001b[0;34m:\u001b[0m \u001b[0;34m{\u001b[0m\u001b[0;34m'pos'\u001b[0m\u001b[0;34m:\u001b[0m \u001b[0mspan2\u001b[0m\u001b[0;34m}\u001b[0m\u001b[0;34m}\u001b[0m\u001b[0;34m)\u001b[0m\u001b[0;34m\u001b[0m\u001b[0;34m\u001b[0m\u001b[0m\n\u001b[0m\u001b[1;32m     14\u001b[0m \u001b[0;34m\u001b[0m\u001b[0m\n\u001b[1;32m     15\u001b[0m             \u001b[0mprint\u001b[0m\u001b[0;34m(\u001b[0m\u001b[0;34m'({}, {}, {})'\u001b[0m\u001b[0;34m.\u001b[0m\u001b[0mformat\u001b[0m\u001b[0;34m(\u001b[0m\u001b[0mentity1\u001b[0m\u001b[0;34m,\u001b[0m \u001b[0mrelation_pred\u001b[0m\u001b[0;34m,\u001b[0m \u001b[0mentity2\u001b[0m\u001b[0;34m)\u001b[0m\u001b[0;34m)\u001b[0m\u001b[0;34m\u001b[0m\u001b[0;34m\u001b[0m\u001b[0m\n",
      "\u001b[0;32m~/miniconda3/envs/entitylink/lib/python3.7/site-packages/opennre-0.1-py3.7.egg/opennre/model/softmax_nn.py\u001b[0m in \u001b[0;36minfer\u001b[0;34m(self, item)\u001b[0m\n\u001b[1;32m     29\u001b[0m         \u001b[0mself\u001b[0m\u001b[0;34m.\u001b[0m\u001b[0meval\u001b[0m\u001b[0;34m(\u001b[0m\u001b[0;34m)\u001b[0m\u001b[0;34m\u001b[0m\u001b[0;34m\u001b[0m\u001b[0m\n\u001b[1;32m     30\u001b[0m         \u001b[0mitem\u001b[0m \u001b[0;34m=\u001b[0m \u001b[0mself\u001b[0m\u001b[0;34m.\u001b[0m\u001b[0msentence_encoder\u001b[0m\u001b[0;34m.\u001b[0m\u001b[0mtokenize\u001b[0m\u001b[0;34m(\u001b[0m\u001b[0mitem\u001b[0m\u001b[0;34m)\u001b[0m\u001b[0;34m\u001b[0m\u001b[0;34m\u001b[0m\u001b[0m\n\u001b[0;32m---> 31\u001b[0;31m         \u001b[0mlogits\u001b[0m \u001b[0;34m=\u001b[0m \u001b[0mself\u001b[0m\u001b[0;34m.\u001b[0m\u001b[0mforward\u001b[0m\u001b[0;34m(\u001b[0m\u001b[0;34m*\u001b[0m\u001b[0mitem\u001b[0m\u001b[0;34m)\u001b[0m\u001b[0;34m\u001b[0m\u001b[0;34m\u001b[0m\u001b[0m\n\u001b[0m\u001b[1;32m     32\u001b[0m         \u001b[0mlogits\u001b[0m \u001b[0;34m=\u001b[0m \u001b[0mself\u001b[0m\u001b[0;34m.\u001b[0m\u001b[0msoftmax\u001b[0m\u001b[0;34m(\u001b[0m\u001b[0mlogits\u001b[0m\u001b[0;34m)\u001b[0m\u001b[0;34m\u001b[0m\u001b[0;34m\u001b[0m\u001b[0m\n\u001b[1;32m     33\u001b[0m         \u001b[0mscore\u001b[0m\u001b[0;34m,\u001b[0m \u001b[0mpred\u001b[0m \u001b[0;34m=\u001b[0m \u001b[0mlogits\u001b[0m\u001b[0;34m.\u001b[0m\u001b[0mmax\u001b[0m\u001b[0;34m(\u001b[0m\u001b[0;34m-\u001b[0m\u001b[0;36m1\u001b[0m\u001b[0;34m)\u001b[0m\u001b[0;34m\u001b[0m\u001b[0;34m\u001b[0m\u001b[0m\n",
      "\u001b[0;32m~/miniconda3/envs/entitylink/lib/python3.7/site-packages/opennre-0.1-py3.7.egg/opennre/model/softmax_nn.py\u001b[0m in \u001b[0;36mforward\u001b[0;34m(self, *args)\u001b[0m\n\u001b[1;32m     43\u001b[0m             \u001b[0mlogits\u001b[0m\u001b[0;34m,\u001b[0m \u001b[0;34m(\u001b[0m\u001b[0mB\u001b[0m\u001b[0;34m,\u001b[0m \u001b[0mN\u001b[0m\u001b[0;34m)\u001b[0m\u001b[0;34m\u001b[0m\u001b[0;34m\u001b[0m\u001b[0m\n\u001b[1;32m     44\u001b[0m         \"\"\"\n\u001b[0;32m---> 45\u001b[0;31m         \u001b[0mrep\u001b[0m \u001b[0;34m=\u001b[0m \u001b[0mself\u001b[0m\u001b[0;34m.\u001b[0m\u001b[0msentence_encoder\u001b[0m\u001b[0;34m(\u001b[0m\u001b[0;34m*\u001b[0m\u001b[0margs\u001b[0m\u001b[0;34m)\u001b[0m \u001b[0;31m# (B, H)\u001b[0m\u001b[0;34m\u001b[0m\u001b[0;34m\u001b[0m\u001b[0m\n\u001b[0m\u001b[1;32m     46\u001b[0m         \u001b[0mrep\u001b[0m \u001b[0;34m=\u001b[0m \u001b[0mself\u001b[0m\u001b[0;34m.\u001b[0m\u001b[0mdrop\u001b[0m\u001b[0;34m(\u001b[0m\u001b[0mrep\u001b[0m\u001b[0;34m)\u001b[0m\u001b[0;34m\u001b[0m\u001b[0;34m\u001b[0m\u001b[0m\n\u001b[1;32m     47\u001b[0m         \u001b[0mlogits\u001b[0m \u001b[0;34m=\u001b[0m \u001b[0mself\u001b[0m\u001b[0;34m.\u001b[0m\u001b[0mfc\u001b[0m\u001b[0;34m(\u001b[0m\u001b[0mrep\u001b[0m\u001b[0;34m)\u001b[0m \u001b[0;31m# (B, N)\u001b[0m\u001b[0;34m\u001b[0m\u001b[0;34m\u001b[0m\u001b[0m\n",
      "\u001b[0;32m~/miniconda3/envs/entitylink/lib/python3.7/site-packages/torch/nn/modules/module.py\u001b[0m in \u001b[0;36m_call_impl\u001b[0;34m(self, *input, **kwargs)\u001b[0m\n\u001b[1;32m    725\u001b[0m             \u001b[0mresult\u001b[0m \u001b[0;34m=\u001b[0m \u001b[0mself\u001b[0m\u001b[0;34m.\u001b[0m\u001b[0m_slow_forward\u001b[0m\u001b[0;34m(\u001b[0m\u001b[0;34m*\u001b[0m\u001b[0minput\u001b[0m\u001b[0;34m,\u001b[0m \u001b[0;34m**\u001b[0m\u001b[0mkwargs\u001b[0m\u001b[0;34m)\u001b[0m\u001b[0;34m\u001b[0m\u001b[0;34m\u001b[0m\u001b[0m\n\u001b[1;32m    726\u001b[0m         \u001b[0;32melse\u001b[0m\u001b[0;34m:\u001b[0m\u001b[0;34m\u001b[0m\u001b[0;34m\u001b[0m\u001b[0m\n\u001b[0;32m--> 727\u001b[0;31m             \u001b[0mresult\u001b[0m \u001b[0;34m=\u001b[0m \u001b[0mself\u001b[0m\u001b[0;34m.\u001b[0m\u001b[0mforward\u001b[0m\u001b[0;34m(\u001b[0m\u001b[0;34m*\u001b[0m\u001b[0minput\u001b[0m\u001b[0;34m,\u001b[0m \u001b[0;34m**\u001b[0m\u001b[0mkwargs\u001b[0m\u001b[0;34m)\u001b[0m\u001b[0;34m\u001b[0m\u001b[0;34m\u001b[0m\u001b[0m\n\u001b[0m\u001b[1;32m    728\u001b[0m         for hook in itertools.chain(\n\u001b[1;32m    729\u001b[0m                 \u001b[0m_global_forward_hooks\u001b[0m\u001b[0;34m.\u001b[0m\u001b[0mvalues\u001b[0m\u001b[0;34m(\u001b[0m\u001b[0;34m)\u001b[0m\u001b[0;34m,\u001b[0m\u001b[0;34m\u001b[0m\u001b[0;34m\u001b[0m\u001b[0m\n",
      "\u001b[0;32m~/miniconda3/envs/entitylink/lib/python3.7/site-packages/opennre-0.1-py3.7.egg/opennre/encoder/bert_encoder.py\u001b[0m in \u001b[0;36mforward\u001b[0;34m(self, token, att_mask, pos1, pos2)\u001b[0m\n\u001b[1;32m    124\u001b[0m             \u001b[0;34m(\u001b[0m\u001b[0mB\u001b[0m\u001b[0;34m,\u001b[0m \u001b[0;36m2\u001b[0m\u001b[0mH\u001b[0m\u001b[0;34m)\u001b[0m\u001b[0;34m,\u001b[0m \u001b[0mrepresentations\u001b[0m \u001b[0;32mfor\u001b[0m \u001b[0msentences\u001b[0m\u001b[0;34m\u001b[0m\u001b[0;34m\u001b[0m\u001b[0m\n\u001b[1;32m    125\u001b[0m         \"\"\"\n\u001b[0;32m--> 126\u001b[0;31m         \u001b[0mhidden\u001b[0m\u001b[0;34m,\u001b[0m \u001b[0m_\u001b[0m \u001b[0;34m=\u001b[0m \u001b[0mself\u001b[0m\u001b[0;34m.\u001b[0m\u001b[0mbert\u001b[0m\u001b[0;34m(\u001b[0m\u001b[0mtoken\u001b[0m\u001b[0;34m,\u001b[0m \u001b[0mattention_mask\u001b[0m\u001b[0;34m=\u001b[0m\u001b[0matt_mask\u001b[0m\u001b[0;34m)\u001b[0m\u001b[0;34m\u001b[0m\u001b[0;34m\u001b[0m\u001b[0m\n\u001b[0m\u001b[1;32m    127\u001b[0m         \u001b[0;31m# Get entity start hidden state\u001b[0m\u001b[0;34m\u001b[0m\u001b[0;34m\u001b[0m\u001b[0;34m\u001b[0m\u001b[0m\n\u001b[1;32m    128\u001b[0m         \u001b[0monehot_head\u001b[0m \u001b[0;34m=\u001b[0m \u001b[0mtorch\u001b[0m\u001b[0;34m.\u001b[0m\u001b[0mzeros\u001b[0m\u001b[0;34m(\u001b[0m\u001b[0mhidden\u001b[0m\u001b[0;34m.\u001b[0m\u001b[0msize\u001b[0m\u001b[0;34m(\u001b[0m\u001b[0;34m)\u001b[0m\u001b[0;34m[\u001b[0m\u001b[0;34m:\u001b[0m\u001b[0;36m2\u001b[0m\u001b[0;34m]\u001b[0m\u001b[0;34m)\u001b[0m\u001b[0;34m.\u001b[0m\u001b[0mfloat\u001b[0m\u001b[0;34m(\u001b[0m\u001b[0;34m)\u001b[0m\u001b[0;34m.\u001b[0m\u001b[0mto\u001b[0m\u001b[0;34m(\u001b[0m\u001b[0mhidden\u001b[0m\u001b[0;34m.\u001b[0m\u001b[0mdevice\u001b[0m\u001b[0;34m)\u001b[0m  \u001b[0;31m# (B, L)\u001b[0m\u001b[0;34m\u001b[0m\u001b[0;34m\u001b[0m\u001b[0m\n",
      "\u001b[0;32m~/miniconda3/envs/entitylink/lib/python3.7/site-packages/torch/nn/modules/module.py\u001b[0m in \u001b[0;36m_call_impl\u001b[0;34m(self, *input, **kwargs)\u001b[0m\n\u001b[1;32m    725\u001b[0m             \u001b[0mresult\u001b[0m \u001b[0;34m=\u001b[0m \u001b[0mself\u001b[0m\u001b[0;34m.\u001b[0m\u001b[0m_slow_forward\u001b[0m\u001b[0;34m(\u001b[0m\u001b[0;34m*\u001b[0m\u001b[0minput\u001b[0m\u001b[0;34m,\u001b[0m \u001b[0;34m**\u001b[0m\u001b[0mkwargs\u001b[0m\u001b[0;34m)\u001b[0m\u001b[0;34m\u001b[0m\u001b[0;34m\u001b[0m\u001b[0m\n\u001b[1;32m    726\u001b[0m         \u001b[0;32melse\u001b[0m\u001b[0;34m:\u001b[0m\u001b[0;34m\u001b[0m\u001b[0;34m\u001b[0m\u001b[0m\n\u001b[0;32m--> 727\u001b[0;31m             \u001b[0mresult\u001b[0m \u001b[0;34m=\u001b[0m \u001b[0mself\u001b[0m\u001b[0;34m.\u001b[0m\u001b[0mforward\u001b[0m\u001b[0;34m(\u001b[0m\u001b[0;34m*\u001b[0m\u001b[0minput\u001b[0m\u001b[0;34m,\u001b[0m \u001b[0;34m**\u001b[0m\u001b[0mkwargs\u001b[0m\u001b[0;34m)\u001b[0m\u001b[0;34m\u001b[0m\u001b[0;34m\u001b[0m\u001b[0m\n\u001b[0m\u001b[1;32m    728\u001b[0m         for hook in itertools.chain(\n\u001b[1;32m    729\u001b[0m                 \u001b[0m_global_forward_hooks\u001b[0m\u001b[0;34m.\u001b[0m\u001b[0mvalues\u001b[0m\u001b[0;34m(\u001b[0m\u001b[0;34m)\u001b[0m\u001b[0;34m,\u001b[0m\u001b[0;34m\u001b[0m\u001b[0;34m\u001b[0m\u001b[0m\n",
      "\u001b[0;32m~/miniconda3/envs/entitylink/lib/python3.7/site-packages/transformers/modeling_bert.py\u001b[0m in \u001b[0;36mforward\u001b[0;34m(self, input_ids, attention_mask, token_type_ids, position_ids, head_mask, inputs_embeds, encoder_hidden_states, encoder_attention_mask, output_attentions, output_hidden_states, return_dict)\u001b[0m\n\u001b[1;32m    846\u001b[0m             \u001b[0moutput_attentions\u001b[0m\u001b[0;34m=\u001b[0m\u001b[0moutput_attentions\u001b[0m\u001b[0;34m,\u001b[0m\u001b[0;34m\u001b[0m\u001b[0;34m\u001b[0m\u001b[0m\n\u001b[1;32m    847\u001b[0m             \u001b[0moutput_hidden_states\u001b[0m\u001b[0;34m=\u001b[0m\u001b[0moutput_hidden_states\u001b[0m\u001b[0;34m,\u001b[0m\u001b[0;34m\u001b[0m\u001b[0;34m\u001b[0m\u001b[0m\n\u001b[0;32m--> 848\u001b[0;31m             \u001b[0mreturn_dict\u001b[0m\u001b[0;34m=\u001b[0m\u001b[0mreturn_dict\u001b[0m\u001b[0;34m,\u001b[0m\u001b[0;34m\u001b[0m\u001b[0;34m\u001b[0m\u001b[0m\n\u001b[0m\u001b[1;32m    849\u001b[0m         )\n\u001b[1;32m    850\u001b[0m         \u001b[0msequence_output\u001b[0m \u001b[0;34m=\u001b[0m \u001b[0mencoder_outputs\u001b[0m\u001b[0;34m[\u001b[0m\u001b[0;36m0\u001b[0m\u001b[0;34m]\u001b[0m\u001b[0;34m\u001b[0m\u001b[0;34m\u001b[0m\u001b[0m\n",
      "\u001b[0;32m~/miniconda3/envs/entitylink/lib/python3.7/site-packages/torch/nn/modules/module.py\u001b[0m in \u001b[0;36m_call_impl\u001b[0;34m(self, *input, **kwargs)\u001b[0m\n\u001b[1;32m    725\u001b[0m             \u001b[0mresult\u001b[0m \u001b[0;34m=\u001b[0m \u001b[0mself\u001b[0m\u001b[0;34m.\u001b[0m\u001b[0m_slow_forward\u001b[0m\u001b[0;34m(\u001b[0m\u001b[0;34m*\u001b[0m\u001b[0minput\u001b[0m\u001b[0;34m,\u001b[0m \u001b[0;34m**\u001b[0m\u001b[0mkwargs\u001b[0m\u001b[0;34m)\u001b[0m\u001b[0;34m\u001b[0m\u001b[0;34m\u001b[0m\u001b[0m\n\u001b[1;32m    726\u001b[0m         \u001b[0;32melse\u001b[0m\u001b[0;34m:\u001b[0m\u001b[0;34m\u001b[0m\u001b[0;34m\u001b[0m\u001b[0m\n\u001b[0;32m--> 727\u001b[0;31m             \u001b[0mresult\u001b[0m \u001b[0;34m=\u001b[0m \u001b[0mself\u001b[0m\u001b[0;34m.\u001b[0m\u001b[0mforward\u001b[0m\u001b[0;34m(\u001b[0m\u001b[0;34m*\u001b[0m\u001b[0minput\u001b[0m\u001b[0;34m,\u001b[0m \u001b[0;34m**\u001b[0m\u001b[0mkwargs\u001b[0m\u001b[0;34m)\u001b[0m\u001b[0;34m\u001b[0m\u001b[0;34m\u001b[0m\u001b[0m\n\u001b[0m\u001b[1;32m    728\u001b[0m         for hook in itertools.chain(\n\u001b[1;32m    729\u001b[0m                 \u001b[0m_global_forward_hooks\u001b[0m\u001b[0;34m.\u001b[0m\u001b[0mvalues\u001b[0m\u001b[0;34m(\u001b[0m\u001b[0;34m)\u001b[0m\u001b[0;34m,\u001b[0m\u001b[0;34m\u001b[0m\u001b[0;34m\u001b[0m\u001b[0m\n",
      "\u001b[0;32m~/miniconda3/envs/entitylink/lib/python3.7/site-packages/transformers/modeling_bert.py\u001b[0m in \u001b[0;36mforward\u001b[0;34m(self, hidden_states, attention_mask, head_mask, encoder_hidden_states, encoder_attention_mask, output_attentions, output_hidden_states, return_dict)\u001b[0m\n\u001b[1;32m    481\u001b[0m                     \u001b[0mencoder_hidden_states\u001b[0m\u001b[0;34m,\u001b[0m\u001b[0;34m\u001b[0m\u001b[0;34m\u001b[0m\u001b[0m\n\u001b[1;32m    482\u001b[0m                     \u001b[0mencoder_attention_mask\u001b[0m\u001b[0;34m,\u001b[0m\u001b[0;34m\u001b[0m\u001b[0;34m\u001b[0m\u001b[0m\n\u001b[0;32m--> 483\u001b[0;31m                     \u001b[0moutput_attentions\u001b[0m\u001b[0;34m,\u001b[0m\u001b[0;34m\u001b[0m\u001b[0;34m\u001b[0m\u001b[0m\n\u001b[0m\u001b[1;32m    484\u001b[0m                 )\n\u001b[1;32m    485\u001b[0m             \u001b[0mhidden_states\u001b[0m \u001b[0;34m=\u001b[0m \u001b[0mlayer_outputs\u001b[0m\u001b[0;34m[\u001b[0m\u001b[0;36m0\u001b[0m\u001b[0;34m]\u001b[0m\u001b[0;34m\u001b[0m\u001b[0;34m\u001b[0m\u001b[0m\n",
      "\u001b[0;32m~/miniconda3/envs/entitylink/lib/python3.7/site-packages/torch/nn/modules/module.py\u001b[0m in \u001b[0;36m_call_impl\u001b[0;34m(self, *input, **kwargs)\u001b[0m\n\u001b[1;32m    725\u001b[0m             \u001b[0mresult\u001b[0m \u001b[0;34m=\u001b[0m \u001b[0mself\u001b[0m\u001b[0;34m.\u001b[0m\u001b[0m_slow_forward\u001b[0m\u001b[0;34m(\u001b[0m\u001b[0;34m*\u001b[0m\u001b[0minput\u001b[0m\u001b[0;34m,\u001b[0m \u001b[0;34m**\u001b[0m\u001b[0mkwargs\u001b[0m\u001b[0;34m)\u001b[0m\u001b[0;34m\u001b[0m\u001b[0;34m\u001b[0m\u001b[0m\n\u001b[1;32m    726\u001b[0m         \u001b[0;32melse\u001b[0m\u001b[0;34m:\u001b[0m\u001b[0;34m\u001b[0m\u001b[0;34m\u001b[0m\u001b[0m\n\u001b[0;32m--> 727\u001b[0;31m             \u001b[0mresult\u001b[0m \u001b[0;34m=\u001b[0m \u001b[0mself\u001b[0m\u001b[0;34m.\u001b[0m\u001b[0mforward\u001b[0m\u001b[0;34m(\u001b[0m\u001b[0;34m*\u001b[0m\u001b[0minput\u001b[0m\u001b[0;34m,\u001b[0m \u001b[0;34m**\u001b[0m\u001b[0mkwargs\u001b[0m\u001b[0;34m)\u001b[0m\u001b[0;34m\u001b[0m\u001b[0;34m\u001b[0m\u001b[0m\n\u001b[0m\u001b[1;32m    728\u001b[0m         for hook in itertools.chain(\n\u001b[1;32m    729\u001b[0m                 \u001b[0m_global_forward_hooks\u001b[0m\u001b[0;34m.\u001b[0m\u001b[0mvalues\u001b[0m\u001b[0;34m(\u001b[0m\u001b[0;34m)\u001b[0m\u001b[0;34m,\u001b[0m\u001b[0;34m\u001b[0m\u001b[0;34m\u001b[0m\u001b[0m\n",
      "\u001b[0;32m~/miniconda3/envs/entitylink/lib/python3.7/site-packages/transformers/modeling_bert.py\u001b[0m in \u001b[0;36mforward\u001b[0;34m(self, hidden_states, attention_mask, head_mask, encoder_hidden_states, encoder_attention_mask, output_attentions)\u001b[0m\n\u001b[1;32m    400\u001b[0m             \u001b[0mattention_mask\u001b[0m\u001b[0;34m,\u001b[0m\u001b[0;34m\u001b[0m\u001b[0;34m\u001b[0m\u001b[0m\n\u001b[1;32m    401\u001b[0m             \u001b[0mhead_mask\u001b[0m\u001b[0;34m,\u001b[0m\u001b[0;34m\u001b[0m\u001b[0;34m\u001b[0m\u001b[0m\n\u001b[0;32m--> 402\u001b[0;31m             \u001b[0moutput_attentions\u001b[0m\u001b[0;34m=\u001b[0m\u001b[0moutput_attentions\u001b[0m\u001b[0;34m,\u001b[0m\u001b[0;34m\u001b[0m\u001b[0;34m\u001b[0m\u001b[0m\n\u001b[0m\u001b[1;32m    403\u001b[0m         )\n\u001b[1;32m    404\u001b[0m         \u001b[0mattention_output\u001b[0m \u001b[0;34m=\u001b[0m \u001b[0mself_attention_outputs\u001b[0m\u001b[0;34m[\u001b[0m\u001b[0;36m0\u001b[0m\u001b[0;34m]\u001b[0m\u001b[0;34m\u001b[0m\u001b[0;34m\u001b[0m\u001b[0m\n",
      "\u001b[0;32m~/miniconda3/envs/entitylink/lib/python3.7/site-packages/torch/nn/modules/module.py\u001b[0m in \u001b[0;36m_call_impl\u001b[0;34m(self, *input, **kwargs)\u001b[0m\n\u001b[1;32m    725\u001b[0m             \u001b[0mresult\u001b[0m \u001b[0;34m=\u001b[0m \u001b[0mself\u001b[0m\u001b[0;34m.\u001b[0m\u001b[0m_slow_forward\u001b[0m\u001b[0;34m(\u001b[0m\u001b[0;34m*\u001b[0m\u001b[0minput\u001b[0m\u001b[0;34m,\u001b[0m \u001b[0;34m**\u001b[0m\u001b[0mkwargs\u001b[0m\u001b[0;34m)\u001b[0m\u001b[0;34m\u001b[0m\u001b[0;34m\u001b[0m\u001b[0m\n\u001b[1;32m    726\u001b[0m         \u001b[0;32melse\u001b[0m\u001b[0;34m:\u001b[0m\u001b[0;34m\u001b[0m\u001b[0;34m\u001b[0m\u001b[0m\n\u001b[0;32m--> 727\u001b[0;31m             \u001b[0mresult\u001b[0m \u001b[0;34m=\u001b[0m \u001b[0mself\u001b[0m\u001b[0;34m.\u001b[0m\u001b[0mforward\u001b[0m\u001b[0;34m(\u001b[0m\u001b[0;34m*\u001b[0m\u001b[0minput\u001b[0m\u001b[0;34m,\u001b[0m \u001b[0;34m**\u001b[0m\u001b[0mkwargs\u001b[0m\u001b[0;34m)\u001b[0m\u001b[0;34m\u001b[0m\u001b[0;34m\u001b[0m\u001b[0m\n\u001b[0m\u001b[1;32m    728\u001b[0m         for hook in itertools.chain(\n\u001b[1;32m    729\u001b[0m                 \u001b[0m_global_forward_hooks\u001b[0m\u001b[0;34m.\u001b[0m\u001b[0mvalues\u001b[0m\u001b[0;34m(\u001b[0m\u001b[0;34m)\u001b[0m\u001b[0;34m,\u001b[0m\u001b[0;34m\u001b[0m\u001b[0;34m\u001b[0m\u001b[0m\n",
      "\u001b[0;32m~/miniconda3/envs/entitylink/lib/python3.7/site-packages/transformers/modeling_bert.py\u001b[0m in \u001b[0;36mforward\u001b[0;34m(self, hidden_states, attention_mask, head_mask, encoder_hidden_states, encoder_attention_mask, output_attentions)\u001b[0m\n\u001b[1;32m    337\u001b[0m             \u001b[0mencoder_hidden_states\u001b[0m\u001b[0;34m,\u001b[0m\u001b[0;34m\u001b[0m\u001b[0;34m\u001b[0m\u001b[0m\n\u001b[1;32m    338\u001b[0m             \u001b[0mencoder_attention_mask\u001b[0m\u001b[0;34m,\u001b[0m\u001b[0;34m\u001b[0m\u001b[0;34m\u001b[0m\u001b[0m\n\u001b[0;32m--> 339\u001b[0;31m             \u001b[0moutput_attentions\u001b[0m\u001b[0;34m,\u001b[0m\u001b[0;34m\u001b[0m\u001b[0;34m\u001b[0m\u001b[0m\n\u001b[0m\u001b[1;32m    340\u001b[0m         )\n\u001b[1;32m    341\u001b[0m         \u001b[0mattention_output\u001b[0m \u001b[0;34m=\u001b[0m \u001b[0mself\u001b[0m\u001b[0;34m.\u001b[0m\u001b[0moutput\u001b[0m\u001b[0;34m(\u001b[0m\u001b[0mself_outputs\u001b[0m\u001b[0;34m[\u001b[0m\u001b[0;36m0\u001b[0m\u001b[0;34m]\u001b[0m\u001b[0;34m,\u001b[0m \u001b[0mhidden_states\u001b[0m\u001b[0;34m)\u001b[0m\u001b[0;34m\u001b[0m\u001b[0;34m\u001b[0m\u001b[0m\n",
      "\u001b[0;32m~/miniconda3/envs/entitylink/lib/python3.7/site-packages/torch/nn/modules/module.py\u001b[0m in \u001b[0;36m_call_impl\u001b[0;34m(self, *input, **kwargs)\u001b[0m\n\u001b[1;32m    725\u001b[0m             \u001b[0mresult\u001b[0m \u001b[0;34m=\u001b[0m \u001b[0mself\u001b[0m\u001b[0;34m.\u001b[0m\u001b[0m_slow_forward\u001b[0m\u001b[0;34m(\u001b[0m\u001b[0;34m*\u001b[0m\u001b[0minput\u001b[0m\u001b[0;34m,\u001b[0m \u001b[0;34m**\u001b[0m\u001b[0mkwargs\u001b[0m\u001b[0;34m)\u001b[0m\u001b[0;34m\u001b[0m\u001b[0;34m\u001b[0m\u001b[0m\n\u001b[1;32m    726\u001b[0m         \u001b[0;32melse\u001b[0m\u001b[0;34m:\u001b[0m\u001b[0;34m\u001b[0m\u001b[0;34m\u001b[0m\u001b[0m\n\u001b[0;32m--> 727\u001b[0;31m             \u001b[0mresult\u001b[0m \u001b[0;34m=\u001b[0m \u001b[0mself\u001b[0m\u001b[0;34m.\u001b[0m\u001b[0mforward\u001b[0m\u001b[0;34m(\u001b[0m\u001b[0;34m*\u001b[0m\u001b[0minput\u001b[0m\u001b[0;34m,\u001b[0m \u001b[0;34m**\u001b[0m\u001b[0mkwargs\u001b[0m\u001b[0;34m)\u001b[0m\u001b[0;34m\u001b[0m\u001b[0;34m\u001b[0m\u001b[0m\n\u001b[0m\u001b[1;32m    728\u001b[0m         for hook in itertools.chain(\n\u001b[1;32m    729\u001b[0m                 \u001b[0m_global_forward_hooks\u001b[0m\u001b[0;34m.\u001b[0m\u001b[0mvalues\u001b[0m\u001b[0;34m(\u001b[0m\u001b[0;34m)\u001b[0m\u001b[0;34m,\u001b[0m\u001b[0;34m\u001b[0m\u001b[0;34m\u001b[0m\u001b[0m\n",
      "\u001b[0;32m~/miniconda3/envs/entitylink/lib/python3.7/site-packages/transformers/modeling_bert.py\u001b[0m in \u001b[0;36mforward\u001b[0;34m(self, hidden_states, attention_mask, head_mask, encoder_hidden_states, encoder_attention_mask, output_attentions)\u001b[0m\n\u001b[1;32m    256\u001b[0m \u001b[0;34m\u001b[0m\u001b[0m\n\u001b[1;32m    257\u001b[0m         \u001b[0;31m# Take the dot product between \"query\" and \"key\" to get the raw attention scores.\u001b[0m\u001b[0;34m\u001b[0m\u001b[0;34m\u001b[0m\u001b[0;34m\u001b[0m\u001b[0m\n\u001b[0;32m--> 258\u001b[0;31m         \u001b[0mattention_scores\u001b[0m \u001b[0;34m=\u001b[0m \u001b[0mtorch\u001b[0m\u001b[0;34m.\u001b[0m\u001b[0mmatmul\u001b[0m\u001b[0;34m(\u001b[0m\u001b[0mquery_layer\u001b[0m\u001b[0;34m,\u001b[0m \u001b[0mkey_layer\u001b[0m\u001b[0;34m.\u001b[0m\u001b[0mtranspose\u001b[0m\u001b[0;34m(\u001b[0m\u001b[0;34m-\u001b[0m\u001b[0;36m1\u001b[0m\u001b[0;34m,\u001b[0m \u001b[0;34m-\u001b[0m\u001b[0;36m2\u001b[0m\u001b[0;34m)\u001b[0m\u001b[0;34m)\u001b[0m\u001b[0;34m\u001b[0m\u001b[0;34m\u001b[0m\u001b[0m\n\u001b[0m\u001b[1;32m    259\u001b[0m         \u001b[0mattention_scores\u001b[0m \u001b[0;34m=\u001b[0m \u001b[0mattention_scores\u001b[0m \u001b[0;34m/\u001b[0m \u001b[0mmath\u001b[0m\u001b[0;34m.\u001b[0m\u001b[0msqrt\u001b[0m\u001b[0;34m(\u001b[0m\u001b[0mself\u001b[0m\u001b[0;34m.\u001b[0m\u001b[0mattention_head_size\u001b[0m\u001b[0;34m)\u001b[0m\u001b[0;34m\u001b[0m\u001b[0;34m\u001b[0m\u001b[0m\n\u001b[1;32m    260\u001b[0m         \u001b[0;32mif\u001b[0m \u001b[0mattention_mask\u001b[0m \u001b[0;32mis\u001b[0m \u001b[0;32mnot\u001b[0m \u001b[0;32mNone\u001b[0m\u001b[0;34m:\u001b[0m\u001b[0;34m\u001b[0m\u001b[0;34m\u001b[0m\u001b[0m\n",
      "\u001b[0;31mKeyboardInterrupt\u001b[0m: "
     ]
    }
   ],
   "source": [
    "for index, row in dataset.iterrows():\n",
    "    text = dataset.iloc[index][0]\n",
    "    doc = nlp(text)\n",
    "    \n",
    "    print(text)\n",
    "    for entity1 in doc.ents:\n",
    "        for entity2 in doc.ents:\n",
    "            if entity1 == entity2:\n",
    "                continue\n",
    "                \n",
    "            span1 = (entity1.start_char, entity1.end_char)\n",
    "            span2 = (entity2.start_char, entity2.end_char)\n",
    "            relation_pred = model.infer({'text': text, 'h': {'pos': span1}, 't': {'pos': span2}})\n",
    "            \n",
    "            print('({}, {}, {})'.format(entity1, relation_pred, entity2))\n",
    "    print()\n",
    "#     if found1 is not None and found2 is not None:\n",
    "#         relation_pred = re_model.infer({'text': text, 'h': {'pos': found2.span()}, 't': {'pos': found1.span()}})\n",
    "#         print('Concepts: ({}, {}), Sentence: {}, Relation: {}'.format(concept1, concept2, text, relation_pred))            \n",
    "#         print()"
   ]
  },
  {
   "cell_type": "code",
   "execution_count": 3,
   "metadata": {},
   "outputs": [
    {
     "data": {
      "text/plain": [
       "71"
      ]
     },
     "execution_count": 3,
     "metadata": {},
     "output_type": "execute_result"
    }
   ],
   "source": [
    "len('Anakin Skywalker , is a fictional character in the Star Wars franchise.')"
   ]
  },
  {
   "cell_type": "code",
   "execution_count": 4,
   "metadata": {},
   "outputs": [
    {
     "name": "stdout",
     "output_type": "stream",
     "text": [
      "(0, 16)\n",
      "(49, 58)\n"
     ]
    }
   ],
   "source": [
    "import re\n",
    "\n",
    "string = 'Anakin Skywalker is a fictional character in the Star Wars franchise.'\n",
    "\n",
    "a = re.search(r'Anakin Skywalker', string)\n",
    "b = re.search(r'Star Wars', string)\n",
    "print(a.span())\n",
    "print(b.span())"
   ]
  },
  {
   "cell_type": "code",
   "execution_count": 10,
   "metadata": {},
   "outputs": [
    {
     "data": {
      "text/plain": [
       "('part of', 0.6663140058517456)"
      ]
     },
     "execution_count": 10,
     "metadata": {},
     "output_type": "execute_result"
    }
   ],
   "source": [
    "out = model.infer({'text': 'Anakin Skywalker is a fictional character in the Star Wars franchise.', 'h': {'pos': a.span()}, 't': {'pos': b.span()}})\n",
    "out"
   ]
  },
  {
   "cell_type": "code",
   "execution_count": 11,
   "metadata": {},
   "outputs": [
    {
     "data": {
      "text/plain": [
       "str"
      ]
     },
     "execution_count": 11,
     "metadata": {},
     "output_type": "execute_result"
    }
   ],
   "source": [
    "type(out[0])"
   ]
  },
  {
   "cell_type": "code",
   "execution_count": 20,
   "metadata": {},
   "outputs": [
    {
     "data": {
      "text/plain": [
       "{'place served by transport hub': 0,\n",
       " 'mountain range': 1,\n",
       " 'religion': 2,\n",
       " 'participating team': 3,\n",
       " 'contains administrative territorial entity': 4,\n",
       " 'head of government': 5,\n",
       " 'country of citizenship': 6,\n",
       " 'original network': 7,\n",
       " 'heritage designation': 8,\n",
       " 'performer': 9,\n",
       " 'participant of': 10,\n",
       " 'position held': 11,\n",
       " 'has part': 12,\n",
       " 'location of formation': 13,\n",
       " 'located on terrain feature': 14,\n",
       " 'architect': 15,\n",
       " 'country of origin': 16,\n",
       " 'publisher': 17,\n",
       " 'director': 18,\n",
       " 'father': 19,\n",
       " 'developer': 20,\n",
       " 'military branch': 21,\n",
       " 'mouth of the watercourse': 22,\n",
       " 'nominated for': 23,\n",
       " 'movement': 24,\n",
       " 'successful candidate': 25,\n",
       " 'followed by': 26,\n",
       " 'manufacturer': 27,\n",
       " 'instance of': 28,\n",
       " 'after a work by': 29,\n",
       " 'member of political party': 30,\n",
       " 'licensed to broadcast to': 31,\n",
       " 'headquarters location': 32,\n",
       " 'sibling': 33,\n",
       " 'instrument': 34,\n",
       " 'country': 35,\n",
       " 'occupation': 36,\n",
       " 'residence': 37,\n",
       " 'work location': 38,\n",
       " 'subsidiary': 39,\n",
       " 'participant': 40,\n",
       " 'operator': 41,\n",
       " 'characters': 42,\n",
       " 'occupant': 43,\n",
       " 'genre': 44,\n",
       " 'operating system': 45,\n",
       " 'owned by': 46,\n",
       " 'platform': 47,\n",
       " 'tributary': 48,\n",
       " 'winner': 49,\n",
       " 'said to be the same as': 50,\n",
       " 'composer': 51,\n",
       " 'league': 52,\n",
       " 'record label': 53,\n",
       " 'distributor': 54,\n",
       " 'screenwriter': 55,\n",
       " 'sports season of league or competition': 56,\n",
       " 'taxon rank': 57,\n",
       " 'location': 58,\n",
       " 'field of work': 59,\n",
       " 'language of work or name': 60,\n",
       " 'applies to jurisdiction': 61,\n",
       " 'notable work': 62,\n",
       " 'located in the administrative territorial entity': 63,\n",
       " 'crosses': 64,\n",
       " 'original language of film or TV show': 65,\n",
       " 'competition class': 66,\n",
       " 'part of': 67,\n",
       " 'sport': 68,\n",
       " 'constellation': 69,\n",
       " 'position played on team / speciality': 70,\n",
       " 'located in or next to body of water': 71,\n",
       " 'voice type': 72,\n",
       " 'follows': 73,\n",
       " 'spouse': 74,\n",
       " 'military rank': 75,\n",
       " 'mother': 76,\n",
       " 'member of': 77,\n",
       " 'child': 78,\n",
       " 'main subject': 79}"
      ]
     },
     "execution_count": 20,
     "metadata": {},
     "output_type": "execute_result"
    }
   ],
   "source": [
    "model.rel2id"
   ]
  },
  {
   "cell_type": "code",
   "execution_count": null,
   "metadata": {},
   "outputs": [],
   "source": [
    "model._modules"
   ]
  },
  {
   "cell_type": "markdown",
   "metadata": {},
   "source": [
    "### Relation Extraction from Cleaned Dataset"
   ]
  },
  {
   "cell_type": "code",
   "execution_count": null,
   "metadata": {},
   "outputs": [],
   "source": []
  },
  {
   "cell_type": "code",
   "execution_count": 1,
   "metadata": {},
   "outputs": [
    {
     "ename": "NameError",
     "evalue": "name 'pd' is not defined",
     "output_type": "error",
     "traceback": [
      "\u001b[0;31m---------------------------------------------------------------------------\u001b[0m",
      "\u001b[0;31mNameError\u001b[0m                                 Traceback (most recent call last)",
      "\u001b[0;32m<ipython-input-1-f20ea04732d0>\u001b[0m in \u001b[0;36m<module>\u001b[0;34m\u001b[0m\n\u001b[0;32m----> 1\u001b[0;31m \u001b[0mdataset\u001b[0m \u001b[0;34m=\u001b[0m \u001b[0mpd\u001b[0m\u001b[0;34m.\u001b[0m\u001b[0mread_csv\u001b[0m\u001b[0;34m(\u001b[0m\u001b[0;34m'./dataset/starwars_text_dataset_cleaned.txt'\u001b[0m\u001b[0;34m,\u001b[0m \u001b[0mdelimiter\u001b[0m\u001b[0;34m=\u001b[0m\u001b[0;34m'\\n'\u001b[0m\u001b[0;34m,\u001b[0m \u001b[0mheader\u001b[0m\u001b[0;34m=\u001b[0m\u001b[0;32mNone\u001b[0m\u001b[0;34m,\u001b[0m \u001b[0merror_bad_lines\u001b[0m\u001b[0;34m=\u001b[0m\u001b[0;32mFalse\u001b[0m\u001b[0;34m)\u001b[0m\u001b[0;34m\u001b[0m\u001b[0;34m\u001b[0m\u001b[0m\n\u001b[0m\u001b[1;32m      2\u001b[0m \u001b[0mdataset\u001b[0m\u001b[0;34m\u001b[0m\u001b[0;34m\u001b[0m\u001b[0m\n",
      "\u001b[0;31mNameError\u001b[0m: name 'pd' is not defined"
     ]
    }
   ],
   "source": [
    "dataset = pd.read_csv('./dataset/starwars_text_dataset_cleaned.txt', delimiter='\\n', header=None, error_bad_lines=False)\n",
    "dataset"
   ]
  },
  {
   "cell_type": "code",
   "execution_count": null,
   "metadata": {},
   "outputs": [],
   "source": []
  }
 ],
 "metadata": {
  "kernelspec": {
   "display_name": "Python 3",
   "language": "python",
   "name": "python3"
  },
  "language_info": {
   "codemirror_mode": {
    "name": "ipython",
    "version": 3
   },
   "file_extension": ".py",
   "mimetype": "text/x-python",
   "name": "python",
   "nbconvert_exporter": "python",
   "pygments_lexer": "ipython3",
   "version": "3.7.5"
  }
 },
 "nbformat": 4,
 "nbformat_minor": 4
}
