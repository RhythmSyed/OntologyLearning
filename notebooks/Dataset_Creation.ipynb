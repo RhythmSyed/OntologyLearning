{
 "cells": [
  {
   "cell_type": "markdown",
   "id": "endless-composer",
   "metadata": {},
   "source": [
    "# Unstructured Text Dataset Creation with Wikipedia"
   ]
  },
  {
   "cell_type": "markdown",
   "id": "failing-wildlife",
   "metadata": {},
   "source": [
    "> https://wikipedia.readthedocs.io/en/latest/code.html#api"
   ]
  },
  {
   "cell_type": "code",
   "execution_count": 1,
   "id": "increasing-object",
   "metadata": {},
   "outputs": [],
   "source": [
    "import wikipedia\n",
    "import pandas as pd\n",
    "import numpy as np\n",
    "import spacy\n",
    "nlp = spacy.load('en_core_web_lg')"
   ]
  },
  {
   "cell_type": "code",
   "execution_count": 2,
   "id": "positive-journal",
   "metadata": {},
   "outputs": [],
   "source": [
    "nlp.add_pipe(nlp.create_pipe('sentencizer'))"
   ]
  },
  {
   "cell_type": "code",
   "execution_count": 3,
   "id": "cardiac-syndrome",
   "metadata": {},
   "outputs": [
    {
     "name": "stderr",
     "output_type": "stream",
     "text": [
      "/Users/rhythmsyed/miniconda3/envs/entitylink/lib/python3.7/site-packages/wikipedia/wikipedia.py:389: GuessedAtParserWarning: No parser was explicitly specified, so I'm using the best available HTML parser for this system (\"html.parser\"). This usually isn't a problem, but if you run this code on another system, or in a different virtual environment, it may use a different parser and behave differently.\n",
      "\n",
      "The code that caused this warning is on line 389 of the file /Users/rhythmsyed/miniconda3/envs/entitylink/lib/python3.7/site-packages/wikipedia/wikipedia.py. To get rid of this warning, pass the additional argument 'features=\"html.parser\"' to the BeautifulSoup constructor.\n",
      "\n",
      "  lis = BeautifulSoup(html).find_all('li')\n"
     ]
    },
    {
     "ename": "DisambiguationError",
     "evalue": "\"Something\" may refer to: \nSomething (concept)\nindefinite pronoun\nSomething (Chairlift album)\nSomething (Shirley Bassey album)\nSomething (Shirley Scott album)\n\"Something\" (Andrius Pojavis song)\n\"Something\" (Beatles song)\n\"Something\" (Girl's Day song)\n\"Something\" (TVXQ song)\n\"Something\" (Lasgo song)\nMusic From Another Dimension\nTales from the Lotus Pod\nThis War Is Ours\nJoe Cocker!\nBlackberry Way\nOral Fixation Vol. 2\nSomething for Everybody\nSome Things\nAnything (disambiguation)\nEverything (disambiguation)\nNothing (disambiguation)\nThing (disambiguation)",
     "output_type": "error",
     "traceback": [
      "\u001b[0;31m---------------------------------------------------------------------------\u001b[0m",
      "\u001b[0;31mDisambiguationError\u001b[0m                       Traceback (most recent call last)",
      "\u001b[0;32m<ipython-input-3-895c60be10b8>\u001b[0m in \u001b[0;36m<module>\u001b[0;34m\u001b[0m\n\u001b[0;32m----> 1\u001b[0;31m \u001b[0mwikipedia\u001b[0m\u001b[0;34m.\u001b[0m\u001b[0mWikipediaPage\u001b[0m\u001b[0;34m(\u001b[0m\u001b[0;34m'Something'\u001b[0m\u001b[0;34m)\u001b[0m\u001b[0;34m.\u001b[0m\u001b[0mcontent\u001b[0m\u001b[0;34m\u001b[0m\u001b[0;34m\u001b[0m\u001b[0m\n\u001b[0m",
      "\u001b[0;32m~/miniconda3/envs/entitylink/lib/python3.7/site-packages/wikipedia/wikipedia.py\u001b[0m in \u001b[0;36m__init__\u001b[0;34m(self, title, pageid, redirect, preload, original_title)\u001b[0m\n\u001b[1;32m    297\u001b[0m       \u001b[0;32mraise\u001b[0m \u001b[0mValueError\u001b[0m\u001b[0;34m(\u001b[0m\u001b[0;34m\"Either a title or a pageid must be specified\"\u001b[0m\u001b[0;34m)\u001b[0m\u001b[0;34m\u001b[0m\u001b[0;34m\u001b[0m\u001b[0m\n\u001b[1;32m    298\u001b[0m \u001b[0;34m\u001b[0m\u001b[0m\n\u001b[0;32m--> 299\u001b[0;31m     \u001b[0mself\u001b[0m\u001b[0;34m.\u001b[0m\u001b[0m__load\u001b[0m\u001b[0;34m(\u001b[0m\u001b[0mredirect\u001b[0m\u001b[0;34m=\u001b[0m\u001b[0mredirect\u001b[0m\u001b[0;34m,\u001b[0m \u001b[0mpreload\u001b[0m\u001b[0;34m=\u001b[0m\u001b[0mpreload\u001b[0m\u001b[0;34m)\u001b[0m\u001b[0;34m\u001b[0m\u001b[0;34m\u001b[0m\u001b[0m\n\u001b[0m\u001b[1;32m    300\u001b[0m \u001b[0;34m\u001b[0m\u001b[0m\n\u001b[1;32m    301\u001b[0m     \u001b[0;32mif\u001b[0m \u001b[0mpreload\u001b[0m\u001b[0;34m:\u001b[0m\u001b[0;34m\u001b[0m\u001b[0;34m\u001b[0m\u001b[0m\n",
      "\u001b[0;32m~/miniconda3/envs/entitylink/lib/python3.7/site-packages/wikipedia/wikipedia.py\u001b[0m in \u001b[0;36m__load\u001b[0;34m(self, redirect, preload)\u001b[0m\n\u001b[1;32m    391\u001b[0m       \u001b[0mmay_refer_to\u001b[0m \u001b[0;34m=\u001b[0m \u001b[0;34m[\u001b[0m\u001b[0mli\u001b[0m\u001b[0;34m.\u001b[0m\u001b[0ma\u001b[0m\u001b[0;34m.\u001b[0m\u001b[0mget_text\u001b[0m\u001b[0;34m(\u001b[0m\u001b[0;34m)\u001b[0m \u001b[0;32mfor\u001b[0m \u001b[0mli\u001b[0m \u001b[0;32min\u001b[0m \u001b[0mfiltered_lis\u001b[0m \u001b[0;32mif\u001b[0m \u001b[0mli\u001b[0m\u001b[0;34m.\u001b[0m\u001b[0ma\u001b[0m\u001b[0;34m]\u001b[0m\u001b[0;34m\u001b[0m\u001b[0;34m\u001b[0m\u001b[0m\n\u001b[1;32m    392\u001b[0m \u001b[0;34m\u001b[0m\u001b[0m\n\u001b[0;32m--> 393\u001b[0;31m       \u001b[0;32mraise\u001b[0m \u001b[0mDisambiguationError\u001b[0m\u001b[0;34m(\u001b[0m\u001b[0mgetattr\u001b[0m\u001b[0;34m(\u001b[0m\u001b[0mself\u001b[0m\u001b[0;34m,\u001b[0m \u001b[0;34m'title'\u001b[0m\u001b[0;34m,\u001b[0m \u001b[0mpage\u001b[0m\u001b[0;34m[\u001b[0m\u001b[0;34m'title'\u001b[0m\u001b[0;34m]\u001b[0m\u001b[0;34m)\u001b[0m\u001b[0;34m,\u001b[0m \u001b[0mmay_refer_to\u001b[0m\u001b[0;34m)\u001b[0m\u001b[0;34m\u001b[0m\u001b[0;34m\u001b[0m\u001b[0m\n\u001b[0m\u001b[1;32m    394\u001b[0m \u001b[0;34m\u001b[0m\u001b[0m\n\u001b[1;32m    395\u001b[0m     \u001b[0;32melse\u001b[0m\u001b[0;34m:\u001b[0m\u001b[0;34m\u001b[0m\u001b[0;34m\u001b[0m\u001b[0m\n",
      "\u001b[0;31mDisambiguationError\u001b[0m: \"Something\" may refer to: \nSomething (concept)\nindefinite pronoun\nSomething (Chairlift album)\nSomething (Shirley Bassey album)\nSomething (Shirley Scott album)\n\"Something\" (Andrius Pojavis song)\n\"Something\" (Beatles song)\n\"Something\" (Girl's Day song)\n\"Something\" (TVXQ song)\n\"Something\" (Lasgo song)\nMusic From Another Dimension\nTales from the Lotus Pod\nThis War Is Ours\nJoe Cocker!\nBlackberry Way\nOral Fixation Vol. 2\nSomething for Everybody\nSome Things\nAnything (disambiguation)\nEverything (disambiguation)\nNothing (disambiguation)\nThing (disambiguation)"
     ]
    }
   ],
   "source": [
    "wikipedia.WikipediaPage('Something').content"
   ]
  },
  {
   "cell_type": "code",
   "execution_count": 6,
   "id": "responsible-karma",
   "metadata": {},
   "outputs": [
    {
     "data": {
      "text/plain": [
       "(['Star Wars',\n",
       "  'List of Star Wars characters',\n",
       "  'Star Wars Rebels',\n",
       "  'Star Wars (film)',\n",
       "  'List of Star Wars films',\n",
       "  'Star Wars Trilogy',\n",
       "  'List of Star Wars planets and moons',\n",
       "  'Star Wars Resistance',\n",
       "  'Star Wars: Battlefront',\n",
       "  'Star Wars: The High Republic'],\n",
       " 'star wars')"
      ]
     },
     "execution_count": 6,
     "metadata": {},
     "output_type": "execute_result"
    }
   ],
   "source": [
    "wikipedia.search('StarWars', suggestion=True)"
   ]
  },
  {
   "cell_type": "code",
   "execution_count": 7,
   "id": "latter-westminster",
   "metadata": {},
   "outputs": [
    {
     "data": {
      "text/plain": [
       "\"Star Wars is an American epic space opera media franchise created by George Lucas, which began with the eponymous 1977 film and quickly became a worldwide pop-culture phenomenon. The franchise has been expanded into various films and other media, including television series, video games, novels, comic books, theme park attractions, and themed areas, comprising an all-encompassing fictional universe. In 2020, its total value was estimated at US$70 billion, and it is currently the fifth-highest-grossing media franchise of all time.\\nThe original film (Star Wars), retroactively subtitled Episode IV: A New Hope (1977), was followed by the sequels Episode V: The Empire Strikes Back (1980) and Episode VI: Return of the Jedi (1983), forming the original Star Wars trilogy. Lucas later returned to filmmaking to direct a prequel trilogy, consisting of Episode I: The Phantom Menace (1999), Episode II: Attack of the Clones (2002), and Episode III: Revenge of the Sith (2005). In 2012, Lucas sold his production company to Disney, relinquishing his ownership of the franchise. The subsequently produced sequel trilogy consists of Episode VII: The Force Awakens (2015), Episode VIII: The Last Jedi (2017), and Episode IX: The Rise of Skywalker (2019).\\nAll nine films of the 'Skywalker saga' were nominated for Academy Awards with wins going to the first two releases. Together with the theatrical live action spin-off films Rogue One (2016) and Solo (2018), the combined box office revenue of the films equated to over US$10 billion and is currently the second-highest-grossing film franchise of all time.\\n\\n\""
      ]
     },
     "execution_count": 7,
     "metadata": {},
     "output_type": "execute_result"
    }
   ],
   "source": [
    "wikipedia.summary('StarWars')"
   ]
  },
  {
   "cell_type": "code",
   "execution_count": 8,
   "id": "interracial-brother",
   "metadata": {},
   "outputs": [],
   "source": [
    "content = wikipedia.WikipediaPage('StarWars').content"
   ]
  },
  {
   "cell_type": "markdown",
   "id": "crude-question",
   "metadata": {},
   "source": [
    "### Get topics from Wikipedia content:"
   ]
  },
  {
   "cell_type": "code",
   "execution_count": 44,
   "id": "appropriate-meeting",
   "metadata": {},
   "outputs": [
    {
     "data": {
      "text/plain": [
       "125"
      ]
     },
     "execution_count": 44,
     "metadata": {},
     "output_type": "execute_result"
    }
   ],
   "source": [
    "topics = []\n",
    "with open(\"./Ontology_Learning/dataset/starwars_topics.txt\", \"r\") as file:\n",
    "    for line in file:\n",
    "        topics.append(line.strip())\n",
    "len(topics)"
   ]
  },
  {
   "cell_type": "code",
   "execution_count": 46,
   "id": "spare-investing",
   "metadata": {},
   "outputs": [
    {
     "name": "stdout",
     "output_type": "stream",
     "text": [
      "Topic0: Luke Skywalker, Sentences: 391, Total: 391\n",
      "Topic1: Anakin Skywalker, Sentences: 462, Total: 853\n",
      "Topic2: George Lucas, Sentences: 405, Total: 1258\n",
      "Topic3: Jedi, Sentences: 629, Total: 1887\n",
      "Topic4: Millennium Falcon, Sentences: 209, Total: 2096\n",
      "Topic5: Star Wars, Sentences: 465, Total: 2561\n",
      "Topic6: Shmi Skywalker, Sentences: 324, Total: 2885\n",
      "Topic7: Leia Organa, Sentences: 522, Total: 3407\n",
      "Topic8: Han Solo, Sentences: 272, Total: 3679\n",
      "Topic9: Kylo Ren, Sentences: 287, Total: 3966\n",
      "Topic10: Padmé Amidala, Sentences: 332, Total: 4298\n",
      "Topic11: Obi-Wan Kenobi, Sentences: 287, Total: 4585\n",
      "Topic12: Tatooine, Sentences: 170, Total: 4755\n",
      "Topic13: X-wing, Sentences: 123, Total: 4878\n",
      "Topic14: Landspeeder, Sentences: 89, Total: 4967\n",
      "Topic15: Sandcrawler, Sentences: 61, Total: 5028\n",
      "Topic16: Snowspeeder, Sentences: 467, Total: 5495\n",
      "Topic17: Skyhopper (Star Wars), Sentences: 467, Total: 5962\n",
      "Topic18: Speeder bike, Sentences: 115, Total: 6077\n",
      "Topic19: Star Destroyer, Sentences: 222, Total: 6299\n",
      "Topic20: B-wing, Sentences: 386, Total: 6685\n",
      "Topic21: Y-wing, Sentences: 77, Total: 6762\n",
      "Topic22: U-wing, Sentences: 386, Total: 7148\n",
      "Topic23: Star_Wars_(film), Sentences: 925, Total: 8073\n",
      "Topic24: Galactic Republic, Sentences: 211, Total: 8284\n",
      "Topic25: Star Wars prequel trilogy, Sentences: 135, Total: 8419\n",
      "Topic26: Star Wars: The High Republic, Sentences: 134, Total: 8553\n",
      "Topic27: Palpatine, Sentences: 550, Total: 9103\n",
      "Topic28: Clone Wars (Star Wars), Sentences: 134, Total: 9237\n",
      "Topic29: Galactic Empire (Star Wars), Sentences: 328, Total: 9565\n",
      "Topic30: Star Wars: The Clone Wars (2008 TV series), Sentences: 332, Total: 9897\n",
      "Topic31: The Empire Strikes Back, Sentences: 482, Total: 10379\n",
      "Topic32: Return of the Jedi, Sentences: 377, Total: 10756\n",
      "Topic33: Star Wars: Episode I – The Phantom Menace, Sentences: 579, Total: 11335\n",
      "Topic34: Star Wars: Episode II – Attack of the Clones, Sentences: 355, Total: 11690\n",
      "Topic35: Star Wars: Episode III – Revenge of the Sith, Sentences: 374, Total: 12064\n",
      "Topic36: Star Wars: The Force Awakens, Sentences: 616, Total: 12680\n",
      "Topic37: Star Wars: The Last Jedi, Sentences: 310, Total: 12990\n",
      "Topic38: Star Wars: The Rise of Skywalker, Sentences: 301, Total: 13291\n",
      "Topic39: Rogue One, Sentences: 355, Total: 13646\n",
      "Topic40: Solo: A Star Wars Story, Sentences: 351, Total: 13997\n",
      "Topic41: Chewbacca, Sentences: 230, Total: 14227\n",
      "Topic42: Lando Calrissian, Sentences: 232, Total: 14459\n",
      "Topic43: Darth Maul, Sentences: 381, Total: 14840\n",
      "Topic44: Lucasfilm, Sentences: 293, Total: 15133\n",
      "Topic45: Resistance (Star Wars), Sentences: 124, Total: 15257\n",
      "Topic46: First Order (Star Wars), Sentences: 195, Total: 15452\n",
      "Topic47: The Mandalorian, Sentences: 304, Total: 15756\n",
      "Topic48: Death Star, Sentences: 266, Total: 16022\n",
      "Topic49: Wookiee, Sentences: 182, Total: 16204\n",
      "Topic50: Princess Leia, Sentences: 522, Total: 16726\n",
      "Topic51: R2-D2, Sentences: 254, Total: 16980\n",
      "Topic52: C-3PO, Sentences: 287, Total: 17267\n",
      "Topic53: Sith, Sentences: 852, Total: 18119\n",
      "Topic54: Alderaan, Sentences: 111, Total: 18230\n",
      "Topic55: Droid (Star Wars), Sentences: 135, Total: 18365\n",
      "Topic56: Lightsaber, Sentences: 207, Total: 18572\n",
      "Topic57: Bail Organa, Sentences: 104, Total: 18676\n",
      "Topic58: Mos Eisley, Sentences: 122, Total: 18798\n",
      "Topic59: Jabba the Hutt, Sentences: 297, Total: 19095\n",
      "Topic60: Grand Moff Tarkin, Sentences: 127, Total: 19222\n",
      "Topic61: TIE fighter, Sentences: 216, Total: 19438\n",
      "Topic62: Yavin, Sentences: 117, Total: 19555\n",
      "Topic63: Naboo, Sentences: 255, Total: 19810\n",
      "Topic64: Star Wars Knights of the Old Republic II: The Sith Lords, Sentences: 188, Total: 19998\n",
      "Topic65: Star Wars: Bounty Hunter, Sentences: 150, Total: 20148\n",
      "Topic66: Kanan Jarrus, Sentences: 130, Total: 20278\n",
      "Topic67: Qui-Gon Jinn, Sentences: 208, Total: 20486\n",
      "Topic68: Cal Kestis, Sentences: 141, Total: 20627\n",
      "Topic69: Rey (Star Wars), Sentences: 306, Total: 20933\n",
      "Topic70: Mace Windu, Sentences: 170, Total: 21103\n",
      "Topic71: Darth Bane, Sentences: 227, Total: 21330\n",
      "Topic72: Count Dooku, Sentences: 165, Total: 21495\n",
      "Topic73: The Armorer, Sentences: 262, Total: 21757\n",
      "Topic74: Boba Fett, Sentences: 354, Total: 22111\n",
      "Topic75: Jango Fett, Sentences: 134, Total: 22245\n",
      "Topic76: Paz Vizsla, Sentences: 75, Total: 22320\n",
      "Topic77: Captain Rex, Sentences: 119, Total: 22439\n",
      "Topic78: Wedge Antilles, Sentences: 98, Total: 22537\n",
      "Topic79: Rogue Squadron, Sentences: 269, Total: 22806\n",
      "Topic80: Cassian Andor, Sentences: 60, Total: 22866\n",
      "Topic81: Bodhi Rook, Sentences: 60, Total: 22926\n",
      "Topic82: Guardians of the Whills, Sentences: 90, Total: 23016\n",
      "Topic83: Catalyst: A Rogue One Novel, Sentences: 112, Total: 23128\n",
      "Topic84: Jyn Erso, Sentences: 110, Total: 23238\n",
      "Topic85: Saw Gerrera, Sentences: 106, Total: 23344\n",
      "Topic86: Orson Krennic, Sentences: 78, Total: 23422\n",
      "Topic87: Star Wars: Lords of the Sith, Sentences: 22, Total: 23444\n",
      "Topic88: Admiral Piett, Sentences: 65, Total: 23509\n",
      "Topic89: Star Wars: Aftermath trilogy, Sentences: 140, Total: 23649\n",
      "Topic90: Star Wars: Thrawn, Sentences: 82, Total: 23731\n",
      "Topic91: Moff Gideon, Sentences: 170, Total: 23901\n",
      "Topic92: The Client (Star Wars), Sentences: 154, Total: 24055\n",
      "Topic93: Poe Dameron, Sentences: 210, Total: 24265\n",
      "Topic94: Finn (Star Wars), Sentences: 195, Total: 24460\n",
      "Topic95: Vice-Admiral Holdo, Sentences: 59, Total: 24519\n",
      "Topic96: Rose Tico, Sentences: 543, Total: 25062\n",
      "Topic97: Star Wars: Bloodline, Sentences: 47, Total: 25109\n",
      "Topic98: Cara Dune, Sentences: 214, Total: 25323\n",
      "Topic99: General Hux, Sentences: 78, Total: 25401\n",
      "Topic100: Captain Phasma, Sentences: 150, Total: 25551\n",
      "Topic101: Greef Karga, Sentences: 182, Total: 25733\n",
      "Topic102: Mayfeld, Sentences: 162, Total: 25895\n",
      "Topic103: Qi'ra, Sentences: 127, Total: 26022\n",
      "Topic104: Cobb Vanth, Sentences: 57, Total: 26079\n",
      "Topic105: Iden Versio, Sentences: 118, Total: 26197\n",
      "Topic106: Doctor Aphra, Sentences: 187, Total: 26384\n",
      "Topic107: Grand Admiral Thrawn, Sentences: 325, Total: 26709\n",
      "Topic108: Cad Bane, Sentences: 88, Total: 26797\n",
      "Topic109: Star Wars: Poe Dameron, Sentences: 73, Total: 26870\n",
      "Topic110: Wicket W. Warrick, Sentences: 70, Total: 26940\n",
      "Topic111: Jar Jar Binks, Sentences: 152, Total: 27092\n",
      "Topic112: General Grievous, Sentences: 266, Total: 27358\n",
      "Topic113: Darth Plagueis, Sentences: 52, Total: 27410\n",
      "Topic114: Greedo, Sentences: 67, Total: 27477\n",
      "Topic115: Nien Nunb, Sentences: 115, Total: 27592\n",
      "Topic116: Ahsoka Tano, Sentences: 222, Total: 27814\n",
      "Topic117: Watto, Sentences: 74, Total: 27888\n",
      "Topic118: Bib Fortuna, Sentences: 349, Total: 28237\n",
      "Topic119: Kuiil, Sentences: 221, Total: 28458\n",
      "Topic120: Yoda, Sentences: 264, Total: 28722\n",
      "Topic121: Grogu, Sentences: 410, Total: 29132\n",
      "Topic122: Asajj Ventress, Sentences: 212, Total: 29344\n",
      "Topic123: Maz Kanata, Sentences: 123, Total: 29467\n",
      "Topic124: Supreme Leader Snoke, Sentences: 138, Total: 29605\n"
     ]
    }
   ],
   "source": [
    "total = 0\n",
    "for i, topic in enumerate(topics):\n",
    "    content = wikipedia.WikipediaPage(topic).content\n",
    "    doc = nlp(content)\n",
    "    sentences = [sent.string.strip() for sent in doc.sents]\n",
    "    with open(\"./Ontology_Learning/dataset/starwars_text_dataset.txt\", \"a\") as file:\n",
    "        for sentence in sentences:\n",
    "            file.write(sentence + \"\\n\")\n",
    "    total += len(sentences)\n",
    "    print('Topic{}: {}, Sentences: {}, Total: {}'.format(i, topic, len(sentences), total))"
   ]
  },
  {
   "cell_type": "code",
   "execution_count": 20,
   "id": "handed-saturday",
   "metadata": {},
   "outputs": [
    {
     "data": {
      "text/html": [
       "<div>\n",
       "<style scoped>\n",
       "    .dataframe tbody tr th:only-of-type {\n",
       "        vertical-align: middle;\n",
       "    }\n",
       "\n",
       "    .dataframe tbody tr th {\n",
       "        vertical-align: top;\n",
       "    }\n",
       "\n",
       "    .dataframe thead th {\n",
       "        text-align: right;\n",
       "    }\n",
       "</style>\n",
       "<table border=\"1\" class=\"dataframe\">\n",
       "  <thead>\n",
       "    <tr style=\"text-align: right;\">\n",
       "      <th></th>\n",
       "      <th>query_term</th>\n",
       "      <th>text</th>\n",
       "    </tr>\n",
       "  </thead>\n",
       "  <tbody>\n",
       "    <tr>\n",
       "      <th>0</th>\n",
       "      <td>StarWars</td>\n",
       "      <td>Star Wars is an American epic space opera medi...</td>\n",
       "    </tr>\n",
       "  </tbody>\n",
       "</table>\n",
       "</div>"
      ],
      "text/plain": [
       "  query_term                                               text\n",
       "0   StarWars  Star Wars is an American epic space opera medi..."
      ]
     },
     "execution_count": 20,
     "metadata": {},
     "output_type": "execute_result"
    }
   ],
   "source": [
    "dataset = pd.DataFrame(data=[['StarWars', content]], columns=['query_term','text'])\n",
    "dataset"
   ]
  },
  {
   "cell_type": "code",
   "execution_count": 21,
   "id": "peripheral-fever",
   "metadata": {},
   "outputs": [
    {
     "data": {
      "text/html": [
       "<div>\n",
       "<style scoped>\n",
       "    .dataframe tbody tr th:only-of-type {\n",
       "        vertical-align: middle;\n",
       "    }\n",
       "\n",
       "    .dataframe tbody tr th {\n",
       "        vertical-align: top;\n",
       "    }\n",
       "\n",
       "    .dataframe thead th {\n",
       "        text-align: right;\n",
       "    }\n",
       "</style>\n",
       "<table border=\"1\" class=\"dataframe\">\n",
       "  <thead>\n",
       "    <tr style=\"text-align: right;\">\n",
       "      <th></th>\n",
       "      <th>query_term</th>\n",
       "      <th>text</th>\n",
       "    </tr>\n",
       "  </thead>\n",
       "  <tbody>\n",
       "    <tr>\n",
       "      <th>0</th>\n",
       "      <td>StarWars</td>\n",
       "      <td>Star Wars is an American epic space opera medi...</td>\n",
       "    </tr>\n",
       "    <tr>\n",
       "      <th>1</th>\n",
       "      <td>Anakin Skywalker</td>\n",
       "      <td>Darth Vader is a fictional character in the St...</td>\n",
       "    </tr>\n",
       "    <tr>\n",
       "      <th>2</th>\n",
       "      <td>George Lucas</td>\n",
       "      <td>George Walton Lucas Jr. (born May 14, 1944) is...</td>\n",
       "    </tr>\n",
       "    <tr>\n",
       "      <th>3</th>\n",
       "      <td>Jedi</td>\n",
       "      <td>The Jedi (), Jedi Knights, or the Knights of t...</td>\n",
       "    </tr>\n",
       "    <tr>\n",
       "      <th>4</th>\n",
       "      <td>Millennium Falcon</td>\n",
       "      <td>The Millennium Falcon is a fictional starship ...</td>\n",
       "    </tr>\n",
       "  </tbody>\n",
       "</table>\n",
       "</div>"
      ],
      "text/plain": [
       "          query_term                                               text\n",
       "0           StarWars  Star Wars is an American epic space opera medi...\n",
       "1   Anakin Skywalker  Darth Vader is a fictional character in the St...\n",
       "2       George Lucas  George Walton Lucas Jr. (born May 14, 1944) is...\n",
       "3               Jedi  The Jedi (), Jedi Knights, or the Knights of t...\n",
       "4  Millennium Falcon  The Millennium Falcon is a fictional starship ..."
      ]
     },
     "execution_count": 21,
     "metadata": {},
     "output_type": "execute_result"
    }
   ],
   "source": [
    "dataset = dataset.append(pd.DataFrame(data=[['Anakin Skywalker', wikipedia.WikipediaPage('Anakin Skywalker').content]], columns=['query_term','text']), ignore_index=True)\n",
    "dataset = dataset.append(pd.DataFrame(data=[['George Lucas', wikipedia.WikipediaPage('George Lucas').content]], columns=['query_term','text']), ignore_index=True)\n",
    "dataset = dataset.append(pd.DataFrame(data=[['Jedi', wikipedia.WikipediaPage('Jedi').content]], columns=['query_term','text']), ignore_index=True)\n",
    "dataset = dataset.append(pd.DataFrame(data=[['Millennium Falcon', wikipedia.WikipediaPage('Millennium Falcon').content]], columns=['query_term','text']), ignore_index=True)\n",
    "dataset"
   ]
  },
  {
   "cell_type": "code",
   "execution_count": 22,
   "id": "hourly-aberdeen",
   "metadata": {},
   "outputs": [],
   "source": [
    "dataset.to_csv('starwars_data.csv')"
   ]
  },
  {
   "cell_type": "markdown",
   "id": "direct-orange",
   "metadata": {},
   "source": [
    "## Text Cleaning"
   ]
  },
  {
   "cell_type": "code",
   "execution_count": 157,
   "id": "excited-shipping",
   "metadata": {},
   "outputs": [
    {
     "data": {
      "text/plain": [
       "[('parser', <spacy.pipeline.pipes.DependencyParser at 0x7f8e698fe980>)]"
      ]
     },
     "execution_count": 157,
     "metadata": {},
     "output_type": "execute_result"
    }
   ],
   "source": [
    "import spacy\n",
    "nlp = spacy.load(\"en_core_web_lg\", disable=[\"tagger\", \"ner\"])\n",
    "nlp.pipeline"
   ]
  },
  {
   "cell_type": "code",
   "execution_count": null,
   "id": "failing-thermal",
   "metadata": {},
   "outputs": [],
   "source": [
    "for index, row in dataset.iterrows():\n",
    "    doc = nlp(row.text)\n",
    "    sentences = [sent.string.strip() for sent in doc.sents]\n",
    "    #print(sentences)"
   ]
  },
  {
   "cell_type": "code",
   "execution_count": 158,
   "id": "comfortable-bumper",
   "metadata": {},
   "outputs": [
    {
     "data": {
      "text/plain": [
       "[('set_custom_boundaries', <function __main__.set_custom_boundaries(doc)>),\n",
       " ('parser', <spacy.pipeline.pipes.DependencyParser at 0x7f8e698fe980>)]"
      ]
     },
     "execution_count": 158,
     "metadata": {},
     "output_type": "execute_result"
    }
   ],
   "source": [
    "def set_custom_boundaries(doc):\n",
    "    for token in doc[:-1]:\n",
    "        if token.text in (\":\"):\n",
    "            doc[token.i].is_sent_start = False\n",
    "    return doc\n",
    "\n",
    "nlp.add_pipe(set_custom_boundaries, before=\"parser\")\n",
    "nlp.pipeline"
   ]
  },
  {
   "cell_type": "code",
   "execution_count": 159,
   "id": "prospective-allergy",
   "metadata": {},
   "outputs": [],
   "source": [
    "parsed = []\n",
    "doc = nlp(dataset.iloc[0].text)\n",
    "sentences = [sent.string.strip() for sent in doc.sents]\n",
    "for sent in sentences:\n",
    "    if len(sent) > 10 and '=' not in sent:\n",
    "        parsed.append(sent)"
   ]
  },
  {
   "cell_type": "code",
   "execution_count": 172,
   "id": "recorded-round",
   "metadata": {},
   "outputs": [],
   "source": [
    "nlp = spacy.load(\"en_core_web_lg\")"
   ]
  },
  {
   "cell_type": "markdown",
   "id": "searching-macro",
   "metadata": {},
   "source": [
    "StarWars\n",
    "Anakin Skywalker\n",
    "George Lucas\n",
    "Jedi\n",
    "Millennium Falcon"
   ]
  },
  {
   "cell_type": "code",
   "execution_count": 178,
   "id": "embedded-grant",
   "metadata": {},
   "outputs": [
    {
     "data": {
      "text/html": [
       "<div>\n",
       "<style scoped>\n",
       "    .dataframe tbody tr th:only-of-type {\n",
       "        vertical-align: middle;\n",
       "    }\n",
       "\n",
       "    .dataframe tbody tr th {\n",
       "        vertical-align: top;\n",
       "    }\n",
       "\n",
       "    .dataframe thead th {\n",
       "        text-align: right;\n",
       "    }\n",
       "</style>\n",
       "<table border=\"1\" class=\"dataframe\">\n",
       "  <thead>\n",
       "    <tr style=\"text-align: right;\">\n",
       "      <th></th>\n",
       "      <th>Text</th>\n",
       "      <th>Start</th>\n",
       "      <th>End</th>\n",
       "      <th>Label</th>\n",
       "    </tr>\n",
       "  </thead>\n",
       "  <tbody>\n",
       "    <tr>\n",
       "      <th>0</th>\n",
       "      <td>The Millennium Falcon</td>\n",
       "      <td>0</td>\n",
       "      <td>21</td>\n",
       "      <td>ORG</td>\n",
       "    </tr>\n",
       "    <tr>\n",
       "      <th>1</th>\n",
       "      <td>Joe Johnston</td>\n",
       "      <td>86</td>\n",
       "      <td>98</td>\n",
       "      <td>PERSON</td>\n",
       "    </tr>\n",
       "    <tr>\n",
       "      <th>2</th>\n",
       "      <td>Star Wars</td>\n",
       "      <td>113</td>\n",
       "      <td>122</td>\n",
       "      <td>WORK_OF_ART</td>\n",
       "    </tr>\n",
       "    <tr>\n",
       "      <th>3</th>\n",
       "      <td>1977</td>\n",
       "      <td>124</td>\n",
       "      <td>128</td>\n",
       "      <td>DATE</td>\n",
       "    </tr>\n",
       "    <tr>\n",
       "      <th>4</th>\n",
       "      <td>The Star Wars Holiday Special</td>\n",
       "      <td>163</td>\n",
       "      <td>192</td>\n",
       "      <td>ORG</td>\n",
       "    </tr>\n",
       "    <tr>\n",
       "      <th>...</th>\n",
       "      <td>...</td>\n",
       "      <td>...</td>\n",
       "      <td>...</td>\n",
       "      <td>...</td>\n",
       "    </tr>\n",
       "    <tr>\n",
       "      <th>398</th>\n",
       "      <td>Solo:</td>\n",
       "      <td>18291</td>\n",
       "      <td>18296</td>\n",
       "      <td>WORK_OF_ART</td>\n",
       "    </tr>\n",
       "    <tr>\n",
       "      <th>399</th>\n",
       "      <td>Millennium Falcon</td>\n",
       "      <td>18351</td>\n",
       "      <td>18368</td>\n",
       "      <td>DATE</td>\n",
       "    </tr>\n",
       "    <tr>\n",
       "      <th>400</th>\n",
       "      <td>Wookieepedia</td>\n",
       "      <td>18372</td>\n",
       "      <td>18384</td>\n",
       "      <td>GPE</td>\n",
       "    </tr>\n",
       "    <tr>\n",
       "      <th>401</th>\n",
       "      <td>Notes</td>\n",
       "      <td>18421</td>\n",
       "      <td>18426</td>\n",
       "      <td>PRODUCT</td>\n",
       "    </tr>\n",
       "    <tr>\n",
       "      <th>402</th>\n",
       "      <td>the Millennium Falcon</td>\n",
       "      <td>18471</td>\n",
       "      <td>18492</td>\n",
       "      <td>ORG</td>\n",
       "    </tr>\n",
       "  </tbody>\n",
       "</table>\n",
       "<p>403 rows × 4 columns</p>\n",
       "</div>"
      ],
      "text/plain": [
       "                              Text  Start    End        Label\n",
       "0            The Millennium Falcon      0     21          ORG\n",
       "1                     Joe Johnston     86     98       PERSON\n",
       "2                        Star Wars    113    122  WORK_OF_ART\n",
       "3                             1977    124    128         DATE\n",
       "4    The Star Wars Holiday Special    163    192          ORG\n",
       "..                             ...    ...    ...          ...\n",
       "398                          Solo:  18291  18296  WORK_OF_ART\n",
       "399              Millennium Falcon  18351  18368         DATE\n",
       "400                   Wookieepedia  18372  18384          GPE\n",
       "401                          Notes  18421  18426      PRODUCT\n",
       "402          the Millennium Falcon  18471  18492          ORG\n",
       "\n",
       "[403 rows x 4 columns]"
      ]
     },
     "execution_count": 178,
     "metadata": {},
     "output_type": "execute_result"
    }
   ],
   "source": [
    "doc = nlp(dataset.iloc[4].text)\n",
    "results = pd.DataFrame(columns=['Text', 'Start', 'End', 'Label'])\n",
    "\n",
    "for ent in doc.ents:  \n",
    "    results = results.append({'Text':ent.text, 'Start':ent.start_char, 'End':ent.end_char, 'Label':ent.label_}, ignore_index=True)\n",
    "results"
   ]
  },
  {
   "cell_type": "code",
   "execution_count": 179,
   "id": "hollow-casino",
   "metadata": {},
   "outputs": [],
   "source": [
    "results.to_csv('./entities/MillenniumFalcon_entities.csv')"
   ]
  },
  {
   "cell_type": "markdown",
   "id": "academic-indian",
   "metadata": {},
   "source": [
    "### Read OL Dataset"
   ]
  },
  {
   "cell_type": "code",
   "execution_count": 42,
   "id": "varied-spoke",
   "metadata": {},
   "outputs": [],
   "source": [
    "import spacy\n",
    "nlp = spacy.load('en_core_web_lg')"
   ]
  },
  {
   "cell_type": "code",
   "execution_count": 40,
   "id": "compliant-agent",
   "metadata": {},
   "outputs": [
    {
     "data": {
      "text/html": [
       "<div>\n",
       "<style scoped>\n",
       "    .dataframe tbody tr th:only-of-type {\n",
       "        vertical-align: middle;\n",
       "    }\n",
       "\n",
       "    .dataframe tbody tr th {\n",
       "        vertical-align: top;\n",
       "    }\n",
       "\n",
       "    .dataframe thead th {\n",
       "        text-align: right;\n",
       "    }\n",
       "</style>\n",
       "<table border=\"1\" class=\"dataframe\">\n",
       "  <thead>\n",
       "    <tr style=\"text-align: right;\">\n",
       "      <th></th>\n",
       "      <th>0</th>\n",
       "    </tr>\n",
       "  </thead>\n",
       "  <tbody>\n",
       "    <tr>\n",
       "      <th>0</th>\n",
       "      <td>Luke Skywalker is a fictional character and th...</td>\n",
       "    </tr>\n",
       "    <tr>\n",
       "      <th>1</th>\n",
       "      <td>The character, portrayed by Mark Hamill, is an...</td>\n",
       "    </tr>\n",
       "    <tr>\n",
       "      <th>2</th>\n",
       "      <td>He is the twin brother of Rebellion leader Pri...</td>\n",
       "    </tr>\n",
       "    <tr>\n",
       "      <th>3</th>\n",
       "      <td>The now non-canon Star Wars expanded universe ...</td>\n",
       "    </tr>\n",
       "    <tr>\n",
       "      <th>4</th>\n",
       "      <td>On their list of the 100 Greatest Fictional Ch...</td>\n",
       "    </tr>\n",
       "    <tr>\n",
       "      <th>...</th>\n",
       "      <td>...</td>\n",
       "    </tr>\n",
       "    <tr>\n",
       "      <th>1299</th>\n",
       "      <td>Lego has also made a version of the Falcon to ...</td>\n",
       "    </tr>\n",
       "    <tr>\n",
       "      <th>1300</th>\n",
       "      <td>It is called the Kessel Run Millennium Falcon.</td>\n",
       "    </tr>\n",
       "    <tr>\n",
       "      <th>1301</th>\n",
       "      <td>On May 31, 2019, a full sized replica of the F...</td>\n",
       "    </tr>\n",
       "    <tr>\n",
       "      <th>1302</th>\n",
       "      <td>An identical version of the attraction opened ...</td>\n",
       "    </tr>\n",
       "    <tr>\n",
       "      <th>1303</th>\n",
       "      <td>A third incarnation of the attraction has been...</td>\n",
       "    </tr>\n",
       "  </tbody>\n",
       "</table>\n",
       "<p>1304 rows × 1 columns</p>\n",
       "</div>"
      ],
      "text/plain": [
       "                                                      0\n",
       "0     Luke Skywalker is a fictional character and th...\n",
       "1     The character, portrayed by Mark Hamill, is an...\n",
       "2     He is the twin brother of Rebellion leader Pri...\n",
       "3     The now non-canon Star Wars expanded universe ...\n",
       "4     On their list of the 100 Greatest Fictional Ch...\n",
       "...                                                 ...\n",
       "1299  Lego has also made a version of the Falcon to ...\n",
       "1300     It is called the Kessel Run Millennium Falcon.\n",
       "1301  On May 31, 2019, a full sized replica of the F...\n",
       "1302  An identical version of the attraction opened ...\n",
       "1303  A third incarnation of the attraction has been...\n",
       "\n",
       "[1304 rows x 1 columns]"
      ]
     },
     "execution_count": 40,
     "metadata": {},
     "output_type": "execute_result"
    }
   ],
   "source": [
    "dataset = pd.read_csv('./Ontology_Learning/dataset/starwars_OL_dataset.txt', delimiter='\\n', header=None)\n",
    "dataset"
   ]
  },
  {
   "cell_type": "code",
   "execution_count": 68,
   "id": "religious-active",
   "metadata": {},
   "outputs": [
    {
     "data": {
      "text/plain": [
       "787"
      ]
     },
     "execution_count": 68,
     "metadata": {},
     "output_type": "execute_result"
    }
   ],
   "source": [
    "len(set(keywords))"
   ]
  },
  {
   "cell_type": "markdown",
   "id": "crucial-grove",
   "metadata": {},
   "source": [
    "### Automatic Dataset Creation"
   ]
  },
  {
   "cell_type": "code",
   "execution_count": 35,
   "id": "accepted-device",
   "metadata": {},
   "outputs": [
    {
     "data": {
      "text/plain": [
       "['Military technology',\n",
       " 'Weapon',\n",
       " 'Assault weapon',\n",
       " 'List of historical equipment of the Canadian military',\n",
       " 'Military',\n",
       " 'Arms industry',\n",
       " 'Directed-energy weapon',\n",
       " 'Military robot',\n",
       " 'Non-lethal weapon',\n",
       " 'Service pistol']"
      ]
     },
     "execution_count": 35,
     "metadata": {},
     "output_type": "execute_result"
    }
   ],
   "source": [
    "start_topic = 'Military Weapons'\n",
    "topics = wikipedia.search(start_topic, suggestion=False)\n",
    "topics"
   ]
  },
  {
   "cell_type": "code",
   "execution_count": 3,
   "id": "great-berry",
   "metadata": {},
   "outputs": [
    {
     "name": "stdout",
     "output_type": "stream",
     "text": [
      "topic_count: 10\n",
      "topic_count: 20\n",
      "topic_count: 28\n",
      "topic_count: 28\n",
      "topic_count: 28\n",
      "topic_count: 36\n",
      "topic_count: 44\n",
      "topic_count: 53\n",
      "topic_count: 61\n",
      "topic_count: 67\n",
      "topic_count: 67\n",
      "topic_count: 67\n",
      "topic_count: 74\n",
      "topic_count: 82\n",
      "topic_count: 82\n",
      "topic_count: 82\n",
      "topic_count: 82\n",
      "topic_count: 82\n",
      "topic_count: 82\n",
      "topic_count: 82\n",
      "topic_count: 82\n",
      "topic_count: 82\n",
      "topic_count: 82\n",
      "topic_count: 91\n",
      "topic_count: 91\n",
      "topic_count: 100\n"
     ]
    }
   ],
   "source": [
    "curr_topic = 'Military Weapons'\n",
    "topic_threshold = 100\n",
    "all_topics = []\n",
    "\n",
    "topic_count = 0\n",
    "index = 0\n",
    "while topic_count < topic_threshold:\n",
    "    all_topics = list(set(all_topics))\n",
    "    topics = wikipedia.search(curr_topic, suggestion=False)\n",
    "    all_topics += topics\n",
    "    curr_topic = all_topics[index]\n",
    "    index += 1\n",
    "    topic_count = len(all_topics)\n",
    "    print('topic_count: {}'.format(topic_count))"
   ]
  },
  {
   "cell_type": "code",
   "execution_count": 5,
   "id": "intensive-washington",
   "metadata": {},
   "outputs": [
    {
     "name": "stdout",
     "output_type": "stream",
     "text": [
      "Topic0: List of equipment of the Venezuelan Army, Sentences: 8, Total: 8\n",
      "Topic1: United States Military Government in Cuba, Sentences: 46, Total: 54\n",
      "Topic2: Military technology, Sentences: 250, Total: 304\n",
      "Topic3: Russian Armed Forces, Sentences: 370, Total: 674\n",
      "Topic4: List of states with nuclear weapons, Sentences: 223, Total: 897\n",
      "Topic5: Brazilian Military Junta of 1969, Sentences: 54, Total: 951\n",
      "Topic6: List of countries by military expenditures, Sentences: 33, Total: 984\n",
      "Topic7: Mortar (weapon), Sentences: 229, Total: 1213\n",
      "Topic8: Astra (weapon), Sentences: 30, Total: 1243\n",
      "Topic9: List of active Russian Air Force aircraft, Sentences: 8, Total: 1251\n",
      "Topic10: List of Russian flags, Sentences: 51, Total: 1302\n",
      "Topic11: List of equipment of the Ukrainian Ground Forces, Sentences: 33, Total: 1335\n",
      "Topic12: Outline of natural science, Sentences: 704, Total: 2039\n",
      "Topic13: National Reorganization Process, Sentences: 209, Total: 2248\n",
      "Topic14: Outline of formal science, Sentences: 345, Total: 2593\n",
      "Topic15: Military science, Sentences: 299, Total: 2892\n",
      "Topic16: Military robot, Sentences: 134, Total: 3026\n",
      "Topic17: Military rank, Sentences: 553, Total: 3579\n",
      "Topic18: Military Institute of Science and Technology, Sentences: 272, Total: 3851\n",
      "Topic19: List of active People's Liberation Army aircraft, Sentences: 14, Total: 3865\n",
      "Topic20: Lethal Weapon (franchise), Sentences: 85, Total: 3950\n",
      "Topic22: List of modern Russian small arms and light weapons, Sentences: 14, Total: 3964\n",
      "Topic23: Outline of science, Sentences: 454, Total: 4418\n",
      "Topic24: History of the Philippines (1898–1946), Sentences: 701, Total: 5119\n",
      "Topic25: Lists of currently active military equipment by country, Sentences: 195, Total: 5314\n",
      "Topic26: History of military technology, Sentences: 267, Total: 5581\n",
      "Topic27: Outline of academic disciplines, Sentences: 140, Total: 5721\n",
      "Topic28: List of equipment of the Russian Ground Forces, Sentences: 23, Total: 5744\n",
      "Topic29: Directed-energy weapon, Sentences: 205, Total: 5949\n",
      "Topic30: Lethal autonomous weapon, Sentences: 142, Total: 6091\n",
      "Topic31: Military organization, Sentences: 161, Total: 6252\n",
      "Topic32: Outline of war, Sentences: 213, Total: 6465\n",
      "Topic33: Military Institute of Technology, Sentences: 83, Total: 6548\n",
      "Topic34: Applied science, Sentences: 63, Total: 6611\n",
      "Topic35: Outline of technology, Sentences: 758, Total: 7369\n",
      "Topic36: List of active German Navy ships, Sentences: 14, Total: 7383\n",
      "Topic37: Government, Sentences: 154, Total: 7537\n",
      "Topic38: List of equipment of the Vietnam People's Ground Forces, Sentences: 32, Total: 7569\n",
      "Topic39: List of active Argentine Navy ships, Sentences: 59, Total: 7628\n",
      "Topic40: Science and technology studies, Sentences: 450, Total: 8078\n",
      "Topic41: People's Liberation Army, Sentences: 662, Total: 8740\n",
      "Topic42: List of historical equipment of the Canadian military, Sentences: 70, Total: 8810\n",
      "Topic43: Nigerian military juntas of 1966–79 and 1983–99, Sentences: 40, Total: 8850\n",
      "Topic44: Nuclear weapon, Sentences: 417, Total: 9267\n",
      "Topic45: List of lists of lists, Sentences: 621, Total: 9888\n",
      "Topic46: Assault weapon, Sentences: 142, Total: 10030\n",
      "Topic47: United States Army Military Government in Korea, Sentences: 98, Total: 10128\n",
      "Topic48: Outline of military science and technology, Sentences: 181, Total: 10309\n",
      "Topic49: Special Forces of the Main Directorate of the General Staff of the Russian Armed Forces, Sentences: 169, Total: 10478\n",
      "Topic50: Lethal Weapon, Sentences: 187, Total: 10665\n",
      "Topic51: Outline of applied physics, Sentences: 60, Total: 10725\n",
      "Topic52: Arms industry, Sentences: 171, Total: 10896\n",
      "Topic53: Music as a Weapon, Sentences: 66, Total: 10962\n",
      "Topic54: List of active Russian military aircraft, Sentences: 12, Total: 10974\n",
      "Topic55: Russian Ground Forces, Sentences: 323, Total: 11297\n",
      "Topic56: List of active Indian military aircraft, Sentences: 18, Total: 11315\n",
      "Topic57: Weapon Plus, Sentences: 266, Total: 11581\n",
      "Topic58: List of active aircraft of the Turkish Air Force, Sentences: 11, Total: 11592\n",
      "Topic59: State Peace and Development Council, Sentences: 130, Total: 11722\n",
      "Topic60: Outline of engineering, Sentences: 102, Total: 11824\n",
      "Topic61: Lethal Weapon 4, Sentences: 105, Total: 11929\n",
      "Topic62: Government Junta of Chile (1973), Sentences: 40, Total: 11969\n",
      "Topic63: Military, Sentences: 304, Total: 12273\n",
      "Topic64: Peruvian Military Junta, Sentences: 62, Total: 12335\n",
      "Topic65: List of Lethal Weapon episodes, Sentences: 21, Total: 12356\n",
      "Topic66: List of currently active United States military watercraft, Sentences: 137, Total: 12493\n",
      "Topic67: Lethal Weapon (TV series), Sentences: 173, Total: 12666\n",
      "Topic68: Outline of physical science, Sentences: 397, Total: 13063\n",
      "Topic69: Outline of applied science, Sentences: 311, Total: 13374\n",
      "Topic70: Military government, Sentences: 7, Total: 13381\n",
      "Topic71: Weapon, Sentences: 275, Total: 13656\n",
      "Topic72: List of equipment of the Syrian Army, Sentences: 48, Total: 13704\n",
      "Topic73: Roman military personal equipment, Sentences: 359, Total: 14063\n",
      "Topic74: Outline of Earth sciences, Sentences: 226, Total: 14289\n",
      "Topic75: Greek junta, Sentences: 663, Total: 14952\n",
      "Topic76: United States Military Government of the Philippine Islands, Sentences: 223, Total: 15175\n",
      "Topic77: Lethal Weapon 3, Sentences: 261, Total: 15436\n",
      "Topic78: Medieval technology, Sentences: 541, Total: 15977\n",
      "Topic79: Military dictatorship, Sentences: 97, Total: 16074\n",
      "Topic80: Non-lethal weapon, Sentences: 337, Total: 16411\n",
      "Topic81: United States military casualties of war, Sentences: 98, Total: 16509\n",
      "Topic82: Outline of science fiction, Sentences: 345, Total: 16854\n",
      "Topic83: Military dictatorship of Chile (1973–1990), Sentences: 622, Total: 17476\n",
      "Topic84: Military occupation, Sentences: 152, Total: 17628\n",
      "Topic85: Outline of social science, Sentences: 580, Total: 18208\n",
      "Topic86: Military dictatorship in Brazil, Sentences: 455, Total: 18663\n",
      "Topic87: Lethal Weapon 2, Sentences: 138, Total: 18801\n",
      "Topic88: Division (military), Sentences: 595, Total: 19396\n",
      "Topic89: Military junta, Sentences: 40, Total: 19436\n",
      "Topic90: History of military technology, Sentences: 267, Total: 19703\n",
      "Topic91: Military technology, Sentences: 250, Total: 19953\n",
      "Topic92: Military history, Sentences: 580, Total: 20533\n",
      "Topic93: History of technology, Sentences: 494, Total: 21027\n",
      "Topic94: Bundeswehr Military History Museum, Sentences: 196, Total: 21223\n",
      "Topic95: Prize for Military History, Sentences: 34, Total: 21257\n",
      "Topic96: Outline of technology, Sentences: 758, Total: 22015\n",
      "Topic97: Outline of military science and technology, Sentences: 181, Total: 22196\n",
      "Topic98: Military history of Japan, Sentences: 1105, Total: 23301\n",
      "Topic99: Medieval technology, Sentences: 541, Total: 23842\n"
     ]
    }
   ],
   "source": [
    "dataset_name = 'military_weapons_dataset.txt'\n",
    "\n",
    "total = 0\n",
    "for i, topic in enumerate(all_topics):\n",
    "    try:\n",
    "        content = wikipedia.WikipediaPage(topic).content\n",
    "        doc = nlp(content)\n",
    "        sentences = [sent.string.strip() for sent in doc.sents]\n",
    "        with open('./data/' + dataset_name, 'a') as file:\n",
    "            for sentence in sentences:\n",
    "                file.write(sentence + '\\n')\n",
    "        total += len(sentences)\n",
    "        print('Topic{}: {}, Sentences: {}, Total: {}'.format(i, topic, len(sentences), total))\n",
    "    except:\n",
    "        continue"
   ]
  },
  {
   "cell_type": "code",
   "execution_count": null,
   "id": "unnecessary-surveillance",
   "metadata": {},
   "outputs": [],
   "source": []
  }
 ],
 "metadata": {
  "kernelspec": {
   "display_name": "Python 3",
   "language": "python",
   "name": "python3"
  },
  "language_info": {
   "codemirror_mode": {
    "name": "ipython",
    "version": 3
   },
   "file_extension": ".py",
   "mimetype": "text/x-python",
   "name": "python",
   "nbconvert_exporter": "python",
   "pygments_lexer": "ipython3",
   "version": "3.7.5"
  }
 },
 "nbformat": 4,
 "nbformat_minor": 5
}
