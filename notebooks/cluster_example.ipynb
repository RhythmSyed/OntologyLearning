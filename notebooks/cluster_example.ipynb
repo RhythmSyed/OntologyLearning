{
 "cells": [
  {
   "cell_type": "code",
   "execution_count": 1,
   "id": "regulated-percentage",
   "metadata": {},
   "outputs": [
    {
     "name": "stderr",
     "output_type": "stream",
     "text": [
      "/Users/rhythmsyed/miniconda3/envs/entitylink/lib/python3.7/site-packages/sklearn/externals/joblib/externals/cloudpickle/cloudpickle.py:47: DeprecationWarning: the imp module is deprecated in favour of importlib; see the module's documentation for alternative uses\n",
      "  import imp\n"
     ]
    }
   ],
   "source": [
    "from gensim.models import Word2Vec\n",
    "  \n",
    "from nltk.cluster import KMeansClusterer\n",
    "import nltk\n",
    "import numpy as np \n",
    "  \n",
    "from sklearn import cluster\n",
    "from sklearn import metrics"
   ]
  },
  {
   "cell_type": "code",
   "execution_count": 2,
   "id": "soviet-webcam",
   "metadata": {},
   "outputs": [
    {
     "data": {
      "text/plain": [
       "9"
      ]
     },
     "execution_count": 2,
     "metadata": {},
     "output_type": "execute_result"
    }
   ],
   "source": [
    "sentences = [['this', 'is', 'the', 'one','good', 'machine', 'learning', 'book'],\n",
    "            ['this', 'is',  'another', 'book'],\n",
    "            ['one', 'more', 'book'],\n",
    "            ['weather', 'rain', 'snow'],\n",
    "            ['yesterday', 'weather', 'snow'],\n",
    "            ['forecast', 'tomorrow', 'rain', 'snow'],\n",
    "            ['this', 'is', 'the', 'new', 'post'],\n",
    "            ['this', 'is', 'about', 'more', 'machine', 'learning', 'post'],  \n",
    "            ['and', 'this', 'is', 'the', 'one', 'last', 'post', 'book']]\n",
    "len(sentences)"
   ]
  },
  {
   "cell_type": "code",
   "execution_count": 3,
   "id": "incoming-investing",
   "metadata": {},
   "outputs": [],
   "source": [
    "model = Word2Vec(sentences, min_count=1)"
   ]
  },
  {
   "cell_type": "code",
   "execution_count": 4,
   "id": "delayed-wales",
   "metadata": {},
   "outputs": [
    {
     "name": "stderr",
     "output_type": "stream",
     "text": [
      "/Users/rhythmsyed/miniconda3/envs/entitylink/lib/python3.7/site-packages/xpython_launcher.py:1: DeprecationWarning: Call to deprecated `__getitem__` (Method will be removed in 4.0.0, use self.wv.__getitem__() instead).\n",
      "  if __name__ == '__main__':\n"
     ]
    },
    {
     "data": {
      "text/plain": [
       "array([ 0.00069911,  0.00040512, -0.00346293, -0.00156394,  0.00246856,\n",
       "       -0.00031617,  0.00098003,  0.00221373, -0.00429625,  0.0027753 ,\n",
       "       -0.00080828,  0.00404166, -0.0011757 ,  0.00365092, -0.00282005,\n",
       "        0.00407567,  0.00221282,  0.00105117, -0.00122146, -0.00153107,\n",
       "       -0.00357228, -0.00214495, -0.00015409,  0.00084367,  0.00337343,\n",
       "       -0.00220576,  0.00456637,  0.00184144,  0.00068724,  0.00378665,\n",
       "        0.00224986, -0.0038982 , -0.00435301, -0.0049671 , -0.00362165,\n",
       "        0.00147438,  0.0009799 , -0.00034714, -0.00350426,  0.00295017,\n",
       "        0.0039954 , -0.00130205,  0.00387679,  0.00465864,  0.00036108,\n",
       "        0.00421953, -0.00158188,  0.00285975,  0.00076934,  0.00498408,\n",
       "       -0.00120539,  0.00435945, -0.00317483,  0.00061158,  0.0047761 ,\n",
       "        0.00379747,  0.00319613,  0.00470522,  0.0036086 , -0.00123609,\n",
       "        0.00151566, -0.00162969, -0.00070906,  0.00214435, -0.00137228,\n",
       "        0.00355146,  0.00150422, -0.00304429, -0.00216352,  0.00100097,\n",
       "       -0.00498646,  0.00294383, -0.00161569, -0.00303635,  0.00403706,\n",
       "       -0.00041234, -0.00129605,  0.00437196, -0.00191022, -0.00247661,\n",
       "        0.00220264, -0.00013492,  0.0023489 ,  0.0002383 ,  0.00142474,\n",
       "        0.00438901, -0.00055332,  0.00202396,  0.00082882,  0.00069211,\n",
       "        0.00260535,  0.00055888, -0.00274023,  0.00478468,  0.00211689,\n",
       "       -0.00323153,  0.00037616,  0.00442515, -0.00241262, -0.00481405],\n",
       "      dtype=float32)"
      ]
     },
     "execution_count": 4,
     "metadata": {},
     "output_type": "execute_result"
    }
   ],
   "source": [
    "model['this']"
   ]
  },
  {
   "cell_type": "code",
   "execution_count": 5,
   "id": "spare-monkey",
   "metadata": {},
   "outputs": [],
   "source": [
    "def sent_vectorizer(sent, model):\n",
    "    sent_vec =[]\n",
    "    numw = 0\n",
    "    for w in sent:\n",
    "        try:\n",
    "            if numw == 0:\n",
    "                sent_vec = model[w]\n",
    "            else:\n",
    "                sent_vec = np.add(sent_vec, model[w])\n",
    "            numw+=1\n",
    "        except:\n",
    "            pass\n",
    "     \n",
    "    return np.asarray(sent_vec) / numw"
   ]
  },
  {
   "cell_type": "code",
   "execution_count": 6,
   "id": "likely-collectible",
   "metadata": {},
   "outputs": [
    {
     "name": "stderr",
     "output_type": "stream",
     "text": [
      "/Users/rhythmsyed/miniconda3/envs/entitylink/lib/python3.7/site-packages/xpython_launcher.py:7: DeprecationWarning: Call to deprecated `__getitem__` (Method will be removed in 4.0.0, use self.wv.__getitem__() instead).\n",
      "  return args.f\n",
      "/Users/rhythmsyed/miniconda3/envs/entitylink/lib/python3.7/site-packages/xpython_launcher.py:9: DeprecationWarning: Call to deprecated `__getitem__` (Method will be removed in 4.0.0, use self.wv.__getitem__() instead).\n",
      "  from xpython import launch as _xpython_launch\n"
     ]
    },
    {
     "data": {
      "text/plain": [
       "9"
      ]
     },
     "execution_count": 6,
     "metadata": {},
     "output_type": "execute_result"
    }
   ],
   "source": [
    "X=[]\n",
    "for sentence in sentences:\n",
    "    X.append(sent_vectorizer(sentence, model)) \n",
    "len(X)"
   ]
  },
  {
   "cell_type": "code",
   "execution_count": 9,
   "id": "interpreted-portland",
   "metadata": {},
   "outputs": [
    {
     "name": "stdout",
     "output_type": "stream",
     "text": [
      "[[-4.8394892e-03  2.8526131e-03  1.1120027e-04 ... -2.9088019e-03\n",
      "   2.2468816e-03  3.9048828e-04]\n",
      " [ 1.3363155e-03  2.1877284e-03 -1.9368880e-03 ... -1.4599030e-03\n",
      "   2.7004939e-03  2.5335059e-03]\n",
      " [-1.7883988e-03 -2.2870582e-03 -2.5777083e-03 ...  1.7119055e-03\n",
      "  -4.7265571e-03 -4.8198405e-04]\n",
      " ...\n",
      " [ 3.0105477e-03 -3.3034931e-04  3.5170601e-03 ... -7.6599878e-05\n",
      "  -3.8101412e-03 -4.1205655e-03]\n",
      " [ 1.7311882e-04  3.8349694e-03 -2.9874528e-03 ... -8.6426002e-04\n",
      "   3.0399130e-03  3.9102118e-03]\n",
      " [ 4.8104618e-03  2.9913429e-03 -2.3981014e-03 ... -3.1949703e-03\n",
      "   4.3148472e-04  2.2868966e-03]]\n"
     ]
    },
    {
     "name": "stderr",
     "output_type": "stream",
     "text": [
      "/Users/rhythmsyed/miniconda3/envs/entitylink/lib/python3.7/site-packages/ipykernel_launcher.py:1: DeprecationWarning: Call to deprecated `__getitem__` (Method will be removed in 4.0.0, use self.wv.__getitem__() instead).\n",
      "  \"\"\"Entry point for launching an IPython kernel.\n"
     ]
    }
   ],
   "source": [
    "print(model[model.wv.vocab])"
   ]
  },
  {
   "cell_type": "code",
   "execution_count": 11,
   "id": "viral-preparation",
   "metadata": {},
   "outputs": [
    {
     "name": "stdout",
     "output_type": "stream",
     "text": [
      "0.15026195\n",
      "[('new', 0.21235886216163635), ('about', 0.18596135079860687), ('is', 0.11478959023952484)]\n"
     ]
    },
    {
     "name": "stderr",
     "output_type": "stream",
     "text": [
      "/Users/rhythmsyed/miniconda3/envs/entitylink/lib/python3.7/site-packages/ipykernel_launcher.py:1: DeprecationWarning: Call to deprecated `similarity` (Method will be removed in 4.0.0, use self.wv.similarity() instead).\n",
      "  \"\"\"Entry point for launching an IPython kernel.\n",
      "/Users/rhythmsyed/miniconda3/envs/entitylink/lib/python3.7/site-packages/ipykernel_launcher.py:2: DeprecationWarning: Call to deprecated `most_similar` (Method will be removed in 4.0.0, use self.wv.most_similar() instead).\n",
      "  \n"
     ]
    }
   ],
   "source": [
    "print (model.similarity('post', 'book'))\n",
    "print (model.most_similar(positive=['machine'], negative=[], topn=3))"
   ]
  },
  {
   "cell_type": "code",
   "execution_count": 13,
   "id": "aggressive-stick",
   "metadata": {},
   "outputs": [
    {
     "name": "stdout",
     "output_type": "stream",
     "text": [
      "[1, 1, 0, 0, 0, 0, 1, 1, 1]\n",
      "1:['this', 'is', 'the', 'one', 'good', 'machine', 'learning', 'book']\n",
      "1:['this', 'is', 'another', 'book']\n",
      "0:['one', 'more', 'book']\n",
      "0:['weather', 'rain', 'snow']\n",
      "0:['yesterday', 'weather', 'snow']\n",
      "0:['forecast', 'tomorrow', 'rain', 'snow']\n",
      "1:['this', 'is', 'the', 'new', 'post']\n",
      "1:['this', 'is', 'about', 'more', 'machine', 'learning', 'post']\n",
      "1:['and', 'this', 'is', 'the', 'one', 'last', 'post', 'book']\n"
     ]
    }
   ],
   "source": [
    "NUM_CLUSTERS=2\n",
    "kclusterer = KMeansClusterer(NUM_CLUSTERS, distance=nltk.cluster.util.cosine_distance, repeats=25)\n",
    "assigned_clusters = kclusterer.cluster(X, assign_clusters=True)\n",
    "print(assigned_clusters)\n",
    "\n",
    "for index, sentence in enumerate(sentences):    \n",
    "    print(str(assigned_clusters[index]) + \":\" + str(sentence))"
   ]
  },
  {
   "cell_type": "code",
   "execution_count": 15,
   "id": "yellow-eligibility",
   "metadata": {},
   "outputs": [
    {
     "name": "stdout",
     "output_type": "stream",
     "text": [
      "Cluster id labels for inputted data\n",
      "[1 1 1 0 0 0 1 1 1]\n",
      "Centroids data\n",
      "2\n"
     ]
    }
   ],
   "source": [
    "kmeans = cluster.KMeans(n_clusters=NUM_CLUSTERS)\n",
    "kmeans.fit(X)\n",
    "  \n",
    "labels = kmeans.labels_\n",
    "centroids = kmeans.cluster_centers_\n",
    "  \n",
    "print (\"Cluster id labels for inputted data\")\n",
    "print (labels)\n",
    "print (\"Centroids data\")\n",
    "print (len(centroids))"
   ]
  },
  {
   "cell_type": "code",
   "execution_count": 16,
   "id": "excessive-diesel",
   "metadata": {},
   "outputs": [
    {
     "name": "stdout",
     "output_type": "stream",
     "text": [
      "Score (Opposite of the value of X on the K-means objective which is Sum of distances of samples to their closest cluster center):\n",
      "-0.0007451113265919113\n"
     ]
    }
   ],
   "source": [
    "print (\"Score (Opposite of the value of X on the K-means objective which is Sum of distances of samples to their closest cluster center):\")\n",
    "print (kmeans.score(X))"
   ]
  },
  {
   "cell_type": "code",
   "execution_count": 17,
   "id": "straight-policy",
   "metadata": {},
   "outputs": [
    {
     "name": "stdout",
     "output_type": "stream",
     "text": [
      "Silhouette_score: \n",
      "0.31458625\n"
     ]
    }
   ],
   "source": [
    "silhouette_score = metrics.silhouette_score(X, labels, metric='euclidean')\n",
    "  \n",
    "print (\"Silhouette_score: \")\n",
    "print (silhouette_score)"
   ]
  },
  {
   "cell_type": "code",
   "execution_count": 21,
   "id": "cardiac-boating",
   "metadata": {},
   "outputs": [
    {
     "name": "stdout",
     "output_type": "stream",
     "text": [
      "1 ['this', 'is', 'the', 'one', 'good', 'machine', 'learning', 'book']\n",
      "1 ['this', 'is', 'another', 'book']\n",
      "0 ['one', 'more', 'book']\n",
      "0 ['weather', 'rain', 'snow']\n",
      "0 ['yesterday', 'weather', 'snow']\n",
      "0 ['forecast', 'tomorrow', 'rain', 'snow']\n",
      "1 ['this', 'is', 'the', 'new', 'post']\n",
      "1 ['this', 'is', 'about', 'more', 'machine', 'learning', 'post']\n",
      "1 ['and', 'this', 'is', 'the', 'one', 'last', 'post', 'book']\n"
     ]
    },
    {
     "data": {
      "image/png": "[encoded data removed]",
      "text/plain": [
       "<Figure size 432x288 with 1 Axes>"
      ]
     },
     "metadata": {
      "needs_background": "light"
     },
     "output_type": "display_data"
    }
   ],
   "source": [
    "import matplotlib.pyplot as plt\n",
    " \n",
    "from sklearn.manifold import TSNE\n",
    " \n",
    "model = TSNE(n_components=2, random_state=0)\n",
    "np.set_printoptions(suppress=True)\n",
    " \n",
    "Y=model.fit_transform(X)\n",
    "plt.scatter(Y[:, 0], Y[:, 1], c=assigned_clusters, s=290,alpha=.5)\n",
    "\n",
    "for j in range(len(sentences)):    \n",
    "    plt.annotate(assigned_clusters[j],xy=(Y[j][0], Y[j][1]),xytext=(0,0),textcoords='offset points')\n",
    "    print (\"%s %s\" % (assigned_clusters[j],  sentences[j]))\n",
    "\n",
    "plt.show()"
   ]
  },
  {
   "cell_type": "code",
   "execution_count": null,
   "id": "spectacular-speed",
   "metadata": {},
   "outputs": [],
   "source": []
  }
 ],
 "metadata": {
  "kernelspec": {
   "display_name": "Python 3.7 (XPython)",
   "language": "python",
   "name": "xpython"
  },
  "language_info": {
   "file_extension": ".py",
   "mimetype": "text/x-python",
   "name": "python",
   "version": "3.7.9"
  }
 },
 "nbformat": 4,
 "nbformat_minor": 5
}
