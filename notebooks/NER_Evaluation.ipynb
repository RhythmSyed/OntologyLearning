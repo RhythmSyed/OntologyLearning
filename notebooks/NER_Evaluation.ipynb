{
 "cells": [
  {
   "cell_type": "markdown",
   "metadata": {},
   "source": [
    "# Named Entity Recognition (NER)"
   ]
  },
  {
   "cell_type": "markdown",
   "metadata": {},
   "source": [
    "NER is a task in information extraction that locates and classifies entities in a body of text. This capability can be used to identify people based on their names, locations, time, numerical values, etc. The first step in knowledge graph construction is to identify the named entities in a text and use them as anchors to build relationships off of to other entities in the graph. In this notebook, we evaluate various methods of entity extraction and justify the usage of the best performing method."
   ]
  },
  {
   "cell_type": "markdown",
   "metadata": {},
   "source": [
    "We will use the following text example in this notebook:"
   ]
  },
  {
   "cell_type": "code",
   "execution_count": 1,
   "metadata": {},
   "outputs": [
    {
     "data": {
      "text/plain": [
       "'Darth Vader, also known by his birth name Anakin Skywalker, is a fictional character in the Star Wars franchise. Darth Vader appears in the original film trilogy as a pivotal antagonist whose actions drive the plot, while his past as Anakin Skywalker and the story of his corruption are central to the narrative of the prequel trilogy. The character was created by George Lucas and has been portrayed by numerous actors. His appearances span the first six Star Wars films, as well as Rogue One, and his character is heavily referenced in Star Wars: The Force Awakens. He is also an important character in the Star Wars expanded universe of television series, video games, novels, literature and comic books. Originally a Jedi who was prophesied to bring balance to the Force, he falls to the dark side of the Force and serves the evil Galactic Empire at the right hand of his Sith master, Emperor Palpatine (also known as Darth Sidious).'"
      ]
     },
     "execution_count": 1,
     "metadata": {},
     "output_type": "execute_result"
    }
   ],
   "source": [
    "starwars_text = 'Darth_Vader, also known by his birth name Anakin Skywalker, is a fictional character in the Star Wars franchise. Darth Vader appears in the original film trilogy as a pivotal antagonist whose actions drive the plot, while his past as Anakin Skywalker and the story of his corruption are central to the narrative of the prequel trilogy. The character was created by George Lucas and has been portrayed by numerous actors. His appearances span the first six Star Wars films, as well as Rogue One, and his character is heavily referenced in Star Wars: The Force Awakens. He is also an important character in the Star Wars expanded universe of television series, video games, novels, literature and comic books. Originally a Jedi who was prophesied to bring balance to the Force, he falls to the dark side of the Force and serves the evil Galactic Empire at the right hand of his Sith master, Emperor Palpatine (also known as Darth Sidious).'\n",
    "starwars_text"
   ]
  },
  {
   "cell_type": "markdown",
   "metadata": {},
   "source": [
    "# spaCy"
   ]
  },
  {
   "cell_type": "code",
   "execution_count": 2,
   "metadata": {},
   "outputs": [],
   "source": [
    "import spacy\n",
    "import pandas as pd\n",
    "import nltk\n",
    "nlp = spacy.load('en_core_web_lg')"
   ]
  },
  {
   "cell_type": "markdown",
   "metadata": {},
   "source": [
    "### Small Text Example"
   ]
  },
  {
   "cell_type": "code",
   "execution_count": 12,
   "metadata": {},
   "outputs": [
    {
     "data": {
      "text/html": [
       "<div>\n",
       "<style scoped>\n",
       "    .dataframe tbody tr th:only-of-type {\n",
       "        vertical-align: middle;\n",
       "    }\n",
       "\n",
       "    .dataframe tbody tr th {\n",
       "        vertical-align: top;\n",
       "    }\n",
       "\n",
       "    .dataframe thead th {\n",
       "        text-align: right;\n",
       "    }\n",
       "</style>\n",
       "<table border=\"1\" class=\"dataframe\">\n",
       "  <thead>\n",
       "    <tr style=\"text-align: right;\">\n",
       "      <th></th>\n",
       "      <th>Text</th>\n",
       "      <th>Start</th>\n",
       "      <th>End</th>\n",
       "      <th>Label</th>\n",
       "    </tr>\n",
       "  </thead>\n",
       "  <tbody>\n",
       "    <tr>\n",
       "      <th>0</th>\n",
       "      <td>darthvader</td>\n",
       "      <td>0</td>\n",
       "      <td>10</td>\n",
       "      <td>PERSON</td>\n",
       "    </tr>\n",
       "  </tbody>\n",
       "</table>\n",
       "</div>"
      ],
      "text/plain": [
       "         Text Start End   Label\n",
       "0  darthvader     0  10  PERSON"
      ]
     },
     "execution_count": 12,
     "metadata": {},
     "output_type": "execute_result"
    }
   ],
   "source": [
    "doc = nlp('darthvader is also known by his birth name anakinskywalker.')\n",
    "results = pd.DataFrame(columns=['Text', 'Start', 'End', 'Label'])\n",
    "\n",
    "for ent in doc.ents:  \n",
    "    results = results.append({'Text':ent.text, 'Start':ent.start_char, 'End':ent.end_char, 'Label':ent.label_}, ignore_index=True)\n",
    "results"
   ]
  },
  {
   "cell_type": "markdown",
   "metadata": {},
   "source": [
    "### Large Text Example"
   ]
  },
  {
   "cell_type": "code",
   "execution_count": 4,
   "metadata": {},
   "outputs": [
    {
     "data": {
      "text/html": [
       "<div>\n",
       "<style scoped>\n",
       "    .dataframe tbody tr th:only-of-type {\n",
       "        vertical-align: middle;\n",
       "    }\n",
       "\n",
       "    .dataframe tbody tr th {\n",
       "        vertical-align: top;\n",
       "    }\n",
       "\n",
       "    .dataframe thead th {\n",
       "        text-align: right;\n",
       "    }\n",
       "</style>\n",
       "<table border=\"1\" class=\"dataframe\">\n",
       "  <thead>\n",
       "    <tr style=\"text-align: right;\">\n",
       "      <th></th>\n",
       "      <th>Text</th>\n",
       "      <th>Start</th>\n",
       "      <th>End</th>\n",
       "      <th>Label</th>\n",
       "    </tr>\n",
       "  </thead>\n",
       "  <tbody>\n",
       "    <tr>\n",
       "      <th>0</th>\n",
       "      <td>Darth Vader</td>\n",
       "      <td>0</td>\n",
       "      <td>11</td>\n",
       "      <td>PERSON</td>\n",
       "    </tr>\n",
       "    <tr>\n",
       "      <th>1</th>\n",
       "      <td>Anakin Skywalker</td>\n",
       "      <td>42</td>\n",
       "      <td>58</td>\n",
       "      <td>PERSON</td>\n",
       "    </tr>\n",
       "    <tr>\n",
       "      <th>2</th>\n",
       "      <td>Darth Vader</td>\n",
       "      <td>113</td>\n",
       "      <td>124</td>\n",
       "      <td>PERSON</td>\n",
       "    </tr>\n",
       "    <tr>\n",
       "      <th>3</th>\n",
       "      <td>Anakin Skywalker</td>\n",
       "      <td>234</td>\n",
       "      <td>250</td>\n",
       "      <td>PERSON</td>\n",
       "    </tr>\n",
       "    <tr>\n",
       "      <th>4</th>\n",
       "      <td>George Lucas</td>\n",
       "      <td>365</td>\n",
       "      <td>377</td>\n",
       "      <td>PERSON</td>\n",
       "    </tr>\n",
       "    <tr>\n",
       "      <th>5</th>\n",
       "      <td>the first</td>\n",
       "      <td>442</td>\n",
       "      <td>451</td>\n",
       "      <td>DATE</td>\n",
       "    </tr>\n",
       "    <tr>\n",
       "      <th>6</th>\n",
       "      <td>six</td>\n",
       "      <td>452</td>\n",
       "      <td>455</td>\n",
       "      <td>CARDINAL</td>\n",
       "    </tr>\n",
       "    <tr>\n",
       "      <th>7</th>\n",
       "      <td>Star Wars</td>\n",
       "      <td>456</td>\n",
       "      <td>465</td>\n",
       "      <td>EVENT</td>\n",
       "    </tr>\n",
       "    <tr>\n",
       "      <th>8</th>\n",
       "      <td>Rogue One</td>\n",
       "      <td>484</td>\n",
       "      <td>493</td>\n",
       "      <td>PRODUCT</td>\n",
       "    </tr>\n",
       "    <tr>\n",
       "      <th>9</th>\n",
       "      <td>Star Wars</td>\n",
       "      <td>538</td>\n",
       "      <td>547</td>\n",
       "      <td>WORK_OF_ART</td>\n",
       "    </tr>\n",
       "    <tr>\n",
       "      <th>10</th>\n",
       "      <td>the Star Wars</td>\n",
       "      <td>605</td>\n",
       "      <td>618</td>\n",
       "      <td>WORK_OF_ART</td>\n",
       "    </tr>\n",
       "    <tr>\n",
       "      <th>11</th>\n",
       "      <td>Jedi</td>\n",
       "      <td>721</td>\n",
       "      <td>725</td>\n",
       "      <td>PERSON</td>\n",
       "    </tr>\n",
       "    <tr>\n",
       "      <th>12</th>\n",
       "      <td>Force</td>\n",
       "      <td>809</td>\n",
       "      <td>814</td>\n",
       "      <td>ORG</td>\n",
       "    </tr>\n",
       "    <tr>\n",
       "      <th>13</th>\n",
       "      <td>Sith</td>\n",
       "      <td>876</td>\n",
       "      <td>880</td>\n",
       "      <td>PRODUCT</td>\n",
       "    </tr>\n",
       "    <tr>\n",
       "      <th>14</th>\n",
       "      <td>Palpatine</td>\n",
       "      <td>897</td>\n",
       "      <td>906</td>\n",
       "      <td>PERSON</td>\n",
       "    </tr>\n",
       "    <tr>\n",
       "      <th>15</th>\n",
       "      <td>Darth Sidious</td>\n",
       "      <td>922</td>\n",
       "      <td>935</td>\n",
       "      <td>PERSON</td>\n",
       "    </tr>\n",
       "  </tbody>\n",
       "</table>\n",
       "</div>"
      ],
      "text/plain": [
       "                Text Start  End        Label\n",
       "0        Darth Vader     0   11       PERSON\n",
       "1   Anakin Skywalker    42   58       PERSON\n",
       "2        Darth Vader   113  124       PERSON\n",
       "3   Anakin Skywalker   234  250       PERSON\n",
       "4       George Lucas   365  377       PERSON\n",
       "5          the first   442  451         DATE\n",
       "6                six   452  455     CARDINAL\n",
       "7          Star Wars   456  465        EVENT\n",
       "8          Rogue One   484  493      PRODUCT\n",
       "9          Star Wars   538  547  WORK_OF_ART\n",
       "10     the Star Wars   605  618  WORK_OF_ART\n",
       "11              Jedi   721  725       PERSON\n",
       "12             Force   809  814          ORG\n",
       "13              Sith   876  880      PRODUCT\n",
       "14         Palpatine   897  906       PERSON\n",
       "15     Darth Sidious   922  935       PERSON"
      ]
     },
     "execution_count": 4,
     "metadata": {},
     "output_type": "execute_result"
    }
   ],
   "source": [
    "doc = nlp(starwars_text)\n",
    "results = pd.DataFrame(columns=['Text', 'Start', 'End', 'Label'])\n",
    "\n",
    "for ent in doc.ents:  \n",
    "    results = results.append({'Text':ent.text, 'Start':ent.start_char, 'End':ent.end_char, 'Label':ent.label_}, ignore_index=True)\n",
    "results"
   ]
  },
  {
   "cell_type": "markdown",
   "metadata": {},
   "source": [
    "For larger bodies of text, spaCy does a good job of identifying named entities of various types. We can compare this performance with Stanford NER."
   ]
  },
  {
   "cell_type": "markdown",
   "metadata": {},
   "source": [
    "# Stanford NER with NLTK Tokenizers"
   ]
  },
  {
   "cell_type": "markdown",
   "metadata": {},
   "source": [
    "### Small Text Example"
   ]
  },
  {
   "cell_type": "code",
   "execution_count": 9,
   "metadata": {},
   "outputs": [
    {
     "data": {
      "text/plain": [
       "{'Darth': 'PERSON',\n",
       " 'Vader': 'PERSON',\n",
       " 'is': 'O',\n",
       " 'also': 'O',\n",
       " 'known': 'O',\n",
       " 'by': 'O',\n",
       " 'his': 'O',\n",
       " 'birth': 'O',\n",
       " 'name': 'O',\n",
       " 'Anakin': 'PERSON',\n",
       " 'Skywalker': 'PERSON',\n",
       " '.': 'O'}"
      ]
     },
     "execution_count": 9,
     "metadata": {},
     "output_type": "execute_result"
    }
   ],
   "source": [
    "sentences = nltk.sent_tokenize('Darth Vader is also known by his birth name Anakin Skywalker.')\n",
    "ner_tagger = nltk.tag.StanfordNERTagger(\"../stanford-ner-2018-10-16/classifiers/english.all.3class.distsim.crf.ser.gz\", \"../stanford-ner-2018-10-16/stanford-ner.jar\")\n",
    "\n",
    "ner_dict = {}\n",
    "results = []\n",
    "for sent in sentences:\n",
    "    words = [token for token in nltk.word_tokenize(sent)]\n",
    "    tagged = ner_tagger.tag(words)\n",
    "    results += tagged\n",
    "\n",
    "for res in results:\n",
    "    ner_dict[res[0]] = res[1]\n",
    "ner_dict"
   ]
  },
  {
   "cell_type": "markdown",
   "metadata": {},
   "source": [
    "### Large Text Example"
   ]
  },
  {
   "cell_type": "code",
   "execution_count": 10,
   "metadata": {},
   "outputs": [
    {
     "data": {
      "text/plain": [
       "{'Darth': 'O',\n",
       " 'Vader': 'PERSON',\n",
       " ',': 'O',\n",
       " 'also': 'O',\n",
       " 'known': 'O',\n",
       " 'by': 'O',\n",
       " 'his': 'O',\n",
       " 'birth': 'O',\n",
       " 'name': 'O',\n",
       " 'Anakin': 'PERSON',\n",
       " 'Skywalker': 'PERSON',\n",
       " 'is': 'O',\n",
       " 'a': 'O',\n",
       " 'fictional': 'O',\n",
       " 'character': 'O',\n",
       " 'in': 'O',\n",
       " 'the': 'O',\n",
       " 'Star': 'O',\n",
       " 'Wars': 'O',\n",
       " 'franchise': 'O',\n",
       " '.': 'O',\n",
       " 'appears': 'O',\n",
       " 'original': 'O',\n",
       " 'film': 'O',\n",
       " 'trilogy': 'O',\n",
       " 'as': 'O',\n",
       " 'pivotal': 'O',\n",
       " 'antagonist': 'O',\n",
       " 'whose': 'O',\n",
       " 'actions': 'O',\n",
       " 'drive': 'O',\n",
       " 'plot': 'O',\n",
       " 'while': 'O',\n",
       " 'past': 'O',\n",
       " 'and': 'O',\n",
       " 'story': 'O',\n",
       " 'of': 'O',\n",
       " 'corruption': 'O',\n",
       " 'are': 'O',\n",
       " 'central': 'O',\n",
       " 'to': 'O',\n",
       " 'narrative': 'O',\n",
       " 'prequel': 'O',\n",
       " 'The': 'O',\n",
       " 'was': 'O',\n",
       " 'created': 'O',\n",
       " 'George': 'PERSON',\n",
       " 'Lucas': 'PERSON',\n",
       " 'has': 'O',\n",
       " 'been': 'O',\n",
       " 'portrayed': 'O',\n",
       " 'numerous': 'O',\n",
       " 'actors': 'O',\n",
       " 'His': 'O',\n",
       " 'appearances': 'O',\n",
       " 'span': 'O',\n",
       " 'first': 'O',\n",
       " 'six': 'O',\n",
       " 'films': 'O',\n",
       " 'well': 'O',\n",
       " 'Rogue': 'O',\n",
       " 'One': 'O',\n",
       " 'heavily': 'O',\n",
       " 'referenced': 'O',\n",
       " ':': 'O',\n",
       " 'Force': 'O',\n",
       " 'Awakens': 'O',\n",
       " 'He': 'O',\n",
       " 'an': 'O',\n",
       " 'important': 'O',\n",
       " 'expanded': 'O',\n",
       " 'universe': 'O',\n",
       " 'television': 'O',\n",
       " 'series': 'O',\n",
       " 'video': 'O',\n",
       " 'games': 'O',\n",
       " 'novels': 'O',\n",
       " 'literature': 'O',\n",
       " 'comic': 'O',\n",
       " 'books': 'O',\n",
       " 'Originally': 'O',\n",
       " 'Jedi': 'O',\n",
       " 'who': 'O',\n",
       " 'prophesied': 'O',\n",
       " 'bring': 'O',\n",
       " 'balance': 'O',\n",
       " 'he': 'O',\n",
       " 'falls': 'O',\n",
       " 'dark': 'O',\n",
       " 'side': 'O',\n",
       " 'serves': 'O',\n",
       " 'evil': 'O',\n",
       " 'Galactic': 'LOCATION',\n",
       " 'Empire': 'LOCATION',\n",
       " 'at': 'O',\n",
       " 'right': 'O',\n",
       " 'hand': 'O',\n",
       " 'Sith': 'O',\n",
       " 'master': 'O',\n",
       " 'Emperor': 'O',\n",
       " 'Palpatine': 'PERSON',\n",
       " '(': 'O',\n",
       " 'Sidious': 'O',\n",
       " ')': 'O'}"
      ]
     },
     "execution_count": 10,
     "metadata": {},
     "output_type": "execute_result"
    }
   ],
   "source": [
    "sentences = nltk.sent_tokenize(starwars_text)\n",
    "ner_tagger = nltk.tag.StanfordNERTagger(\"../stanford-ner-2018-10-16/classifiers/english.all.3class.distsim.crf.ser.gz\", \"../stanford-ner-2018-10-16/stanford-ner.jar\")\n",
    "\n",
    "ner_dict = {}\n",
    "results = []\n",
    "for sent in sentences:\n",
    "    words = [token for token in nltk.word_tokenize(sent)]\n",
    "    tagged = ner_tagger.tag(words)\n",
    "    results += tagged\n",
    "\n",
    "for res in results:\n",
    "    ner_dict[res[0]] = res[1]\n",
    "ner_dict"
   ]
  },
  {
   "cell_type": "markdown",
   "metadata": {},
   "source": [
    "# Stanford NER with spaCy Tokenizers"
   ]
  },
  {
   "cell_type": "markdown",
   "metadata": {},
   "source": [
    "### Small Text Example"
   ]
  },
  {
   "cell_type": "code",
   "execution_count": 12,
   "metadata": {},
   "outputs": [],
   "source": [
    "nlp = spacy.lang.en.English()\n",
    "nlp.add_pipe(nlp.create_pipe('sentencizer'))\n",
    "doc = nlp('Darth Vader is also known by his birth name Anakin Skywalker.')\n",
    "sentences = [sent.string.strip() for sent in doc.sents]"
   ]
  },
  {
   "cell_type": "code",
   "execution_count": 13,
   "metadata": {},
   "outputs": [
    {
     "data": {
      "text/plain": [
       "{'Darth': 'PERSON',\n",
       " 'Vader': 'PERSON',\n",
       " 'is': 'O',\n",
       " 'also': 'O',\n",
       " 'known': 'O',\n",
       " 'by': 'O',\n",
       " 'his': 'O',\n",
       " 'birth': 'O',\n",
       " 'name': 'O',\n",
       " 'Anakin': 'PERSON',\n",
       " 'Skywalker.': 'PERSON'}"
      ]
     },
     "execution_count": 13,
     "metadata": {},
     "output_type": "execute_result"
    }
   ],
   "source": [
    "ner_tagger = nltk.tag.StanfordNERTagger(\"../stanford-ner-2018-10-16/classifiers/english.all.3class.distsim.crf.ser.gz\", \"../stanford-ner-2018-10-16/stanford-ner.jar\")\n",
    "\n",
    "ner_dict = {}\n",
    "results = []\n",
    "\n",
    "nlp = spacy.lang.en.English()\n",
    "tokenizer = spacy.tokenizer.Tokenizer(nlp.vocab)\n",
    "for sent in sentences:\n",
    "    words = [token.orth_ for token in tokenizer(sent)]\n",
    "    tagged = ner_tagger.tag(words)\n",
    "    results += tagged\n",
    "\n",
    "for res in results:\n",
    "    ner_dict[res[0]] = res[1]\n",
    "ner_dict"
   ]
  },
  {
   "cell_type": "markdown",
   "metadata": {},
   "source": [
    "### Large Text Example"
   ]
  },
  {
   "cell_type": "code",
   "execution_count": 14,
   "metadata": {},
   "outputs": [
    {
     "data": {
      "text/plain": [
       "{'Darth': 'O',\n",
       " 'Vader,': 'O',\n",
       " 'also': 'O',\n",
       " 'known': 'O',\n",
       " 'by': 'O',\n",
       " 'his': 'O',\n",
       " 'birth': 'O',\n",
       " 'name': 'O',\n",
       " 'Anakin': 'PERSON',\n",
       " 'Skywalker,': 'PERSON',\n",
       " 'is': 'O',\n",
       " 'a': 'O',\n",
       " 'fictional': 'O',\n",
       " 'character': 'O',\n",
       " 'in': 'O',\n",
       " 'the': 'O',\n",
       " 'Star': 'O',\n",
       " 'Wars': 'O',\n",
       " 'franchise.': 'O',\n",
       " 'Vader': 'PERSON',\n",
       " 'appears': 'O',\n",
       " 'original': 'O',\n",
       " 'film': 'O',\n",
       " 'trilogy': 'O',\n",
       " 'as': 'O',\n",
       " 'pivotal': 'O',\n",
       " 'antagonist': 'O',\n",
       " 'whose': 'O',\n",
       " 'actions': 'O',\n",
       " 'drive': 'O',\n",
       " 'plot,': 'O',\n",
       " 'while': 'O',\n",
       " 'past': 'O',\n",
       " 'Skywalker': 'PERSON',\n",
       " 'and': 'O',\n",
       " 'story': 'O',\n",
       " 'of': 'O',\n",
       " 'corruption': 'O',\n",
       " 'are': 'O',\n",
       " 'central': 'O',\n",
       " 'to': 'O',\n",
       " 'narrative': 'O',\n",
       " 'prequel': 'O',\n",
       " 'trilogy.': 'O',\n",
       " 'The': 'O',\n",
       " 'was': 'O',\n",
       " 'created': 'O',\n",
       " 'George': 'PERSON',\n",
       " 'Lucas': 'PERSON',\n",
       " 'has': 'O',\n",
       " 'been': 'O',\n",
       " 'portrayed': 'O',\n",
       " 'numerous': 'O',\n",
       " 'actors.': 'O',\n",
       " 'His': 'O',\n",
       " 'appearances': 'O',\n",
       " 'span': 'O',\n",
       " 'first': 'O',\n",
       " 'six': 'O',\n",
       " 'films,': 'O',\n",
       " 'well': 'O',\n",
       " 'Rogue': 'O',\n",
       " 'One,': 'O',\n",
       " 'heavily': 'O',\n",
       " 'referenced': 'O',\n",
       " 'Wars:': 'O',\n",
       " 'Force': 'O',\n",
       " 'Awakens.': 'O',\n",
       " 'He': 'O',\n",
       " 'an': 'O',\n",
       " 'important': 'O',\n",
       " 'expanded': 'O',\n",
       " 'universe': 'O',\n",
       " 'television': 'O',\n",
       " 'series,': 'O',\n",
       " 'video': 'O',\n",
       " 'games,': 'O',\n",
       " 'novels,': 'O',\n",
       " 'literature': 'O',\n",
       " 'comic': 'O',\n",
       " 'books.': 'O',\n",
       " 'Originally': 'O',\n",
       " 'Jedi': 'O',\n",
       " 'who': 'O',\n",
       " 'prophesied': 'O',\n",
       " 'bring': 'O',\n",
       " 'balance': 'O',\n",
       " 'Force,': 'O',\n",
       " 'he': 'O',\n",
       " 'falls': 'O',\n",
       " 'dark': 'O',\n",
       " 'side': 'O',\n",
       " 'serves': 'O',\n",
       " 'evil': 'O',\n",
       " 'Galactic': 'LOCATION',\n",
       " 'Empire': 'LOCATION',\n",
       " 'at': 'O',\n",
       " 'right': 'O',\n",
       " 'hand': 'O',\n",
       " 'Sith': 'O',\n",
       " 'master,': 'O',\n",
       " 'Emperor': 'O',\n",
       " 'Palpatine': 'PERSON',\n",
       " '(also': 'O',\n",
       " 'Sidious).': 'O'}"
      ]
     },
     "execution_count": 14,
     "metadata": {},
     "output_type": "execute_result"
    }
   ],
   "source": [
    "nlp = spacy.lang.en.English()\n",
    "nlp.add_pipe(nlp.create_pipe('sentencizer'))\n",
    "doc = nlp(starwars_text)\n",
    "sentences = [sent.string.strip() for sent in doc.sents]\n",
    "\n",
    "ner_tagger = nltk.tag.StanfordNERTagger(\"../stanford-ner-2018-10-16/classifiers/english.all.3class.distsim.crf.ser.gz\", \"../stanford-ner-2018-10-16/stanford-ner.jar\")\n",
    "\n",
    "ner_dict = {}\n",
    "results = []\n",
    "\n",
    "nlp = spacy.lang.en.English()\n",
    "tokenizer = spacy.tokenizer.Tokenizer(nlp.vocab)\n",
    "for sent in sentences:\n",
    "    words = [token.orth_ for token in tokenizer(sent)]\n",
    "    tagged = ner_tagger.tag(words)\n",
    "    results += tagged\n",
    "\n",
    "for res in results:\n",
    "    ner_dict[res[0]] = res[1]\n",
    "ner_dict"
   ]
  },
  {
   "cell_type": "markdown",
   "metadata": {},
   "source": [
    "Based on these results, Stanford NER plus spaCy tokenizers offers a slightly better performance on larger bodies of text as compared to using nltk tokenizers. But overall, Stanford NER does not perform as well as spaCy NER as it recogizes PERSONs but sometimes in partial fragments. Other entities that it misses out on include LOCATION, WORK_OF_ART, DATE, etc. Because of this, we opted to use spaCy NER for the knowledge graph construction as it provided a **simpler** and **better performing** interface."
   ]
  }
 ],
 "metadata": {
  "kernelspec": {
   "display_name": "Python 3",
   "language": "python",
   "name": "python3"
  },
  "language_info": {
   "codemirror_mode": {
    "name": "ipython",
    "version": 3
   },
   "file_extension": ".py",
   "mimetype": "text/x-python",
   "name": "python",
   "nbconvert_exporter": "python",
   "pygments_lexer": "ipython3",
   "version": "3.7.5"
  }
 },
 "nbformat": 4,
 "nbformat_minor": 4
}
