{
 "cells": [
  {
   "cell_type": "markdown",
   "id": "approved-sector",
   "metadata": {},
   "source": [
    "# Unsupervised Text Clustering for Taxonomy Generation"
   ]
  },
  {
   "cell_type": "code",
   "execution_count": 1,
   "id": "suspected-population",
   "metadata": {},
   "outputs": [],
   "source": [
    "import pandas as pd\n",
    "import csv\n",
    "import numpy as np\n",
    "import os\n",
    "import re\n",
    "import spacy\n",
    "from collections import Counter\n",
    "from scipy.spatial.distance import euclidean, cosine\n",
    "from nltk import ngrams, FreqDist"
   ]
  },
  {
   "cell_type": "code",
   "execution_count": 2,
   "id": "industrial-airline",
   "metadata": {},
   "outputs": [],
   "source": [
    "nlp = spacy.load('en_core_web_lg')"
   ]
  },
  {
   "cell_type": "markdown",
   "id": "global-cookie",
   "metadata": {},
   "source": [
    "### Train word embeddings with Word2Vec"
   ]
  },
  {
   "cell_type": "code",
   "execution_count": 37,
   "id": "useful-diameter",
   "metadata": {},
   "outputs": [
    {
     "name": "stdout",
     "output_type": "stream",
     "text": [
      "Starting training using file ./dataset/starwars_text_dataset_cleaned.txt\n",
      "Vocab size: 6561\n",
      "Words in train file: 284807\n",
      "Alpha: 0.001277  Progress: 98.40%  Words/thread/sec: 125.32k  "
     ]
    }
   ],
   "source": [
    "! ./dataset/word2vec -train ./dataset/starwars_text_dataset_cleaned.txt -output ./dataset/starwars_embeddings.txt"
   ]
  },
  {
   "cell_type": "markdown",
   "id": "assumed-uncertainty",
   "metadata": {},
   "source": [
    "### Explore embeddings"
   ]
  },
  {
   "cell_type": "code",
   "execution_count": 11,
   "id": "everyday-ebony",
   "metadata": {},
   "outputs": [],
   "source": [
    "word_embd = {}\n",
    "with open('./dataset/our-l3-0.25-new/embeddings.txt', 'r') as file:\n",
    "    for line in file:\n",
    "        items = line.strip().split()\n",
    "        word = items[0]\n",
    "        vector = [float(v) for v in items[1:]]\n",
    "        word_embd[word] = vector"
   ]
  },
  {
   "cell_type": "code",
   "execution_count": 12,
   "id": "ceramic-exclusion",
   "metadata": {},
   "outputs": [
    {
     "data": {
      "text/plain": [
       "5659"
      ]
     },
     "execution_count": 12,
     "metadata": {},
     "output_type": "execute_result"
    }
   ],
   "source": [
    "len(word_embd.keys())"
   ]
  },
  {
   "cell_type": "code",
   "execution_count": 15,
   "id": "humanitarian-marks",
   "metadata": {},
   "outputs": [
    {
     "data": {
      "text/plain": [
       "100"
      ]
     },
     "execution_count": 15,
     "metadata": {},
     "output_type": "execute_result"
    }
   ],
   "source": [
    "len(word_embd['Luke'])"
   ]
  },
  {
   "cell_type": "code",
   "execution_count": 17,
   "id": "fatal-myanmar",
   "metadata": {},
   "outputs": [
    {
     "name": "stdout",
     "output_type": "stream",
     "text": [
      "0.8747054911282998\n",
      "0.12529450887170035\n"
     ]
    }
   ],
   "source": [
    "vec_a = np.array(word_embd['LukeSkywalker'])\n",
    "vec_b = np.array(word_embd['Luke'])\n",
    "\n",
    "dist = np.linalg.norm(vec_a - vec_b)\n",
    "print(dist)\n",
    "\n",
    "cos = 1 - euclidean(vec_a, vec_b)\n",
    "print(cos)"
   ]
  },
  {
   "cell_type": "code",
   "execution_count": 26,
   "id": "atlantic-property",
   "metadata": {},
   "outputs": [
    {
     "name": "stdout",
     "output_type": "stream",
     "text": [
      "0.7411936572596934\n",
      "0.25880634274030645\n"
     ]
    }
   ],
   "source": [
    "vec_a = np.array(word_embd['luke_skywalker'])\n",
    "vec_b = np.array(word_embd['enlarge'])\n",
    "\n",
    "dist = np.linalg.norm(vec_a - vec_b)\n",
    "print(dist)\n",
    "\n",
    "cos = 1 - euclidean(vec_a, vec_b)\n",
    "print(cos)\n",
    "\n",
    "# try cosine\n",
    "# top 10 words"
   ]
  },
  {
   "cell_type": "code",
   "execution_count": 27,
   "id": "civic-purple",
   "metadata": {},
   "outputs": [
    {
     "name": "stdout",
     "output_type": "stream",
     "text": [
      "0.9435581309103324\n",
      "0.05644186908966764\n"
     ]
    }
   ],
   "source": [
    "vec_a = np.array(word_embd['anakin_skywalker'])\n",
    "vec_b = np.array(word_embd['anakin'])\n",
    "\n",
    "dist = np.linalg.norm(vec_a - vec_b)\n",
    "print(dist)\n",
    "\n",
    "cos = 1 - euclidean(vec_a, vec_b)\n",
    "print(cos)"
   ]
  },
  {
   "cell_type": "code",
   "execution_count": 28,
   "id": "recognized-tooth",
   "metadata": {},
   "outputs": [
    {
     "name": "stdout",
     "output_type": "stream",
     "text": [
      "0.7665282012574619\n",
      "0.2334717987425381\n"
     ]
    }
   ],
   "source": [
    "vec_a = np.array(word_embd['anakin_skywalker'])\n",
    "vec_b = np.array(word_embd['the_ship'])\n",
    "\n",
    "dist = np.linalg.norm(vec_a - vec_b)\n",
    "print(dist)\n",
    "\n",
    "cos = 1 - euclidean(vec_a, vec_b)\n",
    "print(cos)"
   ]
  },
  {
   "cell_type": "markdown",
   "id": "molecular-elevation",
   "metadata": {},
   "source": [
    "### Run Taxogen"
   ]
  },
  {
   "cell_type": "code",
   "execution_count": null,
   "id": "regular-pottery",
   "metadata": {},
   "outputs": [],
   "source": []
  },
  {
   "cell_type": "markdown",
   "id": "adopted-decimal",
   "metadata": {},
   "source": [
    "### Explore Heirarchy"
   ]
  },
  {
   "cell_type": "code",
   "execution_count": 18,
   "id": "incorporate-fever",
   "metadata": {},
   "outputs": [],
   "source": [
    "def list_files(startpath):\n",
    "    for root, dirs, files in os.walk(startpath):\n",
    "        level = root.replace(startpath, '').count(os.sep)\n",
    "        indent = ' ' * 4 * (level)\n",
    "        print('{} {}{}/'.format(level, indent, os.path.basename(root)))\n",
    "        subindent = ' ' * 4 * (level + 1)"
   ]
  },
  {
   "cell_type": "code",
   "execution_count": 21,
   "id": "bigger-bumper",
   "metadata": {},
   "outputs": [
    {
     "name": "stdout",
     "output_type": "stream",
     "text": [
      "0 our-l3-0.25-new/\n",
      "1     TheCloneWars/\n",
      "1     Them/\n",
      "2         Ventress/\n",
      "3             DarthVader/\n",
      "4                 Fett/\n",
      "4                 DarthVader/\n",
      "4                 BobaFett/\n",
      "4                 TheStory/\n",
      "3             Ventress/\n",
      "4                 ThePlanet/\n",
      "4                 Ventress/\n",
      "4                 Jabba/\n",
      "2         Her/\n",
      "3             Vader/\n",
      "4                 Finn/\n",
      "4                 Rose/\n",
      "4                 Vader/\n",
      "3             Her/\n",
      "4                 Her/\n",
      "4                 Ben/\n",
      "4                 You/\n",
      "3             You/\n",
      "3             Anakin/\n",
      "1     January/\n",
      "2         TheClones/\n",
      "3             References/\n",
      "4                 Playstation/\n",
      "4                 References/\n",
      "3             TheClones/\n",
      "4                 TheRise/\n",
      "4                 TheClones/\n",
      "4                 Place/\n",
      "4                 ThePhantomMenace/\n",
      "4                 Skywalker/\n",
      "4                 TheOldRepublic/\n",
      "3             ThePhantomMenace/\n",
      "2         January/\n",
      "3             March/\n",
      "4                 January/\n",
      "4                 March/\n",
      "3             Disney/\n",
      "4                 TheGame/\n",
      "4                 Disney/\n",
      "2         Skywalker/\n"
     ]
    }
   ],
   "source": [
    "list_files('./dataset/our-l3-0.25-new')"
   ]
  },
  {
   "cell_type": "code",
   "execution_count": 33,
   "id": "international-imaging",
   "metadata": {},
   "outputs": [
    {
     "name": "stdout",
     "output_type": "stream",
     "text": [
      "0 starwars-taxonomy/\n",
      "1     the_millennium_falcon/\n",
      "1     kylo_ren/\n",
      "2         r2-d2/\n",
      "3             order/\n",
      "3             c-3po/\n",
      "3             the_galaxy/\n",
      "3             boba_fett/\n",
      "3             luke_skywalker/\n",
      "3             anakin_skywalker/\n",
      "3             solo/\n",
      "3             obi-wan_kenobi/\n",
      "3             darth_maul/\n",
      "3             the_rebel_alliance/\n",
      "3             princess_leia/\n",
      "2         kuiil/\n",
      "3             poe/\n",
      "3             gideon/\n",
      "3             he/\n",
      "3             she/\n",
      "3             thrawn/\n",
      "3             rose/\n",
      "3             kuiil/\n",
      "3             they/\n",
      "3             cara/\n",
      "3             grogu/\n",
      "2         ben/\n",
      "2         anakin/\n",
      "3             the_dark_side/\n",
      "3             the_millennium_falcon/\n",
      "3             tatooine/\n",
      "3             darth_sidious/\n",
      "3             the_resistance/\n",
      "3             dooku/\n",
      "3             lando/\n",
      "3             ventress/\n",
      "3             vader/\n",
      "3             the_first_order/\n",
      "3             ben/\n",
      "3             him/\n",
      "3             han/\n",
      "3             the_force/\n",
      "2         princess_leia/\n",
      "1     favreau/\n",
      "2         favreau/\n",
      "3             it/\n",
      "3             favreau/\n",
      "3             lucas/\n",
      "2         we/\n",
      "2         november/\n",
      "3             lucasfilm/\n",
      "3             the_series/\n",
      "3             november/\n",
      "2         you/\n",
      "3             abrams/\n",
      "3             i/\n",
      "3             what/\n",
      "2         disney/\n",
      "2         lucas/\n",
      "1     the_events/\n",
      "2         the_last_jedi/\n",
      "3             star_wars/\n",
      "3             a_new_hope/\n",
      "3             the_empire/\n",
      "2         the_galactic_republic/\n",
      "3             the_galactic_republic/\n",
      "3             the_republic/\n",
      "3             part/\n",
      "3             the_star_wars_franchise/\n",
      "3             naboo/\n",
      "2         the_clone_wars/\n",
      "3             comics/\n",
      "3             attack/\n",
      "3             the_end/\n",
      "2         a_new_hope/\n"
     ]
    }
   ],
   "source": [
    "list_files('./dataset/starwars-taxonomy')"
   ]
  },
  {
   "cell_type": "markdown",
   "id": "growing-glossary",
   "metadata": {},
   "source": [
    "### Generate Concept Pairs"
   ]
  },
  {
   "cell_type": "code",
   "execution_count": 34,
   "id": "exotic-ethnic",
   "metadata": {},
   "outputs": [
    {
     "data": {
      "text/plain": [
       "15"
      ]
     },
     "execution_count": 34,
     "metadata": {},
     "output_type": "execute_result"
    }
   ],
   "source": [
    "concept_pairs = [('kylo_ren', 'r2-d2'), \n",
    "                 ('kylo_ren', 'kuiil'), \n",
    "                 ('kylo_ren', 'ben'), \n",
    "                 ('kylo_ren', 'anakin'), \n",
    "                 ('kylo_ren', 'princess_leia'),\n",
    "                 ('favreau', 'favreau'), \n",
    "                 ('favreau', 'we'), \n",
    "                 ('favreau', 'november'), \n",
    "                 ('favreau', 'you'), \n",
    "                 ('favreau', 'disney'),\n",
    "                 ('favreau', 'lucas'),\n",
    "                 ('the_events', 'the_last_jedi'), \n",
    "                 ('the_events', 'the_galactic_republic'), \n",
    "                 ('the_events', 'the_clone_wars'),\n",
    "                 ('the_events', 'a_new_hope')]\n",
    "len(concept_pairs)"
   ]
  },
  {
   "cell_type": "markdown",
   "id": "streaming-gabriel",
   "metadata": {},
   "source": [
    "### Cluster Center Label Generation"
   ]
  },
  {
   "cell_type": "markdown",
   "id": "considerable-highway",
   "metadata": {},
   "source": [
    "<!-- 1     kylo_ren/\n",
    "2         r2-d2/\n",
    "3             order/\n",
    "3             c-3po/\n",
    "3             the_galaxy/\n",
    "3             boba_fett/\n",
    "3             luke_skywalker/\n",
    "3             anakin_skywalker/\n",
    "3             solo/\n",
    "3             obi-wan_kenobi/\n",
    "3             darth_maul/\n",
    "3             the_rebel_alliance/\n",
    "3             princess_leia/\n",
    "2         kuiil/\n",
    "3             poe/\n",
    "3             gideon/\n",
    "3             he/\n",
    "3             she/\n",
    "3             thrawn/\n",
    "3             rose/\n",
    "3             kuiil/\n",
    "3             they/\n",
    "3             cara/\n",
    "3             grogu/\n",
    "2         ben/\n",
    "2         anakin/\n",
    "3             the_dark_side/\n",
    "3             the_millennium_falcon/\n",
    "3             tatooine/\n",
    "3             darth_sidious/\n",
    "3             the_resistance/\n",
    "3             dooku/\n",
    "3             lando/\n",
    "3             ventress/\n",
    "3             vader/\n",
    "3             the_first_order/\n",
    "3             ben/\n",
    "3             him/\n",
    "3             han/\n",
    "3             the_force/\n",
    "2         princess_leia/ -->"
   ]
  },
  {
   "cell_type": "code",
   "execution_count": 35,
   "id": "forced-jacksonville",
   "metadata": {},
   "outputs": [],
   "source": [
    "# 0 starwars-taxonomy/\n",
    "# 1     the_millennium_falcon/\n",
    "# 1     kylo_ren/\n",
    "# 2         r2-d2/\n",
    "# 3             order/\n",
    "# 3             c-3po/\n",
    "# 3             the_galaxy/\n",
    "# 3             boba_fett/\n",
    "# 3             luke_skywalker/\n",
    "# 3             anakin_skywalker/\n",
    "# 3             solo/\n",
    "# 3             obi-wan_kenobi/\n",
    "# 3             darth_maul/\n",
    "# 3             the_rebel_alliance/\n",
    "# 3             princess_leia/\n",
    "# 2         kuiil/\n",
    "# 3             poe/\n",
    "# 3             gideon/\n",
    "# 3             he/\n",
    "# 3             she/\n",
    "# 3             thrawn/\n",
    "# 3             rose/\n",
    "# 3             kuiil/\n",
    "# 3             they/\n",
    "# 3             cara/\n",
    "# 3             grogu/\n",
    "# 2         ben/\n",
    "# 2         anakin/\n",
    "# 3             the_dark_side/\n",
    "# 3             the_millennium_falcon/\n",
    "# 3             tatooine/\n",
    "# 3             darth_sidious/\n",
    "# 3             the_resistance/\n",
    "# 3             dooku/\n",
    "# 3             lando/\n",
    "# 3             ventress/\n",
    "# 3             vader/\n",
    "# 3             the_first_order/\n",
    "# 3             ben/\n",
    "# 3             him/\n",
    "# 3             han/\n",
    "# 3             the_force/\n",
    "# 2         princess_leia/\n",
    "# 1     favreau/\n",
    "# 2         favreau/\n",
    "# 3             it/\n",
    "# 3             favreau/\n",
    "# 3             lucas/\n",
    "# 2         we/\n",
    "# 2         november/\n",
    "# 3             lucasfilm/\n",
    "# 3             the_series/\n",
    "# 3             november/\n",
    "# 2         you/\n",
    "# 3             abrams/\n",
    "# 3             i/\n",
    "# 3             what/\n",
    "# 2         disney/\n",
    "# 2         lucas/\n",
    "# 1     the_events/\n",
    "# 2         the_last_jedi/\n",
    "# 3             star_wars/\n",
    "# 3             a_new_hope/\n",
    "# 3             the_empire/\n",
    "# 2         the_galactic_republic/\n",
    "# 3             the_galactic_republic/\n",
    "# 3             the_republic/\n",
    "# 3             part/\n",
    "# 3             the_star_wars_franchise/\n",
    "# 3             naboo/\n",
    "# 2         the_clone_wars/\n",
    "# 3             comics/\n",
    "# 3             attack/\n",
    "# 3             the_end/\n",
    "# 2         a_new_hope/"
   ]
  },
  {
   "cell_type": "code",
   "execution_count": 3,
   "id": "central-secretary",
   "metadata": {},
   "outputs": [],
   "source": [
    "cluster_label = 'kylo_ren'\n",
    "cluster_members = ['r2-d2', 'kuiil', 'ben', 'anakin', 'princess_leia']"
   ]
  },
  {
   "cell_type": "code",
   "execution_count": 9,
   "id": "seventh-columbus",
   "metadata": {},
   "outputs": [
    {
     "name": "stderr",
     "output_type": "stream",
     "text": [
      "b'Skipping line 2445: expected 1 fields, saw 2\\nSkipping line 3096: expected 1 fields, saw 2\\nSkipping line 10258: expected 1 fields, saw 2\\nSkipping line 11580: expected 1 fields, saw 2\\nSkipping line 16550: expected 1 fields, saw 2\\nSkipping line 17640: expected 1 fields, saw 2\\n'\n"
     ]
    },
    {
     "data": {
      "text/html": [
       "<div>\n",
       "<style scoped>\n",
       "    .dataframe tbody tr th:only-of-type {\n",
       "        vertical-align: middle;\n",
       "    }\n",
       "\n",
       "    .dataframe tbody tr th {\n",
       "        vertical-align: top;\n",
       "    }\n",
       "\n",
       "    .dataframe thead th {\n",
       "        text-align: right;\n",
       "    }\n",
       "</style>\n",
       "<table border=\"1\" class=\"dataframe\">\n",
       "  <thead>\n",
       "    <tr style=\"text-align: right;\">\n",
       "      <th></th>\n",
       "      <th>0</th>\n",
       "    </tr>\n",
       "  </thead>\n",
       "  <tbody>\n",
       "    <tr>\n",
       "      <th>0</th>\n",
       "      <td>luke_skywalker is a_fictional_character and th...</td>\n",
       "    </tr>\n",
       "    <tr>\n",
       "      <th>1</th>\n",
       "      <td>portrayed by mark_hamill, luke first appeared ...</td>\n",
       "    </tr>\n",
       "    <tr>\n",
       "      <th>2</th>\n",
       "      <td>: the_force awakens (2015),the</td>\n",
       "    </tr>\n",
       "    <tr>\n",
       "      <th>3</th>\n",
       "      <td>last_jedi (2017), and the_rise of luke_skywalk...</td>\n",
       "    </tr>\n",
       "    <tr>\n",
       "      <th>4</th>\n",
       "      <td>the_rescue\" (2020), voicing the_character that...</td>\n",
       "    </tr>\n",
       "    <tr>\n",
       "      <th>...</th>\n",
       "      <td>...</td>\n",
       "    </tr>\n",
       "    <tr>\n",
       "      <th>20509</th>\n",
       "      <td>in 2016, serkis was nominated for an_mtv_movie...</td>\n",
       "    </tr>\n",
       "    <tr>\n",
       "      <th>20510</th>\n",
       "      <td>some_viewers felt that snoke's_character_arc w...</td>\n",
       "    </tr>\n",
       "    <tr>\n",
       "      <th>20511</th>\n",
       "      <td>various_fan_theories about his_origins were he...</td>\n",
       "    </tr>\n",
       "    <tr>\n",
       "      <th>20512</th>\n",
       "      <td>serkis addressed the_criticisms by saying prod...</td>\n",
       "    </tr>\n",
       "    <tr>\n",
       "      <th>20513</th>\n",
       "      <td>forbes criticized the force awakens for not de...</td>\n",
       "    </tr>\n",
       "  </tbody>\n",
       "</table>\n",
       "<p>20514 rows × 1 columns</p>\n",
       "</div>"
      ],
      "text/plain": [
       "                                                       0\n",
       "0      luke_skywalker is a_fictional_character and th...\n",
       "1      portrayed by mark_hamill, luke first appeared ...\n",
       "2                         : the_force awakens (2015),the\n",
       "3      last_jedi (2017), and the_rise of luke_skywalk...\n",
       "4      the_rescue\" (2020), voicing the_character that...\n",
       "...                                                  ...\n",
       "20509  in 2016, serkis was nominated for an_mtv_movie...\n",
       "20510  some_viewers felt that snoke's_character_arc w...\n",
       "20511  various_fan_theories about his_origins were he...\n",
       "20512  serkis addressed the_criticisms by saying prod...\n",
       "20513  forbes criticized the force awakens for not de...\n",
       "\n",
       "[20514 rows x 1 columns]"
      ]
     },
     "execution_count": 9,
     "metadata": {},
     "output_type": "execute_result"
    }
   ],
   "source": [
    "dataset = pd.read_csv('./dataset/starwars_text_dataset_cleaned.txt', delimiter='\\n', header=None, error_bad_lines=False)\n",
    "dataset"
   ]
  },
  {
   "cell_type": "code",
   "execution_count": 5,
   "id": "hungarian-things",
   "metadata": {},
   "outputs": [],
   "source": [
    "descriptions = {}\n",
    "for index, row in dataset.iterrows():\n",
    "    sentence = dataset.iloc[index][0]\n",
    "    for member in cluster_members:\n",
    "        found = re.search(\"(^|[a-zA-Z\\s])\"+member+\"($|[a-zA-Z\\s])\", sentence)\n",
    "        if found:\n",
    "#             doc = nlp(sentence)\n",
    "#             tokens = []\n",
    "#             for sent in doc.sents:\n",
    "#                 for token in sent:\n",
    "#                     tokens.append(token.text)\n",
    "            tokens = sentence.split(' ')\n",
    "                        \n",
    "            if not member in descriptions:\n",
    "                descriptions[member] = [tokens]\n",
    "            else:\n",
    "                descriptions[member].append(tokens)"
   ]
  },
  {
   "cell_type": "code",
   "execution_count": 6,
   "id": "referenced-gregory",
   "metadata": {},
   "outputs": [
    {
     "name": "stdout",
     "output_type": "stream",
     "text": [
      "r2-d2 133\n",
      "princess_leia 74\n",
      "ben 119\n",
      "anakin 321\n",
      "kuiil 89\n",
      "\n",
      "total: 736\n"
     ]
    }
   ],
   "source": [
    "total = 0\n",
    "for i in descriptions:\n",
    "    print(i, len(descriptions[i]))\n",
    "    total += len(descriptions[i])\n",
    "print('\\ntotal: {}'.format(total))"
   ]
  },
  {
   "cell_type": "markdown",
   "id": "figured-photographer",
   "metadata": {},
   "source": [
    "### Find most occuring words to describe cluster member"
   ]
  },
  {
   "cell_type": "code",
   "execution_count": 7,
   "id": "divided-niger",
   "metadata": {},
   "outputs": [
    {
     "name": "stdout",
     "output_type": "stream",
     "text": [
      "r2-d2 3378\n",
      "['and', 'r2-d2', 'to', 'in', 'of', 'is', 'c-3po', 'by', 'with', 'on']\n",
      "\n",
      "princess_leia 2762\n",
      "['of', 'and', 'princess_leia', 'to', 'in', 'by', 'as', 'is', 'on', 'that']\n",
      "\n",
      "ben 3644\n",
      "['and', 'to', 'of', 'ben', 'in', 'as', 'with', 'luke', 'that', 'is']\n",
      "\n",
      "anakin 8512\n",
      "['anakin', 'and', 'to', 'of', 'in', 'is', 'as', 'that', 'by', 'with']\n",
      "\n",
      "kuiil 2330\n",
      "['kuiil', 'and', 'of', 'to', 'in', 'for', 'on', 'that', 'is', 'as']\n",
      "\n"
     ]
    }
   ],
   "source": [
    "for member in descriptions:\n",
    "    words = []\n",
    "    for i in descriptions[member]:\n",
    "        words += i\n",
    "    print(member, len(words))\n",
    "    most_common_words = [word for word, word_count in Counter(words).most_common(10)]\n",
    "    print(most_common_words)\n",
    "    print()"
   ]
  },
  {
   "cell_type": "markdown",
   "id": "fifteen-barrel",
   "metadata": {},
   "source": [
    "### Pointwise Mutual Information (PMI)"
   ]
  },
  {
   "cell_type": "markdown",
   "id": "competent-ticket",
   "metadata": {},
   "source": [
    "$ PMI(x,y) = log [\\frac{p(x,y)}{p(x)p(y)}]$"
   ]
  },
  {
   "cell_type": "code",
   "execution_count": 60,
   "id": "critical-nickname",
   "metadata": {},
   "outputs": [
    {
     "data": {
      "text/plain": [
       "['jake_lloyd',\n",
       " 'is',\n",
       " 'referenced',\n",
       " 'in',\n",
       " 'both',\n",
       " 'the',\n",
       " 'force',\n",
       " 'awakens',\n",
       " 'and',\n",
       " 'the_jedi,',\n",
       " 'and',\n",
       " 'makes',\n",
       " 'vocal_cameos',\n",
       " 'as',\n",
       " 'both_vader',\n",
       " 'and',\n",
       " 'anakin',\n",
       " 'in',\n",
       " 'the_rise',\n",
       " 'of',\n",
       " 'skywalker.']"
      ]
     },
     "execution_count": 60,
     "metadata": {},
     "output_type": "execute_result"
    }
   ],
   "source": [
    "descriptions['anakin'][0]"
   ]
  },
  {
   "cell_type": "code",
   "execution_count": 77,
   "id": "rocky-province",
   "metadata": {},
   "outputs": [],
   "source": [
    "sentence = descriptions['anakin'][0]\n",
    "\n",
    "threegram = ngrams(sentence, 3)\n",
    "fivegram = ngrams(sentence, 5)"
   ]
  },
  {
   "cell_type": "code",
   "execution_count": 78,
   "id": "black-elephant",
   "metadata": {},
   "outputs": [
    {
     "name": "stdout",
     "output_type": "stream",
     "text": [
      "('jake_lloyd', 'is', 'referenced') 1\n",
      "('is', 'referenced', 'in') 1\n",
      "('referenced', 'in', 'both') 1\n",
      "('in', 'both', 'the') 1\n",
      "('both', 'the', 'force') 1\n",
      "('the', 'force', 'awakens') 1\n",
      "('force', 'awakens', 'and') 1\n",
      "('awakens', 'and', 'the_jedi,') 1\n",
      "('and', 'the_jedi,', 'and') 1\n",
      "('the_jedi,', 'and', 'makes') 1\n",
      "('and', 'makes', 'vocal_cameos') 1\n",
      "('makes', 'vocal_cameos', 'as') 1\n",
      "('vocal_cameos', 'as', 'both_vader') 1\n",
      "('as', 'both_vader', 'and') 1\n",
      "('both_vader', 'and', 'anakin') 1\n",
      "('and', 'anakin', 'in') 1\n",
      "('anakin', 'in', 'the_rise') 1\n",
      "('in', 'the_rise', 'of') 1\n",
      "('the_rise', 'of', 'skywalker.') 1\n"
     ]
    }
   ],
   "source": [
    "fdist = FreqDist()\n",
    "fdist.update(threegram)\n",
    "fdist\n",
    "for k,v in fdist.items():\n",
    "    print(k,v)"
   ]
  },
  {
   "cell_type": "code",
   "execution_count": 79,
   "id": "alone-album",
   "metadata": {},
   "outputs": [
    {
     "name": "stdout",
     "output_type": "stream",
     "text": [
      "('jake_lloyd', 'is', 'referenced', 'in', 'both') 1\n",
      "('is', 'referenced', 'in', 'both', 'the') 1\n",
      "('referenced', 'in', 'both', 'the', 'force') 1\n",
      "('in', 'both', 'the', 'force', 'awakens') 1\n",
      "('both', 'the', 'force', 'awakens', 'and') 1\n",
      "('the', 'force', 'awakens', 'and', 'the_jedi,') 1\n",
      "('force', 'awakens', 'and', 'the_jedi,', 'and') 1\n",
      "('awakens', 'and', 'the_jedi,', 'and', 'makes') 1\n",
      "('and', 'the_jedi,', 'and', 'makes', 'vocal_cameos') 1\n",
      "('the_jedi,', 'and', 'makes', 'vocal_cameos', 'as') 1\n",
      "('and', 'makes', 'vocal_cameos', 'as', 'both_vader') 1\n",
      "('makes', 'vocal_cameos', 'as', 'both_vader', 'and') 1\n",
      "('vocal_cameos', 'as', 'both_vader', 'and', 'anakin') 1\n",
      "('as', 'both_vader', 'and', 'anakin', 'in') 1\n",
      "('both_vader', 'and', 'anakin', 'in', 'the_rise') 1\n",
      "('and', 'anakin', 'in', 'the_rise', 'of') 1\n",
      "('anakin', 'in', 'the_rise', 'of', 'skywalker.') 1\n"
     ]
    }
   ],
   "source": [
    "fdist2 = FreqDist()\n",
    "fdist2.update(fivegram)\n",
    "fdist2\n",
    "for k,v in fdist2.items():\n",
    "    print(k,v)"
   ]
  },
  {
   "cell_type": "code",
   "execution_count": 103,
   "id": "mighty-fields",
   "metadata": {},
   "outputs": [
    {
     "name": "stdout",
     "output_type": "stream",
     "text": [
      "7228/321 = 22.517133956386292\n"
     ]
    }
   ],
   "source": [
    "occur_count = 0\n",
    "for sentence in descriptions['anakin']:\n",
    "    threegram = ngrams(sentence, 3)\n",
    "    fivegram = ngrams(sentence, 5)\n",
    "    \n",
    "    \n",
    "    for gram3 in threegram:\n",
    "        for gram5 in fivegram:\n",
    "#             print(gram5, gram3)\n",
    "            if all(a in sentence for a in list(gram5)) and all(a in sentence for a in list(gram3)):\n",
    "                occur_count += 1\n",
    "                \n",
    "joint_prob = occur_count / len(descriptions['anakin'])\n",
    "print('{}/{} = {}'.format(occur_count, len(descriptions['anakin']), joint_prob))"
   ]
  },
  {
   "cell_type": "code",
   "execution_count": 146,
   "id": "lightweight-third",
   "metadata": {},
   "outputs": [
    {
     "data": {
      "text/html": [
       "<div>\n",
       "<style scoped>\n",
       "    .dataframe tbody tr th:only-of-type {\n",
       "        vertical-align: middle;\n",
       "    }\n",
       "\n",
       "    .dataframe tbody tr th {\n",
       "        vertical-align: top;\n",
       "    }\n",
       "\n",
       "    .dataframe thead th {\n",
       "        text-align: right;\n",
       "    }\n",
       "</style>\n",
       "<table border=\"1\" class=\"dataframe\">\n",
       "  <thead>\n",
       "    <tr style=\"text-align: right;\">\n",
       "      <th></th>\n",
       "      <th>the_captain</th>\n",
       "      <th>replies</th>\n",
       "      <th>their_real_mother.</th>\n",
       "      <th>used</th>\n",
       "      <th>kueller</th>\n",
       "      <th>princess_leia's_brother_and_jedi_knight_anakin_skywalker_friend.\\nthrough</th>\n",
       "      <th>the_baby</th>\n",
       "      <th>lee_towersey</th>\n",
       "      <th>son.</th>\n",
       "      <th>supported</th>\n",
       "      <th>...</th>\n",
       "      <th>evil\",</th>\n",
       "      <th>'star_wars:\\nthe</th>\n",
       "      <th>a_star_wars_encyclopedia</th>\n",
       "      <th>d-o.</th>\n",
       "      <th>shouldn't</th>\n",
       "      <th>an_imperial_star_destroyer.</th>\n",
       "      <th>12</th>\n",
       "      <th>breha_organa</th>\n",
       "      <th>encourages</th>\n",
       "      <th>ever</th>\n",
       "    </tr>\n",
       "  </thead>\n",
       "  <tbody>\n",
       "    <tr>\n",
       "      <th>the_captain</th>\n",
       "      <td>-10</td>\n",
       "      <td>-10</td>\n",
       "      <td>-10</td>\n",
       "      <td>-10</td>\n",
       "      <td>-10</td>\n",
       "      <td>-10</td>\n",
       "      <td>-10</td>\n",
       "      <td>-10</td>\n",
       "      <td>-10</td>\n",
       "      <td>-10</td>\n",
       "      <td>...</td>\n",
       "      <td>-10</td>\n",
       "      <td>-10</td>\n",
       "      <td>-10</td>\n",
       "      <td>-10</td>\n",
       "      <td>-10</td>\n",
       "      <td>-10</td>\n",
       "      <td>-10</td>\n",
       "      <td>-10</td>\n",
       "      <td>-10</td>\n",
       "      <td>-10</td>\n",
       "    </tr>\n",
       "    <tr>\n",
       "      <th>replies</th>\n",
       "      <td>-10</td>\n",
       "      <td>-10</td>\n",
       "      <td>-10</td>\n",
       "      <td>-10</td>\n",
       "      <td>-10</td>\n",
       "      <td>-10</td>\n",
       "      <td>-10</td>\n",
       "      <td>-10</td>\n",
       "      <td>-10</td>\n",
       "      <td>-10</td>\n",
       "      <td>...</td>\n",
       "      <td>-10</td>\n",
       "      <td>-10</td>\n",
       "      <td>-10</td>\n",
       "      <td>-10</td>\n",
       "      <td>-10</td>\n",
       "      <td>-10</td>\n",
       "      <td>-10</td>\n",
       "      <td>-10</td>\n",
       "      <td>-10</td>\n",
       "      <td>-10</td>\n",
       "    </tr>\n",
       "    <tr>\n",
       "      <th>their_real_mother.</th>\n",
       "      <td>-10</td>\n",
       "      <td>-10</td>\n",
       "      <td>-10</td>\n",
       "      <td>-10</td>\n",
       "      <td>-10</td>\n",
       "      <td>-10</td>\n",
       "      <td>-10</td>\n",
       "      <td>-10</td>\n",
       "      <td>-10</td>\n",
       "      <td>-10</td>\n",
       "      <td>...</td>\n",
       "      <td>-10</td>\n",
       "      <td>-10</td>\n",
       "      <td>-10</td>\n",
       "      <td>-10</td>\n",
       "      <td>-10</td>\n",
       "      <td>-10</td>\n",
       "      <td>-10</td>\n",
       "      <td>-10</td>\n",
       "      <td>-10</td>\n",
       "      <td>-10</td>\n",
       "    </tr>\n",
       "    <tr>\n",
       "      <th>used</th>\n",
       "      <td>-10</td>\n",
       "      <td>-10</td>\n",
       "      <td>-10</td>\n",
       "      <td>-10</td>\n",
       "      <td>-10</td>\n",
       "      <td>-10</td>\n",
       "      <td>-10</td>\n",
       "      <td>-10</td>\n",
       "      <td>-10</td>\n",
       "      <td>-10</td>\n",
       "      <td>...</td>\n",
       "      <td>-10</td>\n",
       "      <td>-10</td>\n",
       "      <td>-10</td>\n",
       "      <td>-10</td>\n",
       "      <td>-10</td>\n",
       "      <td>-10</td>\n",
       "      <td>-10</td>\n",
       "      <td>-10</td>\n",
       "      <td>-10</td>\n",
       "      <td>-10</td>\n",
       "    </tr>\n",
       "    <tr>\n",
       "      <th>kueller</th>\n",
       "      <td>-10</td>\n",
       "      <td>-10</td>\n",
       "      <td>-10</td>\n",
       "      <td>-10</td>\n",
       "      <td>-10</td>\n",
       "      <td>-10</td>\n",
       "      <td>-10</td>\n",
       "      <td>-10</td>\n",
       "      <td>-10</td>\n",
       "      <td>-10</td>\n",
       "      <td>...</td>\n",
       "      <td>-10</td>\n",
       "      <td>-10</td>\n",
       "      <td>-10</td>\n",
       "      <td>-10</td>\n",
       "      <td>-10</td>\n",
       "      <td>-10</td>\n",
       "      <td>-10</td>\n",
       "      <td>-10</td>\n",
       "      <td>-10</td>\n",
       "      <td>-10</td>\n",
       "    </tr>\n",
       "    <tr>\n",
       "      <th>...</th>\n",
       "      <td>...</td>\n",
       "      <td>...</td>\n",
       "      <td>...</td>\n",
       "      <td>...</td>\n",
       "      <td>...</td>\n",
       "      <td>...</td>\n",
       "      <td>...</td>\n",
       "      <td>...</td>\n",
       "      <td>...</td>\n",
       "      <td>...</td>\n",
       "      <td>...</td>\n",
       "      <td>...</td>\n",
       "      <td>...</td>\n",
       "      <td>...</td>\n",
       "      <td>...</td>\n",
       "      <td>...</td>\n",
       "      <td>...</td>\n",
       "      <td>...</td>\n",
       "      <td>...</td>\n",
       "      <td>...</td>\n",
       "      <td>...</td>\n",
       "    </tr>\n",
       "    <tr>\n",
       "      <th>an_imperial_star_destroyer.</th>\n",
       "      <td>-10</td>\n",
       "      <td>-10</td>\n",
       "      <td>-10</td>\n",
       "      <td>-10</td>\n",
       "      <td>-10</td>\n",
       "      <td>-10</td>\n",
       "      <td>-10</td>\n",
       "      <td>-10</td>\n",
       "      <td>-10</td>\n",
       "      <td>-10</td>\n",
       "      <td>...</td>\n",
       "      <td>-10</td>\n",
       "      <td>-10</td>\n",
       "      <td>-10</td>\n",
       "      <td>-10</td>\n",
       "      <td>-10</td>\n",
       "      <td>-10</td>\n",
       "      <td>-10</td>\n",
       "      <td>-10</td>\n",
       "      <td>-10</td>\n",
       "      <td>-10</td>\n",
       "    </tr>\n",
       "    <tr>\n",
       "      <th>12</th>\n",
       "      <td>-10</td>\n",
       "      <td>-10</td>\n",
       "      <td>-10</td>\n",
       "      <td>-10</td>\n",
       "      <td>-10</td>\n",
       "      <td>-10</td>\n",
       "      <td>-10</td>\n",
       "      <td>-10</td>\n",
       "      <td>-10</td>\n",
       "      <td>-10</td>\n",
       "      <td>...</td>\n",
       "      <td>-10</td>\n",
       "      <td>-10</td>\n",
       "      <td>-10</td>\n",
       "      <td>-10</td>\n",
       "      <td>-10</td>\n",
       "      <td>-10</td>\n",
       "      <td>-10</td>\n",
       "      <td>-10</td>\n",
       "      <td>-10</td>\n",
       "      <td>-10</td>\n",
       "    </tr>\n",
       "    <tr>\n",
       "      <th>breha_organa</th>\n",
       "      <td>-10</td>\n",
       "      <td>-10</td>\n",
       "      <td>-10</td>\n",
       "      <td>-10</td>\n",
       "      <td>-10</td>\n",
       "      <td>-10</td>\n",
       "      <td>-10</td>\n",
       "      <td>-10</td>\n",
       "      <td>-10</td>\n",
       "      <td>-10</td>\n",
       "      <td>...</td>\n",
       "      <td>-10</td>\n",
       "      <td>-10</td>\n",
       "      <td>-10</td>\n",
       "      <td>-10</td>\n",
       "      <td>-10</td>\n",
       "      <td>-10</td>\n",
       "      <td>-10</td>\n",
       "      <td>-10</td>\n",
       "      <td>-10</td>\n",
       "      <td>-10</td>\n",
       "    </tr>\n",
       "    <tr>\n",
       "      <th>encourages</th>\n",
       "      <td>-10</td>\n",
       "      <td>-10</td>\n",
       "      <td>-10</td>\n",
       "      <td>-10</td>\n",
       "      <td>-10</td>\n",
       "      <td>-10</td>\n",
       "      <td>-10</td>\n",
       "      <td>-10</td>\n",
       "      <td>-10</td>\n",
       "      <td>-10</td>\n",
       "      <td>...</td>\n",
       "      <td>-10</td>\n",
       "      <td>-10</td>\n",
       "      <td>-10</td>\n",
       "      <td>-10</td>\n",
       "      <td>-10</td>\n",
       "      <td>-10</td>\n",
       "      <td>-10</td>\n",
       "      <td>-10</td>\n",
       "      <td>-10</td>\n",
       "      <td>-10</td>\n",
       "    </tr>\n",
       "    <tr>\n",
       "      <th>ever</th>\n",
       "      <td>-10</td>\n",
       "      <td>-10</td>\n",
       "      <td>-10</td>\n",
       "      <td>-10</td>\n",
       "      <td>-10</td>\n",
       "      <td>-10</td>\n",
       "      <td>-10</td>\n",
       "      <td>-10</td>\n",
       "      <td>-10</td>\n",
       "      <td>-10</td>\n",
       "      <td>...</td>\n",
       "      <td>-10</td>\n",
       "      <td>-10</td>\n",
       "      <td>-10</td>\n",
       "      <td>-10</td>\n",
       "      <td>-10</td>\n",
       "      <td>-10</td>\n",
       "      <td>-10</td>\n",
       "      <td>-10</td>\n",
       "      <td>-10</td>\n",
       "      <td>-10</td>\n",
       "    </tr>\n",
       "  </tbody>\n",
       "</table>\n",
       "<p>5940 rows × 5940 columns</p>\n",
       "</div>"
      ],
      "text/plain": [
       "                             the_captain  replies  their_real_mother.  used  \\\n",
       "the_captain                          -10      -10                 -10   -10   \n",
       "replies                              -10      -10                 -10   -10   \n",
       "their_real_mother.                   -10      -10                 -10   -10   \n",
       "used                                 -10      -10                 -10   -10   \n",
       "kueller                              -10      -10                 -10   -10   \n",
       "...                                  ...      ...                 ...   ...   \n",
       "an_imperial_star_destroyer.          -10      -10                 -10   -10   \n",
       "12                                   -10      -10                 -10   -10   \n",
       "breha_organa                         -10      -10                 -10   -10   \n",
       "encourages                           -10      -10                 -10   -10   \n",
       "ever                                 -10      -10                 -10   -10   \n",
       "\n",
       "                             kueller  \\\n",
       "the_captain                      -10   \n",
       "replies                          -10   \n",
       "their_real_mother.               -10   \n",
       "used                             -10   \n",
       "kueller                          -10   \n",
       "...                              ...   \n",
       "an_imperial_star_destroyer.      -10   \n",
       "12                               -10   \n",
       "breha_organa                     -10   \n",
       "encourages                       -10   \n",
       "ever                             -10   \n",
       "\n",
       "                             princess_leia's_brother_and_jedi_knight_anakin_skywalker_friend.\\nthrough  \\\n",
       "the_captain                                                                -10                           \n",
       "replies                                                                    -10                           \n",
       "their_real_mother.                                                         -10                           \n",
       "used                                                                       -10                           \n",
       "kueller                                                                    -10                           \n",
       "...                                                                        ...                           \n",
       "an_imperial_star_destroyer.                                                -10                           \n",
       "12                                                                         -10                           \n",
       "breha_organa                                                               -10                           \n",
       "encourages                                                                 -10                           \n",
       "ever                                                                       -10                           \n",
       "\n",
       "                             the_baby  lee_towersey  son.  supported  ...  \\\n",
       "the_captain                       -10           -10   -10        -10  ...   \n",
       "replies                           -10           -10   -10        -10  ...   \n",
       "their_real_mother.                -10           -10   -10        -10  ...   \n",
       "used                              -10           -10   -10        -10  ...   \n",
       "kueller                           -10           -10   -10        -10  ...   \n",
       "...                               ...           ...   ...        ...  ...   \n",
       "an_imperial_star_destroyer.       -10           -10   -10        -10  ...   \n",
       "12                                -10           -10   -10        -10  ...   \n",
       "breha_organa                      -10           -10   -10        -10  ...   \n",
       "encourages                        -10           -10   -10        -10  ...   \n",
       "ever                              -10           -10   -10        -10  ...   \n",
       "\n",
       "                             evil\",  'star_wars:\\nthe  \\\n",
       "the_captain                     -10               -10   \n",
       "replies                         -10               -10   \n",
       "their_real_mother.              -10               -10   \n",
       "used                            -10               -10   \n",
       "kueller                         -10               -10   \n",
       "...                             ...               ...   \n",
       "an_imperial_star_destroyer.     -10               -10   \n",
       "12                              -10               -10   \n",
       "breha_organa                    -10               -10   \n",
       "encourages                      -10               -10   \n",
       "ever                            -10               -10   \n",
       "\n",
       "                             a_star_wars_encyclopedia  d-o.  shouldn't  \\\n",
       "the_captain                                       -10   -10        -10   \n",
       "replies                                           -10   -10        -10   \n",
       "their_real_mother.                                -10   -10        -10   \n",
       "used                                              -10   -10        -10   \n",
       "kueller                                           -10   -10        -10   \n",
       "...                                               ...   ...        ...   \n",
       "an_imperial_star_destroyer.                       -10   -10        -10   \n",
       "12                                                -10   -10        -10   \n",
       "breha_organa                                      -10   -10        -10   \n",
       "encourages                                        -10   -10        -10   \n",
       "ever                                              -10   -10        -10   \n",
       "\n",
       "                             an_imperial_star_destroyer.  12  breha_organa  \\\n",
       "the_captain                                          -10 -10           -10   \n",
       "replies                                              -10 -10           -10   \n",
       "their_real_mother.                                   -10 -10           -10   \n",
       "used                                                 -10 -10           -10   \n",
       "kueller                                              -10 -10           -10   \n",
       "...                                                  ...  ..           ...   \n",
       "an_imperial_star_destroyer.                          -10 -10           -10   \n",
       "12                                                   -10 -10           -10   \n",
       "breha_organa                                         -10 -10           -10   \n",
       "encourages                                           -10 -10           -10   \n",
       "ever                                                 -10 -10           -10   \n",
       "\n",
       "                             encourages  ever  \n",
       "the_captain                         -10   -10  \n",
       "replies                             -10   -10  \n",
       "their_real_mother.                  -10   -10  \n",
       "used                                -10   -10  \n",
       "kueller                             -10   -10  \n",
       "...                                 ...   ...  \n",
       "an_imperial_star_destroyer.         -10   -10  \n",
       "12                                  -10   -10  \n",
       "breha_organa                        -10   -10  \n",
       "encourages                          -10   -10  \n",
       "ever                                -10   -10  \n",
       "\n",
       "[5940 rows x 5940 columns]"
      ]
     },
     "execution_count": 146,
     "metadata": {},
     "output_type": "execute_result"
    }
   ],
   "source": [
    "words = []\n",
    "for sentence in description_corpus:\n",
    "    words += sentence\n",
    "words = list(set(words))\n",
    "\n",
    "word_word_matrix = pd.DataFrame(-10, index=words, columns=words)\n",
    "word_word_matrix = word_word_matrix.drop(index='')\n",
    "word_word_matrix = word_word_matrix.drop(columns='')\n",
    "word_word_matrix"
   ]
  },
  {
   "cell_type": "code",
   "execution_count": 107,
   "id": "strategic-silence",
   "metadata": {},
   "outputs": [
    {
     "name": "stdout",
     "output_type": "stream",
     "text": [
      "('jake_lloyd', 'is')\n",
      "('is', 'referenced')\n",
      "('referenced', 'in')\n",
      "('in', 'both')\n",
      "('both', 'the')\n",
      "('the', 'force')\n",
      "('force', 'awakens')\n",
      "('awakens', 'and')\n",
      "('and', 'the_jedi,')\n",
      "('the_jedi,', 'and')\n",
      "('and', 'makes')\n",
      "('makes', 'vocal_cameos')\n",
      "('vocal_cameos', 'as')\n",
      "('as', 'both_vader')\n",
      "('both_vader', 'and')\n",
      "('and', 'anakin')\n",
      "('anakin', 'in')\n",
      "('in', 'the_rise')\n",
      "('the_rise', 'of')\n",
      "('of', 'skywalker.')\n"
     ]
    }
   ],
   "source": [
    "sentence = descriptions['anakin'][0]\n",
    "\n",
    "bigram = ngrams(sentence, 2)\n",
    "for gram in bigram:\n",
    "    print(gram)"
   ]
  },
  {
   "cell_type": "code",
   "execution_count": null,
   "id": "optimum-strap",
   "metadata": {},
   "outputs": [],
   "source": [
    "r2-d2 133\n",
    "princess_leia 74\n",
    "ben 119\n",
    "anakin 321\n",
    "kuiil 89"
   ]
  },
  {
   "cell_type": "code",
   "execution_count": 51,
   "id": "labeled-outreach",
   "metadata": {},
   "outputs": [
    {
     "data": {
      "text/plain": [
       "736"
      ]
     },
     "execution_count": 51,
     "metadata": {},
     "output_type": "execute_result"
    }
   ],
   "source": [
    "133 + 74 + 119 + 321 + 89"
   ]
  },
  {
   "cell_type": "code",
   "execution_count": 125,
   "id": "endangered-water",
   "metadata": {},
   "outputs": [
    {
     "name": "stdout",
     "output_type": "stream",
     "text": [
      "736\n"
     ]
    }
   ],
   "source": [
    "description_corpus = []\n",
    "\n",
    "for sentence in descriptions['r2-d2']:\n",
    "    description_corpus.append(sentence)\n",
    "\n",
    "for sentence in descriptions['princess_leia']:\n",
    "    description_corpus.append(sentence)\n",
    "\n",
    "for sentence in descriptns['ben']:\n",
    "    description_corpus.append(sentence)\n",
    "\n",
    "for sentence in descriptions['anakin']:\n",
    "    description_corpus.append(sentence)\n",
    "\n",
    "for sentence in descriptions['kuiil']:\n",
    "    description_corpus.append(sentence)\n",
    "\n",
    "print(len(description_corpus))"
   ]
  },
  {
   "cell_type": "markdown",
   "id": "universal-formula",
   "metadata": {},
   "source": [
    "$ PMI(w,c) = log [\\frac{p(w,c)}{p(w)p(c)}]$"
   ]
  },
  {
   "cell_type": "code",
   "execution_count": null,
   "id": "active-medicine",
   "metadata": {},
   "outputs": [],
   "source": [
    "2         r2-d2/\n",
    "3             order/\n",
    "3             c-3po/\n",
    "3             the_galaxy/\n",
    "3             boba_fett/\n",
    "3             luke_skywalker/\n",
    "3             anakin_skywalker/\n",
    "3             solo/\n",
    "3             obi-wan_kenobi/\n",
    "3             darth_maul/\n",
    "3             the_rebel_alliance/\n",
    "3             princess_leia/\n",
    "2         kuiil/\n",
    "3             poe/\n",
    "3             gideon/\n",
    "3             he/\n",
    "3             she/\n",
    "3             thrawn/\n",
    "3             rose/\n",
    "3             kuiil/\n",
    "3             they/\n",
    "3             cara/\n",
    "3             grogu/\n",
    "2         ben/\n",
    "2         anakin/\n",
    "3             the_dark_side/\n",
    "3             the_millennium_falcon/\n",
    "3             tatooine/\n",
    "3             darth_sidious/\n",
    "3             the_resistance/\n",
    "3             dooku/\n",
    "3             lando/\n",
    "3             ventress/\n",
    "3             vader/\n",
    "3             the_first_order/\n",
    "3             ben/\n",
    "3             him/\n",
    "3             han/\n",
    "3             the_force/\n",
    "2         princess_leia/"
   ]
  },
  {
   "cell_type": "code",
   "execution_count": 145,
   "id": "british-draft",
   "metadata": {},
   "outputs": [
    {
     "data": {
      "text/plain": [
       "41"
      ]
     },
     "execution_count": 145,
     "metadata": {},
     "output_type": "execute_result"
    }
   ],
   "source": [
    "len(consideration)"
   ]
  },
  {
   "cell_type": "code",
   "execution_count": 147,
   "id": "regular-morrison",
   "metadata": {},
   "outputs": [
    {
     "name": "stdout",
     "output_type": "stream",
     "text": [
      "working on r2-d2\n"
     ]
    },
    {
     "name": "stderr",
     "output_type": "stream",
     "text": [
      "/Users/rhythmsyed/miniconda3/envs/entitylink/lib/python3.7/site-packages/ipykernel_launcher.py:31: RuntimeWarning: divide by zero encountered in log\n"
     ]
    },
    {
     "name": "stdout",
     "output_type": "stream",
     "text": [
      "working on order\n",
      "working on c-3po\n",
      "working on the_galaxy\n",
      "working on boba_fett\n",
      "working on luke_skywalker\n",
      "working on anakin_skywalker\n",
      "working on solo\n",
      "working on obi-wan_kenobi\n",
      "working on darth_maul\n",
      "working on the_rebel_alliance\n",
      "working on princess_leia\n",
      "working on kuiil\n",
      "working on poe\n",
      "working on gideon\n",
      "working on he\n",
      "working on she\n",
      "working on thrawn\n",
      "working on rose\n",
      "working on kuiil\n",
      "working on they\n",
      "working on cara\n",
      "working on grogu\n",
      "working on ben\n",
      "working on anakin\n",
      "working on the_dark_side\n",
      "working on the_millennium_falcon\n",
      "working on tatooine\n",
      "working on darth_sidious\n",
      "working on the_resistance\n",
      "working on dooku\n",
      "working on lando\n",
      "working on ventress\n",
      "working on vader\n",
      "working on the_first_order\n",
      "working on ben\n",
      "working on him\n",
      "working on han\n",
      "working on the_force\n",
      "working on princess_leia\n",
      "working on kylo_ren\n"
     ]
    }
   ],
   "source": [
    "# N = len(descriptions['anakin'])\n",
    "N = len(description_corpus)\n",
    "\n",
    "cols = word_word_matrix.columns.values\n",
    "    \n",
    "# word = 'anakin'\n",
    "# for word in ['r2-d2', 'princess_leia', 'ben', 'anakin', 'kuiil', 'kylo_ren']:\n",
    "\n",
    "consideration = ['r2-d2', 'order', 'c-3po', 'the_galaxy', 'boba_fett', 'luke_skywalker', 'anakin_skywalker', 'solo', 'obi-wan_kenobi', 'darth_maul', 'the_rebel_alliance', 'princess_leia', \n",
    "'kuiil', 'poe', 'gideon', 'he', 'she', 'thrawn', 'rose', 'kuiil', 'they', 'cara', 'grogu', 'ben', 'anakin', 'the_dark_side', 'the_millennium_falcon', 'tatooine', 'darth_sidious', 'the_resistance', 'dooku', 'lando', 'ventress', 'vader', 'the_first_order', 'ben', 'him', 'han', 'the_force', 'princess_leia', 'kylo_ren']\n",
    "\n",
    "for word in consideration:\n",
    "    print('working on {}'.format(word))\n",
    "    for col in cols:\n",
    "        p_w = 0\n",
    "        p_c = 0\n",
    "        p_w_c = 0\n",
    "        for i, sentence in enumerate(description_corpus):\n",
    "            if word in sentence:\n",
    "                p_w += 1\n",
    "\n",
    "            if col in sentence:\n",
    "                p_c += 1\n",
    "\n",
    "            if word in sentence and col in sentence:\n",
    "                p_w_c += 1\n",
    "\n",
    "        p_w = p_w / N\n",
    "        p_c = p_c / N\n",
    "        p_w_c = p_w_c / N\n",
    "        pmi = np.log(p_w_c / (p_w * p_c))\n",
    "        word_word_matrix.loc[col, word] = format_int(pmi)\n",
    "    "
   ]
  },
  {
   "cell_type": "code",
   "execution_count": 135,
   "id": "sorted-particle",
   "metadata": {},
   "outputs": [
    {
     "name": "stdout",
     "output_type": "stream",
     "text": [
      "Closest Related Pair: (r2-d2, kueller), PMI: 1.6314168191528755\n",
      "Closest Related Pair: (princess_leia, their_real_mother.), PMI: 2.3107706775804853\n",
      "Closest Related Pair: (ben, son.), PMI: 2.3107706775804853\n",
      "Closest Related Pair: (anakin, replies), PMI: 0.8082165103447326\n",
      "Closest Related Pair: (kuiil, occasionally), PMI: 2.1353220000742925\n",
      "Closest Related Pair: (kylo_ren, an_agent), PMI: 5.502617830060767\n"
     ]
    }
   ],
   "source": [
    "for word in ['r2-d2', 'princess_leia', 'ben', 'anakin', 'kuiil', 'kylo_ren']:\n",
    "    index = word_word_matrix[word].argmax()\n",
    "    print('Closest Related Pair: ({}, {}), PMI: {}'.format(word, word_word_matrix.iloc[index].name, word_word_matrix.iloc[index][word]))"
   ]
  },
  {
   "cell_type": "code",
   "execution_count": 148,
   "id": "periodic-driving",
   "metadata": {},
   "outputs": [
    {
     "name": "stdout",
     "output_type": "stream",
     "text": [
      "Closest Related Pair: (r2-d2, kueller), PMI: 1.6314168191528755\n",
      "Closest Related Pair: (order, princess_leia's_brother_and_jedi_knight_anakin_skywalker_friend.\n",
      "through), PMI: 4.298645025734831\n",
      "Closest Related Pair: (c-3po, (anthony_daniels)), PMI: 2.7094098206182498\n",
      "Closest Related Pair: (the_galaxy, marshal), PMI: 4.404005541392657\n",
      "Closest Related Pair: (boba_fett, beneficial,), PMI: 5.908082938168931\n",
      "Closest Related Pair: (luke_skywalker, their_real_mother.), PMI: 3.9621727891136174\n",
      "Closest Related Pair: (anakin_skywalker, the_dark_nest_trilogy,), PMI: 5.502617830060767\n",
      "Closest Related Pair: (solo, (2003),), PMI: 4.991792206294776\n",
      "Closest Related Pair: (obi-wan_kenobi, princess_leia's_brother_and_jedi_knight_anakin_skywalker_friend.\n",
      "through), PMI: 4.0362807612673395\n",
      "Closest Related Pair: (darth_maul, the_story_resurrection,), PMI: 6.601230118728877\n",
      "Closest Related Pair: (the_rebel_alliance, who,), PMI: 5.502617830060767\n",
      "Closest Related Pair: (princess_leia, their_real_mother.), PMI: 2.3107706775804853\n",
      "Closest Related Pair: (kuiil, occasionally), PMI: 2.1353220000742925\n",
      "Closest Related Pair: (poe, poe), PMI: 6.601230118728877\n",
      "Closest Related Pair: (gideon, their_custody,), PMI: 6.601230118728877\n",
      "Closest Related Pair: (he, kueller), PMI: 3.2000327370667208\n",
      "Closest Related Pair: (she, occasionally), PMI: 3.7108583608327113\n",
      "Closest Related Pair: (thrawn, marshal), PMI: 5.502617830060767\n",
      "Closest Related Pair: (rose, additional_depth\".), PMI: 6.601230118728877\n",
      "Closest Related Pair: (kuiil, occasionally), PMI: 2.1353220000742925\n",
      "Closest Related Pair: (they, princess_leia's_brother_and_jedi_knight_anakin_skywalker_friend.\n",
      "through), PMI: 3.6054978451748854\n",
      "Closest Related Pair: (cara, screen_rant_writer_kevin_pantoja), PMI: 5.908082938168931\n",
      "Closest Related Pair: (grogu, imperial_scout_troopers,), PMI: 5.502617830060767\n",
      "Closest Related Pair: (ben, son.), PMI: 2.3107706775804853\n",
      "Closest Related Pair: (anakin, replies), PMI: 0.8082165103447326\n",
      "Closest Related Pair: (the_dark_side, the_sleeping_ben), PMI: 3.1354942159291497\n",
      "Closest Related Pair: (the_millennium_falcon, jumps), PMI: 5.502617830060767\n",
      "Closest Related Pair: (tatooine, the_lars_family), PMI: 3.6054978451748854\n",
      "Closest Related Pair: (darth_sidious, ahsoka's_star_destroyer,), PMI: 4.991792206294776\n",
      "Closest Related Pair: (the_resistance, an_agent), PMI: 5.502617830060767\n",
      "Closest Related Pair: (dooku, purchase), PMI: 3.7680167746726605\n",
      "Closest Related Pair: (lando, the_empire_control), PMI: 5.214935757608986\n",
      "Closest Related Pair: (ventress, the_massassi_temple), PMI: 4.809470649500821\n",
      "Closest Related Pair: (vader, the_empire_control), PMI: 4.809470649500821\n",
      "Closest Related Pair: (the_first_order, the_first_order), PMI: 6.601230118728877\n",
      "Closest Related Pair: (ben, son.), PMI: 2.3107706775804853\n",
      "Closest Related Pair: (him, princess_leia's_brother_and_jedi_knight_anakin_skywalker_friend.\n",
      "through), PMI: 3.9621727891136174\n",
      "Closest Related Pair: (han, son.), PMI: 3.893179917626666\n",
      "Closest Related Pair: (the_force, the_seventh_season.\n",
      "however,), PMI: 2.93766847259923\n",
      "Closest Related Pair: (princess_leia, their_real_mother.), PMI: 2.3107706775804853\n",
      "Closest Related Pair: (kylo_ren, an_agent), PMI: 5.502617830060767\n"
     ]
    }
   ],
   "source": [
    "for word in consideration:\n",
    "    index = word_word_matrix[word].argmax()\n",
    "    print('Closest Related Pair: ({}, {}), PMI: {}'.format(word, word_word_matrix.iloc[index].name, word_word_matrix.iloc[index][word]))"
   ]
  },
  {
   "cell_type": "code",
   "execution_count": null,
   "id": "average-infrared",
   "metadata": {},
   "outputs": [],
   "source": []
  },
  {
   "cell_type": "code",
   "execution_count": 12,
   "id": "undefined-walnut",
   "metadata": {},
   "outputs": [],
   "source": [
    "def format_int(x):\n",
    "    if x in [float(\"-inf\"),float(\"inf\")]: return float(\"nan\")\n",
    "    return x"
   ]
  },
  {
   "cell_type": "code",
   "execution_count": null,
   "id": "variable-catalyst",
   "metadata": {},
   "outputs": [],
   "source": []
  }
 ],
 "metadata": {
  "kernelspec": {
   "display_name": "Python 3",
   "language": "python",
   "name": "python3"
  },
  "language_info": {
   "codemirror_mode": {
    "name": "ipython",
    "version": 3
   },
   "file_extension": ".py",
   "mimetype": "text/x-python",
   "name": "python",
   "nbconvert_exporter": "python",
   "pygments_lexer": "ipython3",
   "version": "3.7.5"
  }
 },
 "nbformat": 4,
 "nbformat_minor": 5
}
